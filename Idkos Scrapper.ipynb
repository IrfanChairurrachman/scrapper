{
 "cells": [
  {
   "cell_type": "code",
   "execution_count": 1,
   "id": "bf9576b2",
   "metadata": {},
   "outputs": [],
   "source": [
    "import requests\n",
    "import pandas as pd\n",
    "from bs4 import BeautifulSoup"
   ]
  },
  {
   "cell_type": "code",
   "execution_count": 2,
   "id": "1405d0aa",
   "metadata": {},
   "outputs": [
    {
     "data": {
      "text/plain": [
       "'<!DOCTYPE html>\\n\\n<html lang=\"en\">\\n<head>\\n<meta charset=\"utf-8\"/>\\n<meta content=\"width=device-width, initial-scale=1.0\" name=\"viewport\"/>\\n<link href=\"https://idkos.com/images/apple-touch-icon.png\" rel=\"apple-touch-icon\" sizes=\"180x180\"/>\\n<link href=\"https://idkos.com/images/favicon-32x32.png\" rel=\"icon\" sizes=\"32x32\" type=\"image/png\"/>\\n<link href=\"https://idkos.com/images/favicon-16x16.png\" rel=\"icon\" sizes=\"16x16\" type=\"image/png\"/>\\n<link href=\"https://idkos.com/images/site.webmanifest\" rel=\"man'"
      ]
     },
     "execution_count": 2,
     "metadata": {},
     "output_type": "execute_result"
    }
   ],
   "source": [
    "url_query = \"https://idkos.com/lokasi-jakarta-selatan-155\"\n",
    "req = requests.get(url_query)\n",
    "soup = BeautifulSoup(req.content, \"html.parser\")\n",
    "str(soup)[:500]"
   ]
  },
  {
   "cell_type": "code",
   "execution_count": 3,
   "id": "70ac5441",
   "metadata": {},
   "outputs": [],
   "source": [
    "try:\n",
    "    find_pagination = soup.findAll(\"span\", attrs = {\"class\": \"pages\"})\n",
    "#     pagination_list = [row.a.text for row in find_pagination]\n",
    "#     total_page = int(pagination_list[-2])\n",
    "    len(find_pagination)\n",
    "#     print(\"Total Page: {}\".format(total_page))\n",
    "except:\n",
    "    print(\"Article Not Found\")"
   ]
  },
  {
   "cell_type": "code",
   "execution_count": 4,
   "id": "2f99dc59",
   "metadata": {},
   "outputs": [
    {
     "name": "stdout",
     "output_type": "stream",
     "text": [
      "18\n",
      "18\n"
     ]
    }
   ],
   "source": [
    "find_pagination = soup.findAll(\"span\", attrs = {\"class\": \"pages\"})\n",
    "for row in find_pagination:\n",
    "    print(row.text[-3:-1])\n",
    "    page = int(row.text[-3:-1])\n",
    "\n",
    "print(page)"
   ]
  },
  {
   "cell_type": "code",
   "execution_count": 5,
   "id": "d11a94b9",
   "metadata": {},
   "outputs": [],
   "source": [
    "idkos = []\n",
    "\n",
    "for page_num in range(1, page+1)[:2]:\n",
    "    url_idkos = \"https://idkos.com/lokasi-jakarta-selatan-155-page-\" + str(page_num)\n",
    "    r = requests.get(url_idkos)\n",
    "    s = BeautifulSoup(r.content, \"html.parser\")\n",
    "    \n",
    "    find_kos = s.findAll(\"div\", attrs = {\"class\": \"text text2\"})\n",
    "    for row in find_kos:\n",
    "        kos = {}\n",
    "        kos['nama'] = row.h3.a.text\n",
    "        kos['url'] = \"https://idkos.com/\" + row.h3.a['href']\n",
    "        idkos.append(kos)"
   ]
  },
  {
   "cell_type": "code",
   "execution_count": 7,
   "id": "e3c591bf",
   "metadata": {},
   "outputs": [
    {
     "data": {
      "text/plain": [
       "[{'nama': 'Petunduan Kost Tipe Petunduan ',\n",
       "  'url': 'https://idkos.com/property-petunduan--1619'},\n",
       " {'nama': 'kos23 syariah kemang Tipe C',\n",
       "  'url': 'https://idkos.com/property-c-536'}]"
      ]
     },
     "execution_count": 7,
     "metadata": {},
     "output_type": "execute_result"
    }
   ],
   "source": [
    "idkos[:2]"
   ]
  },
  {
   "cell_type": "code",
   "execution_count": 10,
   "id": "8befdf2c",
   "metadata": {},
   "outputs": [
    {
     "name": "stdout",
     "output_type": "stream",
     "text": [
      "Rp 1.600.000                                         / bulan\n",
      "Tebet \n",
      "Jakarta Selatan\n",
      "Jakarta Selatan\n",
      "Jakarta Selatan\n",
      "Jakarta Selatan\n",
      "Rp 1.100.000                                         / bulan\n",
      "Kemang\n",
      "Jakarta Selatan\n",
      "Jakarta Selatan\n",
      "Jakarta Selatan\n",
      "Jakarta Selatan\n"
     ]
    }
   ],
   "source": [
    "for kos in idkos[:2]:\n",
    "    req_kos = requests.get(kos['url'])\n",
    "    soup_kos = BeautifulSoup(req_kos.content, \"html.parser\")\n",
    "    \n",
    "    find_harga = soup_kos.findAll(\"p\", attrs = {\"class\": \"price fw-bold fs-4\"})\n",
    "    print(find_harga[0].span.text)\n",
    "    \n",
    "    find_lokasi = soup_kos.findAll(\"span\", attrs = {\"class\": \"locationx\"})\n",
    "    for lokasi in find_lokasi:\n",
    "        print(lokasi.a.text)\n",
    "#     for harga in find_harga:\n",
    "#         print(harga)"
   ]
  },
  {
   "cell_type": "code",
   "execution_count": null,
   "id": "eb504aa1",
   "metadata": {},
   "outputs": [],
   "source": []
  },
  {
   "cell_type": "code",
   "execution_count": 11,
   "id": "1decd389",
   "metadata": {},
   "outputs": [
    {
     "data": {
      "text/plain": [
       "['ASCII_SPACES',\n",
       " 'DEFAULT_BUILDER_FEATURES',\n",
       " 'DEFAULT_INTERESTING_STRING_TYPES',\n",
       " 'NO_PARSER_SPECIFIED_WARNING',\n",
       " 'ROOT_TAG_NAME',\n",
       " '__bool__',\n",
       " '__call__',\n",
       " '__class__',\n",
       " '__contains__',\n",
       " '__copy__',\n",
       " '__delattr__',\n",
       " '__delitem__',\n",
       " '__dict__',\n",
       " '__dir__',\n",
       " '__doc__',\n",
       " '__eq__',\n",
       " '__format__',\n",
       " '__ge__',\n",
       " '__getattr__',\n",
       " '__getattribute__',\n",
       " '__getitem__',\n",
       " '__getstate__',\n",
       " '__gt__',\n",
       " '__hash__',\n",
       " '__init__',\n",
       " '__init_subclass__',\n",
       " '__iter__',\n",
       " '__le__',\n",
       " '__len__',\n",
       " '__lt__',\n",
       " '__module__',\n",
       " '__ne__',\n",
       " '__new__',\n",
       " '__reduce__',\n",
       " '__reduce_ex__',\n",
       " '__repr__',\n",
       " '__setattr__',\n",
       " '__setitem__',\n",
       " '__sizeof__',\n",
       " '__str__',\n",
       " '__subclasshook__',\n",
       " '__unicode__',\n",
       " '__weakref__',\n",
       " '_all_strings',\n",
       " '_decode_markup',\n",
       " '_feed',\n",
       " '_find_all',\n",
       " '_find_one',\n",
       " '_is_xml',\n",
       " '_lastRecursiveChild',\n",
       " '_last_descendant',\n",
       " '_linkage_fixer',\n",
       " '_markup_is_url',\n",
       " '_markup_resembles_filename',\n",
       " '_most_recent_element',\n",
       " '_namespaces',\n",
       " '_popToTag',\n",
       " '_should_pretty_print',\n",
       " 'append',\n",
       " 'attrs',\n",
       " 'builder',\n",
       " 'can_be_empty_element',\n",
       " 'cdata_list_attributes',\n",
       " 'childGenerator',\n",
       " 'children',\n",
       " 'clear',\n",
       " 'contains_replacement_characters',\n",
       " 'contents',\n",
       " 'currentTag',\n",
       " 'current_data',\n",
       " 'declared_html_encoding',\n",
       " 'decode',\n",
       " 'decode_contents',\n",
       " 'decompose',\n",
       " 'decomposed',\n",
       " 'default',\n",
       " 'descendants',\n",
       " 'element_classes',\n",
       " 'encode',\n",
       " 'encode_contents',\n",
       " 'endData',\n",
       " 'extend',\n",
       " 'extract',\n",
       " 'fetchNextSiblings',\n",
       " 'fetchParents',\n",
       " 'fetchPrevious',\n",
       " 'fetchPreviousSiblings',\n",
       " 'find',\n",
       " 'findAll',\n",
       " 'findAllNext',\n",
       " 'findAllPrevious',\n",
       " 'findChild',\n",
       " 'findChildren',\n",
       " 'findNext',\n",
       " 'findNextSibling',\n",
       " 'findNextSiblings',\n",
       " 'findParent',\n",
       " 'findParents',\n",
       " 'findPrevious',\n",
       " 'findPreviousSibling',\n",
       " 'findPreviousSiblings',\n",
       " 'find_all',\n",
       " 'find_all_next',\n",
       " 'find_all_previous',\n",
       " 'find_next',\n",
       " 'find_next_sibling',\n",
       " 'find_next_siblings',\n",
       " 'find_parent',\n",
       " 'find_parents',\n",
       " 'find_previous',\n",
       " 'find_previous_sibling',\n",
       " 'find_previous_siblings',\n",
       " 'format_string',\n",
       " 'formatter_for_name',\n",
       " 'get',\n",
       " 'getText',\n",
       " 'get_attribute_list',\n",
       " 'get_text',\n",
       " 'handle_data',\n",
       " 'handle_endtag',\n",
       " 'handle_starttag',\n",
       " 'has_attr',\n",
       " 'has_key',\n",
       " 'hidden',\n",
       " 'index',\n",
       " 'insert',\n",
       " 'insert_after',\n",
       " 'insert_before',\n",
       " 'interesting_string_types',\n",
       " 'isSelfClosing',\n",
       " 'is_empty_element',\n",
       " 'is_xml',\n",
       " 'known_xml',\n",
       " 'markup',\n",
       " 'name',\n",
       " 'namespace',\n",
       " 'new_string',\n",
       " 'new_tag',\n",
       " 'next',\n",
       " 'nextGenerator',\n",
       " 'nextSibling',\n",
       " 'nextSiblingGenerator',\n",
       " 'next_element',\n",
       " 'next_elements',\n",
       " 'next_sibling',\n",
       " 'next_siblings',\n",
       " 'object_was_parsed',\n",
       " 'open_tag_counter',\n",
       " 'original_encoding',\n",
       " 'parent',\n",
       " 'parentGenerator',\n",
       " 'parents',\n",
       " 'parse_only',\n",
       " 'parserClass',\n",
       " 'parser_class',\n",
       " 'popTag',\n",
       " 'prefix',\n",
       " 'preserve_whitespace_tag_stack',\n",
       " 'preserve_whitespace_tags',\n",
       " 'prettify',\n",
       " 'previous',\n",
       " 'previousGenerator',\n",
       " 'previousSibling',\n",
       " 'previousSiblingGenerator',\n",
       " 'previous_element',\n",
       " 'previous_elements',\n",
       " 'previous_sibling',\n",
       " 'previous_siblings',\n",
       " 'pushTag',\n",
       " 'recursiveChildGenerator',\n",
       " 'renderContents',\n",
       " 'replaceWith',\n",
       " 'replaceWithChildren',\n",
       " 'replace_with',\n",
       " 'replace_with_children',\n",
       " 'reset',\n",
       " 'select',\n",
       " 'select_one',\n",
       " 'setup',\n",
       " 'smooth',\n",
       " 'string',\n",
       " 'string_container',\n",
       " 'string_container_stack',\n",
       " 'strings',\n",
       " 'stripped_strings',\n",
       " 'tagStack',\n",
       " 'text',\n",
       " 'unwrap',\n",
       " 'wrap']"
      ]
     },
     "execution_count": 11,
     "metadata": {},
     "output_type": "execute_result"
    }
   ],
   "source": [
    "dir(soup_kos)"
   ]
  }
 ],
 "metadata": {
  "kernelspec": {
   "display_name": "flaskui",
   "language": "python",
   "name": "flaskui"
  },
  "language_info": {
   "codemirror_mode": {
    "name": "ipython",
    "version": 3
   },
   "file_extension": ".py",
   "mimetype": "text/x-python",
   "name": "python",
   "nbconvert_exporter": "python",
   "pygments_lexer": "ipython3",
   "version": "3.8.13"
  }
 },
 "nbformat": 4,
 "nbformat_minor": 5
}
