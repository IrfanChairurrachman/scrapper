{
  "cells": [
    {
      "cell_type": "markdown",
      "metadata": {},
      "source": [
        "# Web Scraping Kost di Jakarta Selatan dari Sewakost.com\n",
        "\n",
        "Pada notebook ini akan dilakukan scraping informasi kost-kostan di Jakarta Selatan dari sewakost.com menggunakan `BeautifulSoup`. Hasil scraping akan disimpan ke dalam file .tsv (tab separated value) yang kemudian akan dilakukan analisis lanjutan. Dari data kost-kostan ini, akan dilakukan analisis terhadap jumlah kost berdasarkan jenis dan fasilitas, serta analisis harga kost-kostan terhadap fasilitas ac, wifi maupun kamar mandi dalam.\n",
        "\n",
        "Tahapan yang akan dilakukan meliputi:\n",
        "1. Scraping informasi kost\n",
        "2. Persiapan dan pembersihan dataset\n",
        "3. Analisis jumlah serta harga kost terhadap fasilitas"
      ]
    },
    {
      "cell_type": "markdown",
      "metadata": {},
      "source": [
        "# Proses Scraping\n",
        "\n",
        "Tahapan scraping yang dilakukan antara lain:\n",
        "1. Mengakses url daftar kost di [Jakarta Selatan](https://www.sewakost.com/jakarta/selatan/)\n",
        "2. Mendapatkan jumlah halaman\n",
        "3. Mengakses setiap halaman dan mengambil informasi kost (nama, url, harga)\n",
        "4. Mengakses setiap url kost untuk mengambil informasi fasilitas & jenis kost\n",
        "5. Menyimpan hasil scraping dalam bentuk .tsv (tab separated value)"
      ]
    },
    {
      "cell_type": "markdown",
      "metadata": {},
      "source": [
        "## Import Modules"
      ]
    },
    {
      "cell_type": "code",
      "execution_count": 2,
      "metadata": {
        "id": "9nKbqz4Zvb_0"
      },
      "outputs": [],
      "source": [
        "import requests\n",
        "import pandas as pd\n",
        "from tqdm import tqdm"
      ]
    },
    {
      "cell_type": "code",
      "execution_count": null,
      "metadata": {},
      "outputs": [],
      "source": [
        "from bs4 import BeautifulSoup\n",
        "import warnings\n",
        "warnings.filterwarnings(\"ignore\")"
      ]
    },
    {
      "cell_type": "markdown",
      "metadata": {},
      "source": [
        "## Akses Sewakost (Khusus Jakarta Selatan)"
      ]
    },
    {
      "cell_type": "code",
      "execution_count": 21,
      "metadata": {
        "colab": {
          "base_uri": "https://localhost:8080/",
          "height": 35
        },
        "id": "9G3A_8LpQruY",
        "outputId": "138ffdf5-7e59-4ed8-90f3-8e8f11f66b9d"
      },
      "outputs": [
        {
          "data": {
            "application/vnd.google.colaboratory.intrinsic+json": {
              "type": "string"
            },
            "text/plain": [
              "'<!DOCTYPE html>\\n\\n<html lang=\"id\" xmlns=\"http://www.w3.org/1999/xhtml\">\\n<head>\\n<title>Kost Jakarta Se'"
            ]
          },
          "execution_count": 21,
          "metadata": {},
          "output_type": "execute_result"
        }
      ],
      "source": [
        "url_query = \"https://www.sewakost.com/jakarta/selatan/\"\n",
        "req = requests.get(url_query, verify=False)\n",
        "soup = BeautifulSoup(req.content, \"html.parser\")\n",
        "str(soup)[:100]"
      ]
    },
    {
      "cell_type": "code",
      "execution_count": 3,
      "metadata": {
        "colab": {
          "base_uri": "https://localhost:8080/"
        },
        "id": "7QP7cMv3vq4K",
        "outputId": "cf67e1db-1d43-475d-8bce-5a94127c3475"
      },
      "outputs": [
        {
          "name": "stdout",
          "output_type": "stream",
          "text": [
            "Total Page: 89\n"
          ]
        }
      ],
      "source": [
        "# Mendapatkan total halaman untuk iterasi per halaman\n",
        "try:\n",
        "    find_pagination = soup.find(\"ul\", attrs = {\"class\": \"pagination\"})\n",
        "    find_span = find_pagination.findAll(\"span\")\n",
        "    total_page = int(find_span[1].text[-2:])\n",
        "    print(\"Total Page: {}\".format(total_page))\n",
        "except:\n",
        "    print(\"Article Not Found\")"
      ]
    },
    {
      "cell_type": "markdown",
      "metadata": {},
      "source": [
        "## Scraping Nama, Link & Harga Kost\n",
        "\n",
        "Scraping 40 dari 89 halaman"
      ]
    },
    {
      "cell_type": "code",
      "execution_count": 11,
      "metadata": {
        "colab": {
          "base_uri": "https://localhost:8080/"
        },
        "id": "39LQPe7uwt_t",
        "outputId": "bf977dd0-4b8c-4a26-d9e4-fd9812141955"
      },
      "outputs": [
        {
          "name": "stderr",
          "output_type": "stream",
          "text": [
            "100%|██████████| 40/40 [00:58<00:00,  1.46s/it]\n"
          ]
        }
      ],
      "source": [
        "# Inisiasi list\n",
        "sewakost = []\n",
        "\n",
        "# Iterasi untuk setiap halaman\n",
        "for page_num in tqdm(range(1, total_page+1)[:40]):\n",
        "    # Mengakses url setiap halaman\n",
        "    url_sewakost = \"https://www.sewakost.com/jakarta/selatan/index%s.html\" % page_num\n",
        "    # print(url_sewakost)\n",
        "    r = requests.get(url_sewakost, verify=False)\n",
        "    s = BeautifulSoup(r.content, \"html.parser\")\n",
        "    \n",
        "    # Akses card informasi kost\n",
        "    find_kos = s.findAll(\"div\", attrs = {\"class\": \"main-column clearfix\"})\n",
        "    # Mendapatkan informasi kost, jika gagal maka lanjut iterasi\n",
        "    for row in find_kos:\n",
        "        try:\n",
        "          kos = {}\n",
        "          kos['url'] = row.ul.li.a['href']\n",
        "          kos['nama'] = row.ul.li.a['title']\n",
        "          harga = row.find(\"span\", attrs = {\"class\": \"price-tag\"})\n",
        "          kos['harga'] = harga.span.text\n",
        "          sewakost.append(kos)\n",
        "        except:\n",
        "          continue\n",
        "        "
      ]
    },
    {
      "cell_type": "code",
      "execution_count": 12,
      "metadata": {
        "colab": {
          "base_uri": "https://localhost:8080/",
          "height": 424
        },
        "id": "pcEHmckp6pJX",
        "outputId": "fd932a4b-28a3-4482-8da7-9540dd7655cb"
      },
      "outputs": [
        {
          "data": {
            "text/html": [
              "\n",
              "  <div id=\"df-b9d3ae89-0d2a-4e87-ad13-412522867e83\">\n",
              "    <div class=\"colab-df-container\">\n",
              "      <div>\n",
              "<style scoped>\n",
              "    .dataframe tbody tr th:only-of-type {\n",
              "        vertical-align: middle;\n",
              "    }\n",
              "\n",
              "    .dataframe tbody tr th {\n",
              "        vertical-align: top;\n",
              "    }\n",
              "\n",
              "    .dataframe thead th {\n",
              "        text-align: right;\n",
              "    }\n",
              "</style>\n",
              "<table border=\"1\" class=\"dataframe\">\n",
              "  <thead>\n",
              "    <tr style=\"text-align: right;\">\n",
              "      <th></th>\n",
              "      <th>url</th>\n",
              "      <th>nama</th>\n",
              "      <th>harga</th>\n",
              "    </tr>\n",
              "  </thead>\n",
              "  <tbody>\n",
              "    <tr>\n",
              "      <th>0</th>\n",
              "      <td>https://www.sewakost.com/jakarta/selatan/kost-...</td>\n",
              "      <td>Kost Ciganjur Jalan Pasir No. 32</td>\n",
              "      <td>Rp 1.000.000</td>\n",
              "    </tr>\n",
              "    <tr>\n",
              "      <th>1</th>\n",
              "      <td>https://www.sewakost.com/jakarta/selatan/kost-...</td>\n",
              "      <td>KOST EXECUTIVE JAGAKARSA PASO CILANDAK JAKARTA...</td>\n",
              "      <td>Rp 2.200.000</td>\n",
              "    </tr>\n",
              "    <tr>\n",
              "      <th>2</th>\n",
              "      <td>https://www.sewakost.com/jakarta/selatan/kamar...</td>\n",
              "      <td>Kamar kost Putri NON AC di Mampang</td>\n",
              "      <td>Rp 850.000</td>\n",
              "    </tr>\n",
              "    <tr>\n",
              "      <th>3</th>\n",
              "      <td>https://www.sewakost.com/jakarta/selatan/hompy...</td>\n",
              "      <td>Hompy Timur Residence</td>\n",
              "      <td>Rp 2.700.000</td>\n",
              "    </tr>\n",
              "    <tr>\n",
              "      <th>4</th>\n",
              "      <td>https://www.sewakost.com/jakarta/selatan/rumah...</td>\n",
              "      <td>Rumah kontrakan (40m2) Pasutri baru/karyawati/...</td>\n",
              "      <td>Rp 2.500.000</td>\n",
              "    </tr>\n",
              "    <tr>\n",
              "      <th>...</th>\n",
              "      <td>...</td>\n",
              "      <td>...</td>\n",
              "      <td>...</td>\n",
              "    </tr>\n",
              "    <tr>\n",
              "      <th>953</th>\n",
              "      <td>https://www.sewakost.com/jakarta/selatan/kost-...</td>\n",
              "      <td>Kost lokasi Strategis dan Aman</td>\n",
              "      <td>Rp 2.200.000</td>\n",
              "    </tr>\n",
              "    <tr>\n",
              "      <th>954</th>\n",
              "      <td>https://www.sewakost.com/jakarta/selatan/kosan...</td>\n",
              "      <td>Kosan 28 Duren Tiga (Bangunan Baru!!)</td>\n",
              "      <td>Rp 1.100.000</td>\n",
              "    </tr>\n",
              "    <tr>\n",
              "      <th>955</th>\n",
              "      <td>https://www.sewakost.com/jakarta/selatan/kost-...</td>\n",
              "      <td>Kost Khusus Putra di Tebet Timur Dalam 7G, Jak...</td>\n",
              "      <td>Rp 1.900.000</td>\n",
              "    </tr>\n",
              "    <tr>\n",
              "      <th>956</th>\n",
              "      <td>https://www.sewakost.com/jakarta/selatan/kost-...</td>\n",
              "      <td>Kost Putri Qtha</td>\n",
              "      <td>Rp 1.400.000</td>\n",
              "    </tr>\n",
              "    <tr>\n",
              "      <th>957</th>\n",
              "      <td>https://www.sewakost.com/jakarta/selatan/kos-s...</td>\n",
              "      <td>Kos Suhardjo Kebayoran Lama Jakarta</td>\n",
              "      <td>Rp 1.100.000</td>\n",
              "    </tr>\n",
              "  </tbody>\n",
              "</table>\n",
              "<p>958 rows × 3 columns</p>\n",
              "</div>\n",
              "      <button class=\"colab-df-convert\" onclick=\"convertToInteractive('df-b9d3ae89-0d2a-4e87-ad13-412522867e83')\"\n",
              "              title=\"Convert this dataframe to an interactive table.\"\n",
              "              style=\"display:none;\">\n",
              "        \n",
              "  <svg xmlns=\"http://www.w3.org/2000/svg\" height=\"24px\"viewBox=\"0 0 24 24\"\n",
              "       width=\"24px\">\n",
              "    <path d=\"M0 0h24v24H0V0z\" fill=\"none\"/>\n",
              "    <path d=\"M18.56 5.44l.94 2.06.94-2.06 2.06-.94-2.06-.94-.94-2.06-.94 2.06-2.06.94zm-11 1L8.5 8.5l.94-2.06 2.06-.94-2.06-.94L8.5 2.5l-.94 2.06-2.06.94zm10 10l.94 2.06.94-2.06 2.06-.94-2.06-.94-.94-2.06-.94 2.06-2.06.94z\"/><path d=\"M17.41 7.96l-1.37-1.37c-.4-.4-.92-.59-1.43-.59-.52 0-1.04.2-1.43.59L10.3 9.45l-7.72 7.72c-.78.78-.78 2.05 0 2.83L4 21.41c.39.39.9.59 1.41.59.51 0 1.02-.2 1.41-.59l7.78-7.78 2.81-2.81c.8-.78.8-2.07 0-2.86zM5.41 20L4 18.59l7.72-7.72 1.47 1.35L5.41 20z\"/>\n",
              "  </svg>\n",
              "      </button>\n",
              "      \n",
              "  <style>\n",
              "    .colab-df-container {\n",
              "      display:flex;\n",
              "      flex-wrap:wrap;\n",
              "      gap: 12px;\n",
              "    }\n",
              "\n",
              "    .colab-df-convert {\n",
              "      background-color: #E8F0FE;\n",
              "      border: none;\n",
              "      border-radius: 50%;\n",
              "      cursor: pointer;\n",
              "      display: none;\n",
              "      fill: #1967D2;\n",
              "      height: 32px;\n",
              "      padding: 0 0 0 0;\n",
              "      width: 32px;\n",
              "    }\n",
              "\n",
              "    .colab-df-convert:hover {\n",
              "      background-color: #E2EBFA;\n",
              "      box-shadow: 0px 1px 2px rgba(60, 64, 67, 0.3), 0px 1px 3px 1px rgba(60, 64, 67, 0.15);\n",
              "      fill: #174EA6;\n",
              "    }\n",
              "\n",
              "    [theme=dark] .colab-df-convert {\n",
              "      background-color: #3B4455;\n",
              "      fill: #D2E3FC;\n",
              "    }\n",
              "\n",
              "    [theme=dark] .colab-df-convert:hover {\n",
              "      background-color: #434B5C;\n",
              "      box-shadow: 0px 1px 3px 1px rgba(0, 0, 0, 0.15);\n",
              "      filter: drop-shadow(0px 1px 2px rgba(0, 0, 0, 0.3));\n",
              "      fill: #FFFFFF;\n",
              "    }\n",
              "  </style>\n",
              "\n",
              "      <script>\n",
              "        const buttonEl =\n",
              "          document.querySelector('#df-b9d3ae89-0d2a-4e87-ad13-412522867e83 button.colab-df-convert');\n",
              "        buttonEl.style.display =\n",
              "          google.colab.kernel.accessAllowed ? 'block' : 'none';\n",
              "\n",
              "        async function convertToInteractive(key) {\n",
              "          const element = document.querySelector('#df-b9d3ae89-0d2a-4e87-ad13-412522867e83');\n",
              "          const dataTable =\n",
              "            await google.colab.kernel.invokeFunction('convertToInteractive',\n",
              "                                                     [key], {});\n",
              "          if (!dataTable) return;\n",
              "\n",
              "          const docLinkHtml = 'Like what you see? Visit the ' +\n",
              "            '<a target=\"_blank\" href=https://colab.research.google.com/notebooks/data_table.ipynb>data table notebook</a>'\n",
              "            + ' to learn more about interactive tables.';\n",
              "          element.innerHTML = '';\n",
              "          dataTable['output_type'] = 'display_data';\n",
              "          await google.colab.output.renderOutput(dataTable, element);\n",
              "          const docLink = document.createElement('div');\n",
              "          docLink.innerHTML = docLinkHtml;\n",
              "          element.appendChild(docLink);\n",
              "        }\n",
              "      </script>\n",
              "    </div>\n",
              "  </div>\n",
              "  "
            ],
            "text/plain": [
              "                                                   url  \\\n",
              "0    https://www.sewakost.com/jakarta/selatan/kost-...   \n",
              "1    https://www.sewakost.com/jakarta/selatan/kost-...   \n",
              "2    https://www.sewakost.com/jakarta/selatan/kamar...   \n",
              "3    https://www.sewakost.com/jakarta/selatan/hompy...   \n",
              "4    https://www.sewakost.com/jakarta/selatan/rumah...   \n",
              "..                                                 ...   \n",
              "953  https://www.sewakost.com/jakarta/selatan/kost-...   \n",
              "954  https://www.sewakost.com/jakarta/selatan/kosan...   \n",
              "955  https://www.sewakost.com/jakarta/selatan/kost-...   \n",
              "956  https://www.sewakost.com/jakarta/selatan/kost-...   \n",
              "957  https://www.sewakost.com/jakarta/selatan/kos-s...   \n",
              "\n",
              "                                                  nama         harga  \n",
              "0                     Kost Ciganjur Jalan Pasir No. 32  Rp 1.000.000  \n",
              "1    KOST EXECUTIVE JAGAKARSA PASO CILANDAK JAKARTA...  Rp 2.200.000  \n",
              "2                   Kamar kost Putri NON AC di Mampang    Rp 850.000  \n",
              "3                                Hompy Timur Residence  Rp 2.700.000  \n",
              "4    Rumah kontrakan (40m2) Pasutri baru/karyawati/...  Rp 2.500.000  \n",
              "..                                                 ...           ...  \n",
              "953                     Kost lokasi Strategis dan Aman  Rp 2.200.000  \n",
              "954              Kosan 28 Duren Tiga (Bangunan Baru!!)  Rp 1.100.000  \n",
              "955  Kost Khusus Putra di Tebet Timur Dalam 7G, Jak...  Rp 1.900.000  \n",
              "956                                    Kost Putri Qtha  Rp 1.400.000  \n",
              "957                Kos Suhardjo Kebayoran Lama Jakarta  Rp 1.100.000  \n",
              "\n",
              "[958 rows x 3 columns]"
            ]
          },
          "execution_count": 12,
          "metadata": {},
          "output_type": "execute_result"
        }
      ],
      "source": [
        "# Menampilkan hasil scraping per halaman\n",
        "# Total kost yang discraping 958\n",
        "pd.DataFrame(sewakost)"
      ]
    },
    {
      "cell_type": "markdown",
      "metadata": {},
      "source": [
        "## Scraping Detail Kost (Fasilitas & Jenis Kost)\n",
        "\n",
        "Tahap selanjutnya adalah iterasi masing-masing dari 958 kost untuk mendapatkan informasi jenis beserta fasilitas yang ditawarkan oleh pemilik kost."
      ]
    },
    {
      "cell_type": "code",
      "execution_count": 24,
      "metadata": {
        "colab": {
          "base_uri": "https://localhost:8080/"
        },
        "id": "zFo7QQFf65z9",
        "outputId": "2ae077cc-cee9-4b5f-acb7-3dbb8611f86c"
      },
      "outputs": [
        {
          "name": "stderr",
          "output_type": "stream",
          "text": [
            "100%|██████████| 958/958 [23:26<00:00,  1.47s/it]\n"
          ]
        }
      ],
      "source": [
        "# Iterasi masing-masing url kost\n",
        "for kos in tqdm(sewakost):\n",
        "  try:\n",
        "    req_kos = requests.get(kos['url'], verify = False)\n",
        "    soup_kos = BeautifulSoup(req_kos.content, \"html.parser\")\n",
        "\n",
        "    # Daftar informasi yang ingin didapatkan\n",
        "    informasi = ['jenis', 'address', 'aircon', 'free_wifi', 'kamar_mandi_dalam']\n",
        "\n",
        "    # Mendapatkan informasi -> disimpan ke dalam kolom masing-masing\n",
        "    for info in informasi:\n",
        "      value = soup_kos.find(\"div\", attrs={\"id\": \"df_field_%s\" % info}).find(\"div\", attrs={\"class\":\"value\"})\n",
        "      kos[info] = value.text.strip()\n",
        "    \n",
        "    # Mendapatkan informasi fasilitas kamar tambahan dan fasilitas bersama\n",
        "    kos['fasilitas_kamar'], kos['fasilitas_kost'] = [], []\n",
        "    fasilitas = ['fasilitas_kamar', 'fasilitas_kost']\n",
        "\n",
        "    # Mengumpulkan fasilitas -> disimpan ke dalam kolom\n",
        "    for f in fasilitas:\n",
        "      list_f = soup_kos.find(\"div\", attrs={\"id\": \"df_field_%s\" % f}).find(\"div\", attrs={\"class\":\"value\"})\n",
        "      for each_f in list_f.findAll(\"li\"):\n",
        "        kos[f].append(each_f['title'])\n",
        "\n",
        "  except:\n",
        "    pass"
      ]
    },
    {
      "cell_type": "markdown",
      "metadata": {},
      "source": [
        "## Export Dataset\n",
        "\n",
        "Setelah dilakukan scraping terhadap masing-masing kost. Dataset kemudian disimpan ke dalam bentuk .tsv (tab separated value) untuk memudahkan pengolahan data"
      ]
    },
    {
      "cell_type": "code",
      "execution_count": null,
      "metadata": {
        "id": "G-AMwY8cbicS"
      },
      "outputs": [],
      "source": [
        "pd.DataFrame(sewakost).to_csv('sewakost_40pages.tsv', sep=\"\\t\", index=False)"
      ]
    },
    {
      "cell_type": "markdown",
      "metadata": {
        "id": "wJSHLQ0ndudR"
      },
      "source": [
        "# Analisis Kost\n",
        "\n",
        "Analisis yang ingin dilakukan antara lain:\n",
        "1. Analisis jumlah jenis dan fasilitas kos\n",
        "2. Analisis harga kost terhadap fasilitas\n",
        "3. Melihat daftar kost fasilitas lengkap yang undervalued"
      ]
    },
    {
      "cell_type": "markdown",
      "metadata": {},
      "source": [
        "## Persiapan dan Pembersihan Data"
      ]
    },
    {
      "cell_type": "code",
      "execution_count": 67,
      "metadata": {
        "colab": {
          "base_uri": "https://localhost:8080/",
          "height": 583
        },
        "id": "vpBPRhAhcL5n",
        "outputId": "140ffb8b-96c0-4670-e4f0-90b3c800b726"
      },
      "outputs": [
        {
          "data": {
            "text/html": [
              "<div>\n",
              "<style scoped>\n",
              "    .dataframe tbody tr th:only-of-type {\n",
              "        vertical-align: middle;\n",
              "    }\n",
              "\n",
              "    .dataframe tbody tr th {\n",
              "        vertical-align: top;\n",
              "    }\n",
              "\n",
              "    .dataframe thead th {\n",
              "        text-align: right;\n",
              "    }\n",
              "</style>\n",
              "<table border=\"1\" class=\"dataframe\">\n",
              "  <thead>\n",
              "    <tr style=\"text-align: right;\">\n",
              "      <th></th>\n",
              "      <th>url</th>\n",
              "      <th>nama</th>\n",
              "      <th>harga</th>\n",
              "      <th>jenis</th>\n",
              "      <th>address</th>\n",
              "      <th>aircon</th>\n",
              "      <th>free_wifi</th>\n",
              "      <th>kamar_mandi_dalam</th>\n",
              "      <th>fasilitas_kamar</th>\n",
              "      <th>fasilitas_kost</th>\n",
              "    </tr>\n",
              "  </thead>\n",
              "  <tbody>\n",
              "    <tr>\n",
              "      <th>0</th>\n",
              "      <td>https://www.sewakost.com/jakarta/selatan/kost-...</td>\n",
              "      <td>Kost Ciganjur Jalan Pasir No. 32</td>\n",
              "      <td>Rp 1.000.000</td>\n",
              "      <td>Kost Campur</td>\n",
              "      <td>Jalan Pasir no 32 Kp. Setu Rt 001/006 Keluraha...</td>\n",
              "      <td>Tidak</td>\n",
              "      <td>Tidak</td>\n",
              "      <td>Ya</td>\n",
              "      <td>['Kamar Mandi Dalam']</td>\n",
              "      <td>['Keamanan', 'Parkir Motor']</td>\n",
              "    </tr>\n",
              "    <tr>\n",
              "      <th>1</th>\n",
              "      <td>https://www.sewakost.com/jakarta/selatan/kost-...</td>\n",
              "      <td>KOST EXECUTIVE JAGAKARSA PASO CILANDAK JAKARTA...</td>\n",
              "      <td>Rp 2.200.000</td>\n",
              "      <td>Kost Putra</td>\n",
              "      <td>Jalan Paso no 6A, Jagakarsa, Cilandak, Jakarta...</td>\n",
              "      <td>Ya</td>\n",
              "      <td>Ya</td>\n",
              "      <td>Ya</td>\n",
              "      <td>['Spring Bed', 'Perabot', 'Free WiFi', 'AC', '...</td>\n",
              "      <td>['Ruang Tamu', 'Ruang Makan', 'Dapur', 'Air Mi...</td>\n",
              "    </tr>\n",
              "    <tr>\n",
              "      <th>2</th>\n",
              "      <td>https://www.sewakost.com/jakarta/selatan/kamar...</td>\n",
              "      <td>Kamar kost Putri NON AC di Mampang</td>\n",
              "      <td>Rp 850.000</td>\n",
              "      <td>Kost Putri</td>\n",
              "      <td>Jl.Mampang Prapatan VI Rt04 Rw02 No.70B</td>\n",
              "      <td>Tidak</td>\n",
              "      <td>Tidak</td>\n",
              "      <td>Tidak</td>\n",
              "      <td>[]</td>\n",
              "      <td>[]</td>\n",
              "    </tr>\n",
              "    <tr>\n",
              "      <th>3</th>\n",
              "      <td>https://www.sewakost.com/jakarta/selatan/hompy...</td>\n",
              "      <td>Hompy Timur Residence</td>\n",
              "      <td>Rp 2.700.000</td>\n",
              "      <td>Kost Putri</td>\n",
              "      <td>Tebet Timur Dalam 7B no. 11</td>\n",
              "      <td>Ya</td>\n",
              "      <td>Ya</td>\n",
              "      <td>Ya</td>\n",
              "      <td>['Spring Bed', 'Perabot', 'Free WiFi', 'AC', '...</td>\n",
              "      <td>['Dapur', 'Cuci Setrika', 'Pembantu', 'Keamana...</td>\n",
              "    </tr>\n",
              "    <tr>\n",
              "      <th>4</th>\n",
              "      <td>https://www.sewakost.com/jakarta/selatan/rumah...</td>\n",
              "      <td>Rumah kontrakan (40m2) Pasutri baru/karyawati/...</td>\n",
              "      <td>Rp 2.500.000</td>\n",
              "      <td>Kost Pasutri</td>\n",
              "      <td>Jalan keselamatan 18 RT10/RW03</td>\n",
              "      <td>Ya</td>\n",
              "      <td>Tidak</td>\n",
              "      <td>Ya</td>\n",
              "      <td>['AC', 'Kamar Mandi Dalam']</td>\n",
              "      <td>['Ruang Tamu', 'Ruang Makan', 'Dapur', 'Keaman...</td>\n",
              "    </tr>\n",
              "  </tbody>\n",
              "</table>\n",
              "</div>"
            ],
            "text/plain": [
              "                                                 url  \\\n",
              "0  https://www.sewakost.com/jakarta/selatan/kost-...   \n",
              "1  https://www.sewakost.com/jakarta/selatan/kost-...   \n",
              "2  https://www.sewakost.com/jakarta/selatan/kamar...   \n",
              "3  https://www.sewakost.com/jakarta/selatan/hompy...   \n",
              "4  https://www.sewakost.com/jakarta/selatan/rumah...   \n",
              "\n",
              "                                                nama         harga  \\\n",
              "0                   Kost Ciganjur Jalan Pasir No. 32  Rp 1.000.000   \n",
              "1  KOST EXECUTIVE JAGAKARSA PASO CILANDAK JAKARTA...  Rp 2.200.000   \n",
              "2                 Kamar kost Putri NON AC di Mampang    Rp 850.000   \n",
              "3                              Hompy Timur Residence  Rp 2.700.000   \n",
              "4  Rumah kontrakan (40m2) Pasutri baru/karyawati/...  Rp 2.500.000   \n",
              "\n",
              "          jenis                                            address aircon  \\\n",
              "0   Kost Campur  Jalan Pasir no 32 Kp. Setu Rt 001/006 Keluraha...  Tidak   \n",
              "1    Kost Putra  Jalan Paso no 6A, Jagakarsa, Cilandak, Jakarta...     Ya   \n",
              "2    Kost Putri            Jl.Mampang Prapatan VI Rt04 Rw02 No.70B  Tidak   \n",
              "3    Kost Putri                        Tebet Timur Dalam 7B no. 11     Ya   \n",
              "4  Kost Pasutri                     Jalan keselamatan 18 RT10/RW03     Ya   \n",
              "\n",
              "  free_wifi kamar_mandi_dalam  \\\n",
              "0     Tidak                Ya   \n",
              "1        Ya                Ya   \n",
              "2     Tidak             Tidak   \n",
              "3        Ya                Ya   \n",
              "4     Tidak                Ya   \n",
              "\n",
              "                                     fasilitas_kamar  \\\n",
              "0                              ['Kamar Mandi Dalam']   \n",
              "1  ['Spring Bed', 'Perabot', 'Free WiFi', 'AC', '...   \n",
              "2                                                 []   \n",
              "3  ['Spring Bed', 'Perabot', 'Free WiFi', 'AC', '...   \n",
              "4                        ['AC', 'Kamar Mandi Dalam']   \n",
              "\n",
              "                                      fasilitas_kost  \n",
              "0                       ['Keamanan', 'Parkir Motor']  \n",
              "1  ['Ruang Tamu', 'Ruang Makan', 'Dapur', 'Air Mi...  \n",
              "2                                                 []  \n",
              "3  ['Dapur', 'Cuci Setrika', 'Pembantu', 'Keamana...  \n",
              "4  ['Ruang Tamu', 'Ruang Makan', 'Dapur', 'Keaman...  "
            ]
          },
          "execution_count": 67,
          "metadata": {},
          "output_type": "execute_result"
        }
      ],
      "source": [
        "df = pd.read_csv('sewakost_40pages.tsv', sep=\"\\t\")\n",
        "\n",
        "df.head()"
      ]
    },
    {
      "cell_type": "markdown",
      "metadata": {},
      "source": [
        "## Drop Nilai NaN\n",
        "\n",
        "Melihat jumlah baris yang memiliki nilai NaN"
      ]
    },
    {
      "cell_type": "code",
      "execution_count": 68,
      "metadata": {},
      "outputs": [
        {
          "data": {
            "text/plain": [
              "url                   0\n",
              "nama                  0\n",
              "harga                 0\n",
              "jenis                14\n",
              "address              14\n",
              "aircon               14\n",
              "free_wifi            14\n",
              "kamar_mandi_dalam    14\n",
              "fasilitas_kamar      14\n",
              "fasilitas_kost       14\n",
              "dtype: int64"
            ]
          },
          "execution_count": 68,
          "metadata": {},
          "output_type": "execute_result"
        }
      ],
      "source": [
        "# Terdapat kost dengan nilai NaN pada jenis dan fasilitas kost\n",
        "df.isnull().sum()"
      ]
    },
    {
      "cell_type": "code",
      "execution_count": 69,
      "metadata": {},
      "outputs": [
        {
          "data": {
            "text/html": [
              "<div>\n",
              "<style scoped>\n",
              "    .dataframe tbody tr th:only-of-type {\n",
              "        vertical-align: middle;\n",
              "    }\n",
              "\n",
              "    .dataframe tbody tr th {\n",
              "        vertical-align: top;\n",
              "    }\n",
              "\n",
              "    .dataframe thead th {\n",
              "        text-align: right;\n",
              "    }\n",
              "</style>\n",
              "<table border=\"1\" class=\"dataframe\">\n",
              "  <thead>\n",
              "    <tr style=\"text-align: right;\">\n",
              "      <th></th>\n",
              "      <th>url</th>\n",
              "      <th>nama</th>\n",
              "      <th>harga</th>\n",
              "      <th>jenis</th>\n",
              "      <th>address</th>\n",
              "      <th>aircon</th>\n",
              "      <th>free_wifi</th>\n",
              "      <th>kamar_mandi_dalam</th>\n",
              "      <th>fasilitas_kamar</th>\n",
              "      <th>fasilitas_kost</th>\n",
              "    </tr>\n",
              "  </thead>\n",
              "  <tbody>\n",
              "    <tr>\n",
              "      <th>483</th>\n",
              "      <td>https://www.sewakost.com/jakarta/selatan/indek...</td>\n",
              "      <td>INDEKOS ELITE DALAM CLUSTER FULL FURNISH</td>\n",
              "      <td>3.000.000</td>\n",
              "      <td>NaN</td>\n",
              "      <td>NaN</td>\n",
              "      <td>NaN</td>\n",
              "      <td>NaN</td>\n",
              "      <td>NaN</td>\n",
              "      <td>NaN</td>\n",
              "      <td>NaN</td>\n",
              "    </tr>\n",
              "    <tr>\n",
              "      <th>739</th>\n",
              "      <td>https://www.sewakost.com/jakarta/selatan/tebet...</td>\n",
              "      <td>TEBET EXECUTIVE RESIDENCE 141</td>\n",
              "      <td>3.550.000</td>\n",
              "      <td>NaN</td>\n",
              "      <td>NaN</td>\n",
              "      <td>NaN</td>\n",
              "      <td>NaN</td>\n",
              "      <td>NaN</td>\n",
              "      <td>NaN</td>\n",
              "      <td>NaN</td>\n",
              "    </tr>\n",
              "    <tr>\n",
              "      <th>740</th>\n",
              "      <td>https://www.sewakost.com/jakarta/selatan/sewa-...</td>\n",
              "      <td>Sewa Kost, Cilandak Barat, Jakarta Selatan</td>\n",
              "      <td>2.000.000</td>\n",
              "      <td>NaN</td>\n",
              "      <td>NaN</td>\n",
              "      <td>NaN</td>\n",
              "      <td>NaN</td>\n",
              "      <td>NaN</td>\n",
              "      <td>NaN</td>\n",
              "      <td>NaN</td>\n",
              "    </tr>\n",
              "    <tr>\n",
              "      <th>741</th>\n",
              "      <td>https://www.sewakost.com/jakarta/selatan/kos-d...</td>\n",
              "      <td>Kos di Lt.Agung dkt KRL Lt.Agung &amp; Tj.Brt</td>\n",
              "      <td>700.000</td>\n",
              "      <td>NaN</td>\n",
              "      <td>NaN</td>\n",
              "      <td>NaN</td>\n",
              "      <td>NaN</td>\n",
              "      <td>NaN</td>\n",
              "      <td>NaN</td>\n",
              "      <td>NaN</td>\n",
              "    </tr>\n",
              "    <tr>\n",
              "      <th>742</th>\n",
              "      <td>https://www.sewakost.com/jakarta/selatan/kost-...</td>\n",
              "      <td>Kost Wanita Tebet Dekat Pasar Tebet Barat dan ...</td>\n",
              "      <td>1.600.000</td>\n",
              "      <td>NaN</td>\n",
              "      <td>NaN</td>\n",
              "      <td>NaN</td>\n",
              "      <td>NaN</td>\n",
              "      <td>NaN</td>\n",
              "      <td>NaN</td>\n",
              "      <td>NaN</td>\n",
              "    </tr>\n",
              "    <tr>\n",
              "      <th>743</th>\n",
              "      <td>https://www.sewakost.com/jakarta/selatan/kos-p...</td>\n",
              "      <td>Kos Putri Strategis</td>\n",
              "      <td>700.000</td>\n",
              "      <td>NaN</td>\n",
              "      <td>NaN</td>\n",
              "      <td>NaN</td>\n",
              "      <td>NaN</td>\n",
              "      <td>NaN</td>\n",
              "      <td>NaN</td>\n",
              "      <td>NaN</td>\n",
              "    </tr>\n",
              "    <tr>\n",
              "      <th>744</th>\n",
              "      <td>https://www.sewakost.com/jakarta/selatan/kos-k...</td>\n",
              "      <td>Kos khusus wanita</td>\n",
              "      <td>1.500.000</td>\n",
              "      <td>NaN</td>\n",
              "      <td>NaN</td>\n",
              "      <td>NaN</td>\n",
              "      <td>NaN</td>\n",
              "      <td>NaN</td>\n",
              "      <td>NaN</td>\n",
              "      <td>NaN</td>\n",
              "    </tr>\n",
              "    <tr>\n",
              "      <th>745</th>\n",
              "      <td>https://www.sewakost.com/jakarta/selatan/koen-...</td>\n",
              "      <td>Koen View Residence Radio Dalam</td>\n",
              "      <td>6.000.000</td>\n",
              "      <td>NaN</td>\n",
              "      <td>NaN</td>\n",
              "      <td>NaN</td>\n",
              "      <td>NaN</td>\n",
              "      <td>NaN</td>\n",
              "      <td>NaN</td>\n",
              "      <td>NaN</td>\n",
              "    </tr>\n",
              "    <tr>\n",
              "      <th>746</th>\n",
              "      <td>https://www.sewakost.com/jakarta/selatan/kos-d...</td>\n",
              "      <td>Kos di Lt.Agung dkt kampus dan KRL</td>\n",
              "      <td>700.000</td>\n",
              "      <td>NaN</td>\n",
              "      <td>NaN</td>\n",
              "      <td>NaN</td>\n",
              "      <td>NaN</td>\n",
              "      <td>NaN</td>\n",
              "      <td>NaN</td>\n",
              "      <td>NaN</td>\n",
              "    </tr>\n",
              "    <tr>\n",
              "      <th>747</th>\n",
              "      <td>https://www.sewakost.com/jakarta/selatan/kost-...</td>\n",
              "      <td>KOST ELITE CAMPUR FULL FURNISH JAKARTA SELATAN...</td>\n",
              "      <td>3.000.000</td>\n",
              "      <td>NaN</td>\n",
              "      <td>NaN</td>\n",
              "      <td>NaN</td>\n",
              "      <td>NaN</td>\n",
              "      <td>NaN</td>\n",
              "      <td>NaN</td>\n",
              "      <td>NaN</td>\n",
              "    </tr>\n",
              "    <tr>\n",
              "      <th>748</th>\n",
              "      <td>https://www.sewakost.com/jakarta/selatan/kost-...</td>\n",
              "      <td>Kost granit</td>\n",
              "      <td>1.800.000</td>\n",
              "      <td>NaN</td>\n",
              "      <td>NaN</td>\n",
              "      <td>NaN</td>\n",
              "      <td>NaN</td>\n",
              "      <td>NaN</td>\n",
              "      <td>NaN</td>\n",
              "      <td>NaN</td>\n",
              "    </tr>\n",
              "    <tr>\n",
              "      <th>750</th>\n",
              "      <td>https://www.sewakost.com/jakarta/selatan/kos-i...</td>\n",
              "      <td>Kos / Indekos Putra/Putri</td>\n",
              "      <td>800.000</td>\n",
              "      <td>NaN</td>\n",
              "      <td>NaN</td>\n",
              "      <td>NaN</td>\n",
              "      <td>NaN</td>\n",
              "      <td>NaN</td>\n",
              "      <td>NaN</td>\n",
              "      <td>NaN</td>\n",
              "    </tr>\n",
              "    <tr>\n",
              "      <th>894</th>\n",
              "      <td>https://www.sewakost.com/jakarta/selatan/kost-...</td>\n",
              "      <td>Kost Nyaman Rumah Hejo</td>\n",
              "      <td>Rp 1.300.000</td>\n",
              "      <td>NaN</td>\n",
              "      <td>NaN</td>\n",
              "      <td>NaN</td>\n",
              "      <td>NaN</td>\n",
              "      <td>NaN</td>\n",
              "      <td>NaN</td>\n",
              "      <td>NaN</td>\n",
              "    </tr>\n",
              "    <tr>\n",
              "      <th>923</th>\n",
              "      <td>https://www.sewakost.com/jakarta/selatan/kost-...</td>\n",
              "      <td>Kost Harian dan Bulanan di Pasar Manggis Setia...</td>\n",
              "      <td>1.000.000</td>\n",
              "      <td>NaN</td>\n",
              "      <td>NaN</td>\n",
              "      <td>NaN</td>\n",
              "      <td>NaN</td>\n",
              "      <td>NaN</td>\n",
              "      <td>NaN</td>\n",
              "      <td>NaN</td>\n",
              "    </tr>\n",
              "  </tbody>\n",
              "</table>\n",
              "</div>"
            ],
            "text/plain": [
              "                                                   url  \\\n",
              "483  https://www.sewakost.com/jakarta/selatan/indek...   \n",
              "739  https://www.sewakost.com/jakarta/selatan/tebet...   \n",
              "740  https://www.sewakost.com/jakarta/selatan/sewa-...   \n",
              "741  https://www.sewakost.com/jakarta/selatan/kos-d...   \n",
              "742  https://www.sewakost.com/jakarta/selatan/kost-...   \n",
              "743  https://www.sewakost.com/jakarta/selatan/kos-p...   \n",
              "744  https://www.sewakost.com/jakarta/selatan/kos-k...   \n",
              "745  https://www.sewakost.com/jakarta/selatan/koen-...   \n",
              "746  https://www.sewakost.com/jakarta/selatan/kos-d...   \n",
              "747  https://www.sewakost.com/jakarta/selatan/kost-...   \n",
              "748  https://www.sewakost.com/jakarta/selatan/kost-...   \n",
              "750  https://www.sewakost.com/jakarta/selatan/kos-i...   \n",
              "894  https://www.sewakost.com/jakarta/selatan/kost-...   \n",
              "923  https://www.sewakost.com/jakarta/selatan/kost-...   \n",
              "\n",
              "                                                  nama         harga jenis  \\\n",
              "483           INDEKOS ELITE DALAM CLUSTER FULL FURNISH     3.000.000   NaN   \n",
              "739                      TEBET EXECUTIVE RESIDENCE 141     3.550.000   NaN   \n",
              "740         Sewa Kost, Cilandak Barat, Jakarta Selatan     2.000.000   NaN   \n",
              "741          Kos di Lt.Agung dkt KRL Lt.Agung & Tj.Brt       700.000   NaN   \n",
              "742  Kost Wanita Tebet Dekat Pasar Tebet Barat dan ...     1.600.000   NaN   \n",
              "743                                Kos Putri Strategis       700.000   NaN   \n",
              "744                                  Kos khusus wanita     1.500.000   NaN   \n",
              "745                    Koen View Residence Radio Dalam     6.000.000   NaN   \n",
              "746                 Kos di Lt.Agung dkt kampus dan KRL       700.000   NaN   \n",
              "747  KOST ELITE CAMPUR FULL FURNISH JAKARTA SELATAN...     3.000.000   NaN   \n",
              "748                                        Kost granit     1.800.000   NaN   \n",
              "750                          Kos / Indekos Putra/Putri       800.000   NaN   \n",
              "894                             Kost Nyaman Rumah Hejo  Rp 1.300.000   NaN   \n",
              "923  Kost Harian dan Bulanan di Pasar Manggis Setia...     1.000.000   NaN   \n",
              "\n",
              "    address aircon free_wifi kamar_mandi_dalam fasilitas_kamar fasilitas_kost  \n",
              "483     NaN    NaN       NaN               NaN             NaN            NaN  \n",
              "739     NaN    NaN       NaN               NaN             NaN            NaN  \n",
              "740     NaN    NaN       NaN               NaN             NaN            NaN  \n",
              "741     NaN    NaN       NaN               NaN             NaN            NaN  \n",
              "742     NaN    NaN       NaN               NaN             NaN            NaN  \n",
              "743     NaN    NaN       NaN               NaN             NaN            NaN  \n",
              "744     NaN    NaN       NaN               NaN             NaN            NaN  \n",
              "745     NaN    NaN       NaN               NaN             NaN            NaN  \n",
              "746     NaN    NaN       NaN               NaN             NaN            NaN  \n",
              "747     NaN    NaN       NaN               NaN             NaN            NaN  \n",
              "748     NaN    NaN       NaN               NaN             NaN            NaN  \n",
              "750     NaN    NaN       NaN               NaN             NaN            NaN  \n",
              "894     NaN    NaN       NaN               NaN             NaN            NaN  \n",
              "923     NaN    NaN       NaN               NaN             NaN            NaN  "
            ]
          },
          "execution_count": 69,
          "metadata": {},
          "output_type": "execute_result"
        }
      ],
      "source": [
        "df[df.isnull().any(axis=1)]"
      ]
    },
    {
      "cell_type": "code",
      "execution_count": 70,
      "metadata": {},
      "outputs": [
        {
          "data": {
            "text/plain": [
              "url                  0\n",
              "nama                 0\n",
              "harga                0\n",
              "jenis                0\n",
              "address              0\n",
              "aircon               0\n",
              "free_wifi            0\n",
              "kamar_mandi_dalam    0\n",
              "fasilitas_kamar      0\n",
              "fasilitas_kost       0\n",
              "dtype: int64"
            ]
          },
          "execution_count": 70,
          "metadata": {},
          "output_type": "execute_result"
        }
      ],
      "source": [
        "# Drop semua baris dengan nilai NaN karena tidak dapat digunakan untuk tahap analisis\n",
        "df.dropna(inplace=True)\n",
        "\n",
        "df.isnull().sum()"
      ]
    },
    {
      "cell_type": "markdown",
      "metadata": {},
      "source": [
        "## Mengubah Format Data"
      ]
    },
    {
      "cell_type": "markdown",
      "metadata": {},
      "source": [
        "### Ekstrak Numerik pada Kolom Harga\n",
        "\n",
        "Kolom `harga` masih dalam format `Rp.[harga]`. Maka dari itu perlu dilakukan ekstraksi nilai numerik terhadap kolom `harga` untuk memudahkan analisis harga."
      ]
    },
    {
      "cell_type": "code",
      "execution_count": 71,
      "metadata": {},
      "outputs": [
        {
          "data": {
            "text/html": [
              "<div>\n",
              "<style scoped>\n",
              "    .dataframe tbody tr th:only-of-type {\n",
              "        vertical-align: middle;\n",
              "    }\n",
              "\n",
              "    .dataframe tbody tr th {\n",
              "        vertical-align: top;\n",
              "    }\n",
              "\n",
              "    .dataframe thead th {\n",
              "        text-align: right;\n",
              "    }\n",
              "</style>\n",
              "<table border=\"1\" class=\"dataframe\">\n",
              "  <thead>\n",
              "    <tr style=\"text-align: right;\">\n",
              "      <th></th>\n",
              "      <th>url</th>\n",
              "      <th>nama</th>\n",
              "      <th>harga</th>\n",
              "      <th>jenis</th>\n",
              "      <th>address</th>\n",
              "      <th>aircon</th>\n",
              "      <th>free_wifi</th>\n",
              "      <th>kamar_mandi_dalam</th>\n",
              "      <th>fasilitas_kamar</th>\n",
              "      <th>fasilitas_kost</th>\n",
              "    </tr>\n",
              "  </thead>\n",
              "  <tbody>\n",
              "    <tr>\n",
              "      <th>0</th>\n",
              "      <td>https://www.sewakost.com/jakarta/selatan/kost-...</td>\n",
              "      <td>Kost Ciganjur Jalan Pasir No. 32</td>\n",
              "      <td>1000000</td>\n",
              "      <td>Kost Campur</td>\n",
              "      <td>Jalan Pasir no 32 Kp. Setu Rt 001/006 Keluraha...</td>\n",
              "      <td>Tidak</td>\n",
              "      <td>Tidak</td>\n",
              "      <td>Ya</td>\n",
              "      <td>['Kamar Mandi Dalam']</td>\n",
              "      <td>['Keamanan', 'Parkir Motor']</td>\n",
              "    </tr>\n",
              "    <tr>\n",
              "      <th>1</th>\n",
              "      <td>https://www.sewakost.com/jakarta/selatan/kost-...</td>\n",
              "      <td>KOST EXECUTIVE JAGAKARSA PASO CILANDAK JAKARTA...</td>\n",
              "      <td>2200000</td>\n",
              "      <td>Kost Putra</td>\n",
              "      <td>Jalan Paso no 6A, Jagakarsa, Cilandak, Jakarta...</td>\n",
              "      <td>Ya</td>\n",
              "      <td>Ya</td>\n",
              "      <td>Ya</td>\n",
              "      <td>['Spring Bed', 'Perabot', 'Free WiFi', 'AC', '...</td>\n",
              "      <td>['Ruang Tamu', 'Ruang Makan', 'Dapur', 'Air Mi...</td>\n",
              "    </tr>\n",
              "    <tr>\n",
              "      <th>2</th>\n",
              "      <td>https://www.sewakost.com/jakarta/selatan/kamar...</td>\n",
              "      <td>Kamar kost Putri NON AC di Mampang</td>\n",
              "      <td>850000</td>\n",
              "      <td>Kost Putri</td>\n",
              "      <td>Jl.Mampang Prapatan VI Rt04 Rw02 No.70B</td>\n",
              "      <td>Tidak</td>\n",
              "      <td>Tidak</td>\n",
              "      <td>Tidak</td>\n",
              "      <td>[]</td>\n",
              "      <td>[]</td>\n",
              "    </tr>\n",
              "    <tr>\n",
              "      <th>3</th>\n",
              "      <td>https://www.sewakost.com/jakarta/selatan/hompy...</td>\n",
              "      <td>Hompy Timur Residence</td>\n",
              "      <td>2700000</td>\n",
              "      <td>Kost Putri</td>\n",
              "      <td>Tebet Timur Dalam 7B no. 11</td>\n",
              "      <td>Ya</td>\n",
              "      <td>Ya</td>\n",
              "      <td>Ya</td>\n",
              "      <td>['Spring Bed', 'Perabot', 'Free WiFi', 'AC', '...</td>\n",
              "      <td>['Dapur', 'Cuci Setrika', 'Pembantu', 'Keamana...</td>\n",
              "    </tr>\n",
              "    <tr>\n",
              "      <th>4</th>\n",
              "      <td>https://www.sewakost.com/jakarta/selatan/rumah...</td>\n",
              "      <td>Rumah kontrakan (40m2) Pasutri baru/karyawati/...</td>\n",
              "      <td>2500000</td>\n",
              "      <td>Kost Pasutri</td>\n",
              "      <td>Jalan keselamatan 18 RT10/RW03</td>\n",
              "      <td>Ya</td>\n",
              "      <td>Tidak</td>\n",
              "      <td>Ya</td>\n",
              "      <td>['AC', 'Kamar Mandi Dalam']</td>\n",
              "      <td>['Ruang Tamu', 'Ruang Makan', 'Dapur', 'Keaman...</td>\n",
              "    </tr>\n",
              "  </tbody>\n",
              "</table>\n",
              "</div>"
            ],
            "text/plain": [
              "                                                 url  \\\n",
              "0  https://www.sewakost.com/jakarta/selatan/kost-...   \n",
              "1  https://www.sewakost.com/jakarta/selatan/kost-...   \n",
              "2  https://www.sewakost.com/jakarta/selatan/kamar...   \n",
              "3  https://www.sewakost.com/jakarta/selatan/hompy...   \n",
              "4  https://www.sewakost.com/jakarta/selatan/rumah...   \n",
              "\n",
              "                                                nama    harga         jenis  \\\n",
              "0                   Kost Ciganjur Jalan Pasir No. 32  1000000   Kost Campur   \n",
              "1  KOST EXECUTIVE JAGAKARSA PASO CILANDAK JAKARTA...  2200000    Kost Putra   \n",
              "2                 Kamar kost Putri NON AC di Mampang   850000    Kost Putri   \n",
              "3                              Hompy Timur Residence  2700000    Kost Putri   \n",
              "4  Rumah kontrakan (40m2) Pasutri baru/karyawati/...  2500000  Kost Pasutri   \n",
              "\n",
              "                                             address aircon free_wifi  \\\n",
              "0  Jalan Pasir no 32 Kp. Setu Rt 001/006 Keluraha...  Tidak     Tidak   \n",
              "1  Jalan Paso no 6A, Jagakarsa, Cilandak, Jakarta...     Ya        Ya   \n",
              "2            Jl.Mampang Prapatan VI Rt04 Rw02 No.70B  Tidak     Tidak   \n",
              "3                        Tebet Timur Dalam 7B no. 11     Ya        Ya   \n",
              "4                     Jalan keselamatan 18 RT10/RW03     Ya     Tidak   \n",
              "\n",
              "  kamar_mandi_dalam                                    fasilitas_kamar  \\\n",
              "0                Ya                              ['Kamar Mandi Dalam']   \n",
              "1                Ya  ['Spring Bed', 'Perabot', 'Free WiFi', 'AC', '...   \n",
              "2             Tidak                                                 []   \n",
              "3                Ya  ['Spring Bed', 'Perabot', 'Free WiFi', 'AC', '...   \n",
              "4                Ya                        ['AC', 'Kamar Mandi Dalam']   \n",
              "\n",
              "                                      fasilitas_kost  \n",
              "0                       ['Keamanan', 'Parkir Motor']  \n",
              "1  ['Ruang Tamu', 'Ruang Makan', 'Dapur', 'Air Mi...  \n",
              "2                                                 []  \n",
              "3  ['Dapur', 'Cuci Setrika', 'Pembantu', 'Keamana...  \n",
              "4  ['Ruang Tamu', 'Ruang Makan', 'Dapur', 'Keaman...  "
            ]
          },
          "execution_count": 71,
          "metadata": {},
          "output_type": "execute_result"
        }
      ],
      "source": [
        "# Menggunakan regex\n",
        "import re as re\n",
        "\n",
        "# Mengambil setiap nilai numerik kemudian mengubah ke dalam bentuk integer\n",
        "def find_number(text):\n",
        "    try:\n",
        "        num = \"\".join(re.findall(r'[\\d]+',text))\n",
        "        return int(num)\n",
        "    except:\n",
        "        return 0\n",
        "\n",
        "# Mengubah seluruh kolom harga menjadi integer\n",
        "df['harga'] = df['harga'].apply(lambda x: find_number(x))\n",
        "\n",
        "df.head()"
      ]
    },
    {
      "cell_type": "markdown",
      "metadata": {},
      "source": [
        "### Membersihkan Data Outlier\n",
        "\n",
        "Terdapat kost-an dengan harga yang sangat murah, termasuk yang 0 rupiah alias gratis (mungkin fasilitasnya selain kamar mandi luar juga harus tidur di luar). Selain kost-an yang sangat murah, tedapat juga kost-an yang sangat mahal hingga seharga 180 juta/bulan.\n",
        "\n",
        "Kost-an seperti ini tidak akan dianalisis sehingga harus dikeluarkan dari dataset"
      ]
    },
    {
      "cell_type": "code",
      "execution_count": 72,
      "metadata": {},
      "outputs": [
        {
          "data": {
            "text/html": [
              "<div>\n",
              "<style scoped>\n",
              "    .dataframe tbody tr th:only-of-type {\n",
              "        vertical-align: middle;\n",
              "    }\n",
              "\n",
              "    .dataframe tbody tr th {\n",
              "        vertical-align: top;\n",
              "    }\n",
              "\n",
              "    .dataframe thead th {\n",
              "        text-align: right;\n",
              "    }\n",
              "</style>\n",
              "<table border=\"1\" class=\"dataframe\">\n",
              "  <thead>\n",
              "    <tr style=\"text-align: right;\">\n",
              "      <th></th>\n",
              "      <th>harga</th>\n",
              "    </tr>\n",
              "  </thead>\n",
              "  <tbody>\n",
              "    <tr>\n",
              "      <th>count</th>\n",
              "      <td>9.440000e+02</td>\n",
              "    </tr>\n",
              "    <tr>\n",
              "      <th>mean</th>\n",
              "      <td>3.816841e+09</td>\n",
              "    </tr>\n",
              "    <tr>\n",
              "      <th>std</th>\n",
              "      <td>8.280764e+10</td>\n",
              "    </tr>\n",
              "    <tr>\n",
              "      <th>min</th>\n",
              "      <td>0.000000e+00</td>\n",
              "    </tr>\n",
              "    <tr>\n",
              "      <th>25%</th>\n",
              "      <td>1.000000e+06</td>\n",
              "    </tr>\n",
              "    <tr>\n",
              "      <th>50%</th>\n",
              "      <td>1.650000e+06</td>\n",
              "    </tr>\n",
              "    <tr>\n",
              "      <th>75%</th>\n",
              "      <td>2.350000e+06</td>\n",
              "    </tr>\n",
              "    <tr>\n",
              "      <th>max</th>\n",
              "      <td>1.800000e+12</td>\n",
              "    </tr>\n",
              "  </tbody>\n",
              "</table>\n",
              "</div>"
            ],
            "text/plain": [
              "              harga\n",
              "count  9.440000e+02\n",
              "mean   3.816841e+09\n",
              "std    8.280764e+10\n",
              "min    0.000000e+00\n",
              "25%    1.000000e+06\n",
              "50%    1.650000e+06\n",
              "75%    2.350000e+06\n",
              "max    1.800000e+12"
            ]
          },
          "execution_count": 72,
          "metadata": {},
          "output_type": "execute_result"
        }
      ],
      "source": [
        "df.describe()"
      ]
    },
    {
      "cell_type": "code",
      "execution_count": 73,
      "metadata": {},
      "outputs": [
        {
          "data": {
            "text/plain": [
              "(944, 10)"
            ]
          },
          "execution_count": 73,
          "metadata": {},
          "output_type": "execute_result"
        }
      ],
      "source": [
        "df.shape"
      ]
    },
    {
      "cell_type": "code",
      "execution_count": 74,
      "metadata": {},
      "outputs": [
        {
          "data": {
            "text/plain": [
              "(72, 10)"
            ]
          },
          "execution_count": 74,
          "metadata": {},
          "output_type": "execute_result"
        }
      ],
      "source": [
        "# Cek harga kos di bawah Rp 300rb dan di atas 5 juta\n",
        "df[(df['harga']<300000) | (df['harga']>5000000)].shape"
      ]
    },
    {
      "cell_type": "code",
      "execution_count": 75,
      "metadata": {},
      "outputs": [
        {
          "data": {
            "text/plain": [
              "(872, 10)"
            ]
          },
          "execution_count": 75,
          "metadata": {},
          "output_type": "execute_result"
        }
      ],
      "source": [
        "# Drop harga kos di bawah 300rb dan di atas 5 juta\n",
        "df = df[(df['harga']>=300000) & (df['harga']<=5000000)]\n",
        "\n",
        "df.shape"
      ]
    },
    {
      "cell_type": "code",
      "execution_count": 76,
      "metadata": {},
      "outputs": [
        {
          "data": {
            "text/html": [
              "<div>\n",
              "<style scoped>\n",
              "    .dataframe tbody tr th:only-of-type {\n",
              "        vertical-align: middle;\n",
              "    }\n",
              "\n",
              "    .dataframe tbody tr th {\n",
              "        vertical-align: top;\n",
              "    }\n",
              "\n",
              "    .dataframe thead th {\n",
              "        text-align: right;\n",
              "    }\n",
              "</style>\n",
              "<table border=\"1\" class=\"dataframe\">\n",
              "  <thead>\n",
              "    <tr style=\"text-align: right;\">\n",
              "      <th></th>\n",
              "      <th>harga</th>\n",
              "    </tr>\n",
              "  </thead>\n",
              "  <tbody>\n",
              "    <tr>\n",
              "      <th>count</th>\n",
              "      <td>8.720000e+02</td>\n",
              "    </tr>\n",
              "    <tr>\n",
              "      <th>mean</th>\n",
              "      <td>1.825345e+06</td>\n",
              "    </tr>\n",
              "    <tr>\n",
              "      <th>std</th>\n",
              "      <td>9.535121e+05</td>\n",
              "    </tr>\n",
              "    <tr>\n",
              "      <th>min</th>\n",
              "      <td>4.000000e+05</td>\n",
              "    </tr>\n",
              "    <tr>\n",
              "      <th>25%</th>\n",
              "      <td>1.000000e+06</td>\n",
              "    </tr>\n",
              "    <tr>\n",
              "      <th>50%</th>\n",
              "      <td>1.650000e+06</td>\n",
              "    </tr>\n",
              "    <tr>\n",
              "      <th>75%</th>\n",
              "      <td>2.300000e+06</td>\n",
              "    </tr>\n",
              "    <tr>\n",
              "      <th>max</th>\n",
              "      <td>5.000000e+06</td>\n",
              "    </tr>\n",
              "  </tbody>\n",
              "</table>\n",
              "</div>"
            ],
            "text/plain": [
              "              harga\n",
              "count  8.720000e+02\n",
              "mean   1.825345e+06\n",
              "std    9.535121e+05\n",
              "min    4.000000e+05\n",
              "25%    1.000000e+06\n",
              "50%    1.650000e+06\n",
              "75%    2.300000e+06\n",
              "max    5.000000e+06"
            ]
          },
          "execution_count": 76,
          "metadata": {},
          "output_type": "execute_result"
        }
      ],
      "source": [
        "df.describe()"
      ]
    },
    {
      "cell_type": "markdown",
      "metadata": {},
      "source": [
        "### Mengubah ke Format Kategorikal"
      ]
    },
    {
      "cell_type": "code",
      "execution_count": 77,
      "metadata": {},
      "outputs": [
        {
          "data": {
            "text/plain": [
              "array(['Kost Campur', 'Kost Putra', 'Kost Putri', 'Kost Pasutri',\n",
              "       'Kost Keluarga'], dtype=object)"
            ]
          },
          "execution_count": 77,
          "metadata": {},
          "output_type": "execute_result"
        }
      ],
      "source": [
        "df['jenis'].unique()"
      ]
    },
    {
      "cell_type": "code",
      "execution_count": 78,
      "metadata": {},
      "outputs": [
        {
          "data": {
            "text/plain": [
              "url                  object\n",
              "nama                 object\n",
              "harga                 int64\n",
              "jenis                object\n",
              "address              object\n",
              "aircon               object\n",
              "free_wifi            object\n",
              "kamar_mandi_dalam    object\n",
              "fasilitas_kamar      object\n",
              "fasilitas_kost       object\n",
              "dtype: object"
            ]
          },
          "execution_count": 78,
          "metadata": {},
          "output_type": "execute_result"
        }
      ],
      "source": [
        "df.dtypes"
      ]
    },
    {
      "cell_type": "code",
      "execution_count": 79,
      "metadata": {},
      "outputs": [
        {
          "data": {
            "text/plain": [
              "url                    object\n",
              "nama                   object\n",
              "harga                   int64\n",
              "jenis                category\n",
              "address                object\n",
              "aircon               category\n",
              "free_wifi            category\n",
              "kamar_mandi_dalam    category\n",
              "fasilitas_kamar        object\n",
              "fasilitas_kost         object\n",
              "dtype: object"
            ]
          },
          "execution_count": 79,
          "metadata": {},
          "output_type": "execute_result"
        }
      ],
      "source": [
        "# Mengubah jenis kost pasutri -> kost keluarga\n",
        "df['jenis'] = df['jenis'].replace('Kost Pasutri', 'Kost Keluarga')\n",
        "\n",
        "# Mengubah ke dalam bentuk kategorikal\n",
        "categorical = ['jenis', 'aircon', 'free_wifi', 'kamar_mandi_dalam']\n",
        "df[categorical] = df[categorical].astype('category')\n",
        "\n",
        "df.dtypes"
      ]
    },
    {
      "cell_type": "code",
      "execution_count": 80,
      "metadata": {},
      "outputs": [
        {
          "data": {
            "text/html": [
              "<div>\n",
              "<style scoped>\n",
              "    .dataframe tbody tr th:only-of-type {\n",
              "        vertical-align: middle;\n",
              "    }\n",
              "\n",
              "    .dataframe tbody tr th {\n",
              "        vertical-align: top;\n",
              "    }\n",
              "\n",
              "    .dataframe thead th {\n",
              "        text-align: right;\n",
              "    }\n",
              "</style>\n",
              "<table border=\"1\" class=\"dataframe\">\n",
              "  <thead>\n",
              "    <tr style=\"text-align: right;\">\n",
              "      <th></th>\n",
              "      <th>url</th>\n",
              "      <th>nama</th>\n",
              "      <th>harga</th>\n",
              "      <th>address</th>\n",
              "      <th>aircon</th>\n",
              "      <th>free_wifi</th>\n",
              "      <th>kamar_mandi_dalam</th>\n",
              "      <th>fasilitas_kamar</th>\n",
              "      <th>fasilitas_kost</th>\n",
              "    </tr>\n",
              "    <tr>\n",
              "      <th>jenis</th>\n",
              "      <th></th>\n",
              "      <th></th>\n",
              "      <th></th>\n",
              "      <th></th>\n",
              "      <th></th>\n",
              "      <th></th>\n",
              "      <th></th>\n",
              "      <th></th>\n",
              "      <th></th>\n",
              "    </tr>\n",
              "  </thead>\n",
              "  <tbody>\n",
              "    <tr>\n",
              "      <th>Kost Campur</th>\n",
              "      <td>484</td>\n",
              "      <td>484</td>\n",
              "      <td>484</td>\n",
              "      <td>484</td>\n",
              "      <td>484</td>\n",
              "      <td>484</td>\n",
              "      <td>484</td>\n",
              "      <td>484</td>\n",
              "      <td>484</td>\n",
              "    </tr>\n",
              "    <tr>\n",
              "      <th>Kost Keluarga</th>\n",
              "      <td>22</td>\n",
              "      <td>22</td>\n",
              "      <td>22</td>\n",
              "      <td>22</td>\n",
              "      <td>22</td>\n",
              "      <td>22</td>\n",
              "      <td>22</td>\n",
              "      <td>22</td>\n",
              "      <td>22</td>\n",
              "    </tr>\n",
              "    <tr>\n",
              "      <th>Kost Putra</th>\n",
              "      <td>109</td>\n",
              "      <td>109</td>\n",
              "      <td>109</td>\n",
              "      <td>109</td>\n",
              "      <td>109</td>\n",
              "      <td>109</td>\n",
              "      <td>109</td>\n",
              "      <td>109</td>\n",
              "      <td>109</td>\n",
              "    </tr>\n",
              "    <tr>\n",
              "      <th>Kost Putri</th>\n",
              "      <td>257</td>\n",
              "      <td>257</td>\n",
              "      <td>257</td>\n",
              "      <td>257</td>\n",
              "      <td>257</td>\n",
              "      <td>257</td>\n",
              "      <td>257</td>\n",
              "      <td>257</td>\n",
              "      <td>257</td>\n",
              "    </tr>\n",
              "  </tbody>\n",
              "</table>\n",
              "</div>"
            ],
            "text/plain": [
              "               url  nama  harga  address  aircon  free_wifi  \\\n",
              "jenis                                                         \n",
              "Kost Campur    484   484    484      484     484        484   \n",
              "Kost Keluarga   22    22     22       22      22         22   \n",
              "Kost Putra     109   109    109      109     109        109   \n",
              "Kost Putri     257   257    257      257     257        257   \n",
              "\n",
              "               kamar_mandi_dalam  fasilitas_kamar  fasilitas_kost  \n",
              "jenis                                                              \n",
              "Kost Campur                  484              484             484  \n",
              "Kost Keluarga                 22               22              22  \n",
              "Kost Putra                   109              109             109  \n",
              "Kost Putri                   257              257             257  "
            ]
          },
          "execution_count": 80,
          "metadata": {},
          "output_type": "execute_result"
        }
      ],
      "source": [
        "df.groupby('jenis').count()"
      ]
    },
    {
      "cell_type": "markdown",
      "metadata": {},
      "source": [
        "## Visualisasi"
      ]
    },
    {
      "cell_type": "code",
      "execution_count": 81,
      "metadata": {},
      "outputs": [],
      "source": [
        "import seaborn as sns\n",
        "import matplotlib.pyplot as plt"
      ]
    },
    {
      "cell_type": "markdown",
      "metadata": {},
      "source": [
        "### Jenis Kos\n",
        "\n",
        "Visualiasi jumlah kost terhadap jenis kost"
      ]
    },
    {
      "cell_type": "code",
      "execution_count": 82,
      "metadata": {},
      "outputs": [
        {
          "data": {
            "image/png": "[encoded data removed]",
            "text/plain": [
              "<Figure size 1080x504 with 1 Axes>"
            ]
          },
          "metadata": {
            "needs_background": "light"
          },
          "output_type": "display_data"
        }
      ],
      "source": [
        "plt.figure(figsize=(15,7))\n",
        "g = sns.countplot(x=df['jenis'])\n",
        "plt.title('Jenis Kos')\n",
        "for p in g.patches:\n",
        "  g.annotate(f'\\n{p.get_height()}', (p.get_x()+0.4, p.get_height()+5), ha='center', color='black', size=10)"
      ]
    },
    {
      "cell_type": "markdown",
      "metadata": {},
      "source": [
        "### Fasilitas\n",
        "\n",
        "Visualiasi jumlah kost terhadap fasilitas dan jenis kost"
      ]
    },
    {
      "cell_type": "code",
      "execution_count": 83,
      "metadata": {},
      "outputs": [
        {
          "data": {
            "image/png": "[encoded data removed]",
            "text/plain": [
              "<Figure size 1080x504 with 1 Axes>"
            ]
          },
          "metadata": {
            "needs_background": "light"
          },
          "output_type": "display_data"
        },
        {
          "data": {
            "image/png": "[encoded data removed]",
            "text/plain": [
              "<Figure size 1080x504 with 1 Axes>"
            ]
          },
          "metadata": {
            "needs_background": "light"
          },
          "output_type": "display_data"
        },
        {
          "data": {
            "image/png": "[encoded data removed]",
            "text/plain": [
              "<Figure size 1080x504 with 1 Axes>"
            ]
          },
          "metadata": {
            "needs_background": "light"
          },
          "output_type": "display_data"
        }
      ],
      "source": [
        "for i in ['aircon', 'free_wifi', 'kamar_mandi_dalam']:\n",
        "    plt.figure(figsize=(15,7))\n",
        "    g = sns.countplot(data=df, x=i, hue=\"jenis\")\n",
        "    for p in g.patches:\n",
        "        g.annotate(f'\\n{p.get_height()}', (p.get_x()+0.1, p.get_height()+5), ha='center', color='black', size=10)"
      ]
    },
    {
      "cell_type": "markdown",
      "metadata": {},
      "source": [
        "Tidak ada perbedaan distribusi yang signifikan antara jenis kost berdasarkan fasilitasnya. Baik untuk setiap fasilitas, kost camput selalu menjadi urutan pertama, kost putri kedua, kost putra ketiga dan diikuti kost keluarga. Pola ini juga mengikuti distribusi jenis kost secara keseluruhan."
      ]
    },
    {
      "cell_type": "markdown",
      "metadata": {},
      "source": [
        "### Boxplot Harga"
      ]
    },
    {
      "cell_type": "code",
      "execution_count": 84,
      "metadata": {},
      "outputs": [
        {
          "data": {
            "text/html": [
              "<div>\n",
              "<style scoped>\n",
              "    .dataframe tbody tr th:only-of-type {\n",
              "        vertical-align: middle;\n",
              "    }\n",
              "\n",
              "    .dataframe tbody tr th {\n",
              "        vertical-align: top;\n",
              "    }\n",
              "\n",
              "    .dataframe thead th {\n",
              "        text-align: right;\n",
              "    }\n",
              "</style>\n",
              "<table border=\"1\" class=\"dataframe\">\n",
              "  <thead>\n",
              "    <tr style=\"text-align: right;\">\n",
              "      <th></th>\n",
              "      <th>harga</th>\n",
              "    </tr>\n",
              "  </thead>\n",
              "  <tbody>\n",
              "    <tr>\n",
              "      <th>count</th>\n",
              "      <td>8.720000e+02</td>\n",
              "    </tr>\n",
              "    <tr>\n",
              "      <th>mean</th>\n",
              "      <td>1.825345e+06</td>\n",
              "    </tr>\n",
              "    <tr>\n",
              "      <th>std</th>\n",
              "      <td>9.535121e+05</td>\n",
              "    </tr>\n",
              "    <tr>\n",
              "      <th>min</th>\n",
              "      <td>4.000000e+05</td>\n",
              "    </tr>\n",
              "    <tr>\n",
              "      <th>25%</th>\n",
              "      <td>1.000000e+06</td>\n",
              "    </tr>\n",
              "    <tr>\n",
              "      <th>50%</th>\n",
              "      <td>1.650000e+06</td>\n",
              "    </tr>\n",
              "    <tr>\n",
              "      <th>75%</th>\n",
              "      <td>2.300000e+06</td>\n",
              "    </tr>\n",
              "    <tr>\n",
              "      <th>max</th>\n",
              "      <td>5.000000e+06</td>\n",
              "    </tr>\n",
              "  </tbody>\n",
              "</table>\n",
              "</div>"
            ],
            "text/plain": [
              "              harga\n",
              "count  8.720000e+02\n",
              "mean   1.825345e+06\n",
              "std    9.535121e+05\n",
              "min    4.000000e+05\n",
              "25%    1.000000e+06\n",
              "50%    1.650000e+06\n",
              "75%    2.300000e+06\n",
              "max    5.000000e+06"
            ]
          },
          "execution_count": 84,
          "metadata": {},
          "output_type": "execute_result"
        }
      ],
      "source": [
        "df.describe()"
      ]
    },
    {
      "cell_type": "code",
      "execution_count": 85,
      "metadata": {},
      "outputs": [
        {
          "data": {
            "image/png": "[encoded data removed]",
            "text/plain": [
              "<Figure size 1080x504 with 1 Axes>"
            ]
          },
          "metadata": {
            "needs_background": "light"
          },
          "output_type": "display_data"
        }
      ],
      "source": [
        "plt.figure(figsize=(15,7))\n",
        "sns.boxenplot(x=df['harga']);"
      ]
    },
    {
      "cell_type": "markdown",
      "metadata": {},
      "source": [
        "Analisis harga untuk seluruh kost-kostan. Terlihat persebaran terbanyak harga kostan berada pada rentang 1 hingga 2.3 juta."
      ]
    },
    {
      "cell_type": "markdown",
      "metadata": {},
      "source": [
        "## Analisis Harga Terhadap Fasilitas\n",
        "\n",
        "Analisis ini untuk membandingkan dan melihat persebaran harga untuk kost dengan fasilitas lengkap (ac, wifi dan kamar mandi dalam) serta kost dengan fasilitas yang hanya mempunyai fasilitas wifi & ac dan juga kost dengan fasilitas yang hanya wifi & kamar mandi dalam.\n",
        "\n",
        "Kenapa selalu ada wifi dalam tahap analisis? Ini dapat dikatakan subjektif karena dibangun di atas asumsi bahwa free wifi sudah termasuk kebutuhan mendasar dalam memilih kost-kostan. Maka dari itu cakupan analisis selalu menyertakan wifi sebagai fasilitas yang ada."
      ]
    },
    {
      "cell_type": "code",
      "execution_count": 86,
      "metadata": {},
      "outputs": [
        {
          "name": "stdout",
          "output_type": "stream",
          "text": [
            "(512, 10)\n"
          ]
        },
        {
          "data": {
            "text/html": [
              "<div>\n",
              "<style scoped>\n",
              "    .dataframe tbody tr th:only-of-type {\n",
              "        vertical-align: middle;\n",
              "    }\n",
              "\n",
              "    .dataframe tbody tr th {\n",
              "        vertical-align: top;\n",
              "    }\n",
              "\n",
              "    .dataframe thead th {\n",
              "        text-align: right;\n",
              "    }\n",
              "</style>\n",
              "<table border=\"1\" class=\"dataframe\">\n",
              "  <thead>\n",
              "    <tr style=\"text-align: right;\">\n",
              "      <th></th>\n",
              "      <th>url</th>\n",
              "      <th>nama</th>\n",
              "      <th>harga</th>\n",
              "      <th>jenis</th>\n",
              "      <th>address</th>\n",
              "      <th>aircon</th>\n",
              "      <th>free_wifi</th>\n",
              "      <th>kamar_mandi_dalam</th>\n",
              "      <th>fasilitas_kamar</th>\n",
              "      <th>fasilitas_kost</th>\n",
              "    </tr>\n",
              "  </thead>\n",
              "  <tbody>\n",
              "    <tr>\n",
              "      <th>1</th>\n",
              "      <td>https://www.sewakost.com/jakarta/selatan/kost-...</td>\n",
              "      <td>KOST EXECUTIVE JAGAKARSA PASO CILANDAK JAKARTA...</td>\n",
              "      <td>2200000</td>\n",
              "      <td>Kost Putra</td>\n",
              "      <td>Jalan Paso no 6A, Jagakarsa, Cilandak, Jakarta...</td>\n",
              "      <td>Ya</td>\n",
              "      <td>Ya</td>\n",
              "      <td>Ya</td>\n",
              "      <td>['Spring Bed', 'Perabot', 'Free WiFi', 'AC', '...</td>\n",
              "      <td>['Ruang Tamu', 'Ruang Makan', 'Dapur', 'Air Mi...</td>\n",
              "    </tr>\n",
              "    <tr>\n",
              "      <th>3</th>\n",
              "      <td>https://www.sewakost.com/jakarta/selatan/hompy...</td>\n",
              "      <td>Hompy Timur Residence</td>\n",
              "      <td>2700000</td>\n",
              "      <td>Kost Putri</td>\n",
              "      <td>Tebet Timur Dalam 7B no. 11</td>\n",
              "      <td>Ya</td>\n",
              "      <td>Ya</td>\n",
              "      <td>Ya</td>\n",
              "      <td>['Spring Bed', 'Perabot', 'Free WiFi', 'AC', '...</td>\n",
              "      <td>['Dapur', 'Cuci Setrika', 'Pembantu', 'Keamana...</td>\n",
              "    </tr>\n",
              "    <tr>\n",
              "      <th>8</th>\n",
              "      <td>https://www.sewakost.com/jakarta/selatan/kost-...</td>\n",
              "      <td>KOST EKSLUSIF DI JAKARTA SELATAN</td>\n",
              "      <td>850000</td>\n",
              "      <td>Kost Campur</td>\n",
              "      <td>JL. Kapten tendean no.2A (dekat kampus interst...</td>\n",
              "      <td>Ya</td>\n",
              "      <td>Ya</td>\n",
              "      <td>Ya</td>\n",
              "      <td>['Spring Bed', 'Perabot', 'Free WiFi', 'AC', '...</td>\n",
              "      <td>['Dapur', 'Mesin Cuci (Cuci Sendiri)', 'Parkir...</td>\n",
              "    </tr>\n",
              "    <tr>\n",
              "      <th>11</th>\n",
              "      <td>https://www.sewakost.com/jakarta/selatan/kost-...</td>\n",
              "      <td>Kost Premium Termurah Daerah Mampang Jakarta S...</td>\n",
              "      <td>1650000</td>\n",
              "      <td>Kost Campur</td>\n",
              "      <td>Jalan Bank III No 1 Kelurahan Pela Mampang, Ma...</td>\n",
              "      <td>Ya</td>\n",
              "      <td>Ya</td>\n",
              "      <td>Ya</td>\n",
              "      <td>['Spring Bed', 'Perabot', 'Free WiFi', 'AC', '...</td>\n",
              "      <td>['Ruang Tamu', 'Dapur', 'Air Minum', 'Pembantu...</td>\n",
              "    </tr>\n",
              "    <tr>\n",
              "      <th>13</th>\n",
              "      <td>https://www.sewakost.com/jakarta/selatan/kost-...</td>\n",
              "      <td>Kost Rumah Kita 1A</td>\n",
              "      <td>1800000</td>\n",
              "      <td>Kost Campur</td>\n",
              "      <td>Pondok Jaya 3 No 1A, Pela Mampang, Mampang Pra...</td>\n",
              "      <td>Ya</td>\n",
              "      <td>Ya</td>\n",
              "      <td>Ya</td>\n",
              "      <td>['Spring Bed', 'Perabot', 'Free WiFi', 'AC', '...</td>\n",
              "      <td>['Parkir Motor']</td>\n",
              "    </tr>\n",
              "  </tbody>\n",
              "</table>\n",
              "</div>"
            ],
            "text/plain": [
              "                                                  url  \\\n",
              "1   https://www.sewakost.com/jakarta/selatan/kost-...   \n",
              "3   https://www.sewakost.com/jakarta/selatan/hompy...   \n",
              "8   https://www.sewakost.com/jakarta/selatan/kost-...   \n",
              "11  https://www.sewakost.com/jakarta/selatan/kost-...   \n",
              "13  https://www.sewakost.com/jakarta/selatan/kost-...   \n",
              "\n",
              "                                                 nama    harga        jenis  \\\n",
              "1   KOST EXECUTIVE JAGAKARSA PASO CILANDAK JAKARTA...  2200000   Kost Putra   \n",
              "3                               Hompy Timur Residence  2700000   Kost Putri   \n",
              "8                    KOST EKSLUSIF DI JAKARTA SELATAN   850000  Kost Campur   \n",
              "11  Kost Premium Termurah Daerah Mampang Jakarta S...  1650000  Kost Campur   \n",
              "13                                 Kost Rumah Kita 1A  1800000  Kost Campur   \n",
              "\n",
              "                                              address aircon free_wifi  \\\n",
              "1   Jalan Paso no 6A, Jagakarsa, Cilandak, Jakarta...     Ya        Ya   \n",
              "3                         Tebet Timur Dalam 7B no. 11     Ya        Ya   \n",
              "8   JL. Kapten tendean no.2A (dekat kampus interst...     Ya        Ya   \n",
              "11  Jalan Bank III No 1 Kelurahan Pela Mampang, Ma...     Ya        Ya   \n",
              "13  Pondok Jaya 3 No 1A, Pela Mampang, Mampang Pra...     Ya        Ya   \n",
              "\n",
              "   kamar_mandi_dalam                                    fasilitas_kamar  \\\n",
              "1                 Ya  ['Spring Bed', 'Perabot', 'Free WiFi', 'AC', '...   \n",
              "3                 Ya  ['Spring Bed', 'Perabot', 'Free WiFi', 'AC', '...   \n",
              "8                 Ya  ['Spring Bed', 'Perabot', 'Free WiFi', 'AC', '...   \n",
              "11                Ya  ['Spring Bed', 'Perabot', 'Free WiFi', 'AC', '...   \n",
              "13                Ya  ['Spring Bed', 'Perabot', 'Free WiFi', 'AC', '...   \n",
              "\n",
              "                                       fasilitas_kost  \n",
              "1   ['Ruang Tamu', 'Ruang Makan', 'Dapur', 'Air Mi...  \n",
              "3   ['Dapur', 'Cuci Setrika', 'Pembantu', 'Keamana...  \n",
              "8   ['Dapur', 'Mesin Cuci (Cuci Sendiri)', 'Parkir...  \n",
              "11  ['Ruang Tamu', 'Dapur', 'Air Minum', 'Pembantu...  \n",
              "13                                   ['Parkir Motor']  "
            ]
          },
          "execution_count": 86,
          "metadata": {},
          "output_type": "execute_result"
        }
      ],
      "source": [
        "wifi = df['free_wifi'] == 'Ya'\n",
        "ac = df['aircon'] == 'Ya'\n",
        "no_ac = df['aircon'] == 'Tidak'\n",
        "kamar_mandi = df['kamar_mandi_dalam'] == 'Ya'\n",
        "no_kamar_mandi = df['kamar_mandi_dalam'] == 'Tidak'\n",
        "\n",
        "lengkap = df[ac & wifi & kamar_mandi]\n",
        "wifi_kamar_mandi = df[wifi & kamar_mandi & no_ac]\n",
        "wifi_ac = df[ac & wifi & no_kamar_mandi]\n",
        "# # Alternatif menggunakan .loc\n",
        "# lengkap = df.loc[(df[['aircon', 'free_wifi','kamar_mandi_dalam']]=='Ya').all(axis=1)]\n",
        "\n",
        "print(lengkap.shape)\n",
        "lengkap.head()"
      ]
    },
    {
      "cell_type": "markdown",
      "metadata": {},
      "source": [
        "### Fasilitas Lengkap"
      ]
    },
    {
      "cell_type": "code",
      "execution_count": 87,
      "metadata": {},
      "outputs": [
        {
          "data": {
            "text/html": [
              "<div>\n",
              "<style scoped>\n",
              "    .dataframe tbody tr th:only-of-type {\n",
              "        vertical-align: middle;\n",
              "    }\n",
              "\n",
              "    .dataframe tbody tr th {\n",
              "        vertical-align: top;\n",
              "    }\n",
              "\n",
              "    .dataframe thead th {\n",
              "        text-align: right;\n",
              "    }\n",
              "</style>\n",
              "<table border=\"1\" class=\"dataframe\">\n",
              "  <thead>\n",
              "    <tr style=\"text-align: right;\">\n",
              "      <th></th>\n",
              "      <th>harga</th>\n",
              "    </tr>\n",
              "  </thead>\n",
              "  <tbody>\n",
              "    <tr>\n",
              "      <th>count</th>\n",
              "      <td>5.120000e+02</td>\n",
              "    </tr>\n",
              "    <tr>\n",
              "      <th>mean</th>\n",
              "      <td>2.269721e+06</td>\n",
              "    </tr>\n",
              "    <tr>\n",
              "      <th>std</th>\n",
              "      <td>8.943553e+05</td>\n",
              "    </tr>\n",
              "    <tr>\n",
              "      <th>min</th>\n",
              "      <td>8.000000e+05</td>\n",
              "    </tr>\n",
              "    <tr>\n",
              "      <th>25%</th>\n",
              "      <td>1.600000e+06</td>\n",
              "    </tr>\n",
              "    <tr>\n",
              "      <th>50%</th>\n",
              "      <td>2.000000e+06</td>\n",
              "    </tr>\n",
              "    <tr>\n",
              "      <th>75%</th>\n",
              "      <td>2.600000e+06</td>\n",
              "    </tr>\n",
              "    <tr>\n",
              "      <th>max</th>\n",
              "      <td>5.000000e+06</td>\n",
              "    </tr>\n",
              "  </tbody>\n",
              "</table>\n",
              "</div>"
            ],
            "text/plain": [
              "              harga\n",
              "count  5.120000e+02\n",
              "mean   2.269721e+06\n",
              "std    8.943553e+05\n",
              "min    8.000000e+05\n",
              "25%    1.600000e+06\n",
              "50%    2.000000e+06\n",
              "75%    2.600000e+06\n",
              "max    5.000000e+06"
            ]
          },
          "execution_count": 87,
          "metadata": {},
          "output_type": "execute_result"
        }
      ],
      "source": [
        "lengkap.describe()"
      ]
    },
    {
      "cell_type": "code",
      "execution_count": 88,
      "metadata": {},
      "outputs": [
        {
          "data": {
            "image/png": "[encoded data removed]",
            "text/plain": [
              "<Figure size 1080x504 with 1 Axes>"
            ]
          },
          "metadata": {
            "needs_background": "light"
          },
          "output_type": "display_data"
        }
      ],
      "source": [
        "plt.figure(figsize=(15,7))\n",
        "sns.boxenplot(x=lengkap['harga']);"
      ]
    },
    {
      "cell_type": "markdown",
      "metadata": {},
      "source": [
        "Dari hasil analisis kost lengkap di atas, diketahui bahwa jumlah kost dengan fasilitas lengkap adalah 512 atau sekitar 58% dari total observasi data yang ada. 50% persebaran data berada pada rentang harga 1,6 juta hingga 2,6 juta rupiah.\n",
        "\n",
        "Adapun rata-rata harga untuk kost-an lengkap yaitu 2,26 juta rupiah, ini lebih tinggi kurang lebih 400 ribu dibanding rata-rata harga kost pada semua observasi data, yaitu 1,82 juta. Sementara itu, kost lengkap mempunyai median sebesar 2 juta rupiah, lebih besar 350 ribu dari median seluruh observasi data yaitu 1,65 juta rupiah."
      ]
    },
    {
      "cell_type": "markdown",
      "metadata": {},
      "source": [
        "### Fasilitas Wifi & Kamar Mandi"
      ]
    },
    {
      "cell_type": "code",
      "execution_count": 120,
      "metadata": {},
      "outputs": [
        {
          "name": "stdout",
          "output_type": "stream",
          "text": [
            "35\n"
          ]
        },
        {
          "data": {
            "text/html": [
              "<div>\n",
              "<style scoped>\n",
              "    .dataframe tbody tr th:only-of-type {\n",
              "        vertical-align: middle;\n",
              "    }\n",
              "\n",
              "    .dataframe tbody tr th {\n",
              "        vertical-align: top;\n",
              "    }\n",
              "\n",
              "    .dataframe thead th {\n",
              "        text-align: right;\n",
              "    }\n",
              "</style>\n",
              "<table border=\"1\" class=\"dataframe\">\n",
              "  <thead>\n",
              "    <tr style=\"text-align: right;\">\n",
              "      <th></th>\n",
              "      <th>harga</th>\n",
              "    </tr>\n",
              "  </thead>\n",
              "  <tbody>\n",
              "    <tr>\n",
              "      <th>count</th>\n",
              "      <td>3.500000e+01</td>\n",
              "    </tr>\n",
              "    <tr>\n",
              "      <th>mean</th>\n",
              "      <td>1.054286e+06</td>\n",
              "    </tr>\n",
              "    <tr>\n",
              "      <th>std</th>\n",
              "      <td>2.682655e+05</td>\n",
              "    </tr>\n",
              "    <tr>\n",
              "      <th>min</th>\n",
              "      <td>5.000000e+05</td>\n",
              "    </tr>\n",
              "    <tr>\n",
              "      <th>25%</th>\n",
              "      <td>9.000000e+05</td>\n",
              "    </tr>\n",
              "    <tr>\n",
              "      <th>50%</th>\n",
              "      <td>1.000000e+06</td>\n",
              "    </tr>\n",
              "    <tr>\n",
              "      <th>75%</th>\n",
              "      <td>1.200000e+06</td>\n",
              "    </tr>\n",
              "    <tr>\n",
              "      <th>max</th>\n",
              "      <td>1.700000e+06</td>\n",
              "    </tr>\n",
              "  </tbody>\n",
              "</table>\n",
              "</div>"
            ],
            "text/plain": [
              "              harga\n",
              "count  3.500000e+01\n",
              "mean   1.054286e+06\n",
              "std    2.682655e+05\n",
              "min    5.000000e+05\n",
              "25%    9.000000e+05\n",
              "50%    1.000000e+06\n",
              "75%    1.200000e+06\n",
              "max    1.700000e+06"
            ]
          },
          "execution_count": 120,
          "metadata": {},
          "output_type": "execute_result"
        }
      ],
      "source": [
        "print(wifi_kamar_mandi.shape[0])\n",
        "wifi_kamar_mandi.describe()"
      ]
    },
    {
      "cell_type": "code",
      "execution_count": 105,
      "metadata": {},
      "outputs": [
        {
          "data": {
            "image/png": "[encoded data removed]",
            "text/plain": [
              "<Figure size 1080x504 with 1 Axes>"
            ]
          },
          "metadata": {
            "needs_background": "light"
          },
          "output_type": "display_data"
        }
      ],
      "source": [
        "plt.figure(figsize=(15,7))\n",
        "sns.boxenplot(x=wifi_kamar_mandi['harga']);"
      ]
    },
    {
      "cell_type": "markdown",
      "metadata": {},
      "source": [
        "Kost dengan fasilitas wifi & kamar mandi dalam berjumlah 35. 50% dari data tersebut tersebar dari rentang harga 900rb hingga 1,2 juta dengan median 1 juta rupiah."
      ]
    },
    {
      "cell_type": "markdown",
      "metadata": {},
      "source": [
        "### Fasilitas Wifi & AC"
      ]
    },
    {
      "cell_type": "code",
      "execution_count": 121,
      "metadata": {},
      "outputs": [
        {
          "name": "stdout",
          "output_type": "stream",
          "text": [
            "46\n"
          ]
        },
        {
          "data": {
            "text/html": [
              "<div>\n",
              "<style scoped>\n",
              "    .dataframe tbody tr th:only-of-type {\n",
              "        vertical-align: middle;\n",
              "    }\n",
              "\n",
              "    .dataframe tbody tr th {\n",
              "        vertical-align: top;\n",
              "    }\n",
              "\n",
              "    .dataframe thead th {\n",
              "        text-align: right;\n",
              "    }\n",
              "</style>\n",
              "<table border=\"1\" class=\"dataframe\">\n",
              "  <thead>\n",
              "    <tr style=\"text-align: right;\">\n",
              "      <th></th>\n",
              "      <th>harga</th>\n",
              "    </tr>\n",
              "  </thead>\n",
              "  <tbody>\n",
              "    <tr>\n",
              "      <th>count</th>\n",
              "      <td>4.600000e+01</td>\n",
              "    </tr>\n",
              "    <tr>\n",
              "      <th>mean</th>\n",
              "      <td>1.509783e+06</td>\n",
              "    </tr>\n",
              "    <tr>\n",
              "      <th>std</th>\n",
              "      <td>4.728894e+05</td>\n",
              "    </tr>\n",
              "    <tr>\n",
              "      <th>min</th>\n",
              "      <td>6.000000e+05</td>\n",
              "    </tr>\n",
              "    <tr>\n",
              "      <th>25%</th>\n",
              "      <td>1.200000e+06</td>\n",
              "    </tr>\n",
              "    <tr>\n",
              "      <th>50%</th>\n",
              "      <td>1.500000e+06</td>\n",
              "    </tr>\n",
              "    <tr>\n",
              "      <th>75%</th>\n",
              "      <td>1.800000e+06</td>\n",
              "    </tr>\n",
              "    <tr>\n",
              "      <th>max</th>\n",
              "      <td>3.000000e+06</td>\n",
              "    </tr>\n",
              "  </tbody>\n",
              "</table>\n",
              "</div>"
            ],
            "text/plain": [
              "              harga\n",
              "count  4.600000e+01\n",
              "mean   1.509783e+06\n",
              "std    4.728894e+05\n",
              "min    6.000000e+05\n",
              "25%    1.200000e+06\n",
              "50%    1.500000e+06\n",
              "75%    1.800000e+06\n",
              "max    3.000000e+06"
            ]
          },
          "execution_count": 121,
          "metadata": {},
          "output_type": "execute_result"
        }
      ],
      "source": [
        "print(wifi_ac.shape[0])\n",
        "wifi_ac.describe()"
      ]
    },
    {
      "cell_type": "code",
      "execution_count": 92,
      "metadata": {},
      "outputs": [
        {
          "data": {
            "image/png": "[encoded data removed]",
            "text/plain": [
              "<Figure size 1080x504 with 1 Axes>"
            ]
          },
          "metadata": {
            "needs_background": "light"
          },
          "output_type": "display_data"
        }
      ],
      "source": [
        "plt.figure(figsize=(15,7))\n",
        "sns.boxenplot(x=wifi_ac['harga']);"
      ]
    },
    {
      "cell_type": "markdown",
      "metadata": {},
      "source": [
        "Untuk kost dengan fasilitas wifi & ac berjumlah 46, ini lebih banyak daripada kost dengan wifi & kamar mandi dalam. Adapun 50% persebaran datanya tersebar mulai dari rentang harga 1,2 juta hingga 1,8 juta rupiah dengan median sebesar 1,5 juta.\n",
        "\n",
        "**Insight**\n",
        "1. Perbedaan median antara kost dengan fasilitas yang hanya kamar mandi dalam dengan ac adalah 500rb. Begitupun untuk median kost ac dengan fasilitas lengkap bedanya adalah 500ribu. Sehingga jika diurutkan berdasarkan median, maka: kamar mandi dalam < ac < lengkap\n",
        "2. Jika mencari kost dengan fasilitas kost wifi & ac dengan budget sebesar median, yaitu 1,5 jtua rupiah, maka sebaiknya sekalian mencari kost dengan fasilitias lengkap karena 25% kost fasilitas lengkap memiliki harga di bawah 1,6 juta rupiah."
      ]
    },
    {
      "cell_type": "markdown",
      "metadata": {},
      "source": [
        "### Analisis Lanjutan Kost Lengkap"
      ]
    },
    {
      "cell_type": "code",
      "execution_count": 116,
      "metadata": {},
      "outputs": [
        {
          "name": "stdout",
          "output_type": "stream",
          "text": [
            "Jumlah kos lengkap dengan harga di bawah 100000 adalah = 0\n",
            "Jumlah kos lengkap dengan harga di atas 4100000 adalah = 25\n"
          ]
        }
      ],
      "source": [
        "Q1 = lengkap.harga.quantile(0.25)\n",
        "Q3 = lengkap.harga.quantile(0.75)\n",
        "IQR = Q3-Q1\n",
        "\n",
        "outlier_bawah = lengkap[lengkap['harga'] < (Q1 - 1.5 * IQR)]\n",
        "outlier_atas = lengkap[lengkap['harga'] > (Q3 + 1.5 * IQR)]\n",
        "\n",
        "print(\"Jumlah kos lengkap dengan harga di bawah %i adalah = %i\" % ((Q1 - 1.5 * IQR), outlier_bawah.shape[0]))\n",
        "print(\"Jumlah kos lengkap dengan harga di atas %i adalah = %i\" % ((Q3 + 1.5 * IQR), outlier_atas.shape[0]))"
      ]
    },
    {
      "cell_type": "markdown",
      "metadata": {},
      "source": [
        "Karena tidak adanya kost lengkap outlier bawah (harga 100rb rupiah, terlalu rendah untuk harga kost), maka akan dilakukan analisis lanjutan untuk kost lengkap di bawah harga median kost kamar mandi dalam, yaitu 1 juta rupiah."
      ]
    },
    {
      "cell_type": "code",
      "execution_count": 119,
      "metadata": {},
      "outputs": [
        {
          "name": "stdout",
          "output_type": "stream",
          "text": [
            "Jumlah kost lengkap dengan harga di bawah 1 juta = 10\n",
            "Daftar kost underpriced:\n"
          ]
        },
        {
          "data": {
            "text/html": [
              "<div>\n",
              "<style scoped>\n",
              "    .dataframe tbody tr th:only-of-type {\n",
              "        vertical-align: middle;\n",
              "    }\n",
              "\n",
              "    .dataframe tbody tr th {\n",
              "        vertical-align: top;\n",
              "    }\n",
              "\n",
              "    .dataframe thead th {\n",
              "        text-align: right;\n",
              "    }\n",
              "</style>\n",
              "<table border=\"1\" class=\"dataframe\">\n",
              "  <thead>\n",
              "    <tr style=\"text-align: right;\">\n",
              "      <th></th>\n",
              "      <th>url</th>\n",
              "      <th>nama</th>\n",
              "      <th>harga</th>\n",
              "      <th>jenis</th>\n",
              "      <th>address</th>\n",
              "      <th>aircon</th>\n",
              "      <th>free_wifi</th>\n",
              "      <th>kamar_mandi_dalam</th>\n",
              "      <th>fasilitas_kamar</th>\n",
              "      <th>fasilitas_kost</th>\n",
              "    </tr>\n",
              "  </thead>\n",
              "  <tbody>\n",
              "    <tr>\n",
              "      <th>8</th>\n",
              "      <td>https://www.sewakost.com/jakarta/selatan/kost-...</td>\n",
              "      <td>KOST EKSLUSIF DI JAKARTA SELATAN</td>\n",
              "      <td>850000</td>\n",
              "      <td>Kost Campur</td>\n",
              "      <td>JL. Kapten tendean no.2A (dekat kampus interst...</td>\n",
              "      <td>Ya</td>\n",
              "      <td>Ya</td>\n",
              "      <td>Ya</td>\n",
              "      <td>['Spring Bed', 'Perabot', 'Free WiFi', 'AC', '...</td>\n",
              "      <td>['Dapur', 'Mesin Cuci (Cuci Sendiri)', 'Parkir...</td>\n",
              "    </tr>\n",
              "    <tr>\n",
              "      <th>37</th>\n",
              "      <td>https://www.sewakost.com/jakarta/selatan/kost-...</td>\n",
              "      <td>KOST LENTENG AGUNG  \"Khusus Wanita\"</td>\n",
              "      <td>800000</td>\n",
              "      <td>Kost Putri</td>\n",
              "      <td>Jl.Guru No.21 Rt.006/ 002, Lenteng Agung Jakar...</td>\n",
              "      <td>Ya</td>\n",
              "      <td>Ya</td>\n",
              "      <td>Ya</td>\n",
              "      <td>['Spring Bed', 'Free WiFi', 'AC', 'Kamar Mandi...</td>\n",
              "      <td>['Ruang Makan', 'Dapur', 'Keamanan', 'Parkir M...</td>\n",
              "    </tr>\n",
              "    <tr>\n",
              "      <th>83</th>\n",
              "      <td>https://www.sewakost.com/jakarta/selatan/terim...</td>\n",
              "      <td>Terima Kost di Lokasi strategis</td>\n",
              "      <td>900000</td>\n",
              "      <td>Kost Campur</td>\n",
              "      <td>Jl Rambutan, Kel Manggarai Selatan, belakang M...</td>\n",
              "      <td>Ya</td>\n",
              "      <td>Ya</td>\n",
              "      <td>Ya</td>\n",
              "      <td>['AC', 'Kamar Mandi Dalam']</td>\n",
              "      <td>['Dapur', 'Parkir Motor']</td>\n",
              "    </tr>\n",
              "    <tr>\n",
              "      <th>185</th>\n",
              "      <td>https://www.sewakost.com/jakarta/selatan/kost-...</td>\n",
              "      <td>Kost Griya Baiti Jannati</td>\n",
              "      <td>900000</td>\n",
              "      <td>Kost Campur</td>\n",
              "      <td>Jl. Kalibata Utara V Rt. 008 Rw. 02 No. 16</td>\n",
              "      <td>Ya</td>\n",
              "      <td>Ya</td>\n",
              "      <td>Ya</td>\n",
              "      <td>['Spring Bed', 'Perabot', 'Free WiFi', 'AC', '...</td>\n",
              "      <td>['Ruang Tamu', 'Ruang Makan', 'Dapur', 'Keaman...</td>\n",
              "    </tr>\n",
              "    <tr>\n",
              "      <th>201</th>\n",
              "      <td>https://www.sewakost.com/jakarta/selatan/kost-...</td>\n",
              "      <td>KOST EKSKLUSIF DI JAKARTA SELATAN</td>\n",
              "      <td>800000</td>\n",
              "      <td>Kost Campur</td>\n",
              "      <td>Jl. Kapten Tendean no.2A Pela Mampang, Jakarta...</td>\n",
              "      <td>Ya</td>\n",
              "      <td>Ya</td>\n",
              "      <td>Ya</td>\n",
              "      <td>['Spring Bed', 'Free WiFi', 'AC', 'TV', 'Kulka...</td>\n",
              "      <td>['Dapur', 'Mesin Cuci (Cuci Sendiri)', 'Parkir...</td>\n",
              "    </tr>\n",
              "    <tr>\n",
              "      <th>240</th>\n",
              "      <td>https://www.sewakost.com/jakarta/selatan/kost-...</td>\n",
              "      <td>Kost jaksel ac dan non ac free listrik air par...</td>\n",
              "      <td>900000</td>\n",
              "      <td>Kost Keluarga</td>\n",
              "      <td>Jagakarsa ciganjur</td>\n",
              "      <td>Ya</td>\n",
              "      <td>Ya</td>\n",
              "      <td>Ya</td>\n",
              "      <td>['Spring Bed', 'Perabot', 'Free WiFi', 'AC', '...</td>\n",
              "      <td>['Ruang Tamu', 'Televisi', 'Dapur', 'Mesin Cuc...</td>\n",
              "    </tr>\n",
              "    <tr>\n",
              "      <th>296</th>\n",
              "      <td>https://www.sewakost.com/jakarta/selatan/kost-...</td>\n",
              "      <td>KOST PUTRI</td>\n",
              "      <td>850000</td>\n",
              "      <td>Kost Putri</td>\n",
              "      <td>Jl. Kebagusan 1 Gang Asem No 111, RT/RW 07/07</td>\n",
              "      <td>Ya</td>\n",
              "      <td>Ya</td>\n",
              "      <td>Ya</td>\n",
              "      <td>['Perabot', 'Free WiFi', 'AC', 'Kamar Mandi Da...</td>\n",
              "      <td>['Parkir Motor']</td>\n",
              "    </tr>\n",
              "    <tr>\n",
              "      <th>503</th>\n",
              "      <td>https://www.sewakost.com/jakarta/selatan/kost-...</td>\n",
              "      <td>KOST GRIYA BAITI JANNATI</td>\n",
              "      <td>900000</td>\n",
              "      <td>Kost Campur</td>\n",
              "      <td>JL. KALIBATA UTARA V RT.008/02 NO. 16 PANCORAN...</td>\n",
              "      <td>Ya</td>\n",
              "      <td>Ya</td>\n",
              "      <td>Ya</td>\n",
              "      <td>['Spring Bed', 'Perabot', 'Free WiFi', 'Kamar ...</td>\n",
              "      <td>['Ruang Tamu', 'Ruang Makan', 'Dapur', 'Keaman...</td>\n",
              "    </tr>\n",
              "    <tr>\n",
              "      <th>506</th>\n",
              "      <td>https://www.sewakost.com/jakarta/selatan/d-quo...</td>\n",
              "      <td>d\"orange@jurangmangu</td>\n",
              "      <td>800000</td>\n",
              "      <td>Kost Campur</td>\n",
              "      <td>jl.Kalimongso RT02/RW01,jurangmangu tangsel</td>\n",
              "      <td>Ya</td>\n",
              "      <td>Ya</td>\n",
              "      <td>Ya</td>\n",
              "      <td>['AC', 'TV', 'Kamar Mandi Dalam']</td>\n",
              "      <td>['Parkir Motor']</td>\n",
              "    </tr>\n",
              "    <tr>\n",
              "      <th>876</th>\n",
              "      <td>https://www.sewakost.com/jakarta/selatan/kos-h...</td>\n",
              "      <td>Kos Hijau Cilandak</td>\n",
              "      <td>850000</td>\n",
              "      <td>Kost Putri</td>\n",
              "      <td>Jl kramat Gang Musholla no 55 rt 014 rw 01 Cil...</td>\n",
              "      <td>Ya</td>\n",
              "      <td>Ya</td>\n",
              "      <td>Ya</td>\n",
              "      <td>[]</td>\n",
              "      <td>[]</td>\n",
              "    </tr>\n",
              "  </tbody>\n",
              "</table>\n",
              "</div>"
            ],
            "text/plain": [
              "                                                   url  \\\n",
              "8    https://www.sewakost.com/jakarta/selatan/kost-...   \n",
              "37   https://www.sewakost.com/jakarta/selatan/kost-...   \n",
              "83   https://www.sewakost.com/jakarta/selatan/terim...   \n",
              "185  https://www.sewakost.com/jakarta/selatan/kost-...   \n",
              "201  https://www.sewakost.com/jakarta/selatan/kost-...   \n",
              "240  https://www.sewakost.com/jakarta/selatan/kost-...   \n",
              "296  https://www.sewakost.com/jakarta/selatan/kost-...   \n",
              "503  https://www.sewakost.com/jakarta/selatan/kost-...   \n",
              "506  https://www.sewakost.com/jakarta/selatan/d-quo...   \n",
              "876  https://www.sewakost.com/jakarta/selatan/kos-h...   \n",
              "\n",
              "                                                  nama   harga          jenis  \\\n",
              "8                     KOST EKSLUSIF DI JAKARTA SELATAN  850000    Kost Campur   \n",
              "37                 KOST LENTENG AGUNG  \"Khusus Wanita\"  800000     Kost Putri   \n",
              "83                     Terima Kost di Lokasi strategis  900000    Kost Campur   \n",
              "185                           Kost Griya Baiti Jannati  900000    Kost Campur   \n",
              "201                  KOST EKSKLUSIF DI JAKARTA SELATAN  800000    Kost Campur   \n",
              "240  Kost jaksel ac dan non ac free listrik air par...  900000  Kost Keluarga   \n",
              "296                                         KOST PUTRI  850000     Kost Putri   \n",
              "503                           KOST GRIYA BAITI JANNATI  900000    Kost Campur   \n",
              "506                               d\"orange@jurangmangu  800000    Kost Campur   \n",
              "876                                 Kos Hijau Cilandak  850000     Kost Putri   \n",
              "\n",
              "                                               address aircon free_wifi  \\\n",
              "8    JL. Kapten tendean no.2A (dekat kampus interst...     Ya        Ya   \n",
              "37   Jl.Guru No.21 Rt.006/ 002, Lenteng Agung Jakar...     Ya        Ya   \n",
              "83   Jl Rambutan, Kel Manggarai Selatan, belakang M...     Ya        Ya   \n",
              "185         Jl. Kalibata Utara V Rt. 008 Rw. 02 No. 16     Ya        Ya   \n",
              "201  Jl. Kapten Tendean no.2A Pela Mampang, Jakarta...     Ya        Ya   \n",
              "240                                 Jagakarsa ciganjur     Ya        Ya   \n",
              "296      Jl. Kebagusan 1 Gang Asem No 111, RT/RW 07/07     Ya        Ya   \n",
              "503  JL. KALIBATA UTARA V RT.008/02 NO. 16 PANCORAN...     Ya        Ya   \n",
              "506        jl.Kalimongso RT02/RW01,jurangmangu tangsel     Ya        Ya   \n",
              "876  Jl kramat Gang Musholla no 55 rt 014 rw 01 Cil...     Ya        Ya   \n",
              "\n",
              "    kamar_mandi_dalam                                    fasilitas_kamar  \\\n",
              "8                  Ya  ['Spring Bed', 'Perabot', 'Free WiFi', 'AC', '...   \n",
              "37                 Ya  ['Spring Bed', 'Free WiFi', 'AC', 'Kamar Mandi...   \n",
              "83                 Ya                        ['AC', 'Kamar Mandi Dalam']   \n",
              "185                Ya  ['Spring Bed', 'Perabot', 'Free WiFi', 'AC', '...   \n",
              "201                Ya  ['Spring Bed', 'Free WiFi', 'AC', 'TV', 'Kulka...   \n",
              "240                Ya  ['Spring Bed', 'Perabot', 'Free WiFi', 'AC', '...   \n",
              "296                Ya  ['Perabot', 'Free WiFi', 'AC', 'Kamar Mandi Da...   \n",
              "503                Ya  ['Spring Bed', 'Perabot', 'Free WiFi', 'Kamar ...   \n",
              "506                Ya                  ['AC', 'TV', 'Kamar Mandi Dalam']   \n",
              "876                Ya                                                 []   \n",
              "\n",
              "                                        fasilitas_kost  \n",
              "8    ['Dapur', 'Mesin Cuci (Cuci Sendiri)', 'Parkir...  \n",
              "37   ['Ruang Makan', 'Dapur', 'Keamanan', 'Parkir M...  \n",
              "83                           ['Dapur', 'Parkir Motor']  \n",
              "185  ['Ruang Tamu', 'Ruang Makan', 'Dapur', 'Keaman...  \n",
              "201  ['Dapur', 'Mesin Cuci (Cuci Sendiri)', 'Parkir...  \n",
              "240  ['Ruang Tamu', 'Televisi', 'Dapur', 'Mesin Cuc...  \n",
              "296                                   ['Parkir Motor']  \n",
              "503  ['Ruang Tamu', 'Ruang Makan', 'Dapur', 'Keaman...  \n",
              "506                                   ['Parkir Motor']  \n",
              "876                                                 []  "
            ]
          },
          "execution_count": 119,
          "metadata": {},
          "output_type": "execute_result"
        }
      ],
      "source": [
        "extreme_underprice = lengkap['harga'] < 1000000\n",
        "underpriced = lengkap[extreme_underprice]\n",
        "\n",
        "print(\"Jumlah kost lengkap dengan harga di bawah 1 juta = %i\\nDaftar kost underpriced:\" % underpriced.shape[0])\n",
        "underpriced"
      ]
    },
    {
      "cell_type": "markdown",
      "metadata": {},
      "source": [
        "Terdapat 10 kost lengkap underpriced dengan harga sebanding dengan median kost fasilitas kamar mandi dalam.\n",
        "\n",
        "**Insight:**\n",
        "\n",
        "Jika ingin mencari kost dengan budget 1 juta, kemungkinan akan mendapatkan kost dengan fasilitas kamar mandi dalam, namun dapat juga mencari kost lengkap dengan harga underpriced ini."
      ]
    },
    {
      "cell_type": "markdown",
      "metadata": {},
      "source": [
        "# Kesimpulan\n",
        "\n",
        "Pada notebook ini, telah berhasil dilakukan scraping data kost di Jakarta Selatan bersumber dari sewakost.com. Analisis yang dilakukan antara lain melihat persebaran jenis kost-an, dimana kost campur menjadi jenis kost dominan serta kost dengan fasilitas lengkap juga dominan dibandingkan dengan kost dengan fasilitas yang kurang lengkap. Selain itu dilakukan juga analisis harga terhadap fasilitas kost untuk mengetahui persebaran data dan harga kost berdasarkan fasilitasnya.\n",
        "\n",
        "Adapun hal yang dapat diimprove kedepannya:\n",
        "1. Meningkatkan jumlah data yang discraping, berhubung notebook ini hanya scraping 40 dari 89 total halaman kost di Jakarta Selatan.\n",
        "2. Analisis untuk kost tanpa fasilitas ac, kamar mandi dalam dan free wifi\n",
        "3. Analisis kost berdasarkan fasilitas kamar dan fasilitas bersama"
      ]
    }
  ],
  "metadata": {
    "colab": {
      "collapsed_sections": [],
      "provenance": []
    },
    "kernelspec": {
      "display_name": "Python 3.8.13 ('flaskui')",
      "language": "python",
      "name": "python3"
    },
    "language_info": {
      "codemirror_mode": {
        "name": "ipython",
        "version": 3
      },
      "file_extension": ".py",
      "mimetype": "text/x-python",
      "name": "python",
      "nbconvert_exporter": "python",
      "pygments_lexer": "ipython3",
      "version": "3.8.13"
    },
    "vscode": {
      "interpreter": {
        "hash": "8468a945814aeffd535e1d3fa22ffa25ae2a363af3badfa537b6a03c67f45312"
      }
    }
  },
  "nbformat": 4,
  "nbformat_minor": 0
}
