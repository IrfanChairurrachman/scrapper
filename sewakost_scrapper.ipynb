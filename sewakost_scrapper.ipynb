{
  "nbformat": 4,
  "nbformat_minor": 0,
  "metadata": {
    "colab": {
      "provenance": [],
      "collapsed_sections": []
    },
    "kernelspec": {
      "name": "python3",
      "display_name": "Python 3"
    },
    "language_info": {
      "name": "python"
    }
  },
  "cells": [
    {
      "cell_type": "code",
      "source": [
        "import requests\n",
        "import pandas as pd\n",
        "from bs4 import BeautifulSoup\n",
        "from tqdm import tqdm"
      ],
      "metadata": {
        "id": "9nKbqz4Zvb_0"
      },
      "execution_count": 45,
      "outputs": []
    },
    {
      "cell_type": "code",
      "source": [
        "url_query = \"https://www.sewakost.com/jakarta/selatan/\"\n",
        "req = requests.get(url_query, verify=False)\n",
        "soup = BeautifulSoup(req.content, \"html.parser\")\n",
        "str(soup)"
      ],
      "metadata": {
        "id": "9G3A_8LpQruY",
        "colab": {
          "base_uri": "https://localhost:8080/",
          "height": 194
        },
        "outputId": "65107e71-377e-4949-abad-ea39f65ef456"
      },
      "execution_count": 4,
      "outputs": [
        {
          "output_type": "stream",
          "name": "stderr",
          "text": [
            "/usr/local/lib/python3.7/dist-packages/urllib3/connectionpool.py:847: InsecureRequestWarning: Unverified HTTPS request is being made. Adding certificate verification is strongly advised. See: https://urllib3.readthedocs.io/en/latest/advanced-usage.html#ssl-warnings\n",
            "  InsecureRequestWarning)\n"
          ]
        },
        {
          "output_type": "execute_result",
          "data": {
            "text/plain": [
              "'<!DOCTYPE html>\\n\\n<html lang=\"id\" xmlns=\"http://www.w3.org/1999/xhtml\">\\n<head>\\n<title>Kost Jakarta Selatan Murah dan Bebas - Sewa Kost Jakarta</title>\\n<meta content=\"IE=edge\" http-equiv=\"X-UA-Compatible\"/>\\n<meta content=\"Flynax Classifieds Software\" name=\"generator\"/>\\n<meta charset=\"utf-8\"/>\\n<meta content=\"on\" http-equiv=\"x-dns-prefetch-control\"/>\\n<meta content=\"width=device-width, user-scalable=no, initial-scale=1, maximum-scale=1\" name=\"viewport\"/>\\n<meta content=\"Kost murah di Jakarta Selatan - Sewa kost di Jakarta Selatan dengan fasilitas yang lengkap dan lokasi strategis dekat kampus dan perkantoran.\" name=\"description\"/>\\n<meta content=\"kost jakarta selatan, kost murah jakarta selatan, kosan jakarta selatan, kost bebas jakarta selatan\" name=\"Keywords\"/>\\n<link href=\"https://www.sewakost.com/templates/newsewakost/css/bootstrap.css\" rel=\"stylesheet\"/>\\n<link href=\"https://www.sewakost.com/templates/newsewakost/css/light.css\" media=\"(prefers-color-scheme: no-preference), (prefers-color-scheme: light)\" rel=\"stylesheet\"/>\\n<link href=\"https://www.sewakost.com/templates/newsewakost/css/dark.css\" media=\"(prefers-color-scheme: dark)\" rel=\"stylesheet\"/>\\n<link href=\"https://www.sewakost.com/templates/newsewakost/css/style.css\" rel=\"stylesheet\"/>\\n<link href=\"https://www.sewakost.com/templates/newsewakost/img/favicon.ico\" rel=\"shortcut icon\" type=\"image/x-icon\"/>\\n<link href=\"https://www.sewakost.com/jakarta/selatan/index2.html\" rel=\"next\"/>\\n<!--[if lte IE 10]>\\n<meta http-equiv=\"refresh\" content=\"0; url=https://www.sewakost.com/templates/newsewakost/browser-upgrade.htx\" />\\n<style>body { display: none!important; }</style>\\n<![endif]-->\\n<script src=\"https://www.sewakost.com/libs/jquery/jquery.js\"></script>\\n<script src=\"https://www.sewakost.com/libs/javascript/system.lib.js\"></script>\\n<script src=\"https://www.sewakost.com/libs/jquery/jquery.ui.js\"></script>\\n<script src=\"https://www.sewakost.com/libs/jquery/datePicker/i18n/ui.datepicker-id.js\"></script>\\n<!-- Twitter Card data -->\\n<meta content=\"summary\" name=\"twitter:card\"/>\\n<meta content=\"Kost Jakarta Selatan Murah dan Bebas - Sewa Kost Jakarta\" name=\"twitter:title\"/>\\n<meta content=\"Kost murah di Jakarta Selatan - Sewa kost di Jakarta Selatan dengan fasilitas yang lengkap dan lokasi strategis dekat kampus dan perkantoran.\" name=\"twitter:description\"/>\\n<!-- Open Graph data -->\\n<meta content=\"Kost Jakarta Selatan Murah dan Bebas - Sewa Kost Jakarta\" property=\"og:title\">\\n<meta content=\"website\" property=\"og:type\">\\n<meta content=\"Kost murah di Jakarta Selatan - Sewa kost di Jakarta Selatan dengan fasilitas yang lengkap dan lokasi strategis dekat kampus dan perkantoran.\" property=\"og:description\">\\n<meta content=\"https://www.sewakost.com/jakarta/selatan/\" property=\"og:url\"/>\\n<meta content=\"Sewa Kost Jakarta, Jogja, Bandung, Surabaya, Semarang dan Bali\" property=\"og:site_name\"/>\\n<script type=\"text/javascript\">\\n    var rlLangDir       = \\'ltr\\';\\n    var rlLang          = \\'id\\';\\n    var isLogin         = false;\\n    var staticDataClass = true;\\n\\n    var lang = new Array();\\n        lang[\\'notice_listing_removed_from_favorites\\'] = \\'Iklan ini sudah dihapus dari favorit.\\';\\n        lang[\\'add_to_favorites\\'] = \\'Tambah ke Favorit\\';\\n        lang[\\'no_favorite\\'] = \\'Anda belum menambahkan iklan favorit.\\';\\n        lang[\\'remove_from_favorites\\'] = \\'Hapus Favorit\\';\\n        lang[\\'save_search_confirm\\'] = \\'Are you sure you want to add an alert?\\';\\n        lang[\\'count_more_pictures\\'] = \\'{count} pics<br />more\\';\\n        lang[\\'account_remove_notice_pass\\'] = \\'Your account will be terminated permanently including your profile data, listings and other settings; please enter your password to proceed with termination.\\';\\n        lang[\\'account_remove_notice\\'] = \\'Your account will be terminated permanently including your profile data, listings and other settings.\\';\\n        lang[\\'account_remove_in_process\\'] = \\'The account removal is in process; please do not close the pop-up.\\';\\n        lang[\\'map_listings_request_fail\\'] = \\'Failed to extract listings to the map.\\';\\n        lang[\\'call_owner\\'] = \\'Call Seller\\';\\n        lang[\\'agency_invite_accepted\\'] = \\'The invitation has been successfully accepted.\\';\\n        lang[\\'add_photo\\'] = \\'Add a Picture\\';\\n        lang[\\'photo\\'] = \\'Foto\\';\\n        lang[\\'delete_account\\'] = \\'Remove Account\\';\\n        lang[\\'error_maxFileSize\\'] = \\'The file size exceeds the {limit}Mb limit.\\';\\n        lang[\\'password_weak_warning\\'] = \\'Password yang Anda gunakan terlalu lemah, silahkan gunakan huruf besar agar password Anda lebih kuat.\\';\\n        lang[\\'password_strength_pattern\\'] = \\'Kekuatan ({number} dari {maximum})\\';\\n        lang[\\'loading\\'] = \\'Memuat ...\\';\\n        lang[\\'flynax_connect_fail\\'] = \\'Unable to reach Flynax Server.\\';\\n        lang[\\'update\\'] = \\'Update\\';\\n        lang[\\'reviewed\\'] = \\'Reviewed\\';\\n        lang[\\'replied\\'] = \\'Replied\\';\\n        lang[\\'password_lenght_fail\\'] = \\'Your password is either too short or empty.\\';\\n        lang[\\'done\\'] = \\'Selesai\\';\\n        lang[\\'incomplete\\'] = \\'Belum Lengkap\\';\\n        lang[\\'warning\\'] = \\'Peringatan!\\';\\n        lang[\\'pending\\'] = \\'Dalam Moderasi\\';\\n        lang[\\'expired\\'] = \\'Expired\\';\\n        lang[\\'system_error\\'] = \\'A system error has occurred; please see the error log or contact SewaKost helpdesk.\\';\\n        lang[\\'confirm_notice\\'] = \\'Please confirm the action.\\';\\n        lang[\\'show_subcategories\\'] = \\'Show Subcategories\\';\\n        lang[\\'cancel\\'] = \\'Batal\\';\\n        lang[\\'notice\\'] = \\'Note\\';\\n        lang[\\'save\\'] = \\'Simpan\\';\\n        lang[\\'new\\'] = \\'New\\';\\n        lang[\\'close\\'] = \\'Close\\';\\n        lang[\\'characters_left\\'] = \\'Karakter tersisa\\';\\n        lang[\\'to\\'] = \\'hingga\\';\\n        lang[\\'any\\'] = \\'- Semuanya -\\';\\n        lang[\\'from\\'] = \\'mulai\\';\\n        lang[\\'password\\'] = \\'Password\\';\\n        lang[\\'delete_confirm\\'] = \\'Are you sure you want to completely remove the item?\\';\\n        lang[\\'manage\\'] = \\'Manage\\';\\n        lang[\\'delete\\'] = \\'Delete\\';\\n        lang[\\'notice_pass_bad\\'] = \\'Passwords do not match.\\';\\n        lang[\\'notice_reg_length\\'] = \\'{field} harus terdiri dari minimal 3 karakter.\\';\\n        lang[\\'notice_bad_file_ext\\'] = \\'The {ext} file extension is incompatible; please consider using an extension from the list.\\';\\n        lang[\\'active\\'] = \\'Active\\';\\n        lang[\\'approval\\'] = \\'Inactive\\';\\n        lang[\\'price\\'] = \\'Harga\\';\\n        lang[\\'of\\'] = \\'of\\';\\n        lang[\\'no_browser_gps_support\\'] = \\'Your browser doesn&rsquo;t support the Geolocation option.\\';\\n        lang[\\'gps_support_denied\\'] = \\'Please enable Geolocation detection in your browser settings.\\';\\n        lang[\\'nothing_found_for_char\\'] = \\'Nothing found for <b>&quot;{char}&quot;<\\\\/b>\\';\\n        lang[\\'canceled\\'] = \\'Canceled\\';\\n        lang[\\'field_autocomplete_no_results\\'] = \\'Nothing found\\';\\n        lang[\\'delete_file\\'] = \\'Delete File\\';\\n        lang[\\'map_search_limit_warning\\'] = \\'Too many ads have been found, please try to narrow down your search criteria or zoom in the map.\\';\\n        lang[\\'show_subcategories\\'] = \\'Show Subcategories\\';\\n        lang[\\'accepted\\'] = \\'Accepted\\';\\n        lang[\\'declined\\'] = \\'Declined\\';\\n    \\n    var rlPageInfo           = new Array();\\n    rlPageInfo[\\'key\\']        = \\'lt_listings\\';\\n    rlPageInfo[\\'controller\\'] = \\'listing_type\\';\\n    rlPageInfo[\\'path\\']       = \\'kost\\';\\n\\n    var rlConfig                                 = new Array();\\n    rlConfig[\\'seo_url\\']                          = \\'https://www.sewakost.com/\\';\\n    rlConfig[\\'tpl_base\\']                         = \\'https://www.sewakost.com/templates/newsewakost/\\';\\n    rlConfig[\\'files_url\\']                        = \\'https://www.sewakost.com/files/\\';\\n    rlConfig[\\'libs_url\\']                         = \\'https://www.sewakost.com/libs/\\';\\n    rlConfig[\\'plugins_url\\']                      = \\'https://www.sewakost.com/plugins/\\';\\n\\n    /**\\n     * @since 4.8.2 - Added \"cors_url\", \"tpl_cors_base\" variables\\n     */\\n    rlConfig[\\'cors_url\\']                         = \\'https://www.sewakost.com\\';\\n        rlConfig[\\'ajax_url\\']                         = rlConfig[\\'cors_url\\'] + \\'/request.ajax.php\\';\\n    rlConfig[\\'tpl_cors_base\\']                    = rlConfig[\\'cors_url\\'] + \\'/templates/newsewakost/\\';\\n    rlConfig[\\'mod_rewrite\\']                      = 1;\\n    rlConfig[\\'sf_display_fields\\']                = 0;\\n    rlConfig[\\'account_password_strength\\']        = 1;\\n    rlConfig[\\'messages_length\\']                  = 300;\\n    rlConfig[\\'pg_upload_thumbnail_width\\']        = 405;\\n    rlConfig[\\'pg_upload_thumbnail_height\\']       = 270;\\n    rlConfig[\\'thumbnails_x2\\']                    = true;\\n    rlConfig[\\'template_type\\']                    = \\'responsive_42\\';\\n    rlConfig[\\'domain\\']                           = \\'.sewakost.com\\';\\n    rlConfig[\\'domain_path\\']                      = \\'/\\';\\n    rlConfig[\\'isHttps\\']                          = true;\\n    rlConfig[\\'map_search_listings_limit\\']        = 500;\\n    rlConfig[\\'map_search_listings_limit_mobile\\'] = 75;\\n    rlConfig[\\'price_delimiter\\']                  = \".\";\\n    rlConfig[\\'price_separator\\']                  = \".\";\\n    rlConfig[\\'random_block_slideshow_delay\\']     = \\'10\\';\\n    rlConfig[\\'template_name\\']                    = \\'realty_rainbow_nova_wide\\';\\n    rlConfig[\\'map_provider\\']                     = \\'google\\';\\n    rlConfig[\\'map_default_zoom\\']                 = \\'14\\';\\n    rlConfig[\\'upload_max_size\\']                  = 268435456;\\n    rlConfig[\\'expire_languages\\']                 = 90;\\n\\n    var rlAccountInfo = new Array();\\n    rlAccountInfo[\\'ID\\'] = null;\\n\\n    flynax.langSelector();\\n\\n    var qtip_style = new Object({\\n        width      : \\'auto\\',\\n        background : \\'#61CE70\\',\\n        color      : \\'#ffffff\\',\\n        tip        : \\'bottomLeft\\',\\n        border     : {\\n            width  : 7,\\n            radius : 0,\\n            color  : \\'#61CE70\\'\\n        }\\n    });\\n</script>\\n<script src=\"https://www.sewakost.com/templates/newsewakost/js/lib.js\"></script>\\n<!-- verification code plugin -->\\n<!-- Google Ads Remarketing -->\\n<!-- Global site tag (gtag.js) - Google Ads: 1031073293 -->\\n<script async=\"\" src=\"https://www.googletagmanager.com/gtag/js?id=AW-1031073293\"></script>\\n<script>\\r\\n  window.dataLayer = window.dataLayer || [];\\r\\n  function gtag(){dataLayer.push(arguments);}\\r\\n  gtag(\\'js\\', new Date());\\r\\n\\r\\n  gtag(\\'config\\', \\'AW-1031073293\\');\\r\\n</script>\\n<!-- end  Google Ads Remarketing -->\\n<!-- Google Analytics -->\\n<!-- Global site tag (gtag.js) - Google Analytics -->\\n<script async=\"\" src=\"https://www.googletagmanager.com/gtag/js?id=UA-38932559-5\"></script>\\n<script>\\r\\n  window.dataLayer = window.dataLayer || [];\\r\\n  function gtag(){dataLayer.push(arguments);}\\r\\n  gtag(\\'js\\', new Date());\\r\\n\\r\\n  gtag(\\'config\\', \\'UA-38932559-5\\');\\r\\n</script>\\n<!-- end  Google Analytics -->\\n<!-- verification code plugin -->\\n</meta></meta></meta></head>\\n<body class=\"large lt-listings-page bc-exists -theme listing-fit-contain\">\\n<svg class=\"hide\" xmlns=\"http://www.w3.org/2000/svg\" xmlns:xlink=\"http://www.w3.org/1999/xlink\">\\n<path d=\"M4 2.577L1.716.293a1.01 1.01 0 0 0-1.423 0 1.01 1.01 0 0 0 0 1.423l2.991 2.99C3.481 4.903 3.741 5 4 5c.26.001.52-.096.716-.293l2.991-2.99a1.01 1.01 0 0 0 0-1.423 1.01 1.01 0 0 0-1.423 0L4 2.577z\" id=\"dropdown-arrow-down\"></path>\\n<path d=\"M12 1L6 3.988 0 1a1 1 0 0 1 1-1h10a1 1 0 0 1 1 1zm0 1.894V9a1 1 0 0 1-1 1H1a1 1 0 0 1-1-1V3l6 3 6-3.106z\" id=\"envelope-small\"></path>\\n<path d=\"M3.327 2.868c-.27-.447-.792-1.305-1.097-1.8-.566.256-1.265 1.17-1.229 1.837.125 2.204 2.03 5.008 4.62 6.778 2.582 1.764 4.545 1.724 5.292.096-.511-.304-1.343-.794-1.76-1.037-.05.058-.11.128-.176.21l-.028.034-.026.033-.19.242H8.73a6.186 6.186 0 0 1-.297.368c-.476.48-.936.64-1.56.412-1.67-.627-4.88-3.775-4.946-5.331l-.001-.05c.002-.423.197-.724.525-1.045.04-.038.008-.012.331-.28l.246-.206.044-.037.042-.037c.088-.076.157-.137.212-.187z\" fill-rule=\"nonzero\" id=\"handset\" stroke=\"#000\" stroke-width=\"2\"></path>\\n<path d=\"M1 0h18a1 1 0 1 1 0 2H1a1 1 0 1 1 0-2zm0 6h18a1 1 0 1 1 0 2H1a1 1 0 1 1 0-2zm0 6h18a1 1 0 1 1 0 2H1a1 1 0 1 1 0-2z\" fill=\"#61CE70\" fill-rule=\"evenodd\" id=\"mobile-menu\"></path>\\n<path d=\"M.293 1.707A1 1 0 0 1 1.707.293L6 4.586 10.293.293a1 1 0 0 1 1.414 1.414L7.414 6l4.293 4.293a1 1 0 0 1-1.414 1.414L6 7.414l-4.293 4.293a1 1 0 0 1-1.414-1.414L4.586 6 .293 1.707z\" id=\"close-icon\"></path>\\n<g id=\"photo-cam-icon\"><path d=\"M51.195 42.884C50.535 43.624 49.46 44 48 44H6c-1.46 0-2.535-.376-3.196-1.116C1.817 41.778 2 40.011 2 40v-2l-.003-23.078c-.002-.017-.113-1.719.934-2.844C3.596 11.363 4.63 11 6.001 11h7l.1-.006c.105-.01 2.585-.288 3.781-2.523.927-1.733 2.932-4.888 2.93-4.888C19.86 3.518 20.99 2 23 2h8c2.01 0 3.14 1.518 3.188 1.583-.002 0 2.003 3.155 2.93 4.888 1.196 2.235 3.675 2.513 3.78 2.523L41 11h7c1.371 0 2.403.363 3.07 1.078 1.045 1.125.934 2.827.933 2.844L52 38v2c.001.011.183 1.778-.805 2.884m1.355-32.149C51.491 9.585 49.96 9 48 9h-6.936c-.242-.037-1.549-.288-2.182-1.472-.966-1.804-2.955-4.933-3.039-5.065C35.746 2.323 34.065 0 31 0h-8c-3.066 0-4.746 2.323-4.844 2.463-.084.132-2.073 3.261-3.038 5.065-.633 1.184-1.94 1.435-2.183 1.472H6c-1.96 0-3.492.584-4.55 1.735C-.19 12.516.026 14.702 0 15v24.95c.041.62-.154 2.605 1.295 4.246C2.351 45.393 3.935 46 6 46h42c2.065 0 3.648-.607 4.704-1.804 1.45-1.64 1.254-3.626 1.296-4.247V15c-.028-.298.19-2.484-1.45-4.265\"></path><path d=\"M27 16c-5.514 0-10 4.486-10 10s4.486 10 10 10 10-4.486 10-10-4.486-10-10-10m0 22c-6.617 0-12-5.383-12-12s5.383-12 12-12 12 5.383 12 12-5.383 12-12 12\"></path></g>\\n<path d=\"M11.6302 2.50491C11.8179 2.1759 12.1752 1.98103 12.5535 2.00146C17.8257 2.28628 22.0125 6.65055 22.0125 11.9934C22.0125 17.5199 17.5323 22 12.0058 22C8.52905 22 5.46703 20.226 3.67496 17.5385C3.46482 17.2234 3.45062 16.8166 3.63828 16.4876C3.82593 16.1586 4.18327 15.9637 4.56148 15.9842C4.70694 15.992 4.85354 15.996 5.00116 15.996C9.42238 15.996 13.0065 12.4119 13.0065 7.99069C13.0065 6.3487 12.5132 4.82495 11.6669 3.55583C11.4568 3.24069 11.4426 2.83393 11.6302 2.50491ZM14.3152 4.32604C14.7623 5.46142 15.0078 6.69799 15.0078 7.99069C15.0078 12.982 11.3535 17.1197 6.57433 17.8744C8.00211 19.1938 9.91009 19.9987 12.0058 19.9987C16.427 19.9987 20.0111 16.4146 20.0111 11.9934C20.0111 8.3751 17.6103 5.31711 14.3152 4.32604Z\" id=\"theme-moon-icon\"></path>\\n<path d=\"M10 .5a.5.5 0 0 1 .5-.5h1a.5.5 0 0 1 .5.5v1.996c0 .3-.264.532-.564.516a8.282 8.282 0 0 0-.872 0A.529.529 0 0 1 10 2.496V.5Zm6.34 4.543a.528.528 0 0 1-.034-.763l1.412-1.412a.5.5 0 0 1 .707 0l.707.707a.515.515 0 0 1 0 .707L17.72 5.694a.528.528 0 0 1-.763-.034 8.06 8.06 0 0 0-.617-.617ZM19.504 10c-.3 0-.532.264-.516.564.015.29.015.582 0 .872-.016.3.216.564.516.564H21.5a.5.5 0 0 0 .5-.5v-1a.5.5 0 0 0-.5-.5h-1.996Zm-2.547 6.34a.528.528 0 0 1 .764-.034l1.41 1.412a.515.515 0 0 1 0 .707l-.706.707a.5.5 0 0 1-.707 0l-1.412-1.412a.528.528 0 0 1 .034-.763c.217-.195.422-.4.617-.617ZM12 19.504c0-.3-.264-.532-.564-.516-.29.015-.582.015-.872 0a.528.528 0 0 0-.564.516V21.5a.5.5 0 0 0 .5.5h1a.5.5 0 0 0 .5-.5v-1.996Zm-6.34-2.547c.224.2.246.55.034.764l-1.412 1.41a.515.515 0 0 1-.707 0l-.707-.706a.5.5 0 0 1 0-.707l1.412-1.412a.528.528 0 0 1 .763.034c.194.217.4.422.617.617ZM2.496 12c.3 0 .532-.264.516-.564a8.282 8.282 0 0 1 0-.872.529.529 0 0 0-.516-.564H.5a.5.5 0 0 0-.5.5v1a.5.5 0 0 0 .5.5h1.996Zm2.547-6.34a.528.528 0 0 1-.763.034L2.868 4.282a.5.5 0 0 1 0-.707l.707-.707a.5.5 0 0 1 .707 0L5.694 4.28a.528.528 0 0 1-.034.763 8.05 8.05 0 0 0-.617.617ZM15 11a4 4 0 1 1-8 0 4 4 0 0 1 8 0Zm2 0a6 6 0 1 1-12 0 6 6 0 0 1 12 0Z\" id=\"theme-sun-icon\"></path>\\n<path d=\"M18.9913 17.909C18.4113 18.368 15.6053 19 10.9993 19C6.3933 19 3.5883 18.369 3.0073 17.909C2.9843 17.534 2.9473 15.703 4.2733 14.221C4.9183 13.5 5.7933 12.958 6.8833 12.589C7.8023 13.693 9.1763 14.25 10.9993 14.25C12.8223 14.25 14.1963 13.693 15.1153 12.589C16.2043 12.958 17.0803 13.5 17.7243 14.221C19.0553 15.709 19.0143 17.548 18.9913 17.909ZM10.9993 3C12.8173 3 14.4993 3.56 14.4993 7.625C14.4993 11.69 12.8173 12.25 10.9993 12.25C9.1813 12.25 7.4993 11.69 7.4993 7.625C7.4993 3.56 9.1813 3 10.9993 3ZM19.2423 12.918C18.4223 11.99 17.3403 11.3 16.0383 10.815C16.3343 9.92 16.4993 8.869 16.4993 7.625C16.4993 3.229 14.6483 1 10.9993 1C7.3493 1 5.4993 3.229 5.4993 7.625C5.4993 8.869 5.6643 9.92 5.9593 10.815C4.6583 11.3 3.5763 11.99 2.7563 12.918C0.828303 15.098 0.979303 17.714 1.0203 18.156C1.1163 20.834 8.2203 21 10.9993 21C19.1143 21 20.9213 19.471 20.9773 18.159C21.0183 17.726 21.1743 15.103 19.2423 12.918Z\" id=\"user-icon\"></path>\\n<path d=\"M9.777 0c-1.03 0-2.004.35-2.775.993A4.287 4.287 0 0 0 4.222 0C1.893 0 0 1.804 0 4.034c0 1.082.44 2.097 1.24 2.858l5.07 4.834c.38.364.996.367 1.38 0l5.068-4.833A3.933 3.933 0 0 0 14 4.035C14 1.795 12.098 0 9.777 0\" id=\"favorite-icon\"></path>\\n<path d=\"M3.138 0c.11 0 .377.035.514.346l1.26 2.694a.58.58 0 0 1-.134.712L3.416 5.155a17.025 17.025 0 0 0 5.2 5.448l1.504-1.505a.582.582 0 0 1 .69-.113l2.849 1.244c.268.138.416.46.302.744-.374 1.252-.518 2.387-1.785 2.699-.433.119-1.079.329-1.468.329-.387 0-.756-.115-1.07-.331-2.805-1.815-5.42-3.231-7.748-6.931C.28 4.17-.286 3.642.133 2.484.495 1.544.663.851 1.622.513 1.802.447 2.956 0 3.138 0\" id=\"contact-icon\"></path>\\n</svg>\\n<div class=\"main-wrapper d-flex flex-column\">\\n<header class=\"page-header no-slides\">\\n<div class=\"point1 clearfix\">\\n<div class=\"top-navigation\">\\n<div class=\"point1 d-flex flex-row flex-md-column mx-auto flex-wrap no-gutters justify-content-between\">\\n<div class=\"d-flex align-items-center flex-fill col-auto col-md-12 position-static\">\\n<div class=\"mr-2\" id=\"logo\">\\n<a href=\"https://www.sewakost.com/\" title=\"Sewa Kost Jakarta, Jogja, Bandung, Surabaya, Semarang dan Bali\">\\n<img alt=\"Sewa Kost Jakarta, Jogja, Bandung, Surabaya, Semarang dan Bali\" src=\"https://www.sewakost.com/templates/newsewakost/img/logo.svg\"/>\\n</a>\\n</div>\\n<div class=\"d-flex flex-fill justify-content-end\">\\n<div class=\"d-none d-md-flex\" id=\"left-userbar\">\\n<!-- languages selector -->\\n<!-- languages selector end -->\\n</div>\\n<div class=\"d-flex justify-content-end user-navbar\">\\n<!-- user navigation bar -->\\n<span class=\"d-none d-md-flex circle\" id=\"user-navbar\">\\n<span class=\"default\">\\n<svg class=\"header-usernav-icon-fill\" viewbox=\"0 0 22 22\">\\n<use xlink:href=\"#user-icon\"></use>\\n</svg>\\n</span>\\n<span class=\"content hide\">\\n<span class=\"user-navbar-container\">\\n<!-- login modal content -->\\n<form action=\"https://www.sewakost.com/login.html\" class=\"login-form\" method=\"post\">\\n<input name=\"action\" type=\"hidden\" value=\"login\"/>\\n<input class=\"w-100 mb-3\" maxlength=\"100\" name=\"username\" placeholder=\"Email\" type=\"text\" value=\"\"/>\\n<input class=\"w-100 mb-3\" maxlength=\"100\" name=\"password\" placeholder=\"Password\" type=\"password\"/>\\n<div class=\"mb-3\">\\n<input class=\"w-100\" type=\"submit\" value=\"Login\"/>\\n<span class=\"hookUserNavbar\"></span>\\n</div>\\n<div class=\"remember-me mb-3\">\\n<label><input checked=\"checked\" name=\"remember_me\" type=\"checkbox\"/>Tetap login</label>\\n</div>\\n</form>\\n<div class=\"text-center\">\\n<a class=\"font2\" href=\"https://www.sewakost.com/lupa-password.html\" title=\"Atur Ulang Password\">Lupa password?</a>\\n<div class=\"mt-1\">\\n<a class=\"font2\" href=\"https://www.sewakost.com/daftar.html\" title=\"Daftar untuk membuat akun\">Buat Akun</a>\\n</div>\\n</div>\\n<!-- login modal content end --> </span>\\n</span>\\n</span>\\n<span class=\"circle\" id=\"theme-switcher\">\\n<span class=\"default\">\\n<svg viewbox=\"0 0 22 22\">\\n<use id=\"theme-switcher-sun\" xlink:href=\"#theme-sun-icon\"></use>\\n<use id=\"theme-switcher-moon\" xlink:href=\"#theme-moon-icon\"></use>\\n</svg>\\n</span>\\n</span>\\n<!-- user navigation bar end --> </div>\\n<a class=\"button add-property d-none d-md-flex\" href=\"https://www.sewakost.com/pasang-iklan/jakarta/selatan/select-a-plan.html\" rel=\"nofollow\" title=\"Pasang Iklan\">\\n                                Pasang Iklan\\n                            </a>\\n</div>\\n</div>\\n<nav class=\"main-menu col-auto col-md-12 d-flex\">\\n<!-- main menu block -->\\n<div class=\"menu d-flex h-100 align-items-center flex-grow-0 flex-md-fill shrink-fix\">\\n<div class=\"d-none d-md-flex h-100 flex-fill shrink-fix\">\\n<span class=\"mobile-menu-header d-none align-items-center order-1\">\\n<span class=\"mobile-menu-header-title\">Menu</span>\\n<div class=\"flex-fill d-flex mr-3 justify-content-center\" id=\"mobile-left-usernav\"></div>\\n<svg class=\"mobile-close-icon\" viewbox=\"0 0 12 12\">\\n<use xlink:href=\"#close-icon\"></use>\\n</svg>\\n</span>\\n<div class=\"menu-content pt-3 pb-3 pt-md-0 pb-md-0 order-3\">\\n<a class=\"\" href=\"https://www.sewakost.com/\" title=\"Sewa Kost Jakarta, Jogja, Bandung, Surabaya, Semarang dan Bali\">Home</a>\\n<a class=\" active\" href=\"https://www.sewakost.com/kost.html\" title=\"Sewa Kost\">Kost</a>\\n<a class=\"\" href=\"https://www.sewakost.com/apartemen.html\" title=\"Sewa Apartemen\">Apartemen</a>\\n</div>\\n<a class=\"button add-property order-2 flex-shrink-0 d-flex d-md-none\" href=\"https://www.sewakost.com/pasang-iklan/jakarta/selatan/select-a-plan.html\" title=\"Sewa Apartemen\">\\n            Pasang Iklan</a>\\n<div class=\"menu-content order-4 d-block d-md-none pt-2 pb-2\">\\n<div class=\"content \">\\n<span class=\"user-navbar-container\">\\n<!-- login modal content -->\\n<form action=\"https://www.sewakost.com/login.html\" class=\"login-form\" method=\"post\">\\n<input name=\"action\" type=\"hidden\" value=\"login\"/>\\n<input class=\"w-100 mb-3\" maxlength=\"100\" name=\"username\" placeholder=\"Email\" type=\"text\" value=\"\"/>\\n<input class=\"w-100 mb-3\" maxlength=\"100\" name=\"password\" placeholder=\"Password\" type=\"password\"/>\\n<div class=\"mb-3\">\\n<input class=\"w-100\" type=\"submit\" value=\"Login\"/>\\n<span class=\"hookUserNavbar\"></span>\\n</div>\\n<div class=\"remember-me mb-3\">\\n<label><input checked=\"checked\" name=\"remember_me\" type=\"checkbox\"/>Tetap login</label>\\n</div>\\n</form>\\n<div class=\"text-center\">\\n<a class=\"font2\" href=\"https://www.sewakost.com/lupa-password.html\" title=\"Atur Ulang Password\">Lupa password?</a>\\n<div class=\"mt-1\">\\n<a class=\"font2\" href=\"https://www.sewakost.com/daftar.html\" title=\"Daftar untuk membuat akun\">Buat Akun</a>\\n</div>\\n</div>\\n<!-- login modal content end --> </span>\\n</div>\\n</div>\\n</div>\\n</div>\\n<span class=\"menu-button d-flex d-md-none align-items-center\" title=\"Menu\">\\n<svg viewbox=\"0 0 20 14\">\\n<use xlink:href=\"#mobile-menu\"></use>\\n</svg>\\n</span>\\n<!-- main menu block end --> </nav>\\n</div>\\n</div>\\n</div>\\n</header><!-- page content -->\\n<div class=\"flex-fill w-100\" id=\"wrapper\">\\n<section id=\"main_container\">\\n<!-- bread crumbs block -->\\n<div id=\"bread_crumbs\">\\n<ul class=\"point1\"><li accesskey=\"/\"><a href=\"https://www.sewakost.com/\" title=\"Sewa Kost Jakarta, Jogja, Bandung, Surabaya, Semarang dan Bali\">Home</a></li><li accesskey=\"/\"><a href=\"https://www.sewakost.com/kost.html\" title=\"Sewa Kost\">Kost</a></li><li accesskey=\"/\"><a href=\"https://www.sewakost.com/jakarta/\" title=\"Kost Jakarta - Sewa Kost Jakarta Murah Bebas Fasilitas Lengkap\">Jakarta</a></li></ul>\\n</div>\\n<!-- bread crumbs block end -->\\n<div class=\"inside-container point1 clearfix pt-5 pb-5\">\\n<div class=\"row\">\\n<!-- left blocks area on home page -->\\n<aside class=\"left col-lg-3\">\\n<section class=\"side_block categories-box stick\">\\n<h3>Lokasi Kost</h3> <div class=\"clearfix\">\\n<!-- categories block tpl -->\\n<a href=\"https://www.sewakost.com/jakarta/\">← Jakarta</a>\\n<!-- categories block tpl -->\\n</div>\\n</section>\\n<section class=\"side_block stick categoryFilter\">\\n<h3>Filter Kost</h3> <div class=\"clearfix\">\\n<!-- category filter box -->\\n<span class=\"expander\"></span>\\n<div class=\"filter-area\">\\n<!-- fieldset block -->\\n<div class=\"fieldset\" id=\"fs_cf_jenis\">\\n<header><span class=\"arrow\"></span>Jenis Kost</header>\\n<div class=\"body\">\\n<div>\\n<!-- template of fields with AUTO mode -->\\n<ul><li><a href=\"https://www.sewakost.com/jakarta/selatan/jenis:Kost+Campur/\" title=\"Kost Campur\">Kost Campur</a>\\xa0<span class=\"counter\">(1188)</span></li><li><a href=\"https://www.sewakost.com/jakarta/selatan/jenis:Kost+Putri/\" title=\"Kost Putri\">Kost Putri</a>\\xa0<span class=\"counter\">(614)</span></li><li><a href=\"https://www.sewakost.com/jakarta/selatan/jenis:Kost+Putra/\" title=\"Kost Putra\">Kost Putra</a>\\xa0<span class=\"counter\">(222)</span></li><li><a href=\"https://www.sewakost.com/jakarta/selatan/jenis:Kost+Pasutri/\" title=\"Kost Pasutri\">Kost Pasutri</a>\\xa0<span class=\"counter\">(30)</span></li><li><a href=\"https://www.sewakost.com/jakarta/selatan/jenis:Kost+Keluarga/\" title=\"Kost Keluarga\">Kost Keluarga</a>\\xa0<span class=\"counter\">(27)</span></li></ul>\\n<!-- template of fields with AUTO mode end -->\\n</div>\\n</div>\\n</div>\\n<!-- fieldset block end --> <!-- fieldset block -->\\n<div class=\"fieldset\" id=\"fs_cf_aircon\">\\n<header><span class=\"arrow\"></span>AC</header>\\n<div class=\"body\">\\n<div>\\n<!-- template of fields with AUTO mode -->\\n<ul><li><a href=\"https://www.sewakost.com/jakarta/selatan/aircon:1/\" title=\"Kost AC\">Kost AC</a>\\xa0<span class=\"counter\">(1208)</span></li><li><a href=\"https://www.sewakost.com/jakarta/selatan/aircon:0/\" title=\"Tanpa AC\">Tanpa AC</a>\\xa0<span class=\"counter\">(924)</span></li></ul>\\n<!-- template of fields with AUTO mode end -->\\n</div>\\n</div>\\n</div>\\n<!-- fieldset block end --> <!-- fieldset block -->\\n<div class=\"fieldset\" id=\"fs_cf_free_wifi\">\\n<header><span class=\"arrow\"></span>Free WiFi</header>\\n<div class=\"body\">\\n<div>\\n<!-- template of fields with AUTO mode -->\\n<ul><li><a href=\"https://www.sewakost.com/jakarta/selatan/free-wifi:1/\" title=\"Tersedia WiFi\">Tersedia WiFi</a>\\xa0<span class=\"counter\">(1126)</span></li><li><a href=\"https://www.sewakost.com/jakarta/selatan/free-wifi:0/\" title=\"Tanpa WiFi\">Tanpa WiFi</a>\\xa0<span class=\"counter\">(1006)</span></li></ul>\\n<!-- template of fields with AUTO mode end -->\\n</div>\\n</div>\\n</div>\\n<!-- fieldset block end --> <!-- fieldset block -->\\n<div class=\"fieldset\" id=\"fs_cf_kamar_mandi_dalam\">\\n<header><span class=\"arrow\"></span>Kamar Mandi Dalam</header>\\n<div class=\"body\">\\n<div>\\n<!-- template of fields with AUTO mode -->\\n<ul><li><a href=\"https://www.sewakost.com/jakarta/selatan/kamar-mandi-dalam:1/\" title=\"Dengan Kamar Mandi Dalam\">Dengan Kamar Mandi Dalam</a>\\xa0<span class=\"counter\">(1286)</span></li><li><a href=\"https://www.sewakost.com/jakarta/selatan/kamar-mandi-dalam:0/\" title=\"Tanpa Kamar Mandi Dalam\">Tanpa Kamar Mandi Dalam</a>\\xa0<span class=\"counter\">(846)</span></li></ul>\\n<!-- template of fields with AUTO mode end -->\\n</div>\\n</div>\\n</div>\\n<!-- fieldset block end --> <!-- fieldset block -->\\n<div class=\"fieldset\" id=\"fs_cf_price\">\\n<header><span class=\"arrow\"></span>Harga per Bulan</header>\\n<div class=\"body\">\\n<div>\\n<!-- template of fields with MULTI (auto, ranges, slider, text) mode -->\\n<ul>\\n<li>\\n<a href=\"https://www.sewakost.com/jakarta/selatan/price:0-500000/\" title=\"Kurang dari 500 ribu\">\\n                                    Kurang dari 500 ribu\\n                                </a>\\n<span class=\"counter\">(113)</span>\\n</li>\\n<li>\\n<a href=\"https://www.sewakost.com/jakarta/selatan/price:500000-1000000/\" title=\"500 ribu - 1 juta\">\\n                                    500 ribu - 1 juta\\n                                </a>\\n<span class=\"counter\">(527)</span>\\n</li>\\n<li>\\n<a href=\"https://www.sewakost.com/jakarta/selatan/price:1000000-2000000/\" title=\"1 juta - 2 juta\">\\n                                    1 juta - 2 juta\\n                                </a>\\n<span class=\"counter\">(973)</span>\\n</li>\\n<li>\\n<a href=\"https://www.sewakost.com/jakarta/selatan/price:2000000-3000000/\" title=\"2 juta - 3 juta\">\\n                                    2 juta - 3 juta\\n                                </a>\\n<span class=\"counter\">(505)</span>\\n</li>\\n<li>\\n<a href=\"https://www.sewakost.com/jakarta/selatan/price:3000000-5000000/\" title=\"3 juta - 5 juta\">\\n                                    3 juta - 5 juta\\n                                </a>\\n<span class=\"counter\">(243)</span>\\n</li>\\n<li>\\n<a href=\"https://www.sewakost.com/jakarta/selatan/price:5000000-10000000/\" title=\"5 juta - 10 juta\">\\n                                    5 juta - 10 juta\\n                                </a>\\n<span class=\"counter\">(64)</span>\\n</li>\\n<li>\\n<a href=\"https://www.sewakost.com/jakarta/selatan/price:10000000-99999999/\" title=\"Lebih dari 10 juta\">\\n                                    Lebih dari 10 juta\\n                                </a>\\n<span class=\"counter\">(26)</span>\\n</li>\\n</ul>\\n<!-- template of fields with MULTI (auto, ranges, slider) mode end -->\\n</div>\\n</div>\\n</div>\\n<!-- fieldset block end -->\\n</div>\\n<!-- category filter box end -->\\n</div>\\n</section>\\n</aside>\\n<!-- left blocks area end -->\\n<section class=\"col-lg-9\" id=\"content\">\\n<h1>Kost Jakarta Selatan</h1>\\n<div id=\"system_message\">\\n<!-- no javascript mode -->\\n<!-- no javascript mode end -->\\n</div>\\n<section id=\"controller_area\"><!-- listing type -->\\n<!-- search results -->\\n<!-- browse/search forms mode -->\\n<!-- grid navigation bar -->\\n<div class=\"grid_navbar listings-area\">\\n<div class=\"switcher\"><div class=\"hook\"></div><div class=\"buttons\"><div class=\"list active\" data-type=\"list\" title=\"List View\"><div><span></span><span></span><span></span><span></span><span></span><span></span></div></div><div class=\"grid\" data-type=\"grid\" title=\"Gallery View\"><div><span></span><span></span><span></span><span></span></div></div></div>\\n</div>\\n<div class=\"sorting\">\\n<div class=\"current\">\\n\\t\\t\\t\\tSort by:\\n\\t\\t\\t\\t<span class=\"link\">Tanggal</span>\\n<span class=\"arrow\"></span>\\n</div>\\n<ul class=\"fields\">\\n<li><a href=\"?sort_by=date&amp;sort_type=asc\" rel=\"nofollow\" title=\"Urutkan berdasarkan Tanggal (Naik)\">Tanggal (Naik)</a></li>\\n<li><a class=\"active\" href=\"?sort_by=date&amp;sort_type=desc\" rel=\"nofollow\" title=\"Urutkan berdasarkan Tanggal (Turun)\">Tanggal (Turun)</a></li>\\n<li><a href=\"?sort_by=address&amp;sort_type=asc\" rel=\"nofollow\" title=\"Urutkan berdasarkan Alamat\">Alamat</a></li>\\n<li><a href=\"?sort_by=price&amp;sort_type=asc\" rel=\"nofollow\" title=\"Urutkan berdasarkan Harga per Bulan (Naik)\">Harga per Bulan (Naik)</a></li>\\n<li><a href=\"?sort_by=price&amp;sort_type=desc\" rel=\"nofollow\" title=\"Urutkan berdasarkan Harga per Bulan (Turun)\">Harga per Bulan (Turun)</a></li>\\n</ul>\\n</div>\\n</div>\\n<!-- grid navigation bar end -->\\n<!-- listing grid -->\\n<section class=\"list row\" id=\"listings\">\\n<!-- listing item -->\\n<article class=\"item featured two-inline col-sm-4 \">\\n<div class=\"navigation-column\">\\n<div class=\"before-nav\"></div>\\n<ul class=\"nav-column d-flex justify-content-end \">\\n</ul>\\n<span class=\"category-info hide\">\\n<a href=\"https://www.sewakost.com/jakarta/selatan/\">\\n                Jakarta Selatan\\n            </a>\\n</span>\\n</div>\\n<div class=\"main-column clearfix\">\\n<div class=\"picture\">\\n<a href=\"https://www.sewakost.com/jakarta/selatan/kost-ciganjur-jalan-pasir-no-32-62045.html\" target=\"_blank\" title=\"Kost Ciganjur Jalan Pasir No. 32\">\\n<div class=\"listing-picture-slider\" data-id=\"62045\">\\n<span class=\"listing-picture-slider__navbar d-flex h-100 relative\">\\n<span class=\"flex-fill\">\\n<img alt=\"Kost Ciganjur Jalan Pasir No. 32\" src=\"https://www.sewakost.com/files/09-2021/ad62045/kost-ciganjur-jalan-pasir-no-1389212873.JPG\" srcset=\"https://www.sewakost.com/files/09-2021/ad62045/kost-ciganjur-jalan-pasir-no-1389212873_x2.JPG 2x\"/>\\n</span>\\n<span class=\"flex-fill\">\\n<img alt=\"Kost Ciganjur Jalan Pasir No. 32\" class=\"pic-empty-2 d-none\" src=\"https://www.sewakost.com/templates/newsewakost/img/blank_10x7.gif\"/>\\n</span>\\n<span class=\"flex-fill\">\\n<img alt=\"Kost Ciganjur Jalan Pasir No. 32\" class=\"pic-empty-3 d-none\" src=\"https://www.sewakost.com/templates/newsewakost/img/blank_10x7.gif\"/>\\n</span>\\n</span>\\n</div>\\n<div class=\"label\" title=\"Featured\">Featured</div> </a>\\n<span class=\"favorite add\" id=\"fav_62045\" title=\"Tambah ke Favorit\">\\n<svg class=\"icon\" viewbox=\"0 0 14 12\">\\n<use xlink:href=\"#favorite-icon\"></use>\\n</svg>\\n</span>\\n</div>\\n<ul class=\"ad-info\">\\n<li class=\"title\">\\n<a class=\"link-large\" href=\"https://www.sewakost.com/jakarta/selatan/kost-ciganjur-jalan-pasir-no-32-62045.html\" target=\"_blank\" title=\"Kost Ciganjur Jalan Pasir No. 32\">\\n                    Kost Ciganjur Jalan Pasir No. 32\\n                </a>\\n</li>\\n<li class=\"fields\"><span>Jalan Pasir no 32 Kp. Setu Rt 001/006 Kelurahan Ciganjur, Jagakarsa, Jakarta Selatan</span></li>\\n<li class=\"system\">\\n<span class=\"price-tag\">\\n<span>Rp 1.000.000</span>\\n</span>\\n</li>\\n<ol>\\n<div class=\"stat-line\"></div>\\n</ol>\\n</ul>\\n</div>\\n</article>\\n<!-- listing item end -->\\n<!-- listing item -->\\n<article class=\"item featured two-inline col-sm-4 \">\\n<div class=\"navigation-column\">\\n<div class=\"before-nav\"></div>\\n<ul class=\"nav-column d-flex justify-content-end \">\\n</ul>\\n<span class=\"category-info hide\">\\n<a href=\"https://www.sewakost.com/jakarta/selatan/\">\\n                Jakarta Selatan\\n            </a>\\n</span>\\n</div>\\n<div class=\"main-column clearfix\">\\n<div class=\"picture\">\\n<a href=\"https://www.sewakost.com/jakarta/selatan/kost-executive-jagakarsa-paso-cilandak-jakarta-selatan-93267.html\" target=\"_blank\" title=\"KOST EXECUTIVE JAGAKARSA PASO CILANDAK JAKARTA SELATAN\">\\n<div class=\"listing-picture-slider\" data-id=\"93267\">\\n<span class=\"listing-picture-slider__navbar d-flex h-100 relative\">\\n<span class=\"flex-fill\">\\n<img alt=\"KOST EXECUTIVE JAGAKARSA PASO CILANDAK JAKARTA SELATAN\" src=\"https://www.sewakost.com/files/09-2022/ad93267/kost-executive-jagakarsa-paso-cilandak-jakarta-1071004807.jpg\" srcset=\"https://www.sewakost.com/files/09-2022/ad93267/kost-executive-jagakarsa-paso-cilandak-jakarta-1969332968_x2.jpg 2x\"/>\\n</span>\\n<span class=\"flex-fill\">\\n<img alt=\"KOST EXECUTIVE JAGAKARSA PASO CILANDAK JAKARTA SELATAN\" class=\"pic-empty-2 d-none\" src=\"https://www.sewakost.com/templates/newsewakost/img/blank_10x7.gif\"/>\\n</span>\\n<span class=\"flex-fill\">\\n<img alt=\"KOST EXECUTIVE JAGAKARSA PASO CILANDAK JAKARTA SELATAN\" class=\"pic-empty-3 d-none\" src=\"https://www.sewakost.com/templates/newsewakost/img/blank_10x7.gif\"/>\\n</span>\\n<span class=\"flex-fill\">\\n<img alt=\"KOST EXECUTIVE JAGAKARSA PASO CILANDAK JAKARTA SELATAN\" class=\"pic-empty-4 d-none\" src=\"https://www.sewakost.com/templates/newsewakost/img/blank_10x7.gif\"/>\\n</span>\\n<span class=\"flex-fill\">\\n<img alt=\"KOST EXECUTIVE JAGAKARSA PASO CILANDAK JAKARTA SELATAN\" class=\"pic-empty-5 d-none\" src=\"https://www.sewakost.com/templates/newsewakost/img/blank_10x7.gif\"/>\\n<span class=\"justify-content-center align-items-center text-center flex-column\">\\n<svg viewbox=\"0 0 54 46\">\\n<use xlink:href=\"#photo-cam-icon\"></use>\\n</svg>\\n                                        \\n                                                                                7 pics<br/>more\\n                                    </span>\\n</span>\\n</span>\\n</div>\\n<div class=\"label\" title=\"Featured\">Featured</div> </a>\\n<span class=\"favorite add\" id=\"fav_93267\" title=\"Tambah ke Favorit\">\\n<svg class=\"icon\" viewbox=\"0 0 14 12\">\\n<use xlink:href=\"#favorite-icon\"></use>\\n</svg>\\n</span>\\n</div>\\n<ul class=\"ad-info\">\\n<li class=\"title\">\\n<a class=\"link-large\" href=\"https://www.sewakost.com/jakarta/selatan/kost-executive-jagakarsa-paso-cilandak-jakarta-selatan-93267.html\" target=\"_blank\" title=\"KOST EXECUTIVE JAGAKARSA PASO CILANDAK JAKARTA SELATAN\">\\n                    KOST EXECUTIVE JAGAKARSA PASO CILANDAK JAKARTA SELATAN\\n                </a>\\n</li>\\n<li class=\"fields\"><span>Jalan Paso no 6A, Jagakarsa, Cilandak, Jakarta Selatan</span></li>\\n<li class=\"system\">\\n<span class=\"price-tag\">\\n<span>Rp 2.200.000</span>\\n</span>\\n</li>\\n<ol>\\n<div class=\"stat-line\"></div>\\n</ol>\\n</ul>\\n</div>\\n</article>\\n<!-- listing item end -->\\n<!-- listing item -->\\n<article class=\"item featured two-inline col-sm-4 \">\\n<div class=\"navigation-column\">\\n<div class=\"before-nav\"></div>\\n<ul class=\"nav-column d-flex justify-content-end \">\\n</ul>\\n<span class=\"category-info hide\">\\n<a href=\"https://www.sewakost.com/jakarta/selatan/\">\\n                Jakarta Selatan\\n            </a>\\n</span>\\n</div>\\n<div class=\"main-column clearfix\">\\n<div class=\"picture\">\\n<a href=\"https://www.sewakost.com/jakarta/selatan/kamar-kost-putri-non-ac-di-mampang-93215.html\" target=\"_blank\" title=\"Kamar kost Putri NON AC di Mampang\">\\n<div class=\"listing-picture-slider\" data-id=\"93215\">\\n<span class=\"listing-picture-slider__navbar d-flex h-100 relative\">\\n<span class=\"flex-fill\">\\n<img alt=\"Kamar kost Putri NON AC di Mampang\" src=\"https://www.sewakost.com/files/09-2022/ad93215/listing-1764821679.jpg\" srcset=\"https://www.sewakost.com/files/09-2022/ad93215/listing-1764821679_x2.jpg 2x\"/>\\n</span>\\n<span class=\"flex-fill\">\\n<img alt=\"Kamar kost Putri NON AC di Mampang\" class=\"pic-empty-2 d-none\" src=\"https://www.sewakost.com/templates/newsewakost/img/blank_10x7.gif\"/>\\n</span>\\n<span class=\"flex-fill\">\\n<img alt=\"Kamar kost Putri NON AC di Mampang\" class=\"pic-empty-3 d-none\" src=\"https://www.sewakost.com/templates/newsewakost/img/blank_10x7.gif\"/>\\n</span>\\n<span class=\"flex-fill\">\\n<img alt=\"Kamar kost Putri NON AC di Mampang\" class=\"pic-empty-4 d-none\" src=\"https://www.sewakost.com/templates/newsewakost/img/blank_10x7.gif\"/>\\n</span>\\n<span class=\"flex-fill\">\\n<img alt=\"Kamar kost Putri NON AC di Mampang\" class=\"pic-empty-5 d-none\" src=\"https://www.sewakost.com/templates/newsewakost/img/blank_10x7.gif\"/>\\n<span class=\"justify-content-center align-items-center text-center flex-column\">\\n<svg viewbox=\"0 0 54 46\">\\n<use xlink:href=\"#photo-cam-icon\"></use>\\n</svg>\\n                                        \\n                                                                                5 pics<br/>more\\n                                    </span>\\n</span>\\n</span>\\n</div>\\n<div class=\"label\" title=\"Featured\">Featured</div> </a>\\n<span class=\"favorite add\" id=\"fav_93215\" title=\"Tambah ke Favorit\">\\n<svg class=\"icon\" viewbox=\"0 0 14 12\">\\n<use xlink:href=\"#favorite-icon\"></use>\\n</svg>\\n</span>\\n</div>\\n<ul class=\"ad-info\">\\n<li class=\"title\">\\n<a class=\"link-large\" href=\"https://www.sewakost.com/jakarta/selatan/kamar-kost-putri-non-ac-di-mampang-93215.html\" target=\"_blank\" title=\"Kamar kost Putri NON AC di Mampang\">\\n                    Kamar kost Putri NON AC di Mampang\\n                </a>\\n</li>\\n<li class=\"fields\"><span>Jl.Mampang Prapatan VI Rt04 Rw02 No.70B</span></li>\\n<li class=\"system\">\\n<span class=\"price-tag\">\\n<span>Rp 850.000</span>\\n</span>\\n</li>\\n<ol>\\n<div class=\"stat-line\"></div>\\n</ol>\\n</ul>\\n</div>\\n</article>\\n<!-- listing item end -->\\n<!-- listing item -->\\n<article class=\"item featured two-inline col-sm-4 \">\\n<div class=\"navigation-column\">\\n<div class=\"before-nav\"></div>\\n<ul class=\"nav-column d-flex justify-content-end \">\\n</ul>\\n<span class=\"category-info hide\">\\n<a href=\"https://www.sewakost.com/jakarta/selatan/\">\\n                Jakarta Selatan\\n            </a>\\n</span>\\n</div>\\n<div class=\"main-column clearfix\">\\n<div class=\"picture\">\\n<a href=\"https://www.sewakost.com/jakarta/selatan/hompy-timur-residence-86803.html\" target=\"_blank\" title=\"Hompy Timur Residence\">\\n<div class=\"listing-picture-slider\" data-id=\"86803\">\\n<span class=\"listing-picture-slider__navbar d-flex h-100 relative\">\\n<span class=\"flex-fill\">\\n<img alt=\"Hompy Timur Residence\" src=\"https://www.sewakost.com/files/07-2022/ad86803/hompy-timur-residence-1202555625.jpg\" srcset=\"https://www.sewakost.com/files/07-2022/ad86803/hompy-timur-residence-1202555625_x2.jpg 2x\"/>\\n</span>\\n<span class=\"flex-fill\">\\n<img alt=\"Hompy Timur Residence\" class=\"pic-empty-2 d-none\" src=\"https://www.sewakost.com/templates/newsewakost/img/blank_10x7.gif\"/>\\n</span>\\n<span class=\"flex-fill\">\\n<img alt=\"Hompy Timur Residence\" class=\"pic-empty-3 d-none\" src=\"https://www.sewakost.com/templates/newsewakost/img/blank_10x7.gif\"/>\\n</span>\\n<span class=\"flex-fill\">\\n<img alt=\"Hompy Timur Residence\" class=\"pic-empty-4 d-none\" src=\"https://www.sewakost.com/templates/newsewakost/img/blank_10x7.gif\"/>\\n</span>\\n<span class=\"flex-fill\">\\n<img alt=\"Hompy Timur Residence\" class=\"pic-empty-5 d-none\" src=\"https://www.sewakost.com/templates/newsewakost/img/blank_10x7.gif\"/>\\n<span class=\"justify-content-center align-items-center text-center flex-column\">\\n<svg viewbox=\"0 0 54 46\">\\n<use xlink:href=\"#photo-cam-icon\"></use>\\n</svg>\\n                                        \\n                                                                                15 pics<br/>more\\n                                    </span>\\n</span>\\n</span>\\n</div>\\n<div class=\"label\" title=\"Featured\">Featured</div> </a>\\n<span class=\"favorite add\" id=\"fav_86803\" title=\"Tambah ke Favorit\">\\n<svg class=\"icon\" viewbox=\"0 0 14 12\">\\n<use xlink:href=\"#favorite-icon\"></use>\\n</svg>\\n</span>\\n</div>\\n<ul class=\"ad-info\">\\n<li class=\"title\">\\n<a class=\"link-large\" href=\"https://www.sewakost.com/jakarta/selatan/hompy-timur-residence-86803.html\" target=\"_blank\" title=\"Hompy Timur Residence\">\\n                    Hompy Timur Residence\\n                </a>\\n</li>\\n<li class=\"fields\"><span>Tebet Timur Dalam 7B no. 11</span></li>\\n<li class=\"system\">\\n<span class=\"price-tag\">\\n<span>Rp 2.700.000</span>\\n</span>\\n</li>\\n<ol>\\n<div class=\"stat-line\"></div>\\n</ol>\\n</ul>\\n</div>\\n</article>\\n<!-- listing item end -->\\n<!-- listing item -->\\n<article class=\"item featured two-inline col-sm-4 \">\\n<div class=\"navigation-column\">\\n<div class=\"before-nav\"></div>\\n<ul class=\"nav-column d-flex justify-content-end \">\\n</ul>\\n<span class=\"category-info hide\">\\n<a href=\"https://www.sewakost.com/jakarta/selatan/\">\\n                Jakarta Selatan\\n            </a>\\n</span>\\n</div>\\n<div class=\"main-column clearfix\">\\n<div class=\"picture\">\\n<a href=\"https://www.sewakost.com/jakarta/selatan/rumah-kontrakan-40m2-pasutri-baru-karyawati-karyawan-40141.html\" target=\"_blank\" title=\"Rumah kontrakan (40m2) Pasutri baru/karyawati/karyawan.\">\\n<div class=\"listing-picture-slider\" data-id=\"40141\">\\n<span class=\"listing-picture-slider__navbar d-flex h-100 relative\">\\n<span class=\"flex-fill\">\\n<img alt=\"Rumah kontrakan (40m2) Pasutri baru/karyawati/karyawan.\" src=\"https://www.sewakost.com/files/07-2020/ad40141/rumah-kontrakan-dan-bebas-1013462016.jpg\" srcset=\"https://www.sewakost.com/files/07-2020/ad40141/rumah-kontrakan-dan-bebas-1013462016_x2.jpg 2x\"/>\\n</span>\\n<span class=\"flex-fill\">\\n<img alt=\"Rumah kontrakan (40m2) Pasutri baru/karyawati/karyawan.\" class=\"pic-empty-2 d-none\" src=\"https://www.sewakost.com/templates/newsewakost/img/blank_10x7.gif\"/>\\n</span>\\n<span class=\"flex-fill\">\\n<img alt=\"Rumah kontrakan (40m2) Pasutri baru/karyawati/karyawan.\" class=\"pic-empty-3 d-none\" src=\"https://www.sewakost.com/templates/newsewakost/img/blank_10x7.gif\"/>\\n</span>\\n<span class=\"flex-fill\">\\n<img alt=\"Rumah kontrakan (40m2) Pasutri baru/karyawati/karyawan.\" class=\"pic-empty-4 d-none\" src=\"https://www.sewakost.com/templates/newsewakost/img/blank_10x7.gif\"/>\\n</span>\\n<span class=\"flex-fill\">\\n<img alt=\"Rumah kontrakan (40m2) Pasutri baru/karyawati/karyawan.\" class=\"pic-empty-5 d-none\" src=\"https://www.sewakost.com/templates/newsewakost/img/blank_10x7.gif\"/>\\n<span class=\"justify-content-center align-items-center text-center flex-column\">\\n<svg viewbox=\"0 0 54 46\">\\n<use xlink:href=\"#photo-cam-icon\"></use>\\n</svg>\\n                                        \\n                                                                                7 pics<br/>more\\n                                    </span>\\n</span>\\n</span>\\n</div>\\n<div class=\"label\" title=\"Featured\">Featured</div> </a>\\n<span class=\"favorite add\" id=\"fav_40141\" title=\"Tambah ke Favorit\">\\n<svg class=\"icon\" viewbox=\"0 0 14 12\">\\n<use xlink:href=\"#favorite-icon\"></use>\\n</svg>\\n</span>\\n</div>\\n<ul class=\"ad-info\">\\n<li class=\"title\">\\n<a class=\"link-large\" href=\"https://www.sewakost.com/jakarta/selatan/rumah-kontrakan-40m2-pasutri-baru-karyawati-karyawan-40141.html\" target=\"_blank\" title=\"Rumah kontrakan (40m2) Pasutri baru/karyawati/karyawan.\">\\n                    Rumah kontrakan (40m2) Pasutri baru/karyawati/karyawan.\\n                </a>\\n</li>\\n<li class=\"fields\"><span>Jalan keselamatan 18 RT10/RW03</span></li>\\n<li class=\"system\">\\n<span class=\"price-tag\">\\n<span>Rp 2.500.000</span>\\n</span>\\n</li>\\n<ol>\\n<div class=\"stat-line\"></div>\\n</ol>\\n</ul>\\n</div>\\n</article>\\n<!-- listing item end -->\\n<!-- listing item -->\\n<article class=\"item featured two-inline col-sm-4 \">\\n<div class=\"navigation-column\">\\n<div class=\"before-nav\"></div>\\n<ul class=\"nav-column d-flex justify-content-end \">\\n</ul>\\n<span class=\"category-info hide\">\\n<a href=\"https://www.sewakost.com/jakarta/selatan/\">\\n                Jakarta Selatan\\n            </a>\\n</span>\\n</div>\\n<div class=\"main-column clearfix\">\\n<div class=\"picture\">\\n<a href=\"https://www.sewakost.com/jakarta/selatan/kost-khusus-karyawan-buncit-mampang-91976.html\" target=\"_blank\" title=\"Kost Khusus Karyawan Buncit Mampang\">\\n<div class=\"listing-picture-slider\" data-id=\"91976\">\\n<span class=\"listing-picture-slider__navbar d-flex h-100 relative\">\\n<span class=\"flex-fill\">\\n<img alt=\"Kost Khusus Karyawan Buncit Mampang\" src=\"https://www.sewakost.com/files/08-2022/ad91976/kost-khusus-karyawan-buncit-mampang-856507695.jpg\" srcset=\"https://www.sewakost.com/files/08-2022/ad91976/kost-khusus-karyawan-buncit-mampang-1823523105_x2.jpg 2x\"/>\\n</span>\\n<span class=\"flex-fill\">\\n<img alt=\"Kost Khusus Karyawan Buncit Mampang\" class=\"pic-empty-2 d-none\" src=\"https://www.sewakost.com/templates/newsewakost/img/blank_10x7.gif\"/>\\n</span>\\n<span class=\"flex-fill\">\\n<img alt=\"Kost Khusus Karyawan Buncit Mampang\" class=\"pic-empty-3 d-none\" src=\"https://www.sewakost.com/templates/newsewakost/img/blank_10x7.gif\"/>\\n</span>\\n<span class=\"flex-fill\">\\n<img alt=\"Kost Khusus Karyawan Buncit Mampang\" class=\"pic-empty-4 d-none\" src=\"https://www.sewakost.com/templates/newsewakost/img/blank_10x7.gif\"/>\\n</span>\\n<span class=\"flex-fill\">\\n<img alt=\"Kost Khusus Karyawan Buncit Mampang\" class=\"pic-empty-5 d-none\" src=\"https://www.sewakost.com/templates/newsewakost/img/blank_10x7.gif\"/>\\n<span class=\"justify-content-center align-items-center text-center flex-column\">\\n<svg viewbox=\"0 0 54 46\">\\n<use xlink:href=\"#photo-cam-icon\"></use>\\n</svg>\\n                                        \\n                                                                                1 pics<br/>more\\n                                    </span>\\n</span>\\n</span>\\n</div>\\n<div class=\"label\" title=\"Featured\">Featured</div> </a>\\n<span class=\"favorite add\" id=\"fav_91976\" title=\"Tambah ke Favorit\">\\n<svg class=\"icon\" viewbox=\"0 0 14 12\">\\n<use xlink:href=\"#favorite-icon\"></use>\\n</svg>\\n</span>\\n</div>\\n<ul class=\"ad-info\">\\n<li class=\"title\">\\n<a class=\"link-large\" href=\"https://www.sewakost.com/jakarta/selatan/kost-khusus-karyawan-buncit-mampang-91976.html\" target=\"_blank\" title=\"Kost Khusus Karyawan Buncit Mampang\">\\n                    Kost Khusus Karyawan Buncit Mampang\\n                </a>\\n</li>\\n<li class=\"fields\"><span>Jln. Buncit Raya Gg. H Yahya (Belakang Gedung CIMB Niaga) </span></li>\\n<li class=\"system\">\\n<span class=\"price-tag\">\\n<span>Rp 900.000</span>\\n</span>\\n</li>\\n<ol>\\n<div class=\"stat-line\"></div>\\n</ol>\\n</ul>\\n</div>\\n</article>\\n<!-- listing item end -->\\n<!-- listing item -->\\n<article class=\"item featured two-inline col-sm-4 \">\\n<div class=\"navigation-column\">\\n<div class=\"before-nav\"></div>\\n<ul class=\"nav-column d-flex justify-content-end \">\\n</ul>\\n<span class=\"category-info hide\">\\n<a href=\"https://www.sewakost.com/jakarta/selatan/\">\\n                Jakarta Selatan\\n            </a>\\n</span>\\n</div>\\n<div class=\"main-column clearfix\">\\n<div class=\"picture\">\\n<a href=\"https://www.sewakost.com/jakarta/selatan/kos-jakarta-selatan-54092.html\" target=\"_blank\" title=\"KOS JAKARTA SELATAN \">\\n<div class=\"listing-picture-slider\" data-id=\"54092\">\\n<span class=\"listing-picture-slider__navbar d-flex h-100 relative\">\\n<span class=\"flex-fill\">\\n<img alt=\"KOS JAKARTA SELATAN \" src=\"https://www.sewakost.com/files/05-2022/ad54092/kos-strategis-2108107987.jpg\" srcset=\"https://www.sewakost.com/files/05-2022/ad54092/kos-strategis-2108107987_x2.jpg 2x\"/>\\n</span>\\n<span class=\"flex-fill\">\\n<img alt=\"KOS JAKARTA SELATAN \" class=\"pic-empty-2 d-none\" src=\"https://www.sewakost.com/templates/newsewakost/img/blank_10x7.gif\"/>\\n</span>\\n</span>\\n</div>\\n<div class=\"label\" title=\"Featured\">Featured</div> </a>\\n<span class=\"favorite add\" id=\"fav_54092\" title=\"Tambah ke Favorit\">\\n<svg class=\"icon\" viewbox=\"0 0 14 12\">\\n<use xlink:href=\"#favorite-icon\"></use>\\n</svg>\\n</span>\\n</div>\\n<ul class=\"ad-info\">\\n<li class=\"title\">\\n<a class=\"link-large\" href=\"https://www.sewakost.com/jakarta/selatan/kos-jakarta-selatan-54092.html\" target=\"_blank\" title=\"KOS JAKARTA SELATAN \">\\n                    KOS JAKARTA SELATAN \\n                </a>\\n</li>\\n<li class=\"fields\"><span>jln papandayan no 14 kelurahan pasar manggis kecamatan setiabudi jakarta selatan</span></li>\\n<li class=\"system\">\\n<span class=\"price-tag\">\\n<span>Rp 1.000.000</span>\\n</span>\\n</li>\\n<ol>\\n<div class=\"stat-line\"></div>\\n</ol>\\n</ul>\\n</div>\\n</article>\\n<!-- listing item end -->\\n<!-- listing item -->\\n<article class=\"item featured two-inline col-sm-4 \">\\n<div class=\"navigation-column\">\\n<div class=\"before-nav\"></div>\\n<ul class=\"nav-column d-flex justify-content-end \">\\n</ul>\\n<span class=\"category-info hide\">\\n<a href=\"https://www.sewakost.com/jakarta/selatan/\">\\n                Jakarta Selatan\\n            </a>\\n</span>\\n</div>\\n<div class=\"main-column clearfix\">\\n<div class=\"picture\">\\n<a href=\"https://www.sewakost.com/jakarta/selatan/kost-pejaten-barat-dekat-unas-rs-siaga-86341.html\" target=\"_blank\" title=\"Kost Pejaten Barat dekat UNAS, RS Siaga\">\\n<div class=\"listing-picture-slider\" data-id=\"86341\">\\n<span class=\"listing-picture-slider__navbar d-flex h-100 relative\">\\n<span class=\"flex-fill\">\\n<img alt=\"Kost Pejaten Barat dekat UNAS, RS Siaga\" src=\"https://www.sewakost.com/files/07-2022/ad86341/kost-pejaten-barat-dekat-unas-rs-siaga-706247280.jpg\" srcset=\"https://www.sewakost.com/files/07-2022/ad86341/kost-pejaten-barat-dekat-unas-rs-siaga-1157666786_x2.jpg 2x\"/>\\n</span>\\n<span class=\"flex-fill\">\\n<img alt=\"Kost Pejaten Barat dekat UNAS, RS Siaga\" class=\"pic-empty-2 d-none\" src=\"https://www.sewakost.com/templates/newsewakost/img/blank_10x7.gif\"/>\\n</span>\\n<span class=\"flex-fill\">\\n<img alt=\"Kost Pejaten Barat dekat UNAS, RS Siaga\" class=\"pic-empty-3 d-none\" src=\"https://www.sewakost.com/templates/newsewakost/img/blank_10x7.gif\"/>\\n</span>\\n<span class=\"flex-fill\">\\n<img alt=\"Kost Pejaten Barat dekat UNAS, RS Siaga\" class=\"pic-empty-4 d-none\" src=\"https://www.sewakost.com/templates/newsewakost/img/blank_10x7.gif\"/>\\n</span>\\n<span class=\"flex-fill\">\\n<img alt=\"Kost Pejaten Barat dekat UNAS, RS Siaga\" class=\"pic-empty-5 d-none\" src=\"https://www.sewakost.com/templates/newsewakost/img/blank_10x7.gif\"/>\\n<span class=\"justify-content-center align-items-center text-center flex-column\">\\n<svg viewbox=\"0 0 54 46\">\\n<use xlink:href=\"#photo-cam-icon\"></use>\\n</svg>\\n                                        \\n                                                                                4 pics<br/>more\\n                                    </span>\\n</span>\\n</span>\\n</div>\\n<div class=\"label\" title=\"Featured\">Featured</div> </a>\\n<span class=\"favorite add\" id=\"fav_86341\" title=\"Tambah ke Favorit\">\\n<svg class=\"icon\" viewbox=\"0 0 14 12\">\\n<use xlink:href=\"#favorite-icon\"></use>\\n</svg>\\n</span>\\n</div>\\n<ul class=\"ad-info\">\\n<li class=\"title\">\\n<a class=\"link-large\" href=\"https://www.sewakost.com/jakarta/selatan/kost-pejaten-barat-dekat-unas-rs-siaga-86341.html\" target=\"_blank\" title=\"Kost Pejaten Barat dekat UNAS, RS Siaga\">\\n                    Kost Pejaten Barat dekat UNAS, RS Siaga\\n                </a>\\n</li>\\n<li class=\"fields\"><span>Jl. Siaga I no 28 B Pejaten Barat, Pasar Minggu.</span></li>\\n<li class=\"system\">\\n<span class=\"price-tag\">\\n<span>Rp 1.200.000</span>\\n</span>\\n</li>\\n<ol>\\n<div class=\"stat-line\"></div>\\n</ol>\\n</ul>\\n</div>\\n</article>\\n<!-- listing item end -->\\n<!-- listing item -->\\n<article class=\"item featured two-inline col-sm-4 \">\\n<div class=\"navigation-column\">\\n<div class=\"before-nav\"></div>\\n<ul class=\"nav-column d-flex justify-content-end \">\\n</ul>\\n<span class=\"category-info hide\">\\n<a href=\"https://www.sewakost.com/jakarta/selatan/\">\\n                Jakarta Selatan\\n            </a>\\n</span>\\n</div>\\n<div class=\"main-column clearfix\">\\n<div class=\"picture\">\\n<a href=\"https://www.sewakost.com/jakarta/selatan/kost-ekslusif-di-jakarta-selatan-5376.html\" target=\"_blank\" title=\"KOST EKSLUSIF DI JAKARTA SELATAN\">\\n<div class=\"listing-picture-slider\" data-id=\"5376\">\\n<span class=\"listing-picture-slider__navbar d-flex h-100 relative\">\\n<span class=\"flex-fill\">\\n<img alt=\"KOST EKSLUSIF DI JAKARTA SELATAN\" src=\"https://www.sewakost.com/files/12-2021/ad5376/1639963791918591160.jpeg\" srcset=\"https://www.sewakost.com/files/12-2021/ad5376/1639963791918591160_x2.jpeg 2x\"/>\\n</span>\\n<span class=\"flex-fill\">\\n<img alt=\"KOST EKSLUSIF DI JAKARTA SELATAN\" class=\"pic-empty-2 d-none\" src=\"https://www.sewakost.com/templates/newsewakost/img/blank_10x7.gif\"/>\\n</span>\\n<span class=\"flex-fill\">\\n<img alt=\"KOST EKSLUSIF DI JAKARTA SELATAN\" class=\"pic-empty-3 d-none\" src=\"https://www.sewakost.com/templates/newsewakost/img/blank_10x7.gif\"/>\\n</span>\\n<span class=\"flex-fill\">\\n<img alt=\"KOST EKSLUSIF DI JAKARTA SELATAN\" class=\"pic-empty-4 d-none\" src=\"https://www.sewakost.com/templates/newsewakost/img/blank_10x7.gif\"/>\\n</span>\\n<span class=\"flex-fill\">\\n<img alt=\"KOST EKSLUSIF DI JAKARTA SELATAN\" class=\"pic-empty-5 d-none\" src=\"https://www.sewakost.com/templates/newsewakost/img/blank_10x7.gif\"/>\\n</span>\\n</span>\\n</div>\\n<div class=\"label\" title=\"Featured\">Featured</div> </a>\\n<span class=\"favorite add\" id=\"fav_5376\" title=\"Tambah ke Favorit\">\\n<svg class=\"icon\" viewbox=\"0 0 14 12\">\\n<use xlink:href=\"#favorite-icon\"></use>\\n</svg>\\n</span>\\n</div>\\n<ul class=\"ad-info\">\\n<li class=\"title\">\\n<a class=\"link-large\" href=\"https://www.sewakost.com/jakarta/selatan/kost-ekslusif-di-jakarta-selatan-5376.html\" target=\"_blank\" title=\"KOST EKSLUSIF DI JAKARTA SELATAN\">\\n                    KOST EKSLUSIF DI JAKARTA SELATAN\\n                </a>\\n</li>\\n<li class=\"fields\"><span>JL. Kapten tendean no.2A (dekat kampus interstudy) Pela Mampang, Jakarta Selatanstu</span></li>\\n<li class=\"system\">\\n<span class=\"price-tag\">\\n<span>Rp 850.000</span>\\n</span>\\n</li>\\n<ol>\\n<div class=\"stat-line\"></div>\\n</ol>\\n</ul>\\n</div>\\n</article>\\n<!-- listing item end -->\\n<!-- listing item -->\\n<article class=\"item featured two-inline col-sm-4 \">\\n<div class=\"navigation-column\">\\n<div class=\"before-nav\"></div>\\n<ul class=\"nav-column d-flex justify-content-end \">\\n</ul>\\n<span class=\"category-info hide\">\\n<a href=\"https://www.sewakost.com/jakarta/selatan/\">\\n                Jakarta Selatan\\n            </a>\\n</span>\\n</div>\\n<div class=\"main-column clearfix\">\\n<div class=\"picture\">\\n<a href=\"https://www.sewakost.com/jakarta/selatan/kost-murah-di-tb-simatupang-pasar-minggu-jakarta-selatan-87780.html\" target=\"_blank\" title=\"Kost Murah di TB Simatupang Pasar Minggu Jakarta Selatan\">\\n<div class=\"listing-picture-slider\" data-id=\"87780\">\\n<span class=\"listing-picture-slider__navbar d-flex h-100 relative\">\\n<span class=\"flex-fill\">\\n<img alt=\"Kost Murah di TB Simatupang Pasar Minggu Jakarta Selatan\" src=\"https://www.sewakost.com/files/07-2022/ad87780/listing-1046046039.jpg\" srcset=\"https://www.sewakost.com/files/07-2022/ad87780/listing-1046046039_x2.jpg 2x\"/>\\n</span>\\n<span class=\"flex-fill\">\\n<img alt=\"Kost Murah di TB Simatupang Pasar Minggu Jakarta Selatan\" class=\"pic-empty-2 d-none\" src=\"https://www.sewakost.com/templates/newsewakost/img/blank_10x7.gif\"/>\\n</span>\\n<span class=\"flex-fill\">\\n<img alt=\"Kost Murah di TB Simatupang Pasar Minggu Jakarta Selatan\" class=\"pic-empty-3 d-none\" src=\"https://www.sewakost.com/templates/newsewakost/img/blank_10x7.gif\"/>\\n</span>\\n<span class=\"flex-fill\">\\n<img alt=\"Kost Murah di TB Simatupang Pasar Minggu Jakarta Selatan\" class=\"pic-empty-4 d-none\" src=\"https://www.sewakost.com/templates/newsewakost/img/blank_10x7.gif\"/>\\n</span>\\n<span class=\"flex-fill\">\\n<img alt=\"Kost Murah di TB Simatupang Pasar Minggu Jakarta Selatan\" class=\"pic-empty-5 d-none\" src=\"https://www.sewakost.com/templates/newsewakost/img/blank_10x7.gif\"/>\\n<span class=\"justify-content-center align-items-center text-center flex-column\">\\n<svg viewbox=\"0 0 54 46\">\\n<use xlink:href=\"#photo-cam-icon\"></use>\\n</svg>\\n                                        \\n                                                                                9 pics<br/>more\\n                                    </span>\\n</span>\\n</span>\\n</div>\\n<div class=\"label\" title=\"Featured\">Featured</div> </a>\\n<span class=\"favorite add\" id=\"fav_87780\" title=\"Tambah ke Favorit\">\\n<svg class=\"icon\" viewbox=\"0 0 14 12\">\\n<use xlink:href=\"#favorite-icon\"></use>\\n</svg>\\n</span>\\n</div>\\n<ul class=\"ad-info\">\\n<li class=\"title\">\\n<a class=\"link-large\" href=\"https://www.sewakost.com/jakarta/selatan/kost-murah-di-tb-simatupang-pasar-minggu-jakarta-selatan-87780.html\" target=\"_blank\" title=\"Kost Murah di TB Simatupang Pasar Minggu Jakarta Selatan\">\\n                    Kost Murah di TB Simatupang Pasar Minggu Jakarta Selatan\\n                </a>\\n</li>\\n<li class=\"fields\"><span>Jl. Jati padang poncol RT. 006 RW. 008 No. 7, Kel. Jatipadang, Kec. Pasar Minggu Jakarta Selatan (Samping SMPN 218 Jakarta Selatan) </span></li>\\n<li class=\"system\">\\n<span class=\"price-tag\">\\n<span>Rp 1.000.000</span>\\n</span>\\n</li>\\n<ol>\\n<div class=\"stat-line\"></div>\\n</ol>\\n</ul>\\n</div>\\n</article>\\n<!-- listing item end -->\\n<!-- listing item -->\\n<article class=\"item featured two-inline col-sm-4 \">\\n<div class=\"navigation-column\">\\n<div class=\"before-nav\"></div>\\n<ul class=\"nav-column d-flex justify-content-end \">\\n</ul>\\n<span class=\"category-info hide\">\\n<a href=\"https://www.sewakost.com/jakarta/selatan/\">\\n                Jakarta Selatan\\n            </a>\\n</span>\\n</div>\\n<div class=\"main-column clearfix\">\\n<div class=\"picture\">\\n<a href=\"https://www.sewakost.com/jakarta/selatan/kost-feby-alley-khusus-putri-86240.html\" target=\"_blank\" title=\"Kost Feby Alley... Khusus Putri...\">\\n<div class=\"listing-picture-slider\" data-id=\"86240\">\\n<span class=\"listing-picture-slider__navbar d-flex h-100 relative\">\\n<span class=\"flex-fill\">\\n<img alt=\"Kost Feby Alley... Khusus Putri...\" src=\"https://www.sewakost.com/files/07-2022/ad86240/kost-feby-alley-khusus-putri-1573636468.jpg\" srcset=\"https://www.sewakost.com/files/07-2022/ad86240/kost-feby-alley-khusus-putri-2069991762_x2.jpg 2x\"/>\\n</span>\\n<span class=\"flex-fill\">\\n<img alt=\"Kost Feby Alley... Khusus Putri...\" class=\"pic-empty-2 d-none\" src=\"https://www.sewakost.com/templates/newsewakost/img/blank_10x7.gif\"/>\\n</span>\\n<span class=\"flex-fill\">\\n<img alt=\"Kost Feby Alley... Khusus Putri...\" class=\"pic-empty-3 d-none\" src=\"https://www.sewakost.com/templates/newsewakost/img/blank_10x7.gif\"/>\\n</span>\\n<span class=\"flex-fill\">\\n<img alt=\"Kost Feby Alley... Khusus Putri...\" class=\"pic-empty-4 d-none\" src=\"https://www.sewakost.com/templates/newsewakost/img/blank_10x7.gif\"/>\\n</span>\\n<span class=\"flex-fill\">\\n<img alt=\"Kost Feby Alley... Khusus Putri...\" class=\"pic-empty-5 d-none\" src=\"https://www.sewakost.com/templates/newsewakost/img/blank_10x7.gif\"/>\\n<span class=\"justify-content-center align-items-center text-center flex-column\">\\n<svg viewbox=\"0 0 54 46\">\\n<use xlink:href=\"#photo-cam-icon\"></use>\\n</svg>\\n                                        \\n                                                                                1 pics<br/>more\\n                                    </span>\\n</span>\\n</span>\\n</div>\\n<div class=\"label\" title=\"Featured\">Featured</div> </a>\\n<span class=\"favorite add\" id=\"fav_86240\" title=\"Tambah ke Favorit\">\\n<svg class=\"icon\" viewbox=\"0 0 14 12\">\\n<use xlink:href=\"#favorite-icon\"></use>\\n</svg>\\n</span>\\n</div>\\n<ul class=\"ad-info\">\\n<li class=\"title\">\\n<a class=\"link-large\" href=\"https://www.sewakost.com/jakarta/selatan/kost-feby-alley-khusus-putri-86240.html\" target=\"_blank\" title=\"Kost Feby Alley... Khusus Putri...\">\\n                    Kost Feby Alley... Khusus Putri...\\n                </a>\\n</li>\\n<li class=\"fields\"><span>Jl. Antene II Bawah No.15 RT.03/08 Kramat Pela, Kebayoran Baru, Jakarta Selatan 12130</span></li>\\n<li class=\"system\">\\n<span class=\"price-tag\">\\n<span>Rp 1.000.000</span>\\n</span>\\n</li>\\n<ol>\\n<div class=\"stat-line\"></div>\\n</ol>\\n</ul>\\n</div>\\n</article>\\n<!-- listing item end -->\\n<!-- listing item -->\\n<article class=\"item featured two-inline col-sm-4 \">\\n<div class=\"navigation-column\">\\n<div class=\"before-nav\"></div>\\n<ul class=\"nav-column d-flex justify-content-end \">\\n</ul>\\n<span class=\"category-info hide\">\\n<a href=\"https://www.sewakost.com/jakarta/selatan/\">\\n                Jakarta Selatan\\n            </a>\\n</span>\\n</div>\\n<div class=\"main-column clearfix\">\\n<div class=\"picture\">\\n<a href=\"https://www.sewakost.com/jakarta/selatan/kost-premium-termurah-daerah-mampang-jakarta-selatan-86233.html\" target=\"_blank\" title=\"Kost Premium Termurah Daerah Mampang Jakarta Selatan\">\\n<div class=\"listing-picture-slider\" data-id=\"86233\">\\n<span class=\"listing-picture-slider__navbar d-flex h-100 relative\">\\n<span class=\"flex-fill\">\\n<img alt=\"Kost Premium Termurah Daerah Mampang Jakarta Selatan\" src=\"https://www.sewakost.com/files/07-2022/ad86233/listing-1021464176.jpg\" srcset=\"https://www.sewakost.com/files/07-2022/ad86233/listing-1021464176_x2.jpg 2x\"/>\\n</span>\\n<span class=\"flex-fill\">\\n<img alt=\"Kost Premium Termurah Daerah Mampang Jakarta Selatan\" class=\"pic-empty-2 d-none\" src=\"https://www.sewakost.com/templates/newsewakost/img/blank_10x7.gif\"/>\\n</span>\\n<span class=\"flex-fill\">\\n<img alt=\"Kost Premium Termurah Daerah Mampang Jakarta Selatan\" class=\"pic-empty-3 d-none\" src=\"https://www.sewakost.com/templates/newsewakost/img/blank_10x7.gif\"/>\\n</span>\\n<span class=\"flex-fill\">\\n<img alt=\"Kost Premium Termurah Daerah Mampang Jakarta Selatan\" class=\"pic-empty-4 d-none\" src=\"https://www.sewakost.com/templates/newsewakost/img/blank_10x7.gif\"/>\\n</span>\\n<span class=\"flex-fill\">\\n<img alt=\"Kost Premium Termurah Daerah Mampang Jakarta Selatan\" class=\"pic-empty-5 d-none\" src=\"https://www.sewakost.com/templates/newsewakost/img/blank_10x7.gif\"/>\\n<span class=\"justify-content-center align-items-center text-center flex-column\">\\n<svg viewbox=\"0 0 54 46\">\\n<use xlink:href=\"#photo-cam-icon\"></use>\\n</svg>\\n                                        \\n                                                                                2 pics<br/>more\\n                                    </span>\\n</span>\\n</span>\\n</div>\\n<div class=\"label\" title=\"Featured\">Featured</div> </a>\\n<span class=\"favorite add\" id=\"fav_86233\" title=\"Tambah ke Favorit\">\\n<svg class=\"icon\" viewbox=\"0 0 14 12\">\\n<use xlink:href=\"#favorite-icon\"></use>\\n</svg>\\n</span>\\n</div>\\n<ul class=\"ad-info\">\\n<li class=\"title\">\\n<a class=\"link-large\" href=\"https://www.sewakost.com/jakarta/selatan/kost-premium-termurah-daerah-mampang-jakarta-selatan-86233.html\" target=\"_blank\" title=\"Kost Premium Termurah Daerah Mampang Jakarta Selatan\">\\n                    Kost Premium Termurah Daerah Mampang Jakarta Selatan\\n                </a>\\n</li>\\n<li class=\"fields\"><span>Jalan Bank III No 1 Kelurahan Pela Mampang, Mampang Prapatan</span></li>\\n<li class=\"system\">\\n<span class=\"price-tag\">\\n<span>Rp 1.650.000</span>\\n</span>\\n</li>\\n<ol>\\n<div class=\"stat-line\"></div>\\n</ol>\\n</ul>\\n</div>\\n</article>\\n<!-- listing item end -->\\n<!-- listing item -->\\n<article class=\"item featured two-inline col-sm-4 \">\\n<div class=\"navigation-column\">\\n<div class=\"before-nav\"></div>\\n<ul class=\"nav-column d-flex justify-content-end \">\\n</ul>\\n<span class=\"category-info hide\">\\n<a href=\"https://www.sewakost.com/jakarta/selatan/\">\\n                Jakarta Selatan\\n            </a>\\n</span>\\n</div>\\n<div class=\"main-column clearfix\">\\n<div class=\"picture\">\\n<a href=\"https://www.sewakost.com/jakarta/selatan/sewa-kost-putri-ac-amp-non-ac-ekonomis-di-mampang-jakarta-selatan-86583.html\" target=\"_blank\" title=\"Sewa Kost Putri AC &amp; Non AC Ekonomis di Mampang Jakarta selatan\">\\n<div class=\"listing-picture-slider\" data-id=\"86583\">\\n<span class=\"listing-picture-slider__navbar d-flex h-100 relative\">\\n<span class=\"flex-fill\">\\n<img alt=\"Sewa Kost Putri AC &amp; Non AC Ekonomis di Mampang Jakarta selatan\" src=\"https://www.sewakost.com/files/07-2022/ad86583/sewa-kost-putra-putri-ac-amp-non-ac-ekonomis-d-81455506.jpg\" srcset=\"https://www.sewakost.com/files/07-2022/ad86583/sewa-kost-putra-putri-ac-amp-non-ac-ekonomis-677994379_x2.jpg 2x\"/>\\n</span>\\n<span class=\"flex-fill\">\\n<img alt=\"Sewa Kost Putri AC &amp; Non AC Ekonomis di Mampang Jakarta selatan\" class=\"pic-empty-2 d-none\" src=\"https://www.sewakost.com/templates/newsewakost/img/blank_10x7.gif\"/>\\n</span>\\n<span class=\"flex-fill\">\\n<img alt=\"Sewa Kost Putri AC &amp; Non AC Ekonomis di Mampang Jakarta selatan\" class=\"pic-empty-3 d-none\" src=\"https://www.sewakost.com/templates/newsewakost/img/blank_10x7.gif\"/>\\n</span>\\n<span class=\"flex-fill\">\\n<img alt=\"Sewa Kost Putri AC &amp; Non AC Ekonomis di Mampang Jakarta selatan\" class=\"pic-empty-4 d-none\" src=\"https://www.sewakost.com/templates/newsewakost/img/blank_10x7.gif\"/>\\n</span>\\n<span class=\"flex-fill\">\\n<img alt=\"Sewa Kost Putri AC &amp; Non AC Ekonomis di Mampang Jakarta selatan\" class=\"pic-empty-5 d-none\" src=\"https://www.sewakost.com/templates/newsewakost/img/blank_10x7.gif\"/>\\n<span class=\"justify-content-center align-items-center text-center flex-column\">\\n<svg viewbox=\"0 0 54 46\">\\n<use xlink:href=\"#photo-cam-icon\"></use>\\n</svg>\\n                                        \\n                                                                                6 pics<br/>more\\n                                    </span>\\n</span>\\n</span>\\n</div>\\n<div class=\"label\" title=\"Featured\">Featured</div> </a>\\n<span class=\"favorite add\" id=\"fav_86583\" title=\"Tambah ke Favorit\">\\n<svg class=\"icon\" viewbox=\"0 0 14 12\">\\n<use xlink:href=\"#favorite-icon\"></use>\\n</svg>\\n</span>\\n</div>\\n<ul class=\"ad-info\">\\n<li class=\"title\">\\n<a class=\"link-large\" href=\"https://www.sewakost.com/jakarta/selatan/sewa-kost-putri-ac-amp-non-ac-ekonomis-di-mampang-jakarta-selatan-86583.html\" target=\"_blank\" title=\"Sewa Kost Putri AC &amp; Non AC Ekonomis di Mampang Jakarta selatan\">\\n                    Sewa Kost Putri AC &amp; Non AC Ekonomis di Mampang Jakarta selatan\\n                </a>\\n</li>\\n<li class=\"fields\"><span>Jl. A. N.7C, RT.008 RW/002, Tegal Parang, Mampang Prapatan, Jakarta Selatan</span></li>\\n<li class=\"system\">\\n<span class=\"price-tag\">\\n<span>Rp 1.300.000</span>\\n</span>\\n</li>\\n<ol>\\n<div class=\"stat-line\"></div>\\n</ol>\\n</ul>\\n</div>\\n</article>\\n<!-- listing item end -->\\n<!-- listing item -->\\n<article class=\"item featured two-inline col-sm-4 \">\\n<div class=\"navigation-column\">\\n<div class=\"before-nav\"></div>\\n<ul class=\"nav-column d-flex justify-content-end \">\\n</ul>\\n<span class=\"category-info hide\">\\n<a href=\"https://www.sewakost.com/jakarta/selatan/\">\\n                Jakarta Selatan\\n            </a>\\n</span>\\n</div>\\n<div class=\"main-column clearfix\">\\n<div class=\"picture\">\\n<a href=\"https://www.sewakost.com/jakarta/selatan/kost-rumah-kita-1a-86418.html\" target=\"_blank\" title=\"Kost Rumah Kita 1A\">\\n<div class=\"listing-picture-slider\" data-id=\"86418\">\\n<span class=\"listing-picture-slider__navbar d-flex h-100 relative\">\\n<span class=\"flex-fill\">\\n<img alt=\"Kost Rumah Kita 1A\" src=\"https://www.sewakost.com/files/07-2022/ad86418/kost-rumah-kita-1a-264855810.jpg\" srcset=\"https://www.sewakost.com/files/07-2022/ad86418/kost-rumah-kita-1a-1614751920_x2.jpg 2x\"/>\\n</span>\\n<span class=\"flex-fill\">\\n<img alt=\"Kost Rumah Kita 1A\" class=\"pic-empty-2 d-none\" src=\"https://www.sewakost.com/templates/newsewakost/img/blank_10x7.gif\"/>\\n</span>\\n<span class=\"flex-fill\">\\n<img alt=\"Kost Rumah Kita 1A\" class=\"pic-empty-3 d-none\" src=\"https://www.sewakost.com/templates/newsewakost/img/blank_10x7.gif\"/>\\n</span>\\n<span class=\"flex-fill\">\\n<img alt=\"Kost Rumah Kita 1A\" class=\"pic-empty-4 d-none\" src=\"https://www.sewakost.com/templates/newsewakost/img/blank_10x7.gif\"/>\\n</span>\\n<span class=\"flex-fill\">\\n<img alt=\"Kost Rumah Kita 1A\" class=\"pic-empty-5 d-none\" src=\"https://www.sewakost.com/templates/newsewakost/img/blank_10x7.gif\"/>\\n</span>\\n</span>\\n</div>\\n<div class=\"label\" title=\"Featured\">Featured</div> </a>\\n<span class=\"favorite add\" id=\"fav_86418\" title=\"Tambah ke Favorit\">\\n<svg class=\"icon\" viewbox=\"0 0 14 12\">\\n<use xlink:href=\"#favorite-icon\"></use>\\n</svg>\\n</span>\\n</div>\\n<ul class=\"ad-info\">\\n<li class=\"title\">\\n<a class=\"link-large\" href=\"https://www.sewakost.com/jakarta/selatan/kost-rumah-kita-1a-86418.html\" target=\"_blank\" title=\"Kost Rumah Kita 1A\">\\n                    Kost Rumah Kita 1A\\n                </a>\\n</li>\\n<li class=\"fields\"><span>Pondok Jaya 3 No 1A, Pela Mampang, Mampang Prapatan, Jakarta Selata </span></li>\\n<li class=\"system\">\\n<span class=\"price-tag\">\\n<span>Rp 1.800.000</span>\\n</span>\\n</li>\\n<ol>\\n<div class=\"stat-line\"></div>\\n</ol>\\n</ul>\\n</div>\\n</article>\\n<!-- listing item end -->\\n<!-- listing item -->\\n<article class=\"item featured two-inline col-sm-4 \">\\n<div class=\"navigation-column\">\\n<div class=\"before-nav\"></div>\\n<ul class=\"nav-column d-flex justify-content-end \">\\n</ul>\\n<span class=\"category-info hide\">\\n<a href=\"https://www.sewakost.com/jakarta/selatan/\">\\n                Jakarta Selatan\\n            </a>\\n</span>\\n</div>\\n<div class=\"main-column clearfix\">\\n<div class=\"picture\">\\n<a href=\"https://www.sewakost.com/jakarta/selatan/kost-petogoggan-residence-84166.html\" target=\"_blank\" title=\"Kost Petogoggan Residence\">\\n<div class=\"listing-picture-slider\" data-id=\"84166\">\\n<span class=\"listing-picture-slider__navbar d-flex h-100 relative\">\\n<span class=\"flex-fill\">\\n<img alt=\"Kost Petogoggan Residence\" src=\"https://www.sewakost.com/files/06-2022/ad84166/listing-1580953219.jpg\" srcset=\"https://www.sewakost.com/files/06-2022/ad84166/listing-1580953219_x2.jpg 2x\"/>\\n</span>\\n<span class=\"flex-fill\">\\n<img alt=\"Kost Petogoggan Residence\" class=\"pic-empty-2 d-none\" src=\"https://www.sewakost.com/templates/newsewakost/img/blank_10x7.gif\"/>\\n</span>\\n<span class=\"flex-fill\">\\n<img alt=\"Kost Petogoggan Residence\" class=\"pic-empty-3 d-none\" src=\"https://www.sewakost.com/templates/newsewakost/img/blank_10x7.gif\"/>\\n</span>\\n<span class=\"flex-fill\">\\n<img alt=\"Kost Petogoggan Residence\" class=\"pic-empty-4 d-none\" src=\"https://www.sewakost.com/templates/newsewakost/img/blank_10x7.gif\"/>\\n</span>\\n<span class=\"flex-fill\">\\n<img alt=\"Kost Petogoggan Residence\" class=\"pic-empty-5 d-none\" src=\"https://www.sewakost.com/templates/newsewakost/img/blank_10x7.gif\"/>\\n<span class=\"justify-content-center align-items-center text-center flex-column\">\\n<svg viewbox=\"0 0 54 46\">\\n<use xlink:href=\"#photo-cam-icon\"></use>\\n</svg>\\n                                        \\n                                                                                4 pics<br/>more\\n                                    </span>\\n</span>\\n</span>\\n</div>\\n<div class=\"label\" title=\"Featured\">Featured</div> </a>\\n<span class=\"favorite add\" id=\"fav_84166\" title=\"Tambah ke Favorit\">\\n<svg class=\"icon\" viewbox=\"0 0 14 12\">\\n<use xlink:href=\"#favorite-icon\"></use>\\n</svg>\\n</span>\\n</div>\\n<ul class=\"ad-info\">\\n<li class=\"title\">\\n<a class=\"link-large\" href=\"https://www.sewakost.com/jakarta/selatan/kost-petogoggan-residence-84166.html\" target=\"_blank\" title=\"Kost Petogoggan Residence\">\\n                    Kost Petogoggan Residence\\n                </a>\\n</li>\\n<li class=\"fields\"><span>Jl. Petogogan 1 No. 33/35 Kebayoran Baru Jakarta Selatan</span></li>\\n<li class=\"system\">\\n<span class=\"price-tag\">\\n<span>Rp 5.000.000</span>\\n</span>\\n</li>\\n<ol>\\n<div class=\"stat-line\"></div>\\n</ol>\\n</ul>\\n</div>\\n</article>\\n<!-- listing item end -->\\n<!-- listing item -->\\n<article class=\"item featured two-inline col-sm-4 \">\\n<div class=\"navigation-column\">\\n<div class=\"before-nav\"></div>\\n<ul class=\"nav-column d-flex justify-content-end \">\\n</ul>\\n<span class=\"category-info hide\">\\n<a href=\"https://www.sewakost.com/jakarta/selatan/\">\\n                Jakarta Selatan\\n            </a>\\n</span>\\n</div>\\n<div class=\"main-column clearfix\">\\n<div class=\"picture\">\\n<a href=\"https://www.sewakost.com/jakarta/selatan/kost-arin-cilandak-timur-jakarta-selatan-42821.html\" target=\"_blank\" title=\"Kost Arin - Cilandak Timur jakarta selatan\">\\n<div class=\"listing-picture-slider\" data-id=\"42821\">\\n<span class=\"listing-picture-slider__navbar d-flex h-100 relative\">\\n<span class=\"flex-fill\">\\n<img alt=\"Kost Arin - Cilandak Timur jakarta selatan\" src=\"https://www.sewakost.com/files/07-2022/ad42821/kost-arin-cilandak-timur-jakarta-selatan-1185111823.jpg\" srcset=\"https://www.sewakost.com/files/07-2022/ad42821/kost-arin-cilandak-timur-jakarta-selatan-1185111823_x2.jpg 2x\"/>\\n</span>\\n<span class=\"flex-fill\">\\n<img alt=\"Kost Arin - Cilandak Timur jakarta selatan\" class=\"pic-empty-2 d-none\" src=\"https://www.sewakost.com/templates/newsewakost/img/blank_10x7.gif\"/>\\n</span>\\n<span class=\"flex-fill\">\\n<img alt=\"Kost Arin - Cilandak Timur jakarta selatan\" class=\"pic-empty-3 d-none\" src=\"https://www.sewakost.com/templates/newsewakost/img/blank_10x7.gif\"/>\\n</span>\\n<span class=\"flex-fill\">\\n<img alt=\"Kost Arin - Cilandak Timur jakarta selatan\" class=\"pic-empty-4 d-none\" src=\"https://www.sewakost.com/templates/newsewakost/img/blank_10x7.gif\"/>\\n</span>\\n</span>\\n</div>\\n<div class=\"label\" title=\"Featured\">Featured</div> </a>\\n<span class=\"favorite add\" id=\"fav_42821\" title=\"Tambah ke Favorit\">\\n<svg class=\"icon\" viewbox=\"0 0 14 12\">\\n<use xlink:href=\"#favorite-icon\"></use>\\n</svg>\\n</span>\\n</div>\\n<ul class=\"ad-info\">\\n<li class=\"title\">\\n<a class=\"link-large\" href=\"https://www.sewakost.com/jakarta/selatan/kost-arin-cilandak-timur-jakarta-selatan-42821.html\" target=\"_blank\" title=\"Kost Arin - Cilandak Timur jakarta selatan\">\\n                    Kost Arin - Cilandak Timur jakarta selatan\\n                </a>\\n</li>\\n<li class=\"fields\"><span>Jalan Lapangan tembak no 73/27 RT13/RW01 Cilandak Timur jakarta Selatan</span></li>\\n<li class=\"system\">\\n<span class=\"price-tag\">\\n<span>Rp 1.600.000</span>\\n</span>\\n</li>\\n<ol>\\n<div class=\"stat-line\"></div>\\n</ol>\\n</ul>\\n</div>\\n</article>\\n<!-- listing item end -->\\n<!-- listing item -->\\n<article class=\"item featured two-inline col-sm-4 \">\\n<div class=\"navigation-column\">\\n<div class=\"before-nav\"></div>\\n<ul class=\"nav-column d-flex justify-content-end \">\\n</ul>\\n<span class=\"category-info hide\">\\n<a href=\"https://www.sewakost.com/jakarta/selatan/\">\\n                Jakarta Selatan\\n            </a>\\n</span>\\n</div>\\n<div class=\"main-column clearfix\">\\n<div class=\"picture\">\\n<a href=\"https://www.sewakost.com/jakarta/selatan/southouse-residence-premium-kost-81957.html\" target=\"_blank\" title=\"Southouse Residence Premium Kost\">\\n<div class=\"listing-picture-slider\" data-id=\"81957\">\\n<span class=\"listing-picture-slider__navbar d-flex h-100 relative\">\\n<span class=\"flex-fill\">\\n<img alt=\"Southouse Residence Premium Kost\" src=\"https://www.sewakost.com/files/04-2022/ad81957/southouse-residence-premium-kost-1682346504.jpg\" srcset=\"https://www.sewakost.com/files/04-2022/ad81957/southouse-residence-premium-kost-793752158_x2.jpg 2x\"/>\\n</span>\\n<span class=\"flex-fill\">\\n<img alt=\"Southouse Residence Premium Kost\" class=\"pic-empty-2 d-none\" src=\"https://www.sewakost.com/templates/newsewakost/img/blank_10x7.gif\"/>\\n</span>\\n<span class=\"flex-fill\">\\n<img alt=\"Southouse Residence Premium Kost\" class=\"pic-empty-3 d-none\" src=\"https://www.sewakost.com/templates/newsewakost/img/blank_10x7.gif\"/>\\n</span>\\n<span class=\"flex-fill\">\\n<img alt=\"Southouse Residence Premium Kost\" class=\"pic-empty-4 d-none\" src=\"https://www.sewakost.com/templates/newsewakost/img/blank_10x7.gif\"/>\\n</span>\\n<span class=\"flex-fill\">\\n<img alt=\"Southouse Residence Premium Kost\" class=\"pic-empty-5 d-none\" src=\"https://www.sewakost.com/templates/newsewakost/img/blank_10x7.gif\"/>\\n<span class=\"justify-content-center align-items-center text-center flex-column\">\\n<svg viewbox=\"0 0 54 46\">\\n<use xlink:href=\"#photo-cam-icon\"></use>\\n</svg>\\n                                        \\n                                                                                6 pics<br/>more\\n                                    </span>\\n</span>\\n</span>\\n</div>\\n<div class=\"label\" title=\"Featured\">Featured</div> </a>\\n<span class=\"favorite add\" id=\"fav_81957\" title=\"Tambah ke Favorit\">\\n<svg class=\"icon\" viewbox=\"0 0 14 12\">\\n<use xlink:href=\"#favorite-icon\"></use>\\n</svg>\\n</span>\\n</div>\\n<ul class=\"ad-info\">\\n<li class=\"title\">\\n<a class=\"link-large\" href=\"https://www.sewakost.com/jakarta/selatan/southouse-residence-premium-kost-81957.html\" target=\"_blank\" title=\"Southouse Residence Premium Kost\">\\n                    Southouse Residence Premium Kost\\n                </a>\\n</li>\\n<li class=\"fields\"><span>Jl. Karet Pedurenan no.2, Jakarta Selatan</span></li>\\n<li class=\"system\">\\n<span class=\"price-tag\">\\n<span>Rp 6.500.000</span>\\n</span>\\n</li>\\n<ol>\\n<div class=\"stat-line\"></div>\\n</ol>\\n</ul>\\n</div>\\n</article>\\n<!-- listing item end -->\\n<!-- listing item -->\\n<article class=\"item featured two-inline col-sm-4 \">\\n<div class=\"navigation-column\">\\n<div class=\"before-nav\"></div>\\n<ul class=\"nav-column d-flex justify-content-end \">\\n</ul>\\n<span class=\"category-info hide\">\\n<a href=\"https://www.sewakost.com/jakarta/selatan/\">\\n                Jakarta Selatan\\n            </a>\\n</span>\\n</div>\\n<div class=\"main-column clearfix\">\\n<div class=\"picture\">\\n<a href=\"https://www.sewakost.com/jakarta/selatan/comfy-kost-cinere-38977.html\" target=\"_blank\" title=\"Comfy Kost - Cinere\">\\n<div class=\"listing-picture-slider\" data-id=\"38977\">\\n<span class=\"listing-picture-slider__navbar d-flex h-100 relative\">\\n<span class=\"flex-fill\">\\n<img alt=\"Comfy Kost - Cinere\" src=\"https://www.sewakost.com/files/06-2020/ad38977/comfy-kost-kost-baru-di-area-pondok-2102713968.jpg\" srcset=\"https://www.sewakost.com/files/06-2020/ad38977/comfy-kost-kost-baru-di-area-pondok-422750455_x2.jpg 2x\"/>\\n</span>\\n<span class=\"flex-fill\">\\n<img alt=\"Comfy Kost - Cinere\" class=\"pic-empty-2 d-none\" src=\"https://www.sewakost.com/templates/newsewakost/img/blank_10x7.gif\"/>\\n</span>\\n<span class=\"flex-fill\">\\n<img alt=\"Comfy Kost - Cinere\" class=\"pic-empty-3 d-none\" src=\"https://www.sewakost.com/templates/newsewakost/img/blank_10x7.gif\"/>\\n</span>\\n<span class=\"flex-fill\">\\n<img alt=\"Comfy Kost - Cinere\" class=\"pic-empty-4 d-none\" src=\"https://www.sewakost.com/templates/newsewakost/img/blank_10x7.gif\"/>\\n</span>\\n<span class=\"flex-fill\">\\n<img alt=\"Comfy Kost - Cinere\" class=\"pic-empty-5 d-none\" src=\"https://www.sewakost.com/templates/newsewakost/img/blank_10x7.gif\"/>\\n<span class=\"justify-content-center align-items-center text-center flex-column\">\\n<svg viewbox=\"0 0 54 46\">\\n<use xlink:href=\"#photo-cam-icon\"></use>\\n</svg>\\n                                        \\n                                                                                13 pics<br/>more\\n                                    </span>\\n</span>\\n</span>\\n</div>\\n<div class=\"label\" title=\"Featured\">Featured</div> </a>\\n<span class=\"favorite add\" id=\"fav_38977\" title=\"Tambah ke Favorit\">\\n<svg class=\"icon\" viewbox=\"0 0 14 12\">\\n<use xlink:href=\"#favorite-icon\"></use>\\n</svg>\\n</span>\\n</div>\\n<ul class=\"ad-info\">\\n<li class=\"title\">\\n<a class=\"link-large\" href=\"https://www.sewakost.com/jakarta/selatan/comfy-kost-cinere-38977.html\" target=\"_blank\" title=\"Comfy Kost - Cinere\">\\n                    Comfy Kost - Cinere\\n                </a>\\n</li>\\n<li class=\"fields\"><span>Comfy Kost - jl. H. Saleh 2 No. 55, RT 07 / RW 07, Pangkalan Jati, Cinere, Kota Depok 16514</span></li>\\n<li class=\"system\">\\n<span class=\"price-tag\">\\n<span>Rp 1.700.000</span>\\n</span>\\n</li>\\n<ol>\\n<div class=\"stat-line\"></div>\\n</ol>\\n</ul>\\n</div>\\n</article>\\n<!-- listing item end -->\\n<!-- listing item -->\\n<article class=\"item featured two-inline col-sm-4 \">\\n<div class=\"navigation-column\">\\n<div class=\"before-nav\"></div>\\n<ul class=\"nav-column d-flex justify-content-end \">\\n</ul>\\n<span class=\"category-info hide\">\\n<a href=\"https://www.sewakost.com/jakarta/selatan/\">\\n                Jakarta Selatan\\n            </a>\\n</span>\\n</div>\\n<div class=\"main-column clearfix\">\\n<div class=\"picture\">\\n<a href=\"https://www.sewakost.com/jakarta/selatan/kost-exclusive-2510-urban-living-kemang-66344.html\" target=\"_blank\" title=\"Kost exclusive 2510 Urban Living kemang \">\\n<div class=\"listing-picture-slider\" data-id=\"66344\">\\n<span class=\"listing-picture-slider__navbar d-flex h-100 relative\">\\n<span class=\"flex-fill\">\\n<img alt=\"Kost exclusive 2510 Urban Living kemang \" src=\"https://www.sewakost.com/files/11-2021/ad66344/kost-eksklusif-2510-urban-living-1387806856.jpeg\" srcset=\"https://www.sewakost.com/files/11-2021/ad66344/kost-eksklusif-2510-urban-living-1930996511_x2.jpeg 2x\"/>\\n</span>\\n<span class=\"flex-fill\">\\n<img alt=\"Kost exclusive 2510 Urban Living kemang \" class=\"pic-empty-2 d-none\" src=\"https://www.sewakost.com/templates/newsewakost/img/blank_10x7.gif\"/>\\n</span>\\n<span class=\"flex-fill\">\\n<img alt=\"Kost exclusive 2510 Urban Living kemang \" class=\"pic-empty-3 d-none\" src=\"https://www.sewakost.com/templates/newsewakost/img/blank_10x7.gif\"/>\\n</span>\\n<span class=\"flex-fill\">\\n<img alt=\"Kost exclusive 2510 Urban Living kemang \" class=\"pic-empty-4 d-none\" src=\"https://www.sewakost.com/templates/newsewakost/img/blank_10x7.gif\"/>\\n</span>\\n<span class=\"flex-fill\">\\n<img alt=\"Kost exclusive 2510 Urban Living kemang \" class=\"pic-empty-5 d-none\" src=\"https://www.sewakost.com/templates/newsewakost/img/blank_10x7.gif\"/>\\n<span class=\"justify-content-center align-items-center text-center flex-column\">\\n<svg viewbox=\"0 0 54 46\">\\n<use xlink:href=\"#photo-cam-icon\"></use>\\n</svg>\\n                                        \\n                                                                                7 pics<br/>more\\n                                    </span>\\n</span>\\n</span>\\n</div>\\n<div class=\"label\" title=\"Featured\">Featured</div> </a>\\n<span class=\"favorite add\" id=\"fav_66344\" title=\"Tambah ke Favorit\">\\n<svg class=\"icon\" viewbox=\"0 0 14 12\">\\n<use xlink:href=\"#favorite-icon\"></use>\\n</svg>\\n</span>\\n</div>\\n<ul class=\"ad-info\">\\n<li class=\"title\">\\n<a class=\"link-large\" href=\"https://www.sewakost.com/jakarta/selatan/kost-exclusive-2510-urban-living-kemang-66344.html\" target=\"_blank\" title=\"Kost exclusive 2510 Urban Living kemang \">\\n                    Kost exclusive 2510 Urban Living kemang \\n                </a>\\n</li>\\n<li class=\"fields\"><span>2510 Urban Living jl.Kemang Raya No.39 </span></li>\\n<li class=\"system\">\\n<span class=\"price-tag\">\\n<span>Rp 5.250.000</span>\\n</span>\\n</li>\\n<ol>\\n<div class=\"stat-line\"></div>\\n</ol>\\n</ul>\\n</div>\\n</article>\\n<!-- listing item end -->\\n<!-- listing item -->\\n<article class=\"item featured two-inline col-sm-4 \">\\n<div class=\"navigation-column\">\\n<div class=\"before-nav\"></div>\\n<ul class=\"nav-column d-flex justify-content-end \">\\n</ul>\\n<span class=\"category-info hide\">\\n<a href=\"https://www.sewakost.com/jakarta/selatan/\">\\n                Jakarta Selatan\\n            </a>\\n</span>\\n</div>\\n<div class=\"main-column clearfix\">\\n<div class=\"picture\">\\n<a href=\"https://www.sewakost.com/jakarta/selatan/bintaro-kost-kost-strategis-di-bintaro-jakarta-selatan-6289.html\" target=\"_blank\" title=\"Bintaro Kost - Kost Strategis di Bintaro Jakarta Selatan\">\\n<div class=\"listing-picture-slider\" data-id=\"6289\">\\n<span class=\"listing-picture-slider__navbar d-flex h-100 relative\">\\n<span class=\"flex-fill\">\\n<img alt=\"Bintaro Kost - Kost Strategis di Bintaro Jakarta Selatan\" src=\"https://www.sewakost.com/files/12-2021/ad6289/mule-kost-kost-strategis-di-bintaro-jakarta-1534525953.JPG\" srcset=\"https://www.sewakost.com/files/12-2021/ad6289/mule-kost-kost-strategis-di-bintaro-jakarta-1534525953_x2.JPG 2x\"/>\\n</span>\\n<span class=\"flex-fill\">\\n<img alt=\"Bintaro Kost - Kost Strategis di Bintaro Jakarta Selatan\" class=\"pic-empty-2 d-none\" src=\"https://www.sewakost.com/templates/newsewakost/img/blank_10x7.gif\"/>\\n</span>\\n<span class=\"flex-fill\">\\n<img alt=\"Bintaro Kost - Kost Strategis di Bintaro Jakarta Selatan\" class=\"pic-empty-3 d-none\" src=\"https://www.sewakost.com/templates/newsewakost/img/blank_10x7.gif\"/>\\n</span>\\n<span class=\"flex-fill\">\\n<img alt=\"Bintaro Kost - Kost Strategis di Bintaro Jakarta Selatan\" class=\"pic-empty-4 d-none\" src=\"https://www.sewakost.com/templates/newsewakost/img/blank_10x7.gif\"/>\\n</span>\\n<span class=\"flex-fill\">\\n<img alt=\"Bintaro Kost - Kost Strategis di Bintaro Jakarta Selatan\" class=\"pic-empty-5 d-none\" src=\"https://www.sewakost.com/templates/newsewakost/img/blank_10x7.gif\"/>\\n<span class=\"justify-content-center align-items-center text-center flex-column\">\\n<svg viewbox=\"0 0 54 46\">\\n<use xlink:href=\"#photo-cam-icon\"></use>\\n</svg>\\n                                        \\n                                                                                3 pics<br/>more\\n                                    </span>\\n</span>\\n</span>\\n</div>\\n<div class=\"label\" title=\"Featured\">Featured</div> </a>\\n<span class=\"favorite add\" id=\"fav_6289\" title=\"Tambah ke Favorit\">\\n<svg class=\"icon\" viewbox=\"0 0 14 12\">\\n<use xlink:href=\"#favorite-icon\"></use>\\n</svg>\\n</span>\\n</div>\\n<ul class=\"ad-info\">\\n<li class=\"title\">\\n<a class=\"link-large\" href=\"https://www.sewakost.com/jakarta/selatan/bintaro-kost-kost-strategis-di-bintaro-jakarta-selatan-6289.html\" target=\"_blank\" title=\"Bintaro Kost - Kost Strategis di Bintaro Jakarta Selatan\">\\n                    Bintaro Kost - Kost Strategis di Bintaro Jakarta Selatan\\n                </a>\\n</li>\\n<li class=\"fields\"><span>Jl. Kesehatan 3 No 29A Pesanggrahaan Bintaro</span></li>\\n<li class=\"system\">\\n<span class=\"price-tag\">\\n<span>Rp 1.400.000</span>\\n</span>\\n</li>\\n<ol>\\n<div class=\"stat-line\"></div>\\n</ol>\\n</ul>\\n</div>\\n</article>\\n<!-- listing item end -->\\n<!-- listing item -->\\n<article class=\"item featured two-inline col-sm-4 \">\\n<div class=\"navigation-column\">\\n<div class=\"before-nav\"></div>\\n<ul class=\"nav-column d-flex justify-content-end \">\\n</ul>\\n<span class=\"category-info hide\">\\n<a href=\"https://www.sewakost.com/jakarta/selatan/\">\\n                Jakarta Selatan\\n            </a>\\n</span>\\n</div>\\n<div class=\"main-column clearfix\">\\n<div class=\"picture\">\\n<a href=\"https://www.sewakost.com/jakarta/selatan/kost-exclusive-strategis-dekat-perkantoran-dan-area-wisata-66336.html\" target=\"_blank\" title=\"Kost exclusive, strategis, dekat perkantoran dan area wisata\">\\n<div class=\"listing-picture-slider\" data-id=\"66336\">\\n<span class=\"listing-picture-slider__navbar d-flex h-100 relative\">\\n<span class=\"flex-fill\">\\n<img alt=\"Kost exclusive, strategis, dekat perkantoran dan area wisata\" src=\"https://www.sewakost.com/files/11-2021/ad66336/163643108522868539.jpeg\" srcset=\"https://www.sewakost.com/files/11-2021/ad66336/163643108522868539_x2.jpeg 2x\"/>\\n</span>\\n<span class=\"flex-fill\">\\n<img alt=\"Kost exclusive, strategis, dekat perkantoran dan area wisata\" class=\"pic-empty-2 d-none\" src=\"https://www.sewakost.com/templates/newsewakost/img/blank_10x7.gif\"/>\\n</span>\\n<span class=\"flex-fill\">\\n<img alt=\"Kost exclusive, strategis, dekat perkantoran dan area wisata\" class=\"pic-empty-3 d-none\" src=\"https://www.sewakost.com/templates/newsewakost/img/blank_10x7.gif\"/>\\n</span>\\n<span class=\"flex-fill\">\\n<img alt=\"Kost exclusive, strategis, dekat perkantoran dan area wisata\" class=\"pic-empty-4 d-none\" src=\"https://www.sewakost.com/templates/newsewakost/img/blank_10x7.gif\"/>\\n</span>\\n<span class=\"flex-fill\">\\n<img alt=\"Kost exclusive, strategis, dekat perkantoran dan area wisata\" class=\"pic-empty-5 d-none\" src=\"https://www.sewakost.com/templates/newsewakost/img/blank_10x7.gif\"/>\\n<span class=\"justify-content-center align-items-center text-center flex-column\">\\n<svg viewbox=\"0 0 54 46\">\\n<use xlink:href=\"#photo-cam-icon\"></use>\\n</svg>\\n                                        \\n                                                                                6 pics<br/>more\\n                                    </span>\\n</span>\\n</span>\\n</div>\\n<div class=\"label\" title=\"Featured\">Featured</div> </a>\\n<span class=\"favorite add\" id=\"fav_66336\" title=\"Tambah ke Favorit\">\\n<svg class=\"icon\" viewbox=\"0 0 14 12\">\\n<use xlink:href=\"#favorite-icon\"></use>\\n</svg>\\n</span>\\n</div>\\n<ul class=\"ad-info\">\\n<li class=\"title\">\\n<a class=\"link-large\" href=\"https://www.sewakost.com/jakarta/selatan/kost-exclusive-strategis-dekat-perkantoran-dan-area-wisata-66336.html\" target=\"_blank\" title=\"Kost exclusive, strategis, dekat perkantoran dan area wisata\">\\n                    Kost exclusive, strategis, dekat perkantoran dan area wisata\\n                </a>\\n</li>\\n<li class=\"fields\"><span>Kebagusan Wates No. 43 RT 011 RW 005 Jagakarsa Jakarta Selatan</span></li>\\n<li class=\"system\">\\n<span class=\"price-tag\">\\n<span>Rp 1.850.000</span>\\n</span>\\n</li>\\n<ol>\\n<div class=\"stat-line\"></div>\\n</ol>\\n</ul>\\n</div>\\n</article>\\n<!-- listing item end -->\\n<!-- listing item -->\\n<article class=\"item featured two-inline col-sm-4 \">\\n<div class=\"navigation-column\">\\n<div class=\"before-nav\"></div>\\n<ul class=\"nav-column d-flex justify-content-end \">\\n</ul>\\n<span class=\"category-info hide\">\\n<a href=\"https://www.sewakost.com/jakarta/selatan/\">\\n                Jakarta Selatan\\n            </a>\\n</span>\\n</div>\\n<div class=\"main-column clearfix\">\\n<div class=\"picture\">\\n<a href=\"https://www.sewakost.com/jakarta/selatan/homy-residence-kost-idaman-dekat-stasiun-mrt-fatmawati-39505.html\" target=\"_blank\" title=\"HOMY Residence-Kost Idaman Dekat Stasiun MRT Fatmawati\">\\n<div class=\"listing-picture-slider\" data-id=\"39505\">\\n<span class=\"listing-picture-slider__navbar d-flex h-100 relative\">\\n<span class=\"flex-fill\">\\n<img alt=\"HOMY Residence-Kost Idaman Dekat Stasiun MRT Fatmawati\" src=\"https://www.sewakost.com/files/07-2020/ad39505/homy-residence-kost-idaman-dekat-stasiun-mrt-1216232527.jpg\" srcset=\"https://www.sewakost.com/files/07-2020/ad39505/homy-residence-kost-idaman-dekat-stasiun-mrt-1216232527_x2.jpg 2x\"/>\\n</span>\\n<span class=\"flex-fill\">\\n<img alt=\"HOMY Residence-Kost Idaman Dekat Stasiun MRT Fatmawati\" class=\"pic-empty-2 d-none\" src=\"https://www.sewakost.com/templates/newsewakost/img/blank_10x7.gif\"/>\\n</span>\\n<span class=\"flex-fill\">\\n<img alt=\"HOMY Residence-Kost Idaman Dekat Stasiun MRT Fatmawati\" class=\"pic-empty-3 d-none\" src=\"https://www.sewakost.com/templates/newsewakost/img/blank_10x7.gif\"/>\\n</span>\\n<span class=\"flex-fill\">\\n<img alt=\"HOMY Residence-Kost Idaman Dekat Stasiun MRT Fatmawati\" class=\"pic-empty-4 d-none\" src=\"https://www.sewakost.com/templates/newsewakost/img/blank_10x7.gif\"/>\\n</span>\\n<span class=\"flex-fill\">\\n<img alt=\"HOMY Residence-Kost Idaman Dekat Stasiun MRT Fatmawati\" class=\"pic-empty-5 d-none\" src=\"https://www.sewakost.com/templates/newsewakost/img/blank_10x7.gif\"/>\\n<span class=\"justify-content-center align-items-center text-center flex-column\">\\n<svg viewbox=\"0 0 54 46\">\\n<use xlink:href=\"#photo-cam-icon\"></use>\\n</svg>\\n                                        \\n                                                                                4 pics<br/>more\\n                                    </span>\\n</span>\\n</span>\\n</div>\\n<div class=\"label\" title=\"Featured\">Featured</div> </a>\\n<span class=\"favorite add\" id=\"fav_39505\" title=\"Tambah ke Favorit\">\\n<svg class=\"icon\" viewbox=\"0 0 14 12\">\\n<use xlink:href=\"#favorite-icon\"></use>\\n</svg>\\n</span>\\n</div>\\n<ul class=\"ad-info\">\\n<li class=\"title\">\\n<a class=\"link-large\" href=\"https://www.sewakost.com/jakarta/selatan/homy-residence-kost-idaman-dekat-stasiun-mrt-fatmawati-39505.html\" target=\"_blank\" title=\"HOMY Residence-Kost Idaman Dekat Stasiun MRT Fatmawati\">\\n                    HOMY Residence-Kost Idaman Dekat Stasiun MRT Fatmawati\\n                </a>\\n</li>\\n<li class=\"fields\"><span>Alamat:  Jl, Banjarsari 2 No.5 . RT 02 RW 08. Kelurahan Cilandak Barat (dekat Jl. Raya Fatmawati), Kecamatan Cilandak – Jakarta Selatan 12430</span></li>\\n<li class=\"system\">\\n<span class=\"price-tag\">\\n<span>Rp 2.500.000</span>\\n</span>\\n</li>\\n<ol>\\n<div class=\"stat-line\"></div>\\n</ol>\\n</ul>\\n</div>\\n</article>\\n<!-- listing item end -->\\n<!-- listing item -->\\n<article class=\"item two-inline col-sm-4 \">\\n<div class=\"navigation-column\">\\n<div class=\"before-nav\"></div>\\n<ul class=\"nav-column d-flex justify-content-end \">\\n</ul>\\n<span class=\"category-info hide\">\\n<a href=\"https://www.sewakost.com/jakarta/selatan/\">\\n                Jakarta Selatan\\n            </a>\\n</span>\\n</div>\\n<div class=\"main-column clearfix\">\\n<div class=\"picture\">\\n<a href=\"https://www.sewakost.com/jakarta/selatan/kost-cilandak-23243.html\" target=\"_blank\" title=\"KOST CILANDAK\">\\n<div class=\"listing-picture-slider\" data-id=\"23243\">\\n<span class=\"listing-picture-slider__navbar d-flex h-100 relative\">\\n<span class=\"flex-fill\">\\n<img alt=\"KOST CILANDAK\" src=\"https://www.sewakost.com/files/05-2019/ad23243/kost-2065073439.jpg\"/>\\n</span>\\n<span class=\"flex-fill\">\\n<img alt=\"KOST CILANDAK\" class=\"pic-empty-2 d-none\" src=\"https://www.sewakost.com/templates/newsewakost/img/blank_10x7.gif\"/>\\n</span>\\n<span class=\"flex-fill\">\\n<img alt=\"KOST CILANDAK\" class=\"pic-empty-3 d-none\" src=\"https://www.sewakost.com/templates/newsewakost/img/blank_10x7.gif\"/>\\n</span>\\n</span>\\n</div>\\n</a>\\n<span class=\"favorite add\" id=\"fav_23243\" title=\"Tambah ke Favorit\">\\n<svg class=\"icon\" viewbox=\"0 0 14 12\">\\n<use xlink:href=\"#favorite-icon\"></use>\\n</svg>\\n</span>\\n</div>\\n<ul class=\"ad-info\">\\n<li class=\"title\">\\n<a class=\"link-large\" href=\"https://www.sewakost.com/jakarta/selatan/kost-cilandak-23243.html\" target=\"_blank\" title=\"KOST CILANDAK\">\\n                    KOST CILANDAK\\n                </a>\\n</li>\\n<li class=\"fields\"><span>Jalan Cilandak Tengah 1 NO 17 (Belakang Citos)</span></li>\\n<li class=\"system\">\\n<span class=\"price-tag\">\\n<span>Rp 950.000</span>\\n</span>\\n</li>\\n<ol>\\n<div class=\"stat-line\"></div>\\n</ol>\\n</ul>\\n</div>\\n</article>\\n<!-- listing item end -->\\n<!-- listing item -->\\n<article class=\"item two-inline col-sm-4 \">\\n<div class=\"navigation-column\">\\n<div class=\"before-nav\"></div>\\n<ul class=\"nav-column d-flex justify-content-end \">\\n</ul>\\n<span class=\"category-info hide\">\\n<a href=\"https://www.sewakost.com/jakarta/selatan/\">\\n                Jakarta Selatan\\n            </a>\\n</span>\\n</div>\\n<div class=\"main-column clearfix\">\\n<div class=\"picture\">\\n<a href=\"https://www.sewakost.com/jakarta/selatan/kost-dan-kontrakan-nyaman-asri-dan-aman-di-daerah-cilandak-jagakarsa-kebagusan-93346.html\" target=\"_blank\" title=\"Kost dan kontrakan nyaman, Asri dan aman di daerah Cilandak, Jagakarsa, Kebagusan\">\\n<div class=\"listing-picture-slider\" data-id=\"93346\">\\n<span class=\"listing-picture-slider__navbar d-flex h-100 relative\">\\n<span class=\"flex-fill\">\\n<img alt=\"Kost dan kontrakan nyaman, Asri dan aman di daerah Cilandak, Jagakarsa, Kebagusan\" src=\"https://www.sewakost.com/files/09-2022/ad93346/kost-dan-kontrakan-nyaman-asri-dan-aman-di-da-1141299074.jpg\" srcset=\"https://www.sewakost.com/files/09-2022/ad93346/kost-dan-kontrakan-nyaman-asri-dan-aman-di-dae-372596722_x2.jpg 2x\"/>\\n</span>\\n<span class=\"flex-fill\">\\n<img alt=\"Kost dan kontrakan nyaman, Asri dan aman di daerah Cilandak, Jagakarsa, Kebagusan\" class=\"pic-empty-2 d-none\" src=\"https://www.sewakost.com/templates/newsewakost/img/blank_10x7.gif\"/>\\n</span>\\n<span class=\"flex-fill\">\\n<img alt=\"Kost dan kontrakan nyaman, Asri dan aman di daerah Cilandak, Jagakarsa, Kebagusan\" class=\"pic-empty-3 d-none\" src=\"https://www.sewakost.com/templates/newsewakost/img/blank_10x7.gif\"/>\\n</span>\\n<span class=\"flex-fill\">\\n<img alt=\"Kost dan kontrakan nyaman, Asri dan aman di daerah Cilandak, Jagakarsa, Kebagusan\" class=\"pic-empty-4 d-none\" src=\"https://www.sewakost.com/templates/newsewakost/img/blank_10x7.gif\"/>\\n</span>\\n<span class=\"flex-fill\">\\n<img alt=\"Kost dan kontrakan nyaman, Asri dan aman di daerah Cilandak, Jagakarsa, Kebagusan\" class=\"pic-empty-5 d-none\" src=\"https://www.sewakost.com/templates/newsewakost/img/blank_10x7.gif\"/>\\n</span>\\n</span>\\n</div>\\n</a>\\n<span class=\"favorite add\" id=\"fav_93346\" title=\"Tambah ke Favorit\">\\n<svg class=\"icon\" viewbox=\"0 0 14 12\">\\n<use xlink:href=\"#favorite-icon\"></use>\\n</svg>\\n</span>\\n</div>\\n<ul class=\"ad-info\">\\n<li class=\"title\">\\n<a class=\"link-large\" href=\"https://www.sewakost.com/jakarta/selatan/kost-dan-kontrakan-nyaman-asri-dan-aman-di-daerah-cilandak-jagakarsa-kebagusan-93346.html\" target=\"_blank\" title=\"Kost dan kontrakan nyaman, Asri dan aman di daerah Cilandak, Jagakarsa, Kebagusan\">\\n                    Kost dan kontrakan nyaman, Asri dan aman di daerah Cilandak, Jagakarsa, Kebagusan\\n                </a>\\n</li>\\n<li class=\"fields\"><span>Jl. Kecapi V No. 22 RT 006/005, Cilandak, Jagakarsa, Jakarta Selatan.</span></li>\\n<li class=\"system\">\\n<span class=\"price-tag\">\\n<span>Rp 2.500.000</span>\\n</span>\\n</li>\\n<ol>\\n<div class=\"stat-line\"></div>\\n</ol>\\n</ul>\\n</div>\\n</article>\\n<!-- listing item end -->\\n</section>\\n<!-- listing grid end -->\\n<!-- paging block -->\\n<!-- pagination tpl -->\\n<ul class=\"pagination\">\\n<li class=\"transit\">\\n<span>Page </span>\\n<input maxlength=\"2\" size=\"2\" type=\"text\" value=\"1\"/>\\n<input name=\"stats\" type=\"hidden\" value=\"1|89\"/>\\n<input name=\"pattern\" type=\"hidden\" value=\"https://www.sewakost.com/jakarta/selatan/index[pg].html\"/>\\n<input name=\"first\" type=\"hidden\" value=\"https://www.sewakost.com/jakarta/selatan.html\"/>\\n<span> of 89</span>\\n</li>\\n<li class=\"navigator rs\">\\n<a class=\"button\" href=\"https://www.sewakost.com/jakarta/selatan/index2.html\" title=\"Next page\">›</a>\\n</li>\\n</ul>\\n<!-- pagination tpl end -->\\n<!-- paging block end -->\\n<div class=\"category-description\">\\n<h2>Sekilas tentang Kost Jakarta Selatan</h2>\\n<p>Jakarta sudah lama menjadi daya tarik bagi para perantau. Kota metropolitan ini menjadi salah satu tujuan dalam menimba ilmu dan mendulang rejeki. <a href=\"https://www.sewakost.com/jakarta/\" target=\"_blank\">Jakarta</a> sendiri terbagi menjadi lima bagian, salah satunya adalah Jakarta Selatan. Daerah Jakarta yang satu ini menjadi tempat tujuan para perantau yang ingin mencari kerja karena di Jakarta Selatan terdapat banyak perkantoran, khususnya yang berada di sekitaran CBD (Central Business District) Gatot Subroto, Kuningan dan Cawang. Tidak hanya menjanjikan lapangan kerja yang prospektif, di Jakarta Selatan juga menjadi tempat yang tepat untuk menimba ilmu. Di sini terdapat kampus Universitas Indonesia yang berada tepat di perbatasan Jakarta Selatan dan Depok.</p>\\n<h2>Harga Kost Jakarta Selatan</h2>\\n<p>Harga kost yang murah tentu menjadi salah satu pertimbangan dalam mencari kost di Jakarta Selatan. Selain harga, hal lain yang perlu dipertimbangkan adalah lokasi kost apakah dekat dengan kampus atau tempat kerja Anda, serta fasilitas yang ditawarkan oleh kost tersebut. Seperti yang telah kami singgung sebelumnya bahwa di Jakarta Selatan terdapat cukup banyak perumahan elit. Hal ini tentu sangat mempengaruhi harga kost di area ini. Umumnya harga kost di Jakarta Selatan berada di kisaran harga 1 jutaan.<br/>\\n<br/>\\r\\nKost di Jakarta Selatan dengan harga 1 jutaan umumnya mendapatkan fasilitas perabot, AC dan WiFi. Apabila Anda memiliki budget lebih, Anda bisa mendapatkan kamar kost yang dilengkapi dengan kamar mandi dalam, serta beberapa kost juga menyediakan tempat tidur yang lebih besar sehingga cocok untuk dihuni oleh pasutri. Lalu bagaimana dengan kost yang harganya di bawah 1 juta? Di data SewaKost ada beberapa kost di Jakarta Selatan yang ditawarkan dengan harga 500 ribu hingga 1 juta, namun Anda harus berkompromi dengan fasilitas yang tidak selengkap kost eksklusif yang harganya 1 jutaan. Silahkan gunakan fitur filter harga untuk mencari kost dengan harga yang sesuai dengan budget Anda.</p>\\n<h2>Sewa Kost Jakarta Selatan</h2>\\n<p>SewaKost menjadi solusi untuk Anda yang mencari kost di Jakarta Selatan. Anda dapat mencari kost di Jakarta Selatan yang sesuai dengan kriteria yang Anda inginkan, seperti kost putra, kost putri, kost campur maupun kost pasutri di Jakarta Selatan. Selain itu Anda juga dapat mencari kost sesuai dengan budget mulai dari ratusan ribu hingga jutaan rupiah. Di SewaKost juga terdapat fitur filter fasilitas yang memungkinkan Anda untuk mencari kost dengan fasilitas yang sesuai: AC, Free WiFi dan kamar mandi dalam.</p>\\n<p>Area populer di Jakarta Selatan: Setiabudi, Blok M, Kuningan, Kebayoran Lama, Cilandak, Kebayoran Baru, TB Simatupang, Mampang, Kemang, Fatmawati, Kalibata.</p>\\n</div>\\n<!-- browse mode -->\\n<!-- listing type end --></section>\\n<!-- Tambahan 3 banner home mulai -->\\n<!-- Tambahan 3 banner home selesai -->\\n<!-- middle blocks area -->\\n<!-- middle blocks area end -->\\n</section>\\n</div>\\n</div>\\n</section>\\n</div>\\n<!-- page content end --> <footer class=\"page-footer content-padding\">\\n<div class=\"point1 clearfix\">\\n<div class=\"row no-gutters\">\\n<nav class=\"footer-menu col-12\">\\n<div class=\"row\">\\n<!-- footer menu block -->\\n<ul class=\"col-sm-4 col-lg-3 mb-4\">\\n<li>\\n<a href=\"https://www.sewakost.com/\" title=\"Sewa Kost Jakarta, Jogja, Bandung, Surabaya, Semarang dan Bali\">\\n                    Home\\n                </a>\\n</li>\\n<li>\\n<a href=\"https://www.bisniskost.com/\" title=\"Bisnis Kost\">\\n                    Bisnis Kost\\n                </a>\\n</li>\\n</ul>\\n<ul class=\"col-sm-4 col-lg-3 mb-4\">\\n<li>\\n<a href=\"https://www.sewakost.com/lokasi-kost.html\" title=\"Lokasi Kost\">\\n                    Lokasi Kost\\n                </a>\\n</li>\\n<li>\\n<a href=\"https://www.sewakost.com/pasang-iklan-kost-gratis.html\" title=\"Pasang Iklan Kost Gratis di SewaKost\">\\n                    Pasang Iklan Kost Gratis\\n                </a>\\n</li>\\n</ul>\\n<ul class=\"col-sm-4 col-lg-3 mb-4\">\\n<li>\\n<a href=\"https://help.sewakost.com/\" title=\"Pusat Bantuan\">\\n                    Pusat Bantuan\\n                </a>\\n</li>\\n</ul>\\n<!-- footer menu block end -->\\n</div>\\n</nav>\\n</div>\\n<!-- footer data tpl -->\\n<div class=\"footer-data row mt-4\">\\n<div class=\"icons text-left col-12 col-sm-auto col-lg-3 order-2 mt-3 mt-sm-0\">\\n<a class=\"facebook\" href=\"\" target=\"_blank\" title=\"Join us on Facebook\"></a>\\n<a class=\"twitter ml-4\" href=\"\" target=\"_blank\" title=\"Join us on Twitter\"></a>\\n</div>\\n<div class=\"align-self-center col-12 mt-4 mt-sm-0 col-sm\">\\n        © 2022, Hak Cipta Dilindungi Undang-Undang\\n        <a href=\"https://www.sewakost.com\" title=\"Hak Cipta Dilindungi Undang-Undang Sewa Kost\">Sewa Kost</a>\\n</div>\\n</div>\\n<!-- footer data tpl end --> </div>\\n</footer>\\n<!-- verification code plugin -->\\n<!-- verification code plugin --><!-- banners/footer.tpl -->\\n<script>\\n    var bannersSlideShow = function() {\\n        flUtil.loadScript(rlConfig.plugins_url + \\'banners/static/jquery.cycle.js\\', function () {\\n            var slideShowSel = \\'div.banners-slide-show\\';\\n\\n            if ($(slideShowSel).length) {\\n                $(slideShowSel).cycle({\\n                    fx: \\'fade\\' // choose your transition type, ex: fade, scrollUp, shuffle, etc...\\n                });\\n            }\\n        });\\n    };\\n\\n    var callScriptInHtmlBanners = function() {\\n        var $htmlBanners = $(\\'div.banners-type-html-js\\');\\n        var evalAndRemoveScript = function () {\\n            $htmlBanners.find(\\'script\\').each(function() {\\n                eval($(this).text());\\n                $(this).remove();\\n            });\\n        };\\n\\n        if ($htmlBanners.find(\\'script[src$=\"adsbygoogle.js\"]\\').length) {\\n            flUtil.loadScript(\\'https://pagead2.googlesyndication.com/pagead/js/adsbygoogle.js\\', function () {\\n                evalAndRemoveScript();\\n            });\\n        } else {\\n            evalAndRemoveScript();\\n        }\\n    };\\n\\n    $(document).ready(function () {\\n        bannersSlideShow();\\n    });\\n</script>\\n<style></style>\\n<!-- banners/footer.tpl end -->\\n</div>\\n<div class=\"hide\" id=\"login_modal_source\">\\n<div class=\"tmp-dom\">\\n<!-- login modal content -->\\n<form action=\"https://www.sewakost.com/login.html\" class=\"login-form\" method=\"post\">\\n<input name=\"action\" type=\"hidden\" value=\"login\">\\n<input class=\"w-100 mb-3\" maxlength=\"100\" name=\"username\" placeholder=\"Email\" type=\"text\" value=\"\">\\n<input class=\"w-100 mb-3\" maxlength=\"100\" name=\"password\" placeholder=\"Password\" type=\"password\">\\n<div class=\"mb-3\">\\n<input class=\"w-100\" type=\"submit\" value=\"Login\">\\n<span class=\"hookUserNavbar\"></span>\\n</input></div>\\n<div class=\"remember-me mb-3\">\\n<label><input checked=\"checked\" name=\"remember_me\" type=\"checkbox\"/>Tetap login</label>\\n</div>\\n</input></input></input></form>\\n<div class=\"text-center\">\\n<a class=\"font2\" href=\"https://www.sewakost.com/lupa-password.html\" title=\"Atur Ulang Password\">Lupa password?</a>\\n<div class=\"mt-1\">\\n<a class=\"font2\" href=\"https://www.sewakost.com/daftar.html\" title=\"Daftar untuk membuat akun\">Buat Akun</a>\\n</div>\\n</div>\\n<!-- login modal content end --> </div>\\n</div>\\n<script>\\n\\n\\n(function(){\\n    $(\\'#main_container\\').on(\\'mouseover\\', \\'.listing-picture-slider\\', function(event){\\n        if (\\'ontouchstart\\' in window\\n            || navigator.maxTouchPoints > 0\\n            || navigator.msMaxTouchPoints > 0\\n        ) {\\n            return;\\n        }\\n\\n        if (!this.sliderPicturesLoaded) {\\n            var id = $(this).data(\\'id\\');\\n            var item = this;\\n            var counter = 0;\\n\\n            var data = {\\n                mode: \\'getListingPhotos\\',\\n                id: id\\n            };\\n            flUtil.ajax(data, function(response, status){\\n                if (status == \\'success\\') {\\n                    if (response.status == \\'OK\\') {\\n                        for (var i in response.data) {\\n                            if (i === \\'0\\') {\\n                                continue;\\n                            }\\n\\n                            var index = parseInt(i) + 1;\\n                            var src = rlConfig[\\'files_url\\'] + response.data[i].Thumbnail;\\n\\n                            $(item).find(\\'.pic-empty-\\' + index).attr(\\'src\\', src);\\n                        }\\n\\n                        $(item).find(\\'img\\').one(\\'load\\', function(){\\n                            counter++;\\n\\n                            if (counter == (response.data.length - 1)) {\\n                                $(item).addClass(\\'listing-picture-slider_loaded\\');\\n                            }\\n                        });\\n                    }\\n                } else {\\n                    printMessage(\\'error\\', lang[\\'system_error\\']);\\n                }\\n            }, true);\\n\\n            item.sliderPicturesLoaded = true;\\n        }\\n    });\\n})();\\n\\n\\n</script>\\n<!-- Call owner mobile floating buttons -->\\n<!-- Call owner mobile floating buttons end -->\\n<link href=\"https://www.sewakost.com/plugins/categoryFilter/static/style.css\" rel=\"stylesheet\"/>\\n<script src=\"https://www.sewakost.com/templates/newsewakost/js/util.js\"></script>\\n<script src=\"https://www.sewakost.com/templates/newsewakost/js/jquery.flModal.js\"></script>\\n<script src=\"https://www.sewakost.com/libs/jquery/cookie.js\"></script>\\n<script src=\"https://www.sewakost.com/libs/jquery/numeric.js\"></script>\\n<script src=\"https://www.sewakost.com/plugins/categoryFilter/static/lib.js\"></script>\\n<script>flUtil.init();</script>\\n<script>\\n        rlConfig.links_type   = \\'short\\';\\n        lang.cf_apply_filter  = \\'Apply\\';\\n        lang.cf_remove_filter = \\'Clear filter\\';\\n\\n        \\n        $(function() {\\n            // restore correct url\\n            if (rlConfig.links_type == \\'short\\') {\\n                $(\\'.cf-apply[id*=\"cf_checkbox_\"]\\').each(function () {\\n                    var $filterLink = $(this).find(\\'a:not(.cf-remove)\\');\\n\\n                    $filterLink.attr(\\'accesskey\\', $filterLink.attr(\\'accesskey\\').replace(\\'.html\\', \\'/\\'));\\n                    $filterLink.attr(\\'href\\', $filterLink.attr(\\'href\\').replace(\\'.html\\', \\'/\\'));\\n                });\\n            }\\n\\n            categoryFilter.moreFilters();\\n        });\\n        </script>\\n<script>\\n    flUtil.loadScript(rlConfig.tpl_base + \\'components/pagination/_pagination.js\\', function() {\\n        flPaginationHandler($(\\'ul.pagination\\'));\\n    });\\n</script>\\n<script>\\n    var default_grid_view = \\'list\\';\\n    \\n\\n    $(function(){\\n        var $buttons  = $(\\'div.switcher > div.buttons > div\\');\\n        var $sorting  = $(\\'div.grid_navbar > div.sorting > div.current\\');\\n        var $listings = $(\\'#listings\\');\\n        var $map      = $(\\'#listings_map\\');\\n        var view      = readCookie(\\'grid_mode\\');\\n\\n        $buttons.click(function(){\\n            $buttons.filter(\\'.active\\').removeClass(\\'active\\');\\n\\n            var view         = $(this).data(\\'type\\');\\n            var currentClass = $listings.attr(\\'class\\').split(\\' \\')[0];\\n\\n            createCookie(\\'grid_mode\\', view, 365);\\n\\n            $(this).addClass(\\'active\\');\\n\\n            $listings.attr(\\'class\\', $listings.attr(\\'class\\').replace(currentClass, view));\\n            $listings[view == \\'map\\' ? \\'hide\\' : \\'show\\']();\\n            $map[view == \\'map\\' ? \\'show\\' : \\'hide\\']();\\n            $sorting[view == \\'map\\' ? \\'addClass\\' : \\'removeClass\\'](\\'disabled\\');\\n\\n            if (view == \\'map\\') {\\n                if ($map.find(\\'> *\\').length > 0\\n                    || typeof listings_map_data == \\'undefined\\'\\n                    || !listings_map_data.length\\n                ) {\\n                    return;\\n                }\\n\\n                flUtil.loadStyle(rlConfig[\\'map_api_css\\']);\\n                flUtil.loadScript(rlConfig[\\'map_api_js\\'], function(){\\n                    flMap.init($map, {\\n                        addresses: listings_map_data,\\n                        zoom: rlConfig[\\'map_default_zoom\\'],\\n                        markerCluster: true\\n                    });\\n                });\\n            }\\n        });\\n\\n        if (typeof listings_map_data == \\'undefined\\' || listings_map_data.length <= 0) {\\n            $buttons.filter(\\'.map\\').remove();\\n\\n            if (view == \\'map\\') {\\n                $buttons.filter(\\'.list\\').trigger(\\'click\\');\\n            }\\n        } else if (view == \\'map\\') {\\n            $buttons.filter(\\'.map\\').trigger(\\'click\\');\\n        }\\n\\n        if (media_query == \\'mobile\\' && view != \\'map\\') {\\n            $buttons.filter(\\'.\\' + default_grid_view).trigger(\\'click\\');\\n        }\\n    });\\n\\n    \\n    </script>\\n<script>\\nvar is_advanced_search = false;\\n\\n\\nflUtil.loadScript(rlConfig[\\'tpl_base\\'] + \\'js/form.js\\', function(){\\n    if (is_advanced_search) {\\n        flForm.realtyPropType();\\n    } else {\\n        flForm.realtyPropType(\\n            \\'div.search-item span.custom-input input[name=\"f[sale_rent]\"]\\',\\n            \\'div.search-item span.custom-input input[name=\"f[time_frame]\"]\\',\\n            \\'.search-item\\'\\n        );\\n    }\\n});\\n\\n\\n</script>\\n<script>\\n    \\n        $(document).ready(function(){\\n            $parent = $(\\'.newsletter\\');\\n\\n            /**\\n             * OLX clone template fix\\n             * @todo - Remove once the olx_clone template will use newsletterAction() function\\n             */\\n            if ($parent.parent().hasClass(\\'main-wrapper\\')) {\\n                $parent.find(\\'.newsletter_email\\').attr(\\'id\\', \\'newsletter_email\\');\\n            }\\n\\n            $button = $parent.find(\\'.subscribe_user\\');\\n            var $email  = $parent.find(\\'.newsletter_email\\');\\n            newsletterAction($button, $email, \\'\\', true);\\n        });\\n    \\n</script>\\n<!-- Popup interface -->\\n<script id=\"call_owner_popup_content\" type=\"text/x-jsrender\">\\n<div class=\"d-flex flex-column\">\\n    <div class=\"pb-3\">\\n        [%if main_phone%]\\n            <a href=\"tel:[%:main_phone%]\" style=\"font-size: 1.750em;\">[%:main_phone%]</a>\\n        [%else%]\\n            N/A\\n        [%/if%]\\n    </div>\\n    <div class=\"pb-1\">[%:full_name%]</div>\\n    <div class=\"date\">[%:seller_data%]</div>\\n\\n    [%if phones%]\\n    <div class=\"mt-4\">\\n        <h4>[%:phrases.call_owner_additional_numbers%]</h4>\\n        [%for phones%]\\n            <div class=\"pt-1\">\\n                <a href=\"tel:[%:%]\">[%:%]</a>\\n            </div>\\n        [%/for%]\\n    </div>\\n    [%/if%]\\n</div>\\n</script>\\n<script>\\n\\n\\nflUtil.loadStyle(rlConfig[\\'tpl_base\\'] + \\'components/popup/popup.css\\');\\nflUtil.loadScript([\\n        rlConfig[\\'tpl_base\\'] + \\'components/popup/_popup.js\\',\\n        rlConfig[\\'libs_url\\'] + \\'javascript/jsRender.js\\'\\n    ], function(){\\n        $(\\'body\\').on(\\'click\\', \\'.call-owner\\', function(){\\n            $(this).popup({\\n                click: false,\\n                width: 320,\\n                caption: lang[\\'call_owner\\'],\\n                content: $(\\'<div>\\').css(\\'height\\', \\'90px\\').text(lang[\\'loading\\']),\\n                onShow: function($interface){\\n                    var listingID = this.$element.data(\\'listing-id\\');\\n                    var data = {\\n                        mode: \\'getCallOwnerData\\',\\n                        listingID: listingID\\n                    };\\n                    flUtil.ajax(data, function(response, status){\\n                        if (status == \\'success\\' && response.status == \\'OK\\') {\\n                            var $content = $interface.find(\\'.body\\');\\n\\n                            $content.empty();\\n                            $content.append($(\\'#call_owner_popup_content\\').render(response.results));\\n\\n                            flUtil.ajax({mode: \\'savePhoneClick\\', listingID: listingID}, function () {});\\n                        } else {\\n                            printMessage(\\'error\\', lang[\\'system_error\\']);\\n                        }\\n                    }, true);\\n                }\\n            });\\n        });\\n    }\\n);\\n\\n\\n</script>\\n<!-- Popup interface end --> <!-- Contact Owner buttons handler -->\\n<div class=\"d-none hidden-contact-form\">\\n<div class=\"tmp-dom w-100\">\\n<!-- contact seller form tpl -->\\n<form action=\"\" class=\"w-100\" data-account-id=\"0\" data-box-id=\"1\" data-listing-id=\"\" method=\"post\" name=\"contact_owner\">\\n<div class=\"submit-cell\">\\n<div class=\"field\"><input class=\"w-100\" id=\"contact_name_1\" maxlength=\"100\" name=\"contact_name\" placeholder=\"Nama\" type=\"text\" value=\"\"/><span></span></div>\\n</div>\\n<div class=\"submit-cell\">\\n<div class=\"field\"><input class=\"w-100\" id=\"contact_email_1\" maxlength=\"200\" name=\"contact_email\" placeholder=\"Email\" type=\"text\" value=\"\"/><span></span></div>\\n</div>\\n<div class=\"submit-cell\">\\n<div class=\"field\"><input class=\"w-100\" id=\"contact_phone_1\" maxlength=\"30\" name=\"contact_phone\" placeholder=\"Telepon / HP\" type=\"text\"/><span></span></div>\\n</div>\\n<div class=\"submit-cell\">\\n<textarea cols=\"\" id=\"contact_owner_message_1\" name=\"contact_message\" placeholder=\"Pesan\" rows=\"5\"></textarea>\\n</div>\\n<div class=\"submit-cell\">\\n<div class=\"field\">\\n<img alt=\"Click on the image to refresh the captcha.\" class=\"contact_code_1_security_img\" id=\"contact_code_1_security_img\" onclick=\"$(this).attr(\\'src\\',\\'https://www.sewakost.com/libs/kcaptcha/getImage.php?\\'+Math.random()+\\'&amp;id=contact_code_1\\');\" src=\"https://www.sewakost.com/libs/kcaptcha/getImage.php?1662517156&amp;id=contact_code_1\" style=\"cursor: pointer;\" title=\"Click on the image to refresh the captcha.\"/>\\n<input class=\"wauto ml-2\" id=\"contact_code_1_security_code\" maxlength=\"6\" name=\"security_code\" size=\"6\" style=\"margin: 0;\" type=\"text\"/>\\n</div>\\n</div>\\n<script>\\n    \\n\\n    $(function(){\\n        flynaxTpl.setupTextarea();\\n    });\\n\\n    \\n    </script>\\n<div class=\"submit-cell buttons\">\\n<div class=\"field\">\\n<input class=\"w-100\" data-phrase=\"Hubungi\" name=\"finish\" type=\"submit\" value=\"Hubungi\"/>\\n<input class=\"hide\" id=\"form_reset_1\" type=\"reset\" value=\"reset\"/>\\n</div>\\n</div>\\n</form>\\n<!-- contact seller form tpl end --> </div>\\n</div>\\n<script>\\n\\n\\n$(\\'body\\').on(\\'submit\\', \\'form[name=contact_owner]\\', function(){\\n    var $form = $(this);\\n    var $button = $form.find(\\'input[type=submit]\\');\\n    var listingID = $form.data(\\'listing-id\\');\\n    var accountID = $form.data(\\'account-id\\');\\n    var boxID = $form.data(\\'box-id\\');\\n\\n    $button.val(lang[\\'loading\\']);\\n\\n    if ($form.closest(\\'.popup\\').length) {\\n        $form.find(\\'input,textarea\\').focus(function(){\\n            $(this).removeClass(\\'error\\');\\n        });\\n    }\\n\\n    var data = {\\n        mode:         \\'contactOwner\\',\\n        name:          $form.find(\\'input[name=contact_name]\\').val(),\\n        email:         $form.find(\\'input[name=contact_email]\\').val(),\\n        phone:         $form.find(\\'input[name=contact_phone]\\').val(),\\n        message:       $form.find(\\'textarea[name=contact_message]\\').val(),\\n        security_code: $form.find(\\'input[name^=security_code]\\').val(),\\n        listing_id:    listingID,\\n        account_id:    accountID,\\n        box_index:     boxID\\n    };\\n    flUtil.ajax(data, function(response, status){\\n        if (status == \\'success\\') {\\n            if (response.status == \\'ok\\') {\\n                $(\\'#modal_block > div.inner > div.close\\').trigger(\\'click\\');\\n                $form.closest(\\'.popup\\').find(\\'.close\\').trigger(\\'click\\');\\n\\n                printMessage(\\'notice\\', response.message_text);\\n\\n                $form.find(\\'img[class^=contact_code_]\\').trigger(\\'click\\');\\n                $form.find(\\'input[type=reset]\\').trigger(\\'click\\');\\n            } else {\\n                if ($form.closest(\\'.popup\\').length) {\\n                    $form.find(response.error_fields).addClass(\\'error\\');\\n                } else {\\n                    printMessage(\\'error\\', response.message_text, response.error_fields);\\n                }\\n            }\\n\\n            $button.val($button.data(\\'phrase\\'));\\n        } else {\\n            printMessage(\\'error\\', lang[\\'system_error\\']);\\n        }\\n    }, true);\\n\\n    return false;\\n});\\n\\n\\n</script>\\n<script>\\nlang[\\'contact_owner\\'] = \"Hubungi\";\\nlang[\\'login\\'] = \"Login\";\\n\\n\\n\\nflUtil.loadStyle(rlConfig[\\'tpl_base\\'] + \\'components/popup/popup.css\\');\\nflUtil.loadScript(rlConfig[\\'tpl_base\\'] + \\'components/popup/_popup.js\\', function(){\\n    $(\\'.contact-owner\\').popup({\\n        width: 320,\\n        caption: lang[\\'contact_owner\\'],\\n        content: $(\\'.hidden-contact-form > .tmp-dom\\').clone(true, true),\\n        onShow: function($interface){\\n            flynaxTpl.setupTextarea();\\n        }\\n    });\\n\\n    $(\\'a.login\\').popup({\\n        caption: lang[\\'login\\'],\\n        content : $(\\'#login_modal_source > .tmp-dom\\').clone(true, true),\\n        width  : 320\\n    });\\n});\\n\\n\\n</script>\\n<!-- Contact Owner buttons handler end -->\\n<script>\\n        $(function () {\\n            flUtil.loadScript(rlConfig.tpl_base + \\'js/form.js\\', function () {\\n                $(\\'select.select-autocomplete\\').each(function () {\\n                    flForm.addAutocompleteForDropdown($(this));\\n                });\\n\\n                $(\\'.show-phone\\').click(function () {\\n                    let $phone = $(this).parent().find(\\'.hidden-phone\\');\\n                    flForm.showHiddenPhone($phone, $phone.data(\\'entity-id\\'), $phone.data(\\'entity\\'), $phone.data(\\'field\\'));\\n                });\\n            });\\n        });\\n    </script>\\n</body>\\n</html>'"
            ],
            "application/vnd.google.colaboratory.intrinsic+json": {
              "type": "string"
            }
          },
          "metadata": {},
          "execution_count": 4
        }
      ]
    },
    {
      "cell_type": "code",
      "source": [
        "try:\n",
        "    find_pagination = soup.find(\"ul\", attrs = {\"class\": \"pagination\"})\n",
        "    find_span = find_pagination.findAll(\"span\")\n",
        "    total_page = int(find_span[1].text[-2:])\n",
        "    print(\"Total Page: {}\".format(total_page))\n",
        "except:\n",
        "    print(\"Article Not Found\")"
      ],
      "metadata": {
        "colab": {
          "base_uri": "https://localhost:8080/"
        },
        "id": "7QP7cMv3vq4K",
        "outputId": "0b3b8d15-b0de-4202-94b7-cde594356e0d"
      },
      "execution_count": 11,
      "outputs": [
        {
          "output_type": "stream",
          "name": "stdout",
          "text": [
            "Total Page: 89\n"
          ]
        }
      ]
    },
    {
      "cell_type": "code",
      "source": [
        "cek = 2\n",
        "print(\"https://www.sewakost.com/jakarta/selatan/index%s.html\" % cek)"
      ],
      "metadata": {
        "colab": {
          "base_uri": "https://localhost:8080/"
        },
        "id": "gcx9c88jxJ7s",
        "outputId": "cbafda2d-a67a-4400-c463-2b663a9ace01"
      },
      "execution_count": 12,
      "outputs": [
        {
          "output_type": "stream",
          "name": "stdout",
          "text": [
            "https://www.sewakost.com/jakarta/selatan/index2.html\n"
          ]
        }
      ]
    },
    {
      "cell_type": "code",
      "source": [
        "sewakost = []\n",
        "\n",
        "for page_num in tqdm(range(2, total_page+1)[:2]):\n",
        "    url_sewakost = \"https://www.sewakost.com/jakarta/selatan/index%s.html\" % page_num\n",
        "    # print(url_sewakost)\n",
        "    r = requests.get(url_sewakost, verify=False)\n",
        "    s = BeautifulSoup(r.content, \"html.parser\")\n",
        "    \n",
        "    find_kos = s.findAll(\"div\", attrs = {\"class\": \"main-column clearfix\"})\n",
        "    for row in find_kos:\n",
        "        kos = {}\n",
        "        kos['nama'] = row.ul.li.a['title']\n",
        "        kos['url'] = row.ul.li.a['href']\n",
        "        harga = row.find(\"span\", attrs = {\"class\": \"price-tag\"})\n",
        "        kos['harga'] = harga.span.text\n",
        "        \n",
        "        sewakost.append(kos)"
      ],
      "metadata": {
        "colab": {
          "base_uri": "https://localhost:8080/"
        },
        "id": "39LQPe7uwt_t",
        "outputId": "b235a649-14bd-4277-9d22-b1f5152d7a55"
      },
      "execution_count": 23,
      "outputs": [
        {
          "output_type": "stream",
          "name": "stderr",
          "text": [
            "\r  0%|          | 0/2 [00:00<?, ?it/s]/usr/local/lib/python3.7/dist-packages/urllib3/connectionpool.py:847: InsecureRequestWarning: Unverified HTTPS request is being made. Adding certificate verification is strongly advised. See: https://urllib3.readthedocs.io/en/latest/advanced-usage.html#ssl-warnings\n",
            "  InsecureRequestWarning)\n",
            " 50%|█████     | 1/2 [00:01<00:01,  1.18s/it]/usr/local/lib/python3.7/dist-packages/urllib3/connectionpool.py:847: InsecureRequestWarning: Unverified HTTPS request is being made. Adding certificate verification is strongly advised. See: https://urllib3.readthedocs.io/en/latest/advanced-usage.html#ssl-warnings\n",
            "  InsecureRequestWarning)\n",
            "100%|██████████| 2/2 [00:01<00:00,  1.07it/s]\n"
          ]
        }
      ]
    },
    {
      "cell_type": "code",
      "source": [
        "pd.DataFrame(sewakost)"
      ],
      "metadata": {
        "colab": {
          "base_uri": "https://localhost:8080/",
          "height": 1000
        },
        "id": "pcEHmckp6pJX",
        "outputId": "5102a080-7a23-47ba-de0c-7bf2d4f8bb84"
      },
      "execution_count": 25,
      "outputs": [
        {
          "output_type": "execute_result",
          "data": {
            "text/plain": [
              "                                                 nama  \\\n",
              "0                               Kost Putra Hj Zakiyah   \n",
              "1                     Kontrak Kos Exclusive Jagakarsa   \n",
              "2                            SS HOMES EXECUTIVE ROOMS   \n",
              "3             KOST IDAMAN SEBRANG MAL KOTA KASABLANKA   \n",
              "4                                        Amanda kost    \n",
              "5                       Rumah Salam @ Mutiara Ragunan   \n",
              "6                       Rumah Salam @ Mutiara Ragunan   \n",
              "7                                        Amanda kost    \n",
              "8                      Disewakan kamar kos exlcusive    \n",
              "9   DI SEWAKAN KOSTAN DI JAKARTA SELATAN JAGAKARSA...   \n",
              "10  Disewakan rumah 3 Lt strategis Kahfi 1 dekat p...   \n",
              "11                                               Kost   \n",
              "12                              kontrakan 17A Barkah.   \n",
              "13                KOST LENTENG AGUNG  \"Khusus Wanita\"   \n",
              "14                           KOST EKSKLUSIF SETIABUDI   \n",
              "15                                   Kost Ibu Halimah   \n",
              "16                                 Terima Kost Wanita   \n",
              "17                                 Terima Kost Wanita   \n",
              "18                                          Kos Putri   \n",
              "19                                 Angsana Kost Putri   \n",
              "20  Kost Putri Menteng Atas Selatan Bangunan Baru ...   \n",
              "21                                  Dikontrakan rumah   \n",
              "22  kost dan kontrakan terjangkau di cilandak jaka...   \n",
              "23  TERIMA KOST PUTRI Exclusive White Kost Tebet B...   \n",
              "24                                NORTHOUSE RESIDENCE   \n",
              "25                                                Kos   \n",
              "26                                  Kos khusus wanita   \n",
              "27                      Kost Wanita Syariah Eksklusif   \n",
              "28                               EASTHOUSE Residence    \n",
              "29                                     Kost Karyawati   \n",
              "30                             Kost Pintu Biru Ampera   \n",
              "31                           kost murah di cengkareng   \n",
              "32                                          Rita Kost   \n",
              "33                        Kost Murah Jakarta Selatan    \n",
              "34                  Cotton Room Tebet Jakarta Selatan   \n",
              "35                 Athome19 Premium Room With Terrace   \n",
              "36                              Athome19 Deluxe Room    \n",
              "37                             Athome19 Superior Room   \n",
              "38  Kost Putri di Radio Dalam dekat Pondok Indah d...   \n",
              "39                               Kost Putra Sederhana   \n",
              "40                                       Amanda kost    \n",
              "41  Kost Menteng Dalam, Tebet , Sudah Termasuk Lis...   \n",
              "42                                  Kost Luwes Bacang   \n",
              "43          Kost Putri Lenteng Agung Lokasi Strategis   \n",
              "44                                  KOST KMC (Campur)   \n",
              "45                Kost Khusus Wanita - Kebayoran Baru   \n",
              "46                                 Indekos Ibu Firman   \n",
              "47                                   Kos Salihara 13    \n",
              "\n",
              "                                                  url          harga  \n",
              "0   https://www.sewakost.com/jakarta/selatan/kost-...     Rp 500.000  \n",
              "1   https://www.sewakost.com/jakarta/selatan/kontr...   Rp 4.000.000  \n",
              "2   https://www.sewakost.com/jakarta/selatan/ss-ho...   Rp 3.500.000  \n",
              "3   https://www.sewakost.com/jakarta/selatan/kost-...   Rp 2.600.000  \n",
              "4   https://www.sewakost.com/jakarta/selatan/amand...     Rp 600.000  \n",
              "5   https://www.sewakost.com/jakarta/selatan/rumah...   Rp 1.800.000  \n",
              "6   https://www.sewakost.com/jakarta/selatan/rumah...   Rp 1.500.000  \n",
              "7   https://www.sewakost.com/jakarta/selatan/amand...     Rp 600.000  \n",
              "8   https://www.sewakost.com/jakarta/selatan/disew...   Rp 4.500.000  \n",
              "9   https://www.sewakost.com/jakarta/selatan/di-se...   Rp 1.200.000  \n",
              "10  https://www.sewakost.com/jakarta/selatan/disew...  Rp 20.000.000  \n",
              "11  https://www.sewakost.com/jakarta/selatan/kost-...   Rp 2.000.000  \n",
              "12  https://www.sewakost.com/jakarta/selatan/kontr...  Rp 17.000.000  \n",
              "13  https://www.sewakost.com/jakarta/selatan/kost-...     Rp 800.000  \n",
              "14  https://www.sewakost.com/jakarta/selatan/kost-...   Rp 3.500.000  \n",
              "15  https://www.sewakost.com/jakarta/selatan/kost-...   Rp 2.000.000  \n",
              "16  https://www.sewakost.com/jakarta/selatan/terim...     Rp 600.000  \n",
              "17  https://www.sewakost.com/jakarta/selatan/terim...     Rp 600.000  \n",
              "18  https://www.sewakost.com/jakarta/selatan/kos-p...   Rp 1.500.000  \n",
              "19  https://www.sewakost.com/jakarta/selatan/angsa...   Rp 1.200.000  \n",
              "20  https://www.sewakost.com/jakarta/selatan/kost-...   Rp 1.500.000  \n",
              "21  https://www.sewakost.com/jakarta/selatan/dikon...   Rp 2.650.000  \n",
              "22  https://www.sewakost.com/jakarta/selatan/kost-...   Rp 2.500.000  \n",
              "23  https://www.sewakost.com/jakarta/selatan/terim...   Rp 1.900.000  \n",
              "24  https://www.sewakost.com/jakarta/selatan/north...      Rp 6..500  \n",
              "25  https://www.sewakost.com/jakarta/selatan/kos-8...         Rp 900  \n",
              "26  https://www.sewakost.com/jakarta/selatan/kos-k...   Rp 3.500.000  \n",
              "27  https://www.sewakost.com/jakarta/selatan/kost-...      Rp 2..600  \n",
              "28  https://www.sewakost.com/jakarta/selatan/easth...   Rp 4.000.000  \n",
              "29  https://www.sewakost.com/jakarta/selatan/kost-...     Rp 600.000  \n",
              "30  https://www.sewakost.com/jakarta/selatan/kost-...   Rp 1.500.000  \n",
              "31  https://www.sewakost.com/jakarta/selatan/kost-...   Rp 1.500.000  \n",
              "32  https://www.sewakost.com/jakarta/selatan/rita-...     Rp 700.000  \n",
              "33  https://www.sewakost.com/jakarta/selatan/kost-...     Rp 650.000  \n",
              "34  https://www.sewakost.com/jakarta/selatan/cotto...  Rp 35.000.000  \n",
              "35  https://www.sewakost.com/jakarta/selatan/athom...      Rp 7..200  \n",
              "36  https://www.sewakost.com/jakarta/selatan/athom...      Rp 6..000  \n",
              "37  https://www.sewakost.com/jakarta/selatan/athom...      Rp 5..500  \n",
              "38  https://www.sewakost.com/jakarta/selatan/kost-...   Rp 2.500.000  \n",
              "39  https://www.sewakost.com/jakarta/selatan/kost-...     Rp 550.000  \n",
              "40  https://www.sewakost.com/jakarta/selatan/amand...     Rp 600.000  \n",
              "41  https://www.sewakost.com/jakarta/selatan/kost-...   Rp 1.550.000  \n",
              "42  https://www.sewakost.com/jakarta/selatan/kost-...     Rp 850.000  \n",
              "43  https://www.sewakost.com/jakarta/selatan/kost-...   Rp 1.400.000  \n",
              "44  https://www.sewakost.com/jakarta/selatan/kost-...   Rp 2.000.000  \n",
              "45  https://www.sewakost.com/jakarta/selatan/kost-...   Rp 2.000.000  \n",
              "46  https://www.sewakost.com/jakarta/selatan/indek...     Rp 950.000  \n",
              "47  https://www.sewakost.com/jakarta/selatan/kos-s...   Rp 1.250.000  "
            ],
            "text/html": [
              "\n",
              "  <div id=\"df-a6a340ef-365b-4b16-a681-179d382f9918\">\n",
              "    <div class=\"colab-df-container\">\n",
              "      <div>\n",
              "<style scoped>\n",
              "    .dataframe tbody tr th:only-of-type {\n",
              "        vertical-align: middle;\n",
              "    }\n",
              "\n",
              "    .dataframe tbody tr th {\n",
              "        vertical-align: top;\n",
              "    }\n",
              "\n",
              "    .dataframe thead th {\n",
              "        text-align: right;\n",
              "    }\n",
              "</style>\n",
              "<table border=\"1\" class=\"dataframe\">\n",
              "  <thead>\n",
              "    <tr style=\"text-align: right;\">\n",
              "      <th></th>\n",
              "      <th>nama</th>\n",
              "      <th>url</th>\n",
              "      <th>harga</th>\n",
              "    </tr>\n",
              "  </thead>\n",
              "  <tbody>\n",
              "    <tr>\n",
              "      <th>0</th>\n",
              "      <td>Kost Putra Hj Zakiyah</td>\n",
              "      <td>https://www.sewakost.com/jakarta/selatan/kost-...</td>\n",
              "      <td>Rp 500.000</td>\n",
              "    </tr>\n",
              "    <tr>\n",
              "      <th>1</th>\n",
              "      <td>Kontrak Kos Exclusive Jagakarsa</td>\n",
              "      <td>https://www.sewakost.com/jakarta/selatan/kontr...</td>\n",
              "      <td>Rp 4.000.000</td>\n",
              "    </tr>\n",
              "    <tr>\n",
              "      <th>2</th>\n",
              "      <td>SS HOMES EXECUTIVE ROOMS</td>\n",
              "      <td>https://www.sewakost.com/jakarta/selatan/ss-ho...</td>\n",
              "      <td>Rp 3.500.000</td>\n",
              "    </tr>\n",
              "    <tr>\n",
              "      <th>3</th>\n",
              "      <td>KOST IDAMAN SEBRANG MAL KOTA KASABLANKA</td>\n",
              "      <td>https://www.sewakost.com/jakarta/selatan/kost-...</td>\n",
              "      <td>Rp 2.600.000</td>\n",
              "    </tr>\n",
              "    <tr>\n",
              "      <th>4</th>\n",
              "      <td>Amanda kost</td>\n",
              "      <td>https://www.sewakost.com/jakarta/selatan/amand...</td>\n",
              "      <td>Rp 600.000</td>\n",
              "    </tr>\n",
              "    <tr>\n",
              "      <th>5</th>\n",
              "      <td>Rumah Salam @ Mutiara Ragunan</td>\n",
              "      <td>https://www.sewakost.com/jakarta/selatan/rumah...</td>\n",
              "      <td>Rp 1.800.000</td>\n",
              "    </tr>\n",
              "    <tr>\n",
              "      <th>6</th>\n",
              "      <td>Rumah Salam @ Mutiara Ragunan</td>\n",
              "      <td>https://www.sewakost.com/jakarta/selatan/rumah...</td>\n",
              "      <td>Rp 1.500.000</td>\n",
              "    </tr>\n",
              "    <tr>\n",
              "      <th>7</th>\n",
              "      <td>Amanda kost</td>\n",
              "      <td>https://www.sewakost.com/jakarta/selatan/amand...</td>\n",
              "      <td>Rp 600.000</td>\n",
              "    </tr>\n",
              "    <tr>\n",
              "      <th>8</th>\n",
              "      <td>Disewakan kamar kos exlcusive</td>\n",
              "      <td>https://www.sewakost.com/jakarta/selatan/disew...</td>\n",
              "      <td>Rp 4.500.000</td>\n",
              "    </tr>\n",
              "    <tr>\n",
              "      <th>9</th>\n",
              "      <td>DI SEWAKAN KOSTAN DI JAKARTA SELATAN JAGAKARSA...</td>\n",
              "      <td>https://www.sewakost.com/jakarta/selatan/di-se...</td>\n",
              "      <td>Rp 1.200.000</td>\n",
              "    </tr>\n",
              "    <tr>\n",
              "      <th>10</th>\n",
              "      <td>Disewakan rumah 3 Lt strategis Kahfi 1 dekat p...</td>\n",
              "      <td>https://www.sewakost.com/jakarta/selatan/disew...</td>\n",
              "      <td>Rp 20.000.000</td>\n",
              "    </tr>\n",
              "    <tr>\n",
              "      <th>11</th>\n",
              "      <td>Kost</td>\n",
              "      <td>https://www.sewakost.com/jakarta/selatan/kost-...</td>\n",
              "      <td>Rp 2.000.000</td>\n",
              "    </tr>\n",
              "    <tr>\n",
              "      <th>12</th>\n",
              "      <td>kontrakan 17A Barkah.</td>\n",
              "      <td>https://www.sewakost.com/jakarta/selatan/kontr...</td>\n",
              "      <td>Rp 17.000.000</td>\n",
              "    </tr>\n",
              "    <tr>\n",
              "      <th>13</th>\n",
              "      <td>KOST LENTENG AGUNG  \"Khusus Wanita\"</td>\n",
              "      <td>https://www.sewakost.com/jakarta/selatan/kost-...</td>\n",
              "      <td>Rp 800.000</td>\n",
              "    </tr>\n",
              "    <tr>\n",
              "      <th>14</th>\n",
              "      <td>KOST EKSKLUSIF SETIABUDI</td>\n",
              "      <td>https://www.sewakost.com/jakarta/selatan/kost-...</td>\n",
              "      <td>Rp 3.500.000</td>\n",
              "    </tr>\n",
              "    <tr>\n",
              "      <th>15</th>\n",
              "      <td>Kost Ibu Halimah</td>\n",
              "      <td>https://www.sewakost.com/jakarta/selatan/kost-...</td>\n",
              "      <td>Rp 2.000.000</td>\n",
              "    </tr>\n",
              "    <tr>\n",
              "      <th>16</th>\n",
              "      <td>Terima Kost Wanita</td>\n",
              "      <td>https://www.sewakost.com/jakarta/selatan/terim...</td>\n",
              "      <td>Rp 600.000</td>\n",
              "    </tr>\n",
              "    <tr>\n",
              "      <th>17</th>\n",
              "      <td>Terima Kost Wanita</td>\n",
              "      <td>https://www.sewakost.com/jakarta/selatan/terim...</td>\n",
              "      <td>Rp 600.000</td>\n",
              "    </tr>\n",
              "    <tr>\n",
              "      <th>18</th>\n",
              "      <td>Kos Putri</td>\n",
              "      <td>https://www.sewakost.com/jakarta/selatan/kos-p...</td>\n",
              "      <td>Rp 1.500.000</td>\n",
              "    </tr>\n",
              "    <tr>\n",
              "      <th>19</th>\n",
              "      <td>Angsana Kost Putri</td>\n",
              "      <td>https://www.sewakost.com/jakarta/selatan/angsa...</td>\n",
              "      <td>Rp 1.200.000</td>\n",
              "    </tr>\n",
              "    <tr>\n",
              "      <th>20</th>\n",
              "      <td>Kost Putri Menteng Atas Selatan Bangunan Baru ...</td>\n",
              "      <td>https://www.sewakost.com/jakarta/selatan/kost-...</td>\n",
              "      <td>Rp 1.500.000</td>\n",
              "    </tr>\n",
              "    <tr>\n",
              "      <th>21</th>\n",
              "      <td>Dikontrakan rumah</td>\n",
              "      <td>https://www.sewakost.com/jakarta/selatan/dikon...</td>\n",
              "      <td>Rp 2.650.000</td>\n",
              "    </tr>\n",
              "    <tr>\n",
              "      <th>22</th>\n",
              "      <td>kost dan kontrakan terjangkau di cilandak jaka...</td>\n",
              "      <td>https://www.sewakost.com/jakarta/selatan/kost-...</td>\n",
              "      <td>Rp 2.500.000</td>\n",
              "    </tr>\n",
              "    <tr>\n",
              "      <th>23</th>\n",
              "      <td>TERIMA KOST PUTRI Exclusive White Kost Tebet B...</td>\n",
              "      <td>https://www.sewakost.com/jakarta/selatan/terim...</td>\n",
              "      <td>Rp 1.900.000</td>\n",
              "    </tr>\n",
              "    <tr>\n",
              "      <th>24</th>\n",
              "      <td>NORTHOUSE RESIDENCE</td>\n",
              "      <td>https://www.sewakost.com/jakarta/selatan/north...</td>\n",
              "      <td>Rp 6..500</td>\n",
              "    </tr>\n",
              "    <tr>\n",
              "      <th>25</th>\n",
              "      <td>Kos</td>\n",
              "      <td>https://www.sewakost.com/jakarta/selatan/kos-8...</td>\n",
              "      <td>Rp 900</td>\n",
              "    </tr>\n",
              "    <tr>\n",
              "      <th>26</th>\n",
              "      <td>Kos khusus wanita</td>\n",
              "      <td>https://www.sewakost.com/jakarta/selatan/kos-k...</td>\n",
              "      <td>Rp 3.500.000</td>\n",
              "    </tr>\n",
              "    <tr>\n",
              "      <th>27</th>\n",
              "      <td>Kost Wanita Syariah Eksklusif</td>\n",
              "      <td>https://www.sewakost.com/jakarta/selatan/kost-...</td>\n",
              "      <td>Rp 2..600</td>\n",
              "    </tr>\n",
              "    <tr>\n",
              "      <th>28</th>\n",
              "      <td>EASTHOUSE Residence</td>\n",
              "      <td>https://www.sewakost.com/jakarta/selatan/easth...</td>\n",
              "      <td>Rp 4.000.000</td>\n",
              "    </tr>\n",
              "    <tr>\n",
              "      <th>29</th>\n",
              "      <td>Kost Karyawati</td>\n",
              "      <td>https://www.sewakost.com/jakarta/selatan/kost-...</td>\n",
              "      <td>Rp 600.000</td>\n",
              "    </tr>\n",
              "    <tr>\n",
              "      <th>30</th>\n",
              "      <td>Kost Pintu Biru Ampera</td>\n",
              "      <td>https://www.sewakost.com/jakarta/selatan/kost-...</td>\n",
              "      <td>Rp 1.500.000</td>\n",
              "    </tr>\n",
              "    <tr>\n",
              "      <th>31</th>\n",
              "      <td>kost murah di cengkareng</td>\n",
              "      <td>https://www.sewakost.com/jakarta/selatan/kost-...</td>\n",
              "      <td>Rp 1.500.000</td>\n",
              "    </tr>\n",
              "    <tr>\n",
              "      <th>32</th>\n",
              "      <td>Rita Kost</td>\n",
              "      <td>https://www.sewakost.com/jakarta/selatan/rita-...</td>\n",
              "      <td>Rp 700.000</td>\n",
              "    </tr>\n",
              "    <tr>\n",
              "      <th>33</th>\n",
              "      <td>Kost Murah Jakarta Selatan</td>\n",
              "      <td>https://www.sewakost.com/jakarta/selatan/kost-...</td>\n",
              "      <td>Rp 650.000</td>\n",
              "    </tr>\n",
              "    <tr>\n",
              "      <th>34</th>\n",
              "      <td>Cotton Room Tebet Jakarta Selatan</td>\n",
              "      <td>https://www.sewakost.com/jakarta/selatan/cotto...</td>\n",
              "      <td>Rp 35.000.000</td>\n",
              "    </tr>\n",
              "    <tr>\n",
              "      <th>35</th>\n",
              "      <td>Athome19 Premium Room With Terrace</td>\n",
              "      <td>https://www.sewakost.com/jakarta/selatan/athom...</td>\n",
              "      <td>Rp 7..200</td>\n",
              "    </tr>\n",
              "    <tr>\n",
              "      <th>36</th>\n",
              "      <td>Athome19 Deluxe Room</td>\n",
              "      <td>https://www.sewakost.com/jakarta/selatan/athom...</td>\n",
              "      <td>Rp 6..000</td>\n",
              "    </tr>\n",
              "    <tr>\n",
              "      <th>37</th>\n",
              "      <td>Athome19 Superior Room</td>\n",
              "      <td>https://www.sewakost.com/jakarta/selatan/athom...</td>\n",
              "      <td>Rp 5..500</td>\n",
              "    </tr>\n",
              "    <tr>\n",
              "      <th>38</th>\n",
              "      <td>Kost Putri di Radio Dalam dekat Pondok Indah d...</td>\n",
              "      <td>https://www.sewakost.com/jakarta/selatan/kost-...</td>\n",
              "      <td>Rp 2.500.000</td>\n",
              "    </tr>\n",
              "    <tr>\n",
              "      <th>39</th>\n",
              "      <td>Kost Putra Sederhana</td>\n",
              "      <td>https://www.sewakost.com/jakarta/selatan/kost-...</td>\n",
              "      <td>Rp 550.000</td>\n",
              "    </tr>\n",
              "    <tr>\n",
              "      <th>40</th>\n",
              "      <td>Amanda kost</td>\n",
              "      <td>https://www.sewakost.com/jakarta/selatan/amand...</td>\n",
              "      <td>Rp 600.000</td>\n",
              "    </tr>\n",
              "    <tr>\n",
              "      <th>41</th>\n",
              "      <td>Kost Menteng Dalam, Tebet , Sudah Termasuk Lis...</td>\n",
              "      <td>https://www.sewakost.com/jakarta/selatan/kost-...</td>\n",
              "      <td>Rp 1.550.000</td>\n",
              "    </tr>\n",
              "    <tr>\n",
              "      <th>42</th>\n",
              "      <td>Kost Luwes Bacang</td>\n",
              "      <td>https://www.sewakost.com/jakarta/selatan/kost-...</td>\n",
              "      <td>Rp 850.000</td>\n",
              "    </tr>\n",
              "    <tr>\n",
              "      <th>43</th>\n",
              "      <td>Kost Putri Lenteng Agung Lokasi Strategis</td>\n",
              "      <td>https://www.sewakost.com/jakarta/selatan/kost-...</td>\n",
              "      <td>Rp 1.400.000</td>\n",
              "    </tr>\n",
              "    <tr>\n",
              "      <th>44</th>\n",
              "      <td>KOST KMC (Campur)</td>\n",
              "      <td>https://www.sewakost.com/jakarta/selatan/kost-...</td>\n",
              "      <td>Rp 2.000.000</td>\n",
              "    </tr>\n",
              "    <tr>\n",
              "      <th>45</th>\n",
              "      <td>Kost Khusus Wanita - Kebayoran Baru</td>\n",
              "      <td>https://www.sewakost.com/jakarta/selatan/kost-...</td>\n",
              "      <td>Rp 2.000.000</td>\n",
              "    </tr>\n",
              "    <tr>\n",
              "      <th>46</th>\n",
              "      <td>Indekos Ibu Firman</td>\n",
              "      <td>https://www.sewakost.com/jakarta/selatan/indek...</td>\n",
              "      <td>Rp 950.000</td>\n",
              "    </tr>\n",
              "    <tr>\n",
              "      <th>47</th>\n",
              "      <td>Kos Salihara 13</td>\n",
              "      <td>https://www.sewakost.com/jakarta/selatan/kos-s...</td>\n",
              "      <td>Rp 1.250.000</td>\n",
              "    </tr>\n",
              "  </tbody>\n",
              "</table>\n",
              "</div>\n",
              "      <button class=\"colab-df-convert\" onclick=\"convertToInteractive('df-a6a340ef-365b-4b16-a681-179d382f9918')\"\n",
              "              title=\"Convert this dataframe to an interactive table.\"\n",
              "              style=\"display:none;\">\n",
              "        \n",
              "  <svg xmlns=\"http://www.w3.org/2000/svg\" height=\"24px\"viewBox=\"0 0 24 24\"\n",
              "       width=\"24px\">\n",
              "    <path d=\"M0 0h24v24H0V0z\" fill=\"none\"/>\n",
              "    <path d=\"M18.56 5.44l.94 2.06.94-2.06 2.06-.94-2.06-.94-.94-2.06-.94 2.06-2.06.94zm-11 1L8.5 8.5l.94-2.06 2.06-.94-2.06-.94L8.5 2.5l-.94 2.06-2.06.94zm10 10l.94 2.06.94-2.06 2.06-.94-2.06-.94-.94-2.06-.94 2.06-2.06.94z\"/><path d=\"M17.41 7.96l-1.37-1.37c-.4-.4-.92-.59-1.43-.59-.52 0-1.04.2-1.43.59L10.3 9.45l-7.72 7.72c-.78.78-.78 2.05 0 2.83L4 21.41c.39.39.9.59 1.41.59.51 0 1.02-.2 1.41-.59l7.78-7.78 2.81-2.81c.8-.78.8-2.07 0-2.86zM5.41 20L4 18.59l7.72-7.72 1.47 1.35L5.41 20z\"/>\n",
              "  </svg>\n",
              "      </button>\n",
              "      \n",
              "  <style>\n",
              "    .colab-df-container {\n",
              "      display:flex;\n",
              "      flex-wrap:wrap;\n",
              "      gap: 12px;\n",
              "    }\n",
              "\n",
              "    .colab-df-convert {\n",
              "      background-color: #E8F0FE;\n",
              "      border: none;\n",
              "      border-radius: 50%;\n",
              "      cursor: pointer;\n",
              "      display: none;\n",
              "      fill: #1967D2;\n",
              "      height: 32px;\n",
              "      padding: 0 0 0 0;\n",
              "      width: 32px;\n",
              "    }\n",
              "\n",
              "    .colab-df-convert:hover {\n",
              "      background-color: #E2EBFA;\n",
              "      box-shadow: 0px 1px 2px rgba(60, 64, 67, 0.3), 0px 1px 3px 1px rgba(60, 64, 67, 0.15);\n",
              "      fill: #174EA6;\n",
              "    }\n",
              "\n",
              "    [theme=dark] .colab-df-convert {\n",
              "      background-color: #3B4455;\n",
              "      fill: #D2E3FC;\n",
              "    }\n",
              "\n",
              "    [theme=dark] .colab-df-convert:hover {\n",
              "      background-color: #434B5C;\n",
              "      box-shadow: 0px 1px 3px 1px rgba(0, 0, 0, 0.15);\n",
              "      filter: drop-shadow(0px 1px 2px rgba(0, 0, 0, 0.3));\n",
              "      fill: #FFFFFF;\n",
              "    }\n",
              "  </style>\n",
              "\n",
              "      <script>\n",
              "        const buttonEl =\n",
              "          document.querySelector('#df-a6a340ef-365b-4b16-a681-179d382f9918 button.colab-df-convert');\n",
              "        buttonEl.style.display =\n",
              "          google.colab.kernel.accessAllowed ? 'block' : 'none';\n",
              "\n",
              "        async function convertToInteractive(key) {\n",
              "          const element = document.querySelector('#df-a6a340ef-365b-4b16-a681-179d382f9918');\n",
              "          const dataTable =\n",
              "            await google.colab.kernel.invokeFunction('convertToInteractive',\n",
              "                                                     [key], {});\n",
              "          if (!dataTable) return;\n",
              "\n",
              "          const docLinkHtml = 'Like what you see? Visit the ' +\n",
              "            '<a target=\"_blank\" href=https://colab.research.google.com/notebooks/data_table.ipynb>data table notebook</a>'\n",
              "            + ' to learn more about interactive tables.';\n",
              "          element.innerHTML = '';\n",
              "          dataTable['output_type'] = 'display_data';\n",
              "          await google.colab.output.renderOutput(dataTable, element);\n",
              "          const docLink = document.createElement('div');\n",
              "          docLink.innerHTML = docLinkHtml;\n",
              "          element.appendChild(docLink);\n",
              "        }\n",
              "      </script>\n",
              "    </div>\n",
              "  </div>\n",
              "  "
            ]
          },
          "metadata": {},
          "execution_count": 25
        }
      ]
    },
    {
      "cell_type": "code",
      "source": [
        "for kos in tqdm(sewakost):\n",
        "  req_kos = requests.get(kos['url'], verify = False)\n",
        "  print(kos['nama'])\n",
        "  soup_kos = BeautifulSoup(req_kos.content, \"html.parser\")\n",
        "\n",
        "  informasi = ['jenis', 'address', 'aircon', 'free_wifi', 'kamar_mandi_dalam']\n",
        "\n",
        "  for info in informasi:\n",
        "    value = soup_kos.find(\"div\", attrs={\"id\": \"df_field_%s\" % info}).find(\"div\", attrs={\"class\":\"value\"})\n",
        "    kos[info] = value.text.strip()\n",
        "\n",
        "  try:\n",
        "    kos['fasilitas_kamar'] = []\n",
        "    fasilitas_kamar = soup_kos.find(\"div\", attrs={\"id\": \"df_field_fasilitas_kamar\"}).find(\"div\", attrs={\"class\":\"value\"})\n",
        "    for fasilitas in fasilitas_kamar.findAll(\"li\"):\n",
        "      kos['fasilitas_kamar'].append(fasilitas['title'])\n",
        "  \n",
        "    kos['fasilitas_bersama'] = []\n",
        "    fasilitas_bersama = soup_kos.find(\"div\", attrs={\"id\": \"df_field_fasilitas_kost\"}).find(\"div\", attrs={\"class\":\"value\"})\n",
        "    for fasilitas in fasilitas_bersama.findAll(\"li\"):\n",
        "      kos['fasilitas_bersama'].append(fasilitas['title'])\n",
        "  except:\n",
        "    pass"
      ],
      "metadata": {
        "colab": {
          "base_uri": "https://localhost:8080/"
        },
        "id": "zFo7QQFf65z9",
        "outputId": "363e2f22-db61-4a96-bab1-2812ac7bf7b3"
      },
      "execution_count": 55,
      "outputs": [
        {
          "output_type": "stream",
          "name": "stderr",
          "text": [
            "\r  0%|          | 0/48 [00:00<?, ?it/s]/usr/local/lib/python3.7/dist-packages/urllib3/connectionpool.py:847: InsecureRequestWarning: Unverified HTTPS request is being made. Adding certificate verification is strongly advised. See: https://urllib3.readthedocs.io/en/latest/advanced-usage.html#ssl-warnings\n",
            "  InsecureRequestWarning)\n",
            "  2%|▏         | 1/48 [00:00<00:37,  1.24it/s]"
          ]
        },
        {
          "output_type": "stream",
          "name": "stdout",
          "text": [
            "Kost Putra Hj Zakiyah\n"
          ]
        },
        {
          "output_type": "stream",
          "name": "stderr",
          "text": [
            "/usr/local/lib/python3.7/dist-packages/urllib3/connectionpool.py:847: InsecureRequestWarning: Unverified HTTPS request is being made. Adding certificate verification is strongly advised. See: https://urllib3.readthedocs.io/en/latest/advanced-usage.html#ssl-warnings\n",
            "  InsecureRequestWarning)\n",
            "  4%|▍         | 2/48 [00:01<00:40,  1.12it/s]"
          ]
        },
        {
          "output_type": "stream",
          "name": "stdout",
          "text": [
            "Kontrak Kos Exclusive Jagakarsa\n"
          ]
        },
        {
          "output_type": "stream",
          "name": "stderr",
          "text": [
            "/usr/local/lib/python3.7/dist-packages/urllib3/connectionpool.py:847: InsecureRequestWarning: Unverified HTTPS request is being made. Adding certificate verification is strongly advised. See: https://urllib3.readthedocs.io/en/latest/advanced-usage.html#ssl-warnings\n",
            "  InsecureRequestWarning)\n",
            "  6%|▋         | 3/48 [00:03<01:07,  1.49s/it]"
          ]
        },
        {
          "output_type": "stream",
          "name": "stdout",
          "text": [
            "SS HOMES EXECUTIVE ROOMS\n"
          ]
        },
        {
          "output_type": "stream",
          "name": "stderr",
          "text": [
            "/usr/local/lib/python3.7/dist-packages/urllib3/connectionpool.py:847: InsecureRequestWarning: Unverified HTTPS request is being made. Adding certificate verification is strongly advised. See: https://urllib3.readthedocs.io/en/latest/advanced-usage.html#ssl-warnings\n",
            "  InsecureRequestWarning)\n",
            "  8%|▊         | 4/48 [00:05<00:58,  1.33s/it]"
          ]
        },
        {
          "output_type": "stream",
          "name": "stdout",
          "text": [
            "KOST IDAMAN SEBRANG MAL KOTA KASABLANKA\n"
          ]
        },
        {
          "output_type": "stream",
          "name": "stderr",
          "text": [
            "/usr/local/lib/python3.7/dist-packages/urllib3/connectionpool.py:847: InsecureRequestWarning: Unverified HTTPS request is being made. Adding certificate verification is strongly advised. See: https://urllib3.readthedocs.io/en/latest/advanced-usage.html#ssl-warnings\n",
            "  InsecureRequestWarning)\n",
            " 10%|█         | 5/48 [00:06<00:53,  1.23s/it]"
          ]
        },
        {
          "output_type": "stream",
          "name": "stdout",
          "text": [
            "Amanda kost \n"
          ]
        },
        {
          "output_type": "stream",
          "name": "stderr",
          "text": [
            "/usr/local/lib/python3.7/dist-packages/urllib3/connectionpool.py:847: InsecureRequestWarning: Unverified HTTPS request is being made. Adding certificate verification is strongly advised. See: https://urllib3.readthedocs.io/en/latest/advanced-usage.html#ssl-warnings\n",
            "  InsecureRequestWarning)\n",
            " 12%|█▎        | 6/48 [00:07<00:47,  1.14s/it]"
          ]
        },
        {
          "output_type": "stream",
          "name": "stdout",
          "text": [
            "Rumah Salam @ Mutiara Ragunan\n"
          ]
        },
        {
          "output_type": "stream",
          "name": "stderr",
          "text": [
            "/usr/local/lib/python3.7/dist-packages/urllib3/connectionpool.py:847: InsecureRequestWarning: Unverified HTTPS request is being made. Adding certificate verification is strongly advised. See: https://urllib3.readthedocs.io/en/latest/advanced-usage.html#ssl-warnings\n",
            "  InsecureRequestWarning)\n",
            " 15%|█▍        | 7/48 [00:08<00:46,  1.13s/it]"
          ]
        },
        {
          "output_type": "stream",
          "name": "stdout",
          "text": [
            "Rumah Salam @ Mutiara Ragunan\n"
          ]
        },
        {
          "output_type": "stream",
          "name": "stderr",
          "text": [
            "/usr/local/lib/python3.7/dist-packages/urllib3/connectionpool.py:847: InsecureRequestWarning: Unverified HTTPS request is being made. Adding certificate verification is strongly advised. See: https://urllib3.readthedocs.io/en/latest/advanced-usage.html#ssl-warnings\n",
            "  InsecureRequestWarning)\n",
            " 17%|█▋        | 8/48 [00:09<00:49,  1.24s/it]"
          ]
        },
        {
          "output_type": "stream",
          "name": "stdout",
          "text": [
            "Amanda kost \n"
          ]
        },
        {
          "output_type": "stream",
          "name": "stderr",
          "text": [
            "/usr/local/lib/python3.7/dist-packages/urllib3/connectionpool.py:847: InsecureRequestWarning: Unverified HTTPS request is being made. Adding certificate verification is strongly advised. See: https://urllib3.readthedocs.io/en/latest/advanced-usage.html#ssl-warnings\n",
            "  InsecureRequestWarning)\n",
            " 19%|█▉        | 9/48 [00:11<00:51,  1.31s/it]"
          ]
        },
        {
          "output_type": "stream",
          "name": "stdout",
          "text": [
            "Disewakan kamar kos exlcusive \n"
          ]
        },
        {
          "output_type": "stream",
          "name": "stderr",
          "text": [
            "/usr/local/lib/python3.7/dist-packages/urllib3/connectionpool.py:847: InsecureRequestWarning: Unverified HTTPS request is being made. Adding certificate verification is strongly advised. See: https://urllib3.readthedocs.io/en/latest/advanced-usage.html#ssl-warnings\n",
            "  InsecureRequestWarning)\n",
            " 21%|██        | 10/48 [00:12<00:45,  1.20s/it]"
          ]
        },
        {
          "output_type": "stream",
          "name": "stdout",
          "text": [
            "DI SEWAKAN KOSTAN DI JAKARTA SELATAN JAGAKARSA LENTENG AGUNG\n"
          ]
        },
        {
          "output_type": "stream",
          "name": "stderr",
          "text": [
            "/usr/local/lib/python3.7/dist-packages/urllib3/connectionpool.py:847: InsecureRequestWarning: Unverified HTTPS request is being made. Adding certificate verification is strongly advised. See: https://urllib3.readthedocs.io/en/latest/advanced-usage.html#ssl-warnings\n",
            "  InsecureRequestWarning)\n",
            " 23%|██▎       | 11/48 [00:12<00:38,  1.04s/it]"
          ]
        },
        {
          "output_type": "stream",
          "name": "stdout",
          "text": [
            "Disewakan rumah 3 Lt strategis Kahfi 1 dekat pintu tol Brigif\n"
          ]
        },
        {
          "output_type": "stream",
          "name": "stderr",
          "text": [
            "/usr/local/lib/python3.7/dist-packages/urllib3/connectionpool.py:847: InsecureRequestWarning: Unverified HTTPS request is being made. Adding certificate verification is strongly advised. See: https://urllib3.readthedocs.io/en/latest/advanced-usage.html#ssl-warnings\n",
            "  InsecureRequestWarning)\n",
            " 25%|██▌       | 12/48 [00:13<00:34,  1.05it/s]"
          ]
        },
        {
          "output_type": "stream",
          "name": "stdout",
          "text": [
            "Kost\n"
          ]
        },
        {
          "output_type": "stream",
          "name": "stderr",
          "text": [
            "/usr/local/lib/python3.7/dist-packages/urllib3/connectionpool.py:847: InsecureRequestWarning: Unverified HTTPS request is being made. Adding certificate verification is strongly advised. See: https://urllib3.readthedocs.io/en/latest/advanced-usage.html#ssl-warnings\n",
            "  InsecureRequestWarning)\n",
            " 27%|██▋       | 13/48 [00:14<00:30,  1.15it/s]"
          ]
        },
        {
          "output_type": "stream",
          "name": "stdout",
          "text": [
            "kontrakan 17A Barkah.\n"
          ]
        },
        {
          "output_type": "stream",
          "name": "stderr",
          "text": [
            "/usr/local/lib/python3.7/dist-packages/urllib3/connectionpool.py:847: InsecureRequestWarning: Unverified HTTPS request is being made. Adding certificate verification is strongly advised. See: https://urllib3.readthedocs.io/en/latest/advanced-usage.html#ssl-warnings\n",
            "  InsecureRequestWarning)\n",
            " 29%|██▉       | 14/48 [00:14<00:27,  1.23it/s]"
          ]
        },
        {
          "output_type": "stream",
          "name": "stdout",
          "text": [
            "KOST LENTENG AGUNG  \"Khusus Wanita\"\n"
          ]
        },
        {
          "output_type": "stream",
          "name": "stderr",
          "text": [
            "/usr/local/lib/python3.7/dist-packages/urllib3/connectionpool.py:847: InsecureRequestWarning: Unverified HTTPS request is being made. Adding certificate verification is strongly advised. See: https://urllib3.readthedocs.io/en/latest/advanced-usage.html#ssl-warnings\n",
            "  InsecureRequestWarning)\n",
            " 31%|███▏      | 15/48 [00:15<00:26,  1.25it/s]"
          ]
        },
        {
          "output_type": "stream",
          "name": "stdout",
          "text": [
            "KOST EKSKLUSIF SETIABUDI\n"
          ]
        },
        {
          "output_type": "stream",
          "name": "stderr",
          "text": [
            "/usr/local/lib/python3.7/dist-packages/urllib3/connectionpool.py:847: InsecureRequestWarning: Unverified HTTPS request is being made. Adding certificate verification is strongly advised. See: https://urllib3.readthedocs.io/en/latest/advanced-usage.html#ssl-warnings\n",
            "  InsecureRequestWarning)\n",
            " 33%|███▎      | 16/48 [00:16<00:24,  1.29it/s]"
          ]
        },
        {
          "output_type": "stream",
          "name": "stdout",
          "text": [
            "Kost Ibu Halimah\n"
          ]
        },
        {
          "output_type": "stream",
          "name": "stderr",
          "text": [
            "/usr/local/lib/python3.7/dist-packages/urllib3/connectionpool.py:847: InsecureRequestWarning: Unverified HTTPS request is being made. Adding certificate verification is strongly advised. See: https://urllib3.readthedocs.io/en/latest/advanced-usage.html#ssl-warnings\n",
            "  InsecureRequestWarning)\n",
            " 35%|███▌      | 17/48 [00:17<00:22,  1.35it/s]"
          ]
        },
        {
          "output_type": "stream",
          "name": "stdout",
          "text": [
            "Terima Kost Wanita\n"
          ]
        },
        {
          "output_type": "stream",
          "name": "stderr",
          "text": [
            "/usr/local/lib/python3.7/dist-packages/urllib3/connectionpool.py:847: InsecureRequestWarning: Unverified HTTPS request is being made. Adding certificate verification is strongly advised. See: https://urllib3.readthedocs.io/en/latest/advanced-usage.html#ssl-warnings\n",
            "  InsecureRequestWarning)\n",
            " 38%|███▊      | 18/48 [00:17<00:21,  1.39it/s]"
          ]
        },
        {
          "output_type": "stream",
          "name": "stdout",
          "text": [
            "Terima Kost Wanita\n"
          ]
        },
        {
          "output_type": "stream",
          "name": "stderr",
          "text": [
            "/usr/local/lib/python3.7/dist-packages/urllib3/connectionpool.py:847: InsecureRequestWarning: Unverified HTTPS request is being made. Adding certificate verification is strongly advised. See: https://urllib3.readthedocs.io/en/latest/advanced-usage.html#ssl-warnings\n",
            "  InsecureRequestWarning)\n",
            " 40%|███▉      | 19/48 [00:18<00:20,  1.42it/s]"
          ]
        },
        {
          "output_type": "stream",
          "name": "stdout",
          "text": [
            "Kos Putri\n"
          ]
        },
        {
          "output_type": "stream",
          "name": "stderr",
          "text": [
            "/usr/local/lib/python3.7/dist-packages/urllib3/connectionpool.py:847: InsecureRequestWarning: Unverified HTTPS request is being made. Adding certificate verification is strongly advised. See: https://urllib3.readthedocs.io/en/latest/advanced-usage.html#ssl-warnings\n",
            "  InsecureRequestWarning)\n",
            " 42%|████▏     | 20/48 [00:18<00:19,  1.45it/s]"
          ]
        },
        {
          "output_type": "stream",
          "name": "stdout",
          "text": [
            "Angsana Kost Putri\n"
          ]
        },
        {
          "output_type": "stream",
          "name": "stderr",
          "text": [
            "/usr/local/lib/python3.7/dist-packages/urllib3/connectionpool.py:847: InsecureRequestWarning: Unverified HTTPS request is being made. Adding certificate verification is strongly advised. See: https://urllib3.readthedocs.io/en/latest/advanced-usage.html#ssl-warnings\n",
            "  InsecureRequestWarning)\n",
            " 44%|████▍     | 21/48 [00:19<00:20,  1.35it/s]"
          ]
        },
        {
          "output_type": "stream",
          "name": "stdout",
          "text": [
            "Kost Putri Menteng Atas Selatan Bangunan Baru Dekat Mall Kokas Kota Kasablanka\n"
          ]
        },
        {
          "output_type": "stream",
          "name": "stderr",
          "text": [
            "/usr/local/lib/python3.7/dist-packages/urllib3/connectionpool.py:847: InsecureRequestWarning: Unverified HTTPS request is being made. Adding certificate verification is strongly advised. See: https://urllib3.readthedocs.io/en/latest/advanced-usage.html#ssl-warnings\n",
            "  InsecureRequestWarning)\n",
            " 46%|████▌     | 22/48 [00:20<00:20,  1.27it/s]"
          ]
        },
        {
          "output_type": "stream",
          "name": "stdout",
          "text": [
            "Dikontrakan rumah\n"
          ]
        },
        {
          "output_type": "stream",
          "name": "stderr",
          "text": [
            "/usr/local/lib/python3.7/dist-packages/urllib3/connectionpool.py:847: InsecureRequestWarning: Unverified HTTPS request is being made. Adding certificate verification is strongly advised. See: https://urllib3.readthedocs.io/en/latest/advanced-usage.html#ssl-warnings\n",
            "  InsecureRequestWarning)\n",
            " 48%|████▊     | 23/48 [00:21<00:20,  1.22it/s]"
          ]
        },
        {
          "output_type": "stream",
          "name": "stdout",
          "text": [
            "kost dan kontrakan terjangkau di cilandak jakarta selatan\n"
          ]
        },
        {
          "output_type": "stream",
          "name": "stderr",
          "text": [
            "/usr/local/lib/python3.7/dist-packages/urllib3/connectionpool.py:847: InsecureRequestWarning: Unverified HTTPS request is being made. Adding certificate verification is strongly advised. See: https://urllib3.readthedocs.io/en/latest/advanced-usage.html#ssl-warnings\n",
            "  InsecureRequestWarning)\n",
            " 50%|█████     | 24/48 [00:22<00:19,  1.25it/s]"
          ]
        },
        {
          "output_type": "stream",
          "name": "stdout",
          "text": [
            "TERIMA KOST PUTRI Exclusive White Kost Tebet Barat Jakarta Selatan\n"
          ]
        },
        {
          "output_type": "stream",
          "name": "stderr",
          "text": [
            "/usr/local/lib/python3.7/dist-packages/urllib3/connectionpool.py:847: InsecureRequestWarning: Unverified HTTPS request is being made. Adding certificate verification is strongly advised. See: https://urllib3.readthedocs.io/en/latest/advanced-usage.html#ssl-warnings\n",
            "  InsecureRequestWarning)\n",
            " 52%|█████▏    | 25/48 [00:23<00:17,  1.31it/s]"
          ]
        },
        {
          "output_type": "stream",
          "name": "stdout",
          "text": [
            "NORTHOUSE RESIDENCE\n"
          ]
        },
        {
          "output_type": "stream",
          "name": "stderr",
          "text": [
            "/usr/local/lib/python3.7/dist-packages/urllib3/connectionpool.py:847: InsecureRequestWarning: Unverified HTTPS request is being made. Adding certificate verification is strongly advised. See: https://urllib3.readthedocs.io/en/latest/advanced-usage.html#ssl-warnings\n",
            "  InsecureRequestWarning)\n",
            " 54%|█████▍    | 26/48 [00:23<00:16,  1.31it/s]"
          ]
        },
        {
          "output_type": "stream",
          "name": "stdout",
          "text": [
            "Kos\n"
          ]
        },
        {
          "output_type": "stream",
          "name": "stderr",
          "text": [
            "/usr/local/lib/python3.7/dist-packages/urllib3/connectionpool.py:847: InsecureRequestWarning: Unverified HTTPS request is being made. Adding certificate verification is strongly advised. See: https://urllib3.readthedocs.io/en/latest/advanced-usage.html#ssl-warnings\n",
            "  InsecureRequestWarning)\n",
            " 56%|█████▋    | 27/48 [00:24<00:16,  1.24it/s]"
          ]
        },
        {
          "output_type": "stream",
          "name": "stdout",
          "text": [
            "Kos khusus wanita\n"
          ]
        },
        {
          "output_type": "stream",
          "name": "stderr",
          "text": [
            "/usr/local/lib/python3.7/dist-packages/urllib3/connectionpool.py:847: InsecureRequestWarning: Unverified HTTPS request is being made. Adding certificate verification is strongly advised. See: https://urllib3.readthedocs.io/en/latest/advanced-usage.html#ssl-warnings\n",
            "  InsecureRequestWarning)\n",
            " 58%|█████▊    | 28/48 [00:25<00:16,  1.19it/s]"
          ]
        },
        {
          "output_type": "stream",
          "name": "stdout",
          "text": [
            "Kost Wanita Syariah Eksklusif\n"
          ]
        },
        {
          "output_type": "stream",
          "name": "stderr",
          "text": [
            "/usr/local/lib/python3.7/dist-packages/urllib3/connectionpool.py:847: InsecureRequestWarning: Unverified HTTPS request is being made. Adding certificate verification is strongly advised. See: https://urllib3.readthedocs.io/en/latest/advanced-usage.html#ssl-warnings\n",
            "  InsecureRequestWarning)\n",
            " 60%|██████    | 29/48 [00:26<00:15,  1.24it/s]"
          ]
        },
        {
          "output_type": "stream",
          "name": "stdout",
          "text": [
            "EASTHOUSE Residence \n"
          ]
        },
        {
          "output_type": "stream",
          "name": "stderr",
          "text": [
            "/usr/local/lib/python3.7/dist-packages/urllib3/connectionpool.py:847: InsecureRequestWarning: Unverified HTTPS request is being made. Adding certificate verification is strongly advised. See: https://urllib3.readthedocs.io/en/latest/advanced-usage.html#ssl-warnings\n",
            "  InsecureRequestWarning)\n",
            " 62%|██████▎   | 30/48 [00:27<00:13,  1.30it/s]"
          ]
        },
        {
          "output_type": "stream",
          "name": "stdout",
          "text": [
            "Kost Karyawati\n"
          ]
        },
        {
          "output_type": "stream",
          "name": "stderr",
          "text": [
            "/usr/local/lib/python3.7/dist-packages/urllib3/connectionpool.py:847: InsecureRequestWarning: Unverified HTTPS request is being made. Adding certificate verification is strongly advised. See: https://urllib3.readthedocs.io/en/latest/advanced-usage.html#ssl-warnings\n",
            "  InsecureRequestWarning)\n",
            " 65%|██████▍   | 31/48 [00:27<00:13,  1.28it/s]"
          ]
        },
        {
          "output_type": "stream",
          "name": "stdout",
          "text": [
            "Kost Pintu Biru Ampera\n"
          ]
        },
        {
          "output_type": "stream",
          "name": "stderr",
          "text": [
            "/usr/local/lib/python3.7/dist-packages/urllib3/connectionpool.py:847: InsecureRequestWarning: Unverified HTTPS request is being made. Adding certificate verification is strongly advised. See: https://urllib3.readthedocs.io/en/latest/advanced-usage.html#ssl-warnings\n",
            "  InsecureRequestWarning)\n",
            " 67%|██████▋   | 32/48 [00:28<00:12,  1.32it/s]"
          ]
        },
        {
          "output_type": "stream",
          "name": "stdout",
          "text": [
            "kost murah di cengkareng\n"
          ]
        },
        {
          "output_type": "stream",
          "name": "stderr",
          "text": [
            "/usr/local/lib/python3.7/dist-packages/urllib3/connectionpool.py:847: InsecureRequestWarning: Unverified HTTPS request is being made. Adding certificate verification is strongly advised. See: https://urllib3.readthedocs.io/en/latest/advanced-usage.html#ssl-warnings\n",
            "  InsecureRequestWarning)\n",
            " 69%|██████▉   | 33/48 [00:29<00:11,  1.28it/s]"
          ]
        },
        {
          "output_type": "stream",
          "name": "stdout",
          "text": [
            "Rita Kost\n"
          ]
        },
        {
          "output_type": "stream",
          "name": "stderr",
          "text": [
            "/usr/local/lib/python3.7/dist-packages/urllib3/connectionpool.py:847: InsecureRequestWarning: Unverified HTTPS request is being made. Adding certificate verification is strongly advised. See: https://urllib3.readthedocs.io/en/latest/advanced-usage.html#ssl-warnings\n",
            "  InsecureRequestWarning)\n",
            " 71%|███████   | 34/48 [00:30<00:10,  1.33it/s]"
          ]
        },
        {
          "output_type": "stream",
          "name": "stdout",
          "text": [
            "Kost Murah Jakarta Selatan \n"
          ]
        },
        {
          "output_type": "stream",
          "name": "stderr",
          "text": [
            "/usr/local/lib/python3.7/dist-packages/urllib3/connectionpool.py:847: InsecureRequestWarning: Unverified HTTPS request is being made. Adding certificate verification is strongly advised. See: https://urllib3.readthedocs.io/en/latest/advanced-usage.html#ssl-warnings\n",
            "  InsecureRequestWarning)\n",
            " 73%|███████▎  | 35/48 [00:30<00:10,  1.30it/s]"
          ]
        },
        {
          "output_type": "stream",
          "name": "stdout",
          "text": [
            "Cotton Room Tebet Jakarta Selatan\n"
          ]
        },
        {
          "output_type": "stream",
          "name": "stderr",
          "text": [
            "/usr/local/lib/python3.7/dist-packages/urllib3/connectionpool.py:847: InsecureRequestWarning: Unverified HTTPS request is being made. Adding certificate verification is strongly advised. See: https://urllib3.readthedocs.io/en/latest/advanced-usage.html#ssl-warnings\n",
            "  InsecureRequestWarning)\n",
            " 75%|███████▌  | 36/48 [00:31<00:08,  1.35it/s]"
          ]
        },
        {
          "output_type": "stream",
          "name": "stdout",
          "text": [
            "Athome19 Premium Room With Terrace\n"
          ]
        },
        {
          "output_type": "stream",
          "name": "stderr",
          "text": [
            "/usr/local/lib/python3.7/dist-packages/urllib3/connectionpool.py:847: InsecureRequestWarning: Unverified HTTPS request is being made. Adding certificate verification is strongly advised. See: https://urllib3.readthedocs.io/en/latest/advanced-usage.html#ssl-warnings\n",
            "  InsecureRequestWarning)\n",
            " 77%|███████▋  | 37/48 [00:32<00:08,  1.36it/s]"
          ]
        },
        {
          "output_type": "stream",
          "name": "stdout",
          "text": [
            "Athome19 Deluxe Room \n"
          ]
        },
        {
          "output_type": "stream",
          "name": "stderr",
          "text": [
            "/usr/local/lib/python3.7/dist-packages/urllib3/connectionpool.py:847: InsecureRequestWarning: Unverified HTTPS request is being made. Adding certificate verification is strongly advised. See: https://urllib3.readthedocs.io/en/latest/advanced-usage.html#ssl-warnings\n",
            "  InsecureRequestWarning)\n",
            " 79%|███████▉  | 38/48 [00:33<00:08,  1.19it/s]"
          ]
        },
        {
          "output_type": "stream",
          "name": "stdout",
          "text": [
            "Athome19 Superior Room\n"
          ]
        },
        {
          "output_type": "stream",
          "name": "stderr",
          "text": [
            "/usr/local/lib/python3.7/dist-packages/urllib3/connectionpool.py:847: InsecureRequestWarning: Unverified HTTPS request is being made. Adding certificate verification is strongly advised. See: https://urllib3.readthedocs.io/en/latest/advanced-usage.html#ssl-warnings\n",
            "  InsecureRequestWarning)\n",
            " 81%|████████▏ | 39/48 [00:34<00:07,  1.26it/s]"
          ]
        },
        {
          "output_type": "stream",
          "name": "stdout",
          "text": [
            "Kost Putri di Radio Dalam dekat Pondok Indah dan Gandaria City\n"
          ]
        },
        {
          "output_type": "stream",
          "name": "stderr",
          "text": [
            "/usr/local/lib/python3.7/dist-packages/urllib3/connectionpool.py:847: InsecureRequestWarning: Unverified HTTPS request is being made. Adding certificate verification is strongly advised. See: https://urllib3.readthedocs.io/en/latest/advanced-usage.html#ssl-warnings\n",
            "  InsecureRequestWarning)\n",
            " 83%|████████▎ | 40/48 [00:34<00:06,  1.31it/s]"
          ]
        },
        {
          "output_type": "stream",
          "name": "stdout",
          "text": [
            "Kost Putra Sederhana\n"
          ]
        },
        {
          "output_type": "stream",
          "name": "stderr",
          "text": [
            "/usr/local/lib/python3.7/dist-packages/urllib3/connectionpool.py:847: InsecureRequestWarning: Unverified HTTPS request is being made. Adding certificate verification is strongly advised. See: https://urllib3.readthedocs.io/en/latest/advanced-usage.html#ssl-warnings\n",
            "  InsecureRequestWarning)\n",
            " 85%|████████▌ | 41/48 [00:36<00:07,  1.09s/it]"
          ]
        },
        {
          "output_type": "stream",
          "name": "stdout",
          "text": [
            "Amanda kost \n"
          ]
        },
        {
          "output_type": "stream",
          "name": "stderr",
          "text": [
            "/usr/local/lib/python3.7/dist-packages/urllib3/connectionpool.py:847: InsecureRequestWarning: Unverified HTTPS request is being made. Adding certificate verification is strongly advised. See: https://urllib3.readthedocs.io/en/latest/advanced-usage.html#ssl-warnings\n",
            "  InsecureRequestWarning)\n",
            " 88%|████████▊ | 42/48 [00:37<00:05,  1.03it/s]"
          ]
        },
        {
          "output_type": "stream",
          "name": "stdout",
          "text": [
            "Kost Menteng Dalam, Tebet , Sudah Termasuk Listrik (Tanpa Token), WiFi\n"
          ]
        },
        {
          "output_type": "stream",
          "name": "stderr",
          "text": [
            "/usr/local/lib/python3.7/dist-packages/urllib3/connectionpool.py:847: InsecureRequestWarning: Unverified HTTPS request is being made. Adding certificate verification is strongly advised. See: https://urllib3.readthedocs.io/en/latest/advanced-usage.html#ssl-warnings\n",
            "  InsecureRequestWarning)\n",
            " 90%|████████▉ | 43/48 [00:38<00:04,  1.08it/s]"
          ]
        },
        {
          "output_type": "stream",
          "name": "stdout",
          "text": [
            "Kost Luwes Bacang\n"
          ]
        },
        {
          "output_type": "stream",
          "name": "stderr",
          "text": [
            "/usr/local/lib/python3.7/dist-packages/urllib3/connectionpool.py:847: InsecureRequestWarning: Unverified HTTPS request is being made. Adding certificate verification is strongly advised. See: https://urllib3.readthedocs.io/en/latest/advanced-usage.html#ssl-warnings\n",
            "  InsecureRequestWarning)\n",
            " 92%|█████████▏| 44/48 [00:39<00:03,  1.03it/s]"
          ]
        },
        {
          "output_type": "stream",
          "name": "stdout",
          "text": [
            "Kost Putri Lenteng Agung Lokasi Strategis\n"
          ]
        },
        {
          "output_type": "stream",
          "name": "stderr",
          "text": [
            "/usr/local/lib/python3.7/dist-packages/urllib3/connectionpool.py:847: InsecureRequestWarning: Unverified HTTPS request is being made. Adding certificate verification is strongly advised. See: https://urllib3.readthedocs.io/en/latest/advanced-usage.html#ssl-warnings\n",
            "  InsecureRequestWarning)\n",
            " 94%|█████████▍| 45/48 [00:40<00:03,  1.00s/it]"
          ]
        },
        {
          "output_type": "stream",
          "name": "stdout",
          "text": [
            "KOST KMC (Campur)\n"
          ]
        },
        {
          "output_type": "stream",
          "name": "stderr",
          "text": [
            "/usr/local/lib/python3.7/dist-packages/urllib3/connectionpool.py:847: InsecureRequestWarning: Unverified HTTPS request is being made. Adding certificate verification is strongly advised. See: https://urllib3.readthedocs.io/en/latest/advanced-usage.html#ssl-warnings\n",
            "  InsecureRequestWarning)\n",
            " 96%|█████████▌| 46/48 [00:41<00:01,  1.02it/s]"
          ]
        },
        {
          "output_type": "stream",
          "name": "stdout",
          "text": [
            "Kost Khusus Wanita - Kebayoran Baru\n"
          ]
        },
        {
          "output_type": "stream",
          "name": "stderr",
          "text": [
            "/usr/local/lib/python3.7/dist-packages/urllib3/connectionpool.py:847: InsecureRequestWarning: Unverified HTTPS request is being made. Adding certificate verification is strongly advised. See: https://urllib3.readthedocs.io/en/latest/advanced-usage.html#ssl-warnings\n",
            "  InsecureRequestWarning)\n",
            " 98%|█████████▊| 47/48 [00:42<00:01,  1.04s/it]"
          ]
        },
        {
          "output_type": "stream",
          "name": "stdout",
          "text": [
            "Indekos Ibu Firman\n"
          ]
        },
        {
          "output_type": "stream",
          "name": "stderr",
          "text": [
            "/usr/local/lib/python3.7/dist-packages/urllib3/connectionpool.py:847: InsecureRequestWarning: Unverified HTTPS request is being made. Adding certificate verification is strongly advised. See: https://urllib3.readthedocs.io/en/latest/advanced-usage.html#ssl-warnings\n",
            "  InsecureRequestWarning)\n",
            "100%|██████████| 48/48 [00:43<00:00,  1.11it/s]"
          ]
        },
        {
          "output_type": "stream",
          "name": "stdout",
          "text": [
            "Kos Salihara 13 \n"
          ]
        },
        {
          "output_type": "stream",
          "name": "stderr",
          "text": [
            "\n"
          ]
        }
      ]
    },
    {
      "cell_type": "code",
      "source": [
        "pd.DataFrame(sewakost)"
      ],
      "metadata": {
        "colab": {
          "base_uri": "https://localhost:8080/",
          "height": 1000
        },
        "id": "n_0iYmhVGbp5",
        "outputId": "e8c642a8-cb34-42e1-b8d7-1d86f3795243"
      },
      "execution_count": 56,
      "outputs": [
        {
          "output_type": "execute_result",
          "data": {
            "text/plain": [
              "                                                 nama  \\\n",
              "0                               Kost Putra Hj Zakiyah   \n",
              "1                     Kontrak Kos Exclusive Jagakarsa   \n",
              "2                            SS HOMES EXECUTIVE ROOMS   \n",
              "3             KOST IDAMAN SEBRANG MAL KOTA KASABLANKA   \n",
              "4                                        Amanda kost    \n",
              "5                       Rumah Salam @ Mutiara Ragunan   \n",
              "6                       Rumah Salam @ Mutiara Ragunan   \n",
              "7                                        Amanda kost    \n",
              "8                      Disewakan kamar kos exlcusive    \n",
              "9   DI SEWAKAN KOSTAN DI JAKARTA SELATAN JAGAKARSA...   \n",
              "10  Disewakan rumah 3 Lt strategis Kahfi 1 dekat p...   \n",
              "11                                               Kost   \n",
              "12                              kontrakan 17A Barkah.   \n",
              "13                KOST LENTENG AGUNG  \"Khusus Wanita\"   \n",
              "14                           KOST EKSKLUSIF SETIABUDI   \n",
              "15                                   Kost Ibu Halimah   \n",
              "16                                 Terima Kost Wanita   \n",
              "17                                 Terima Kost Wanita   \n",
              "18                                          Kos Putri   \n",
              "19                                 Angsana Kost Putri   \n",
              "20  Kost Putri Menteng Atas Selatan Bangunan Baru ...   \n",
              "21                                  Dikontrakan rumah   \n",
              "22  kost dan kontrakan terjangkau di cilandak jaka...   \n",
              "23  TERIMA KOST PUTRI Exclusive White Kost Tebet B...   \n",
              "24                                NORTHOUSE RESIDENCE   \n",
              "25                                                Kos   \n",
              "26                                  Kos khusus wanita   \n",
              "27                      Kost Wanita Syariah Eksklusif   \n",
              "28                               EASTHOUSE Residence    \n",
              "29                                     Kost Karyawati   \n",
              "30                             Kost Pintu Biru Ampera   \n",
              "31                           kost murah di cengkareng   \n",
              "32                                          Rita Kost   \n",
              "33                        Kost Murah Jakarta Selatan    \n",
              "34                  Cotton Room Tebet Jakarta Selatan   \n",
              "35                 Athome19 Premium Room With Terrace   \n",
              "36                              Athome19 Deluxe Room    \n",
              "37                             Athome19 Superior Room   \n",
              "38  Kost Putri di Radio Dalam dekat Pondok Indah d...   \n",
              "39                               Kost Putra Sederhana   \n",
              "40                                       Amanda kost    \n",
              "41  Kost Menteng Dalam, Tebet , Sudah Termasuk Lis...   \n",
              "42                                  Kost Luwes Bacang   \n",
              "43          Kost Putri Lenteng Agung Lokasi Strategis   \n",
              "44                                  KOST KMC (Campur)   \n",
              "45                Kost Khusus Wanita - Kebayoran Baru   \n",
              "46                                 Indekos Ibu Firman   \n",
              "47                                   Kos Salihara 13    \n",
              "\n",
              "                                                  url          harga  \\\n",
              "0   https://www.sewakost.com/jakarta/selatan/kost-...     Rp 500.000   \n",
              "1   https://www.sewakost.com/jakarta/selatan/kontr...   Rp 4.000.000   \n",
              "2   https://www.sewakost.com/jakarta/selatan/ss-ho...   Rp 3.500.000   \n",
              "3   https://www.sewakost.com/jakarta/selatan/kost-...   Rp 2.600.000   \n",
              "4   https://www.sewakost.com/jakarta/selatan/amand...     Rp 600.000   \n",
              "5   https://www.sewakost.com/jakarta/selatan/rumah...   Rp 1.800.000   \n",
              "6   https://www.sewakost.com/jakarta/selatan/rumah...   Rp 1.500.000   \n",
              "7   https://www.sewakost.com/jakarta/selatan/amand...     Rp 600.000   \n",
              "8   https://www.sewakost.com/jakarta/selatan/disew...   Rp 4.500.000   \n",
              "9   https://www.sewakost.com/jakarta/selatan/di-se...   Rp 1.200.000   \n",
              "10  https://www.sewakost.com/jakarta/selatan/disew...  Rp 20.000.000   \n",
              "11  https://www.sewakost.com/jakarta/selatan/kost-...   Rp 2.000.000   \n",
              "12  https://www.sewakost.com/jakarta/selatan/kontr...  Rp 17.000.000   \n",
              "13  https://www.sewakost.com/jakarta/selatan/kost-...     Rp 800.000   \n",
              "14  https://www.sewakost.com/jakarta/selatan/kost-...   Rp 3.500.000   \n",
              "15  https://www.sewakost.com/jakarta/selatan/kost-...   Rp 2.000.000   \n",
              "16  https://www.sewakost.com/jakarta/selatan/terim...     Rp 600.000   \n",
              "17  https://www.sewakost.com/jakarta/selatan/terim...     Rp 600.000   \n",
              "18  https://www.sewakost.com/jakarta/selatan/kos-p...   Rp 1.500.000   \n",
              "19  https://www.sewakost.com/jakarta/selatan/angsa...   Rp 1.200.000   \n",
              "20  https://www.sewakost.com/jakarta/selatan/kost-...   Rp 1.500.000   \n",
              "21  https://www.sewakost.com/jakarta/selatan/dikon...   Rp 2.650.000   \n",
              "22  https://www.sewakost.com/jakarta/selatan/kost-...   Rp 2.500.000   \n",
              "23  https://www.sewakost.com/jakarta/selatan/terim...   Rp 1.900.000   \n",
              "24  https://www.sewakost.com/jakarta/selatan/north...      Rp 6..500   \n",
              "25  https://www.sewakost.com/jakarta/selatan/kos-8...         Rp 900   \n",
              "26  https://www.sewakost.com/jakarta/selatan/kos-k...   Rp 3.500.000   \n",
              "27  https://www.sewakost.com/jakarta/selatan/kost-...      Rp 2..600   \n",
              "28  https://www.sewakost.com/jakarta/selatan/easth...   Rp 4.000.000   \n",
              "29  https://www.sewakost.com/jakarta/selatan/kost-...     Rp 600.000   \n",
              "30  https://www.sewakost.com/jakarta/selatan/kost-...   Rp 1.500.000   \n",
              "31  https://www.sewakost.com/jakarta/selatan/kost-...   Rp 1.500.000   \n",
              "32  https://www.sewakost.com/jakarta/selatan/rita-...     Rp 700.000   \n",
              "33  https://www.sewakost.com/jakarta/selatan/kost-...     Rp 650.000   \n",
              "34  https://www.sewakost.com/jakarta/selatan/cotto...  Rp 35.000.000   \n",
              "35  https://www.sewakost.com/jakarta/selatan/athom...      Rp 7..200   \n",
              "36  https://www.sewakost.com/jakarta/selatan/athom...      Rp 6..000   \n",
              "37  https://www.sewakost.com/jakarta/selatan/athom...      Rp 5..500   \n",
              "38  https://www.sewakost.com/jakarta/selatan/kost-...   Rp 2.500.000   \n",
              "39  https://www.sewakost.com/jakarta/selatan/kost-...     Rp 550.000   \n",
              "40  https://www.sewakost.com/jakarta/selatan/amand...     Rp 600.000   \n",
              "41  https://www.sewakost.com/jakarta/selatan/kost-...   Rp 1.550.000   \n",
              "42  https://www.sewakost.com/jakarta/selatan/kost-...     Rp 850.000   \n",
              "43  https://www.sewakost.com/jakarta/selatan/kost-...   Rp 1.400.000   \n",
              "44  https://www.sewakost.com/jakarta/selatan/kost-...   Rp 2.000.000   \n",
              "45  https://www.sewakost.com/jakarta/selatan/kost-...   Rp 2.000.000   \n",
              "46  https://www.sewakost.com/jakarta/selatan/indek...     Rp 950.000   \n",
              "47  https://www.sewakost.com/jakarta/selatan/kos-s...   Rp 1.250.000   \n",
              "\n",
              "            jenis                                            address aircon  \\\n",
              "0      Kost Putra  Jl panjang cidodol rt.005/013 no.9 kebayoran l...  Tidak   \n",
              "1   Kost Keluarga                            Jalan Timbul Raya no 57     Ya   \n",
              "2     Kost Campur  jl.panglima polim XI NO.17 melawai kebayoran b...     Ya   \n",
              "3     Kost Campur  Jl. Palbatu Batu Raya No. 46, Menteng Dalam, J...     Ya   \n",
              "4     Kost Campur  Jalan assakinah no 11 RT 11 rw 02 Kebagusan pa...  Tidak   \n",
              "5      Kost Putra    Cluster Mutiara Ragunan No. 1E, Jl. RM. Harsono     Ya   \n",
              "6      Kost Putra    Cluster Mutiara Ragunan No. 1E, Jl. RM. Harsono  Tidak   \n",
              "7     Kost Campur  Jalan assakinah no 11 RT 11 rw 02 Kebagusan pa...  Tidak   \n",
              "8   Kost Keluarga                          jagakarsa jakarta selatan     Ya   \n",
              "9      Kost Putri             Jl pepaya IV jagakarsa jakarta selatan  Tidak   \n",
              "10  Kost Keluarga                     Jalan Panjang Jagakarsa Jaksel  Tidak   \n",
              "11    Kost Campur   Jl. Pondok Jaya 2 No. 16 B Pela Mampang  Jak-Sel     Ya   \n",
              "12   Kost Pasutri                                     Jl. Barkah III     Ya   \n",
              "13     Kost Putri  Jl.Guru No.21 Rt.006/ 002, Lenteng Agung Jakar...     Ya   \n",
              "14    Kost Campur  Jl. Guntur No.16A, RT.8/RW.1, Guntur, Kecamata...     Ya   \n",
              "15    Kost Campur  Jl. Seha No.90 RT.09 RW.010 Kebayoran Lama, Gr...     Ya   \n",
              "16     Kost Putri  Jalan H. AMSAR NO.24 RT. 15 RW.5 KELURAHAN CIP...  Tidak   \n",
              "17     Kost Putri  Jalan H. AMSAR NO.24 RT. 15 RW.5 KELURAHAN CIP...  Tidak   \n",
              "18     Kost Putri       Jl Kesehatan VB No12 Bintaro Jakarta Selatan  Tidak   \n",
              "19     Kost Putri  Jl. Bango III No.14B, RT.14/RW.3, Pd. Labu, Ke...  Tidak   \n",
              "20     Kost Putri  Jln Menteng Atas Selatan Gg 8 No 40 RT14 RW05 ...     Ya   \n",
              "21  Kost Keluarga                             jln mampang prapatan 5  Tidak   \n",
              "22    Kost Campur  jl, kecapi V no.22, rt.006/005, cilandak, jaga...     Ya   \n",
              "23     Kost Putri  Jl. Tebet Barat Dalam VI G no. 5, RT. 008/RW. ...     Ya   \n",
              "24    Kost Campur  Jl. Batas No.8 Rt.12/01, Kuningan Timur , Seti...     Ya   \n",
              "25     Kost Putri  Jl R1 rt004/rw011 no.7 kebon baru tebet jakart...  Tidak   \n",
              "26   Kost Pasutri  Jl Kesehatan VB No 12 Bintaro Jakarta Selatan ...     Ya   \n",
              "27     Kost Putri             Jl Setiabudhi V No 18, Jakarta Selatan     Ya   \n",
              "28    Kost Campur      Jalan Pedurenan Mesjid 1no.13 Jakarta Selatan     Ya   \n",
              "29     Kost Putri  Jl. Baru gg Saribena No.11 Rt.001/003, Kebayor...  Tidak   \n",
              "30    Kost Campur          Jl Ampera I No 32, Kemang Jakarta Selatan  Tidak   \n",
              "31     Kost Putra                                            jakarta     Ya   \n",
              "32    Kost Campur  Gang Haji Raidi RT/RW 09/04 nomor 51 Lenteng a...  Tidak   \n",
              "33     Kost Putra  Jl. Tanah Kusir 2 Kel. Kebayoran Lama Selatan ...  Tidak   \n",
              "34    Kost Campur  Jl. Tebet Barat Dalam Raya No.52, RT.14/RW.5, ...     Ya   \n",
              "35    Kost Campur  Jl. Bangka VIII No. 19 ABCD, Pela Mampang, Mam...     Ya   \n",
              "36    Kost Campur  Jl. Bangka VIII No. 19 ABCD, Pela Mampang, Mam...     Ya   \n",
              "37    Kost Campur  Jl. Bangka VIII No. 19 ABCD, Pela Mampang, Mam...     Ya   \n",
              "38     Kost Putri      Jl. Dwijaya II No. 32 A Jakarta Selatan 12140     Ya   \n",
              "39     Kost Putra  Gang Poncol Jaya no. 55 RT 013 RW 005 Kuningan...  Tidak   \n",
              "40    Kost Campur  Jalan assakinah no 11 RT 11 rw 02 Kebagusan pa...  Tidak   \n",
              "41    Kost Campur                               Menteng Dalam, Tebet     Ya   \n",
              "42    Kost Campur  Jl Bacang 1 no 15, Mayestik, Kebayoran baru, J...     Ya   \n",
              "43     Kost Putri   Jl. Syukur No.31A Lenteng Agung, Jakarta Selatan     Ya   \n",
              "44    Kost Campur  Jl. Cipinang Besar Raya NO.20, Kec. Jatinegara...     Ya   \n",
              "45     Kost Putri  Jl Cikatomas I No 10, Kebayoran Baru, Jakarta ...     Ya   \n",
              "46     Kost Putri  Jalan Damarsari 3 No. 29 Jatipadang Pasar Ming...     Ya   \n",
              "47     Kost Putri  Jl. Salihara No 13 Ps. Minggu Jakarta Selatan ...     Ya   \n",
              "\n",
              "   free_wifi kamar_mandi_dalam  \\\n",
              "0      Tidak             Tidak   \n",
              "1         Ya                Ya   \n",
              "2         Ya                Ya   \n",
              "3      Tidak                Ya   \n",
              "4         Ya             Tidak   \n",
              "5      Tidak                Ya   \n",
              "6      Tidak                Ya   \n",
              "7         Ya             Tidak   \n",
              "8         Ya                Ya   \n",
              "9      Tidak                Ya   \n",
              "10     Tidak             Tidak   \n",
              "11     Tidak                Ya   \n",
              "12     Tidak                Ya   \n",
              "13        Ya                Ya   \n",
              "14        Ya                Ya   \n",
              "15     Tidak                Ya   \n",
              "16     Tidak             Tidak   \n",
              "17     Tidak                Ya   \n",
              "18     Tidak                Ya   \n",
              "19        Ya             Tidak   \n",
              "20     Tidak                Ya   \n",
              "21     Tidak             Tidak   \n",
              "22     Tidak                Ya   \n",
              "23        Ya                Ya   \n",
              "24        Ya                Ya   \n",
              "25        Ya             Tidak   \n",
              "26        Ya                Ya   \n",
              "27        Ya                Ya   \n",
              "28        Ya                Ya   \n",
              "29        Ya             Tidak   \n",
              "30        Ya             Tidak   \n",
              "31        Ya                Ya   \n",
              "32     Tidak                Ya   \n",
              "33     Tidak             Tidak   \n",
              "34        Ya                Ya   \n",
              "35        Ya                Ya   \n",
              "36        Ya                Ya   \n",
              "37        Ya                Ya   \n",
              "38        Ya                Ya   \n",
              "39     Tidak             Tidak   \n",
              "40        Ya             Tidak   \n",
              "41        Ya                Ya   \n",
              "42     Tidak             Tidak   \n",
              "43        Ya                Ya   \n",
              "44        Ya                Ya   \n",
              "45        Ya             Tidak   \n",
              "46     Tidak                Ya   \n",
              "47        Ya                Ya   \n",
              "\n",
              "                                      fasilitas_kamar  \\\n",
              "0                                        [Spring Bed]   \n",
              "1   [Spring Bed, Perabot, Free WiFi, AC, TV, Kamar...   \n",
              "2   [Spring Bed, Perabot, Free WiFi, AC, TV, Kamar...   \n",
              "3   [Spring Bed, Perabot, AC, TV, Kamar Mandi Dala...   \n",
              "4                                        [Spring Bed]   \n",
              "5        [Spring Bed, Perabot, AC, Kamar Mandi Dalam]   \n",
              "6        [Spring Bed, Perabot, AC, Kamar Mandi Dalam]   \n",
              "7                                        [Spring Bed]   \n",
              "8   [Spring Bed, Perabot, Free WiFi, AC, TV, Kamar...   \n",
              "9                                 [Kamar Mandi Dalam]   \n",
              "10                                                 []   \n",
              "11  [Spring Bed, Perabot, AC, Kamar Mandi Dalam, P...   \n",
              "12                            [AC, Kamar Mandi Dalam]   \n",
              "13     [Spring Bed, Free WiFi, AC, Kamar Mandi Dalam]   \n",
              "14  [Spring Bed, Perabot, Free WiFi, AC, TV, Kamar...   \n",
              "15                [Spring Bed, AC, Kamar Mandi Dalam]   \n",
              "16                                       [Spring Bed]   \n",
              "17                    [Spring Bed, Kamar Mandi Dalam]   \n",
              "18           [Spring Bed, Perabot, Kamar Mandi Dalam]   \n",
              "19                            [Spring Bed, Free WiFi]   \n",
              "20       [Spring Bed, Perabot, AC, Kamar Mandi Dalam]   \n",
              "21                                                 []   \n",
              "22                [Spring Bed, AC, Kamar Mandi Dalam]   \n",
              "23  [Spring Bed, Perabot, Free WiFi, AC, TV, Kamar...   \n",
              "24  [Spring Bed, Perabot, Free WiFi, AC, TV, Kulka...   \n",
              "25                    [Spring Bed, Free WiFi, Kulkas]   \n",
              "26   [Spring Bed, Perabot, AC, TV, Kamar Mandi Dalam]   \n",
              "27  [Spring Bed, Perabot, Free WiFi, AC, TV, Kulka...   \n",
              "28  [Spring Bed, Perabot, Free WiFi, AC, TV, Kulka...   \n",
              "29                                        [Free WiFi]   \n",
              "30     [Spring Bed, Free WiFi, AC, Kamar Mandi Dalam]   \n",
              "31  [Spring Bed, Perabot, Free WiFi, AC, TV, Kulka...   \n",
              "32                [Spring Bed, TV, Kamar Mandi Dalam]   \n",
              "33                                       [Spring Bed]   \n",
              "34  [Spring Bed, Perabot, Free WiFi, AC, TV, Kamar...   \n",
              "35  [Spring Bed, Free WiFi, AC, TV, Kulkas, Kamar ...   \n",
              "36  [Spring Bed, Free WiFi, AC, TV, Kulkas, Kamar ...   \n",
              "37  [Spring Bed, Free WiFi, AC, TV, Kulkas, Kamar ...   \n",
              "38  [Spring Bed, Perabot, Free WiFi, AC, TV, Kamar...   \n",
              "39                                                 []   \n",
              "40                                       [Spring Bed]   \n",
              "41  [Spring Bed, Perabot, Free WiFi, AC, Kamar Man...   \n",
              "42                              [Perabot, TV, Kulkas]   \n",
              "43  [Spring Bed, Perabot, Free WiFi, AC, Kamar Man...   \n",
              "44     [Spring Bed, Free WiFi, AC, Kamar Mandi Dalam]   \n",
              "45                              [Spring Bed, Perabot]   \n",
              "46                       [Perabot, Kamar Mandi Dalam]   \n",
              "47     [Spring Bed, Free WiFi, AC, Kamar Mandi Dalam]   \n",
              "\n",
              "                                    fasilitas_bersama  \n",
              "0                                      [Parkir Motor]  \n",
              "1   [Ruang Tamu, Televisi, Ruang Makan, Dapur, Air...  \n",
              "2   [Ruang Tamu, Ruang Makan, Dapur, Mesin Cuci (C...  \n",
              "3   [Ruang Tamu, Televisi, Ruang Makan, Dapur, Air...  \n",
              "4                                             [Dapur]  \n",
              "5       [Dapur, Keamanan, Parkir Motor, Parkir Mobil]  \n",
              "6       [Dapur, Keamanan, Parkir Motor, Parkir Mobil]  \n",
              "7                     [Dapur, Keamanan, Parkir Motor]  \n",
              "8   [Ruang Tamu, Televisi, Ruang Makan, Dapur, Air...  \n",
              "9                        [Parkir Motor, Parkir Mobil]  \n",
              "10  [Ruang Tamu, Ruang Makan, Dapur, Pembantu, Par...  \n",
              "11                       [Parkir Motor, Parkir Mobil]  \n",
              "12                                     [Parkir Motor]  \n",
              "13  [Ruang Makan, Dapur, Keamanan, Parkir Motor, P...  \n",
              "14  [Ruang Tamu, Ruang Makan, Dapur, Air Minum, Pe...  \n",
              "15                                     [Parkir Motor]  \n",
              "16                                                 []  \n",
              "17                                                 []  \n",
              "18  [Ruang Tamu, Televisi, Ruang Makan, Dapur, Par...  \n",
              "19  [Ruang Tamu, Ruang Makan, Dapur, Mesin Cuci (C...  \n",
              "20        [Ruang Tamu, Dapur, Keamanan, Parkir Motor]  \n",
              "21                                                NaN  \n",
              "22  [Ruang Tamu, Dapur, Keamanan, Parkir Motor, Pa...  \n",
              "23  [Ruang Makan, Dapur, Mesin Cuci (Cuci Sendiri)...  \n",
              "24  [Ruang Tamu, Dapur, Air Minum, Cuci Setrika, P...  \n",
              "25                                            [Dapur]  \n",
              "26        [Ruang Tamu, Televisi, Dapur, Parkir Mobil]  \n",
              "27  [Ruang Tamu, Ruang Makan, Dapur, Cuci Setrika,...  \n",
              "28  [Ruang Makan, Dapur, Air Minum, Cuci Setrika, ...  \n",
              "29                              [Dapur, Parkir Motor]  \n",
              "30                       [Parkir Motor, Parkir Mobil]  \n",
              "31  [Ruang Tamu, Televisi, Ruang Makan, Dapur, Air...  \n",
              "32                    [Televisi, Dapur, Parkir Motor]  \n",
              "33                                     [Parkir Motor]  \n",
              "34  [Ruang Tamu, Dapur, Keamanan, Parkir Motor, Pa...  \n",
              "35  [Ruang Tamu, Ruang Makan, Dapur, Air Minum, Me...  \n",
              "36  [Ruang Tamu, Ruang Makan, Dapur, Air Minum, Me...  \n",
              "37  [Ruang Tamu, Ruang Makan, Dapur, Air Minum, Me...  \n",
              "38        [Ruang Tamu, Dapur, Keamanan, Parkir Motor]  \n",
              "39                                                NaN  \n",
              "40                                        [Air Minum]  \n",
              "41         [Dapur, Air Minum, Keamanan, Parkir Motor]  \n",
              "42  [Ruang Tamu, Ruang Makan, Dapur, Cuci Setrika,...  \n",
              "43                                  [Dapur, Keamanan]  \n",
              "44  [Ruang Tamu, Ruang Makan, Dapur, Air Minum, Cu...  \n",
              "45  [Dapur, Air Minum, Cuci Setrika, Mesin Cuci (C...  \n",
              "46  [Ruang Tamu, Dapur, Keamanan, Parkir Motor, Pa...  \n",
              "47                         [Ruang Tamu, Parkir Motor]  "
            ],
            "text/html": [
              "\n",
              "  <div id=\"df-9c6a4f60-36a3-4373-8aa6-feab49b8d4b1\">\n",
              "    <div class=\"colab-df-container\">\n",
              "      <div>\n",
              "<style scoped>\n",
              "    .dataframe tbody tr th:only-of-type {\n",
              "        vertical-align: middle;\n",
              "    }\n",
              "\n",
              "    .dataframe tbody tr th {\n",
              "        vertical-align: top;\n",
              "    }\n",
              "\n",
              "    .dataframe thead th {\n",
              "        text-align: right;\n",
              "    }\n",
              "</style>\n",
              "<table border=\"1\" class=\"dataframe\">\n",
              "  <thead>\n",
              "    <tr style=\"text-align: right;\">\n",
              "      <th></th>\n",
              "      <th>nama</th>\n",
              "      <th>url</th>\n",
              "      <th>harga</th>\n",
              "      <th>jenis</th>\n",
              "      <th>address</th>\n",
              "      <th>aircon</th>\n",
              "      <th>free_wifi</th>\n",
              "      <th>kamar_mandi_dalam</th>\n",
              "      <th>fasilitas_kamar</th>\n",
              "      <th>fasilitas_bersama</th>\n",
              "    </tr>\n",
              "  </thead>\n",
              "  <tbody>\n",
              "    <tr>\n",
              "      <th>0</th>\n",
              "      <td>Kost Putra Hj Zakiyah</td>\n",
              "      <td>https://www.sewakost.com/jakarta/selatan/kost-...</td>\n",
              "      <td>Rp 500.000</td>\n",
              "      <td>Kost Putra</td>\n",
              "      <td>Jl panjang cidodol rt.005/013 no.9 kebayoran l...</td>\n",
              "      <td>Tidak</td>\n",
              "      <td>Tidak</td>\n",
              "      <td>Tidak</td>\n",
              "      <td>[Spring Bed]</td>\n",
              "      <td>[Parkir Motor]</td>\n",
              "    </tr>\n",
              "    <tr>\n",
              "      <th>1</th>\n",
              "      <td>Kontrak Kos Exclusive Jagakarsa</td>\n",
              "      <td>https://www.sewakost.com/jakarta/selatan/kontr...</td>\n",
              "      <td>Rp 4.000.000</td>\n",
              "      <td>Kost Keluarga</td>\n",
              "      <td>Jalan Timbul Raya no 57</td>\n",
              "      <td>Ya</td>\n",
              "      <td>Ya</td>\n",
              "      <td>Ya</td>\n",
              "      <td>[Spring Bed, Perabot, Free WiFi, AC, TV, Kamar...</td>\n",
              "      <td>[Ruang Tamu, Televisi, Ruang Makan, Dapur, Air...</td>\n",
              "    </tr>\n",
              "    <tr>\n",
              "      <th>2</th>\n",
              "      <td>SS HOMES EXECUTIVE ROOMS</td>\n",
              "      <td>https://www.sewakost.com/jakarta/selatan/ss-ho...</td>\n",
              "      <td>Rp 3.500.000</td>\n",
              "      <td>Kost Campur</td>\n",
              "      <td>jl.panglima polim XI NO.17 melawai kebayoran b...</td>\n",
              "      <td>Ya</td>\n",
              "      <td>Ya</td>\n",
              "      <td>Ya</td>\n",
              "      <td>[Spring Bed, Perabot, Free WiFi, AC, TV, Kamar...</td>\n",
              "      <td>[Ruang Tamu, Ruang Makan, Dapur, Mesin Cuci (C...</td>\n",
              "    </tr>\n",
              "    <tr>\n",
              "      <th>3</th>\n",
              "      <td>KOST IDAMAN SEBRANG MAL KOTA KASABLANKA</td>\n",
              "      <td>https://www.sewakost.com/jakarta/selatan/kost-...</td>\n",
              "      <td>Rp 2.600.000</td>\n",
              "      <td>Kost Campur</td>\n",
              "      <td>Jl. Palbatu Batu Raya No. 46, Menteng Dalam, J...</td>\n",
              "      <td>Ya</td>\n",
              "      <td>Tidak</td>\n",
              "      <td>Ya</td>\n",
              "      <td>[Spring Bed, Perabot, AC, TV, Kamar Mandi Dala...</td>\n",
              "      <td>[Ruang Tamu, Televisi, Ruang Makan, Dapur, Air...</td>\n",
              "    </tr>\n",
              "    <tr>\n",
              "      <th>4</th>\n",
              "      <td>Amanda kost</td>\n",
              "      <td>https://www.sewakost.com/jakarta/selatan/amand...</td>\n",
              "      <td>Rp 600.000</td>\n",
              "      <td>Kost Campur</td>\n",
              "      <td>Jalan assakinah no 11 RT 11 rw 02 Kebagusan pa...</td>\n",
              "      <td>Tidak</td>\n",
              "      <td>Ya</td>\n",
              "      <td>Tidak</td>\n",
              "      <td>[Spring Bed]</td>\n",
              "      <td>[Dapur]</td>\n",
              "    </tr>\n",
              "    <tr>\n",
              "      <th>5</th>\n",
              "      <td>Rumah Salam @ Mutiara Ragunan</td>\n",
              "      <td>https://www.sewakost.com/jakarta/selatan/rumah...</td>\n",
              "      <td>Rp 1.800.000</td>\n",
              "      <td>Kost Putra</td>\n",
              "      <td>Cluster Mutiara Ragunan No. 1E, Jl. RM. Harsono</td>\n",
              "      <td>Ya</td>\n",
              "      <td>Tidak</td>\n",
              "      <td>Ya</td>\n",
              "      <td>[Spring Bed, Perabot, AC, Kamar Mandi Dalam]</td>\n",
              "      <td>[Dapur, Keamanan, Parkir Motor, Parkir Mobil]</td>\n",
              "    </tr>\n",
              "    <tr>\n",
              "      <th>6</th>\n",
              "      <td>Rumah Salam @ Mutiara Ragunan</td>\n",
              "      <td>https://www.sewakost.com/jakarta/selatan/rumah...</td>\n",
              "      <td>Rp 1.500.000</td>\n",
              "      <td>Kost Putra</td>\n",
              "      <td>Cluster Mutiara Ragunan No. 1E, Jl. RM. Harsono</td>\n",
              "      <td>Tidak</td>\n",
              "      <td>Tidak</td>\n",
              "      <td>Ya</td>\n",
              "      <td>[Spring Bed, Perabot, AC, Kamar Mandi Dalam]</td>\n",
              "      <td>[Dapur, Keamanan, Parkir Motor, Parkir Mobil]</td>\n",
              "    </tr>\n",
              "    <tr>\n",
              "      <th>7</th>\n",
              "      <td>Amanda kost</td>\n",
              "      <td>https://www.sewakost.com/jakarta/selatan/amand...</td>\n",
              "      <td>Rp 600.000</td>\n",
              "      <td>Kost Campur</td>\n",
              "      <td>Jalan assakinah no 11 RT 11 rw 02 Kebagusan pa...</td>\n",
              "      <td>Tidak</td>\n",
              "      <td>Ya</td>\n",
              "      <td>Tidak</td>\n",
              "      <td>[Spring Bed]</td>\n",
              "      <td>[Dapur, Keamanan, Parkir Motor]</td>\n",
              "    </tr>\n",
              "    <tr>\n",
              "      <th>8</th>\n",
              "      <td>Disewakan kamar kos exlcusive</td>\n",
              "      <td>https://www.sewakost.com/jakarta/selatan/disew...</td>\n",
              "      <td>Rp 4.500.000</td>\n",
              "      <td>Kost Keluarga</td>\n",
              "      <td>jagakarsa jakarta selatan</td>\n",
              "      <td>Ya</td>\n",
              "      <td>Ya</td>\n",
              "      <td>Ya</td>\n",
              "      <td>[Spring Bed, Perabot, Free WiFi, AC, TV, Kamar...</td>\n",
              "      <td>[Ruang Tamu, Televisi, Ruang Makan, Dapur, Air...</td>\n",
              "    </tr>\n",
              "    <tr>\n",
              "      <th>9</th>\n",
              "      <td>DI SEWAKAN KOSTAN DI JAKARTA SELATAN JAGAKARSA...</td>\n",
              "      <td>https://www.sewakost.com/jakarta/selatan/di-se...</td>\n",
              "      <td>Rp 1.200.000</td>\n",
              "      <td>Kost Putri</td>\n",
              "      <td>Jl pepaya IV jagakarsa jakarta selatan</td>\n",
              "      <td>Tidak</td>\n",
              "      <td>Tidak</td>\n",
              "      <td>Ya</td>\n",
              "      <td>[Kamar Mandi Dalam]</td>\n",
              "      <td>[Parkir Motor, Parkir Mobil]</td>\n",
              "    </tr>\n",
              "    <tr>\n",
              "      <th>10</th>\n",
              "      <td>Disewakan rumah 3 Lt strategis Kahfi 1 dekat p...</td>\n",
              "      <td>https://www.sewakost.com/jakarta/selatan/disew...</td>\n",
              "      <td>Rp 20.000.000</td>\n",
              "      <td>Kost Keluarga</td>\n",
              "      <td>Jalan Panjang Jagakarsa Jaksel</td>\n",
              "      <td>Tidak</td>\n",
              "      <td>Tidak</td>\n",
              "      <td>Tidak</td>\n",
              "      <td>[]</td>\n",
              "      <td>[Ruang Tamu, Ruang Makan, Dapur, Pembantu, Par...</td>\n",
              "    </tr>\n",
              "    <tr>\n",
              "      <th>11</th>\n",
              "      <td>Kost</td>\n",
              "      <td>https://www.sewakost.com/jakarta/selatan/kost-...</td>\n",
              "      <td>Rp 2.000.000</td>\n",
              "      <td>Kost Campur</td>\n",
              "      <td>Jl. Pondok Jaya 2 No. 16 B Pela Mampang  Jak-Sel</td>\n",
              "      <td>Ya</td>\n",
              "      <td>Tidak</td>\n",
              "      <td>Ya</td>\n",
              "      <td>[Spring Bed, Perabot, AC, Kamar Mandi Dalam, P...</td>\n",
              "      <td>[Parkir Motor, Parkir Mobil]</td>\n",
              "    </tr>\n",
              "    <tr>\n",
              "      <th>12</th>\n",
              "      <td>kontrakan 17A Barkah.</td>\n",
              "      <td>https://www.sewakost.com/jakarta/selatan/kontr...</td>\n",
              "      <td>Rp 17.000.000</td>\n",
              "      <td>Kost Pasutri</td>\n",
              "      <td>Jl. Barkah III</td>\n",
              "      <td>Ya</td>\n",
              "      <td>Tidak</td>\n",
              "      <td>Ya</td>\n",
              "      <td>[AC, Kamar Mandi Dalam]</td>\n",
              "      <td>[Parkir Motor]</td>\n",
              "    </tr>\n",
              "    <tr>\n",
              "      <th>13</th>\n",
              "      <td>KOST LENTENG AGUNG  \"Khusus Wanita\"</td>\n",
              "      <td>https://www.sewakost.com/jakarta/selatan/kost-...</td>\n",
              "      <td>Rp 800.000</td>\n",
              "      <td>Kost Putri</td>\n",
              "      <td>Jl.Guru No.21 Rt.006/ 002, Lenteng Agung Jakar...</td>\n",
              "      <td>Ya</td>\n",
              "      <td>Ya</td>\n",
              "      <td>Ya</td>\n",
              "      <td>[Spring Bed, Free WiFi, AC, Kamar Mandi Dalam]</td>\n",
              "      <td>[Ruang Makan, Dapur, Keamanan, Parkir Motor, P...</td>\n",
              "    </tr>\n",
              "    <tr>\n",
              "      <th>14</th>\n",
              "      <td>KOST EKSKLUSIF SETIABUDI</td>\n",
              "      <td>https://www.sewakost.com/jakarta/selatan/kost-...</td>\n",
              "      <td>Rp 3.500.000</td>\n",
              "      <td>Kost Campur</td>\n",
              "      <td>Jl. Guntur No.16A, RT.8/RW.1, Guntur, Kecamata...</td>\n",
              "      <td>Ya</td>\n",
              "      <td>Ya</td>\n",
              "      <td>Ya</td>\n",
              "      <td>[Spring Bed, Perabot, Free WiFi, AC, TV, Kamar...</td>\n",
              "      <td>[Ruang Tamu, Ruang Makan, Dapur, Air Minum, Pe...</td>\n",
              "    </tr>\n",
              "    <tr>\n",
              "      <th>15</th>\n",
              "      <td>Kost Ibu Halimah</td>\n",
              "      <td>https://www.sewakost.com/jakarta/selatan/kost-...</td>\n",
              "      <td>Rp 2.000.000</td>\n",
              "      <td>Kost Campur</td>\n",
              "      <td>Jl. Seha No.90 RT.09 RW.010 Kebayoran Lama, Gr...</td>\n",
              "      <td>Ya</td>\n",
              "      <td>Tidak</td>\n",
              "      <td>Ya</td>\n",
              "      <td>[Spring Bed, AC, Kamar Mandi Dalam]</td>\n",
              "      <td>[Parkir Motor]</td>\n",
              "    </tr>\n",
              "    <tr>\n",
              "      <th>16</th>\n",
              "      <td>Terima Kost Wanita</td>\n",
              "      <td>https://www.sewakost.com/jakarta/selatan/terim...</td>\n",
              "      <td>Rp 600.000</td>\n",
              "      <td>Kost Putri</td>\n",
              "      <td>Jalan H. AMSAR NO.24 RT. 15 RW.5 KELURAHAN CIP...</td>\n",
              "      <td>Tidak</td>\n",
              "      <td>Tidak</td>\n",
              "      <td>Tidak</td>\n",
              "      <td>[Spring Bed]</td>\n",
              "      <td>[]</td>\n",
              "    </tr>\n",
              "    <tr>\n",
              "      <th>17</th>\n",
              "      <td>Terima Kost Wanita</td>\n",
              "      <td>https://www.sewakost.com/jakarta/selatan/terim...</td>\n",
              "      <td>Rp 600.000</td>\n",
              "      <td>Kost Putri</td>\n",
              "      <td>Jalan H. AMSAR NO.24 RT. 15 RW.5 KELURAHAN CIP...</td>\n",
              "      <td>Tidak</td>\n",
              "      <td>Tidak</td>\n",
              "      <td>Ya</td>\n",
              "      <td>[Spring Bed, Kamar Mandi Dalam]</td>\n",
              "      <td>[]</td>\n",
              "    </tr>\n",
              "    <tr>\n",
              "      <th>18</th>\n",
              "      <td>Kos Putri</td>\n",
              "      <td>https://www.sewakost.com/jakarta/selatan/kos-p...</td>\n",
              "      <td>Rp 1.500.000</td>\n",
              "      <td>Kost Putri</td>\n",
              "      <td>Jl Kesehatan VB No12 Bintaro Jakarta Selatan</td>\n",
              "      <td>Tidak</td>\n",
              "      <td>Tidak</td>\n",
              "      <td>Ya</td>\n",
              "      <td>[Spring Bed, Perabot, Kamar Mandi Dalam]</td>\n",
              "      <td>[Ruang Tamu, Televisi, Ruang Makan, Dapur, Par...</td>\n",
              "    </tr>\n",
              "    <tr>\n",
              "      <th>19</th>\n",
              "      <td>Angsana Kost Putri</td>\n",
              "      <td>https://www.sewakost.com/jakarta/selatan/angsa...</td>\n",
              "      <td>Rp 1.200.000</td>\n",
              "      <td>Kost Putri</td>\n",
              "      <td>Jl. Bango III No.14B, RT.14/RW.3, Pd. Labu, Ke...</td>\n",
              "      <td>Tidak</td>\n",
              "      <td>Ya</td>\n",
              "      <td>Tidak</td>\n",
              "      <td>[Spring Bed, Free WiFi]</td>\n",
              "      <td>[Ruang Tamu, Ruang Makan, Dapur, Mesin Cuci (C...</td>\n",
              "    </tr>\n",
              "    <tr>\n",
              "      <th>20</th>\n",
              "      <td>Kost Putri Menteng Atas Selatan Bangunan Baru ...</td>\n",
              "      <td>https://www.sewakost.com/jakarta/selatan/kost-...</td>\n",
              "      <td>Rp 1.500.000</td>\n",
              "      <td>Kost Putri</td>\n",
              "      <td>Jln Menteng Atas Selatan Gg 8 No 40 RT14 RW05 ...</td>\n",
              "      <td>Ya</td>\n",
              "      <td>Tidak</td>\n",
              "      <td>Ya</td>\n",
              "      <td>[Spring Bed, Perabot, AC, Kamar Mandi Dalam]</td>\n",
              "      <td>[Ruang Tamu, Dapur, Keamanan, Parkir Motor]</td>\n",
              "    </tr>\n",
              "    <tr>\n",
              "      <th>21</th>\n",
              "      <td>Dikontrakan rumah</td>\n",
              "      <td>https://www.sewakost.com/jakarta/selatan/dikon...</td>\n",
              "      <td>Rp 2.650.000</td>\n",
              "      <td>Kost Keluarga</td>\n",
              "      <td>jln mampang prapatan 5</td>\n",
              "      <td>Tidak</td>\n",
              "      <td>Tidak</td>\n",
              "      <td>Tidak</td>\n",
              "      <td>[]</td>\n",
              "      <td>NaN</td>\n",
              "    </tr>\n",
              "    <tr>\n",
              "      <th>22</th>\n",
              "      <td>kost dan kontrakan terjangkau di cilandak jaka...</td>\n",
              "      <td>https://www.sewakost.com/jakarta/selatan/kost-...</td>\n",
              "      <td>Rp 2.500.000</td>\n",
              "      <td>Kost Campur</td>\n",
              "      <td>jl, kecapi V no.22, rt.006/005, cilandak, jaga...</td>\n",
              "      <td>Ya</td>\n",
              "      <td>Tidak</td>\n",
              "      <td>Ya</td>\n",
              "      <td>[Spring Bed, AC, Kamar Mandi Dalam]</td>\n",
              "      <td>[Ruang Tamu, Dapur, Keamanan, Parkir Motor, Pa...</td>\n",
              "    </tr>\n",
              "    <tr>\n",
              "      <th>23</th>\n",
              "      <td>TERIMA KOST PUTRI Exclusive White Kost Tebet B...</td>\n",
              "      <td>https://www.sewakost.com/jakarta/selatan/terim...</td>\n",
              "      <td>Rp 1.900.000</td>\n",
              "      <td>Kost Putri</td>\n",
              "      <td>Jl. Tebet Barat Dalam VI G no. 5, RT. 008/RW. ...</td>\n",
              "      <td>Ya</td>\n",
              "      <td>Ya</td>\n",
              "      <td>Ya</td>\n",
              "      <td>[Spring Bed, Perabot, Free WiFi, AC, TV, Kamar...</td>\n",
              "      <td>[Ruang Makan, Dapur, Mesin Cuci (Cuci Sendiri)...</td>\n",
              "    </tr>\n",
              "    <tr>\n",
              "      <th>24</th>\n",
              "      <td>NORTHOUSE RESIDENCE</td>\n",
              "      <td>https://www.sewakost.com/jakarta/selatan/north...</td>\n",
              "      <td>Rp 6..500</td>\n",
              "      <td>Kost Campur</td>\n",
              "      <td>Jl. Batas No.8 Rt.12/01, Kuningan Timur , Seti...</td>\n",
              "      <td>Ya</td>\n",
              "      <td>Ya</td>\n",
              "      <td>Ya</td>\n",
              "      <td>[Spring Bed, Perabot, Free WiFi, AC, TV, Kulka...</td>\n",
              "      <td>[Ruang Tamu, Dapur, Air Minum, Cuci Setrika, P...</td>\n",
              "    </tr>\n",
              "    <tr>\n",
              "      <th>25</th>\n",
              "      <td>Kos</td>\n",
              "      <td>https://www.sewakost.com/jakarta/selatan/kos-8...</td>\n",
              "      <td>Rp 900</td>\n",
              "      <td>Kost Putri</td>\n",
              "      <td>Jl R1 rt004/rw011 no.7 kebon baru tebet jakart...</td>\n",
              "      <td>Tidak</td>\n",
              "      <td>Ya</td>\n",
              "      <td>Tidak</td>\n",
              "      <td>[Spring Bed, Free WiFi, Kulkas]</td>\n",
              "      <td>[Dapur]</td>\n",
              "    </tr>\n",
              "    <tr>\n",
              "      <th>26</th>\n",
              "      <td>Kos khusus wanita</td>\n",
              "      <td>https://www.sewakost.com/jakarta/selatan/kos-k...</td>\n",
              "      <td>Rp 3.500.000</td>\n",
              "      <td>Kost Pasutri</td>\n",
              "      <td>Jl Kesehatan VB No 12 Bintaro Jakarta Selatan ...</td>\n",
              "      <td>Ya</td>\n",
              "      <td>Ya</td>\n",
              "      <td>Ya</td>\n",
              "      <td>[Spring Bed, Perabot, AC, TV, Kamar Mandi Dalam]</td>\n",
              "      <td>[Ruang Tamu, Televisi, Dapur, Parkir Mobil]</td>\n",
              "    </tr>\n",
              "    <tr>\n",
              "      <th>27</th>\n",
              "      <td>Kost Wanita Syariah Eksklusif</td>\n",
              "      <td>https://www.sewakost.com/jakarta/selatan/kost-...</td>\n",
              "      <td>Rp 2..600</td>\n",
              "      <td>Kost Putri</td>\n",
              "      <td>Jl Setiabudhi V No 18, Jakarta Selatan</td>\n",
              "      <td>Ya</td>\n",
              "      <td>Ya</td>\n",
              "      <td>Ya</td>\n",
              "      <td>[Spring Bed, Perabot, Free WiFi, AC, TV, Kulka...</td>\n",
              "      <td>[Ruang Tamu, Ruang Makan, Dapur, Cuci Setrika,...</td>\n",
              "    </tr>\n",
              "    <tr>\n",
              "      <th>28</th>\n",
              "      <td>EASTHOUSE Residence</td>\n",
              "      <td>https://www.sewakost.com/jakarta/selatan/easth...</td>\n",
              "      <td>Rp 4.000.000</td>\n",
              "      <td>Kost Campur</td>\n",
              "      <td>Jalan Pedurenan Mesjid 1no.13 Jakarta Selatan</td>\n",
              "      <td>Ya</td>\n",
              "      <td>Ya</td>\n",
              "      <td>Ya</td>\n",
              "      <td>[Spring Bed, Perabot, Free WiFi, AC, TV, Kulka...</td>\n",
              "      <td>[Ruang Makan, Dapur, Air Minum, Cuci Setrika, ...</td>\n",
              "    </tr>\n",
              "    <tr>\n",
              "      <th>29</th>\n",
              "      <td>Kost Karyawati</td>\n",
              "      <td>https://www.sewakost.com/jakarta/selatan/kost-...</td>\n",
              "      <td>Rp 600.000</td>\n",
              "      <td>Kost Putri</td>\n",
              "      <td>Jl. Baru gg Saribena No.11 Rt.001/003, Kebayor...</td>\n",
              "      <td>Tidak</td>\n",
              "      <td>Ya</td>\n",
              "      <td>Tidak</td>\n",
              "      <td>[Free WiFi]</td>\n",
              "      <td>[Dapur, Parkir Motor]</td>\n",
              "    </tr>\n",
              "    <tr>\n",
              "      <th>30</th>\n",
              "      <td>Kost Pintu Biru Ampera</td>\n",
              "      <td>https://www.sewakost.com/jakarta/selatan/kost-...</td>\n",
              "      <td>Rp 1.500.000</td>\n",
              "      <td>Kost Campur</td>\n",
              "      <td>Jl Ampera I No 32, Kemang Jakarta Selatan</td>\n",
              "      <td>Tidak</td>\n",
              "      <td>Ya</td>\n",
              "      <td>Tidak</td>\n",
              "      <td>[Spring Bed, Free WiFi, AC, Kamar Mandi Dalam]</td>\n",
              "      <td>[Parkir Motor, Parkir Mobil]</td>\n",
              "    </tr>\n",
              "    <tr>\n",
              "      <th>31</th>\n",
              "      <td>kost murah di cengkareng</td>\n",
              "      <td>https://www.sewakost.com/jakarta/selatan/kost-...</td>\n",
              "      <td>Rp 1.500.000</td>\n",
              "      <td>Kost Putra</td>\n",
              "      <td>jakarta</td>\n",
              "      <td>Ya</td>\n",
              "      <td>Ya</td>\n",
              "      <td>Ya</td>\n",
              "      <td>[Spring Bed, Perabot, Free WiFi, AC, TV, Kulka...</td>\n",
              "      <td>[Ruang Tamu, Televisi, Ruang Makan, Dapur, Air...</td>\n",
              "    </tr>\n",
              "    <tr>\n",
              "      <th>32</th>\n",
              "      <td>Rita Kost</td>\n",
              "      <td>https://www.sewakost.com/jakarta/selatan/rita-...</td>\n",
              "      <td>Rp 700.000</td>\n",
              "      <td>Kost Campur</td>\n",
              "      <td>Gang Haji Raidi RT/RW 09/04 nomor 51 Lenteng a...</td>\n",
              "      <td>Tidak</td>\n",
              "      <td>Tidak</td>\n",
              "      <td>Ya</td>\n",
              "      <td>[Spring Bed, TV, Kamar Mandi Dalam]</td>\n",
              "      <td>[Televisi, Dapur, Parkir Motor]</td>\n",
              "    </tr>\n",
              "    <tr>\n",
              "      <th>33</th>\n",
              "      <td>Kost Murah Jakarta Selatan</td>\n",
              "      <td>https://www.sewakost.com/jakarta/selatan/kost-...</td>\n",
              "      <td>Rp 650.000</td>\n",
              "      <td>Kost Putra</td>\n",
              "      <td>Jl. Tanah Kusir 2 Kel. Kebayoran Lama Selatan ...</td>\n",
              "      <td>Tidak</td>\n",
              "      <td>Tidak</td>\n",
              "      <td>Tidak</td>\n",
              "      <td>[Spring Bed]</td>\n",
              "      <td>[Parkir Motor]</td>\n",
              "    </tr>\n",
              "    <tr>\n",
              "      <th>34</th>\n",
              "      <td>Cotton Room Tebet Jakarta Selatan</td>\n",
              "      <td>https://www.sewakost.com/jakarta/selatan/cotto...</td>\n",
              "      <td>Rp 35.000.000</td>\n",
              "      <td>Kost Campur</td>\n",
              "      <td>Jl. Tebet Barat Dalam Raya No.52, RT.14/RW.5, ...</td>\n",
              "      <td>Ya</td>\n",
              "      <td>Ya</td>\n",
              "      <td>Ya</td>\n",
              "      <td>[Spring Bed, Perabot, Free WiFi, AC, TV, Kamar...</td>\n",
              "      <td>[Ruang Tamu, Dapur, Keamanan, Parkir Motor, Pa...</td>\n",
              "    </tr>\n",
              "    <tr>\n",
              "      <th>35</th>\n",
              "      <td>Athome19 Premium Room With Terrace</td>\n",
              "      <td>https://www.sewakost.com/jakarta/selatan/athom...</td>\n",
              "      <td>Rp 7..200</td>\n",
              "      <td>Kost Campur</td>\n",
              "      <td>Jl. Bangka VIII No. 19 ABCD, Pela Mampang, Mam...</td>\n",
              "      <td>Ya</td>\n",
              "      <td>Ya</td>\n",
              "      <td>Ya</td>\n",
              "      <td>[Spring Bed, Free WiFi, AC, TV, Kulkas, Kamar ...</td>\n",
              "      <td>[Ruang Tamu, Ruang Makan, Dapur, Air Minum, Me...</td>\n",
              "    </tr>\n",
              "    <tr>\n",
              "      <th>36</th>\n",
              "      <td>Athome19 Deluxe Room</td>\n",
              "      <td>https://www.sewakost.com/jakarta/selatan/athom...</td>\n",
              "      <td>Rp 6..000</td>\n",
              "      <td>Kost Campur</td>\n",
              "      <td>Jl. Bangka VIII No. 19 ABCD, Pela Mampang, Mam...</td>\n",
              "      <td>Ya</td>\n",
              "      <td>Ya</td>\n",
              "      <td>Ya</td>\n",
              "      <td>[Spring Bed, Free WiFi, AC, TV, Kulkas, Kamar ...</td>\n",
              "      <td>[Ruang Tamu, Ruang Makan, Dapur, Air Minum, Me...</td>\n",
              "    </tr>\n",
              "    <tr>\n",
              "      <th>37</th>\n",
              "      <td>Athome19 Superior Room</td>\n",
              "      <td>https://www.sewakost.com/jakarta/selatan/athom...</td>\n",
              "      <td>Rp 5..500</td>\n",
              "      <td>Kost Campur</td>\n",
              "      <td>Jl. Bangka VIII No. 19 ABCD, Pela Mampang, Mam...</td>\n",
              "      <td>Ya</td>\n",
              "      <td>Ya</td>\n",
              "      <td>Ya</td>\n",
              "      <td>[Spring Bed, Free WiFi, AC, TV, Kulkas, Kamar ...</td>\n",
              "      <td>[Ruang Tamu, Ruang Makan, Dapur, Air Minum, Me...</td>\n",
              "    </tr>\n",
              "    <tr>\n",
              "      <th>38</th>\n",
              "      <td>Kost Putri di Radio Dalam dekat Pondok Indah d...</td>\n",
              "      <td>https://www.sewakost.com/jakarta/selatan/kost-...</td>\n",
              "      <td>Rp 2.500.000</td>\n",
              "      <td>Kost Putri</td>\n",
              "      <td>Jl. Dwijaya II No. 32 A Jakarta Selatan 12140</td>\n",
              "      <td>Ya</td>\n",
              "      <td>Ya</td>\n",
              "      <td>Ya</td>\n",
              "      <td>[Spring Bed, Perabot, Free WiFi, AC, TV, Kamar...</td>\n",
              "      <td>[Ruang Tamu, Dapur, Keamanan, Parkir Motor]</td>\n",
              "    </tr>\n",
              "    <tr>\n",
              "      <th>39</th>\n",
              "      <td>Kost Putra Sederhana</td>\n",
              "      <td>https://www.sewakost.com/jakarta/selatan/kost-...</td>\n",
              "      <td>Rp 550.000</td>\n",
              "      <td>Kost Putra</td>\n",
              "      <td>Gang Poncol Jaya no. 55 RT 013 RW 005 Kuningan...</td>\n",
              "      <td>Tidak</td>\n",
              "      <td>Tidak</td>\n",
              "      <td>Tidak</td>\n",
              "      <td>[]</td>\n",
              "      <td>NaN</td>\n",
              "    </tr>\n",
              "    <tr>\n",
              "      <th>40</th>\n",
              "      <td>Amanda kost</td>\n",
              "      <td>https://www.sewakost.com/jakarta/selatan/amand...</td>\n",
              "      <td>Rp 600.000</td>\n",
              "      <td>Kost Campur</td>\n",
              "      <td>Jalan assakinah no 11 RT 11 rw 02 Kebagusan pa...</td>\n",
              "      <td>Tidak</td>\n",
              "      <td>Ya</td>\n",
              "      <td>Tidak</td>\n",
              "      <td>[Spring Bed]</td>\n",
              "      <td>[Air Minum]</td>\n",
              "    </tr>\n",
              "    <tr>\n",
              "      <th>41</th>\n",
              "      <td>Kost Menteng Dalam, Tebet , Sudah Termasuk Lis...</td>\n",
              "      <td>https://www.sewakost.com/jakarta/selatan/kost-...</td>\n",
              "      <td>Rp 1.550.000</td>\n",
              "      <td>Kost Campur</td>\n",
              "      <td>Menteng Dalam, Tebet</td>\n",
              "      <td>Ya</td>\n",
              "      <td>Ya</td>\n",
              "      <td>Ya</td>\n",
              "      <td>[Spring Bed, Perabot, Free WiFi, AC, Kamar Man...</td>\n",
              "      <td>[Dapur, Air Minum, Keamanan, Parkir Motor]</td>\n",
              "    </tr>\n",
              "    <tr>\n",
              "      <th>42</th>\n",
              "      <td>Kost Luwes Bacang</td>\n",
              "      <td>https://www.sewakost.com/jakarta/selatan/kost-...</td>\n",
              "      <td>Rp 850.000</td>\n",
              "      <td>Kost Campur</td>\n",
              "      <td>Jl Bacang 1 no 15, Mayestik, Kebayoran baru, J...</td>\n",
              "      <td>Ya</td>\n",
              "      <td>Tidak</td>\n",
              "      <td>Tidak</td>\n",
              "      <td>[Perabot, TV, Kulkas]</td>\n",
              "      <td>[Ruang Tamu, Ruang Makan, Dapur, Cuci Setrika,...</td>\n",
              "    </tr>\n",
              "    <tr>\n",
              "      <th>43</th>\n",
              "      <td>Kost Putri Lenteng Agung Lokasi Strategis</td>\n",
              "      <td>https://www.sewakost.com/jakarta/selatan/kost-...</td>\n",
              "      <td>Rp 1.400.000</td>\n",
              "      <td>Kost Putri</td>\n",
              "      <td>Jl. Syukur No.31A Lenteng Agung, Jakarta Selatan</td>\n",
              "      <td>Ya</td>\n",
              "      <td>Ya</td>\n",
              "      <td>Ya</td>\n",
              "      <td>[Spring Bed, Perabot, Free WiFi, AC, Kamar Man...</td>\n",
              "      <td>[Dapur, Keamanan]</td>\n",
              "    </tr>\n",
              "    <tr>\n",
              "      <th>44</th>\n",
              "      <td>KOST KMC (Campur)</td>\n",
              "      <td>https://www.sewakost.com/jakarta/selatan/kost-...</td>\n",
              "      <td>Rp 2.000.000</td>\n",
              "      <td>Kost Campur</td>\n",
              "      <td>Jl. Cipinang Besar Raya NO.20, Kec. Jatinegara...</td>\n",
              "      <td>Ya</td>\n",
              "      <td>Ya</td>\n",
              "      <td>Ya</td>\n",
              "      <td>[Spring Bed, Free WiFi, AC, Kamar Mandi Dalam]</td>\n",
              "      <td>[Ruang Tamu, Ruang Makan, Dapur, Air Minum, Cu...</td>\n",
              "    </tr>\n",
              "    <tr>\n",
              "      <th>45</th>\n",
              "      <td>Kost Khusus Wanita - Kebayoran Baru</td>\n",
              "      <td>https://www.sewakost.com/jakarta/selatan/kost-...</td>\n",
              "      <td>Rp 2.000.000</td>\n",
              "      <td>Kost Putri</td>\n",
              "      <td>Jl Cikatomas I No 10, Kebayoran Baru, Jakarta ...</td>\n",
              "      <td>Ya</td>\n",
              "      <td>Ya</td>\n",
              "      <td>Tidak</td>\n",
              "      <td>[Spring Bed, Perabot]</td>\n",
              "      <td>[Dapur, Air Minum, Cuci Setrika, Mesin Cuci (C...</td>\n",
              "    </tr>\n",
              "    <tr>\n",
              "      <th>46</th>\n",
              "      <td>Indekos Ibu Firman</td>\n",
              "      <td>https://www.sewakost.com/jakarta/selatan/indek...</td>\n",
              "      <td>Rp 950.000</td>\n",
              "      <td>Kost Putri</td>\n",
              "      <td>Jalan Damarsari 3 No. 29 Jatipadang Pasar Ming...</td>\n",
              "      <td>Ya</td>\n",
              "      <td>Tidak</td>\n",
              "      <td>Ya</td>\n",
              "      <td>[Perabot, Kamar Mandi Dalam]</td>\n",
              "      <td>[Ruang Tamu, Dapur, Keamanan, Parkir Motor, Pa...</td>\n",
              "    </tr>\n",
              "    <tr>\n",
              "      <th>47</th>\n",
              "      <td>Kos Salihara 13</td>\n",
              "      <td>https://www.sewakost.com/jakarta/selatan/kos-s...</td>\n",
              "      <td>Rp 1.250.000</td>\n",
              "      <td>Kost Putri</td>\n",
              "      <td>Jl. Salihara No 13 Ps. Minggu Jakarta Selatan ...</td>\n",
              "      <td>Ya</td>\n",
              "      <td>Ya</td>\n",
              "      <td>Ya</td>\n",
              "      <td>[Spring Bed, Free WiFi, AC, Kamar Mandi Dalam]</td>\n",
              "      <td>[Ruang Tamu, Parkir Motor]</td>\n",
              "    </tr>\n",
              "  </tbody>\n",
              "</table>\n",
              "</div>\n",
              "      <button class=\"colab-df-convert\" onclick=\"convertToInteractive('df-9c6a4f60-36a3-4373-8aa6-feab49b8d4b1')\"\n",
              "              title=\"Convert this dataframe to an interactive table.\"\n",
              "              style=\"display:none;\">\n",
              "        \n",
              "  <svg xmlns=\"http://www.w3.org/2000/svg\" height=\"24px\"viewBox=\"0 0 24 24\"\n",
              "       width=\"24px\">\n",
              "    <path d=\"M0 0h24v24H0V0z\" fill=\"none\"/>\n",
              "    <path d=\"M18.56 5.44l.94 2.06.94-2.06 2.06-.94-2.06-.94-.94-2.06-.94 2.06-2.06.94zm-11 1L8.5 8.5l.94-2.06 2.06-.94-2.06-.94L8.5 2.5l-.94 2.06-2.06.94zm10 10l.94 2.06.94-2.06 2.06-.94-2.06-.94-.94-2.06-.94 2.06-2.06.94z\"/><path d=\"M17.41 7.96l-1.37-1.37c-.4-.4-.92-.59-1.43-.59-.52 0-1.04.2-1.43.59L10.3 9.45l-7.72 7.72c-.78.78-.78 2.05 0 2.83L4 21.41c.39.39.9.59 1.41.59.51 0 1.02-.2 1.41-.59l7.78-7.78 2.81-2.81c.8-.78.8-2.07 0-2.86zM5.41 20L4 18.59l7.72-7.72 1.47 1.35L5.41 20z\"/>\n",
              "  </svg>\n",
              "      </button>\n",
              "      \n",
              "  <style>\n",
              "    .colab-df-container {\n",
              "      display:flex;\n",
              "      flex-wrap:wrap;\n",
              "      gap: 12px;\n",
              "    }\n",
              "\n",
              "    .colab-df-convert {\n",
              "      background-color: #E8F0FE;\n",
              "      border: none;\n",
              "      border-radius: 50%;\n",
              "      cursor: pointer;\n",
              "      display: none;\n",
              "      fill: #1967D2;\n",
              "      height: 32px;\n",
              "      padding: 0 0 0 0;\n",
              "      width: 32px;\n",
              "    }\n",
              "\n",
              "    .colab-df-convert:hover {\n",
              "      background-color: #E2EBFA;\n",
              "      box-shadow: 0px 1px 2px rgba(60, 64, 67, 0.3), 0px 1px 3px 1px rgba(60, 64, 67, 0.15);\n",
              "      fill: #174EA6;\n",
              "    }\n",
              "\n",
              "    [theme=dark] .colab-df-convert {\n",
              "      background-color: #3B4455;\n",
              "      fill: #D2E3FC;\n",
              "    }\n",
              "\n",
              "    [theme=dark] .colab-df-convert:hover {\n",
              "      background-color: #434B5C;\n",
              "      box-shadow: 0px 1px 3px 1px rgba(0, 0, 0, 0.15);\n",
              "      filter: drop-shadow(0px 1px 2px rgba(0, 0, 0, 0.3));\n",
              "      fill: #FFFFFF;\n",
              "    }\n",
              "  </style>\n",
              "\n",
              "      <script>\n",
              "        const buttonEl =\n",
              "          document.querySelector('#df-9c6a4f60-36a3-4373-8aa6-feab49b8d4b1 button.colab-df-convert');\n",
              "        buttonEl.style.display =\n",
              "          google.colab.kernel.accessAllowed ? 'block' : 'none';\n",
              "\n",
              "        async function convertToInteractive(key) {\n",
              "          const element = document.querySelector('#df-9c6a4f60-36a3-4373-8aa6-feab49b8d4b1');\n",
              "          const dataTable =\n",
              "            await google.colab.kernel.invokeFunction('convertToInteractive',\n",
              "                                                     [key], {});\n",
              "          if (!dataTable) return;\n",
              "\n",
              "          const docLinkHtml = 'Like what you see? Visit the ' +\n",
              "            '<a target=\"_blank\" href=https://colab.research.google.com/notebooks/data_table.ipynb>data table notebook</a>'\n",
              "            + ' to learn more about interactive tables.';\n",
              "          element.innerHTML = '';\n",
              "          dataTable['output_type'] = 'display_data';\n",
              "          await google.colab.output.renderOutput(dataTable, element);\n",
              "          const docLink = document.createElement('div');\n",
              "          docLink.innerHTML = docLinkHtml;\n",
              "          element.appendChild(docLink);\n",
              "        }\n",
              "      </script>\n",
              "    </div>\n",
              "  </div>\n",
              "  "
            ]
          },
          "metadata": {},
          "execution_count": 56
        }
      ]
    },
    {
      "cell_type": "code",
      "source": [],
      "metadata": {
        "id": "Qn0YtwKJGeDl"
      },
      "execution_count": null,
      "outputs": []
    }
  ]
}